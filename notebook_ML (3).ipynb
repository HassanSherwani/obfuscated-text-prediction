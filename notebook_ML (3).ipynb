{
  "nbformat": 4,
  "nbformat_minor": 0,
  "metadata": {
    "kernelspec": {
      "display_name": "Python 3.7 (tensorflow)",
      "language": "python",
      "name": "tensorflow"
    },
    "language_info": {
      "codemirror_mode": {
        "name": "ipython",
        "version": 3
      },
      "file_extension": ".py",
      "mimetype": "text/x-python",
      "name": "python",
      "nbconvert_exporter": "python",
      "pygments_lexer": "ipython3",
      "version": "3.7.7"
    },
    "colab": {
      "name": "notebook_ML.ipynb",
      "provenance": [],
      "collapsed_sections": [],
      "toc_visible": true
    },
    "accelerator": "GPU"
  },
  "cells": [
    {
      "cell_type": "markdown",
      "metadata": {
        "id": "88WAhFnmdiLt",
        "colab_type": "text"
      },
      "source": [
        "# Problem Statement:\n",
        "    \n",
        "- a Machine Learning model that classifies a given line as belonging to one of the 12 novels already labelled."
      ]
    },
    {
      "cell_type": "markdown",
      "metadata": {
        "id": "7TqWptxgdiLu",
        "colab_type": "text"
      },
      "source": [
        "# 1- Import Key Modules"
      ]
    },
    {
      "cell_type": "code",
      "metadata": {
        "id": "3J3VJxpYdiLv",
        "colab_type": "code",
        "colab": {}
      },
      "source": [
        "# support both Python 2 and Python 3 with minimal overhead.\n",
        "from __future__ import absolute_import, division, print_function\n",
        "\n",
        "# I am an engineer. I care only about error not warning. So, let's be maverick and ignore warnings.\n",
        "import warnings\n",
        "warnings.filterwarnings('ignore')"
      ],
      "execution_count": 1,
      "outputs": []
    },
    {
      "cell_type": "code",
      "metadata": {
        "id": "MUPcU9aNdiL0",
        "colab_type": "code",
        "colab": {}
      },
      "source": [
        "import re    # for regular expressions \n",
        "import nltk  # for text manipulation \n",
        "import string \n",
        "import numpy as np \n",
        "import pandas as pd \n",
        "\n",
        "#For Visuals\n",
        "import matplotlib.pyplot as plt\n",
        "import seaborn as sns\n",
        "sns.set()\n",
        "from matplotlib import rcParams\n",
        "rcParams['figure.figsize'] = 11, 8\n",
        "%config InlineBackend.figure_format = 'svg'\n",
        "%matplotlib inline"
      ],
      "execution_count": 2,
      "outputs": []
    },
    {
      "cell_type": "code",
      "metadata": {
        "id": "j9f0IjJQdiL4",
        "colab_type": "code",
        "colab": {}
      },
      "source": [
        "#models and evaluation\n",
        "\n",
        "from sklearn.pipeline import Pipeline\n",
        "from sklearn.model_selection import train_test_split\n",
        "from sklearn.feature_extraction.text import TfidfTransformer\n",
        "from sklearn.naive_bayes import MultinomialNB\n",
        "from nltk.classify.scikitlearn import SklearnClassifier # notice its from ntlk not sklearn\n",
        "from sklearn.svm import LinearSVC, SVC\n",
        "from sklearn.linear_model import LogisticRegression\n",
        "from sklearn.ensemble import RandomForestClassifier\n",
        "from sklearn.model_selection import cross_val_score\n",
        "# Evaluation packages\n",
        "from sklearn.metrics.classification import accuracy_score, log_loss\n",
        "from sklearn import metrics\n",
        "from sklearn.metrics import confusion_matrix"
      ],
      "execution_count": 3,
      "outputs": []
    },
    {
      "cell_type": "code",
      "metadata": {
        "id": "3e-gJYw6Zh1W",
        "colab_type": "code",
        "colab": {}
      },
      "source": [
        "# deep learning\n",
        "from keras.preprocessing.text import Tokenizer\n",
        "from keras.preprocessing.sequence import pad_sequences\n",
        "from keras.models import Sequential\n",
        "from keras.layers import Dense, Embedding, LSTM, SpatialDropout1D,Dropout\n",
        "from keras.utils.np_utils import to_categorical"
      ],
      "execution_count": 4,
      "outputs": []
    },
    {
      "cell_type": "code",
      "metadata": {
        "id": "_-mkeaU4diL7",
        "colab_type": "code",
        "colab": {
          "base_uri": "https://localhost:8080/",
          "height": 410
        },
        "outputId": "d0d003f6-668e-49d4-ada9-675bbebd66db"
      },
      "source": [
        "! pip install version_information\n",
        "%reload_ext version_information\n",
        "%version_information pandas,numpy, keras, seaborn, matplotlib, sklearn"
      ],
      "execution_count": 5,
      "outputs": [
        {
          "output_type": "stream",
          "text": [
            "Collecting version_information\n",
            "  Downloading https://files.pythonhosted.org/packages/ff/b0/6088e15b9ac43a08ccd300d68e0b900a20cf62077596c11ad11dd8cc9e4b/version_information-1.0.3.tar.gz\n",
            "Building wheels for collected packages: version-information\n",
            "  Building wheel for version-information (setup.py) ... \u001b[?25l\u001b[?25hdone\n",
            "  Created wheel for version-information: filename=version_information-1.0.3-cp36-none-any.whl size=3881 sha256=1598355a79a0077d6dc213f21336de5684860d37b051f64a128bc7d4e4d9a987\n",
            "  Stored in directory: /root/.cache/pip/wheels/1f/4c/b3/1976ac11dbd802723b564de1acaa453a72c36c95827e576321\n",
            "Successfully built version-information\n",
            "Installing collected packages: version-information\n",
            "Successfully installed version-information-1.0.3\n"
          ],
          "name": "stdout"
        },
        {
          "output_type": "execute_result",
          "data": {
            "text/latex": "\\begin{tabular}{|l|l|}\\hline\n{\\bf Software} & {\\bf Version} \\\\ \\hline\\hline\nPython & 3.6.9 64bit [GCC 8.4.0] \\\\ \\hline\nIPython & 5.5.0 \\\\ \\hline\nOS & Linux 4.19.112+ x86\\_64 with Ubuntu 18.04 bionic \\\\ \\hline\npandas & 1.0.5 \\\\ \\hline\nnumpy & 1.18.5 \\\\ \\hline\nkeras & 2.4.3 \\\\ \\hline\nseaborn & 0.10.1 \\\\ \\hline\nmatplotlib & 3.2.2 \\\\ \\hline\nsklearn & 0.22.2.post1 \\\\ \\hline\n\\hline \\multicolumn{2}{|l|}{Fri Sep 04 18:34:58 2020 UTC} \\\\ \\hline\n\\end{tabular}\n",
            "application/json": {
              "Software versions": [
                {
                  "version": "3.6.9 64bit [GCC 8.4.0]",
                  "module": "Python"
                },
                {
                  "version": "5.5.0",
                  "module": "IPython"
                },
                {
                  "version": "Linux 4.19.112+ x86_64 with Ubuntu 18.04 bionic",
                  "module": "OS"
                },
                {
                  "version": "1.0.5",
                  "module": "pandas"
                },
                {
                  "version": "1.18.5",
                  "module": "numpy"
                },
                {
                  "version": "2.4.3",
                  "module": "keras"
                },
                {
                  "version": "0.10.1",
                  "module": "seaborn"
                },
                {
                  "version": "3.2.2",
                  "module": "matplotlib"
                },
                {
                  "version": "0.22.2.post1",
                  "module": "sklearn"
                }
              ]
            },
            "text/html": [
              "<table><tr><th>Software</th><th>Version</th></tr><tr><td>Python</td><td>3.6.9 64bit [GCC 8.4.0]</td></tr><tr><td>IPython</td><td>5.5.0</td></tr><tr><td>OS</td><td>Linux 4.19.112+ x86_64 with Ubuntu 18.04 bionic</td></tr><tr><td>pandas</td><td>1.0.5</td></tr><tr><td>numpy</td><td>1.18.5</td></tr><tr><td>keras</td><td>2.4.3</td></tr><tr><td>seaborn</td><td>0.10.1</td></tr><tr><td>matplotlib</td><td>3.2.2</td></tr><tr><td>sklearn</td><td>0.22.2.post1</td></tr><tr><td colspan='2'>Fri Sep 04 18:34:58 2020 UTC</td></tr></table>"
            ],
            "text/plain": [
              "Software versions\n",
              "Python 3.6.9 64bit [GCC 8.4.0]\n",
              "IPython 5.5.0\n",
              "OS Linux 4.19.112+ x86_64 with Ubuntu 18.04 bionic\n",
              "pandas 1.0.5\n",
              "numpy 1.18.5\n",
              "keras 2.4.3\n",
              "seaborn 0.10.1\n",
              "matplotlib 3.2.2\n",
              "sklearn 0.22.2.post1\n",
              "Fri Sep 04 18:34:58 2020 UTC"
            ]
          },
          "metadata": {
            "tags": []
          },
          "execution_count": 5
        }
      ]
    },
    {
      "cell_type": "markdown",
      "metadata": {
        "id": "cNaHeEEgdiL-",
        "colab_type": "text"
      },
      "source": [
        "# 2-Loading Data"
      ]
    },
    {
      "cell_type": "code",
      "metadata": {
        "id": "aYIdUPwMdiL_",
        "colab_type": "code",
        "colab": {
          "base_uri": "https://localhost:8080/",
          "height": 34
        },
        "outputId": "403930e7-a01a-4cb0-e639-40633acae29c"
      },
      "source": [
        "data_xtrain=pd.read_csv('xtrain_obfuscated.txt', header = None,sep=\" \" )\n",
        "data_xtrain.columns = [\"text\"]\n",
        "data_xtrain.shape"
      ],
      "execution_count": 6,
      "outputs": [
        {
          "output_type": "execute_result",
          "data": {
            "text/plain": [
              "(32513, 1)"
            ]
          },
          "metadata": {
            "tags": []
          },
          "execution_count": 6
        }
      ]
    },
    {
      "cell_type": "code",
      "metadata": {
        "id": "8t-IDICndiMB",
        "colab_type": "code",
        "colab": {
          "base_uri": "https://localhost:8080/",
          "height": 195
        },
        "outputId": "1a3d4083-7dc8-43a5-fe68-7a9aeba5bc91"
      },
      "source": [
        "data_xtrain.head()"
      ],
      "execution_count": 7,
      "outputs": [
        {
          "output_type": "execute_result",
          "data": {
            "text/html": [
              "<div>\n",
              "<style scoped>\n",
              "    .dataframe tbody tr th:only-of-type {\n",
              "        vertical-align: middle;\n",
              "    }\n",
              "\n",
              "    .dataframe tbody tr th {\n",
              "        vertical-align: top;\n",
              "    }\n",
              "\n",
              "    .dataframe thead th {\n",
              "        text-align: right;\n",
              "    }\n",
              "</style>\n",
              "<table border=\"1\" class=\"dataframe\">\n",
              "  <thead>\n",
              "    <tr style=\"text-align: right;\">\n",
              "      <th></th>\n",
              "      <th>text</th>\n",
              "    </tr>\n",
              "  </thead>\n",
              "  <tbody>\n",
              "    <tr>\n",
              "      <th>0</th>\n",
              "      <td>satwamuluhqgulamlrmvezuhqvkrpmletwulcitwskuhle...</td>\n",
              "    </tr>\n",
              "    <tr>\n",
              "      <th>1</th>\n",
              "      <td>twmkiwpmqvtwleuhsaiwsktwmvlelekramuhqvkruhtwsk...</td>\n",
              "    </tr>\n",
              "    <tr>\n",
              "      <th>2</th>\n",
              "      <td>vidfpmskuhvilepmuluhtwtvuhulsovienamqvuhskiwmv...</td>\n",
              "    </tr>\n",
              "    <tr>\n",
              "      <th>3</th>\n",
              "      <td>raskleenkrlruhtwulenleengztwqvuhenuhsatvuhsktw...</td>\n",
              "    </tr>\n",
              "    <tr>\n",
              "      <th>4</th>\n",
              "      <td>dfenqvuhtwamqvuhqgtwiwtvenuluhqvijletwamulenxe...</td>\n",
              "    </tr>\n",
              "  </tbody>\n",
              "</table>\n",
              "</div>"
            ],
            "text/plain": [
              "                                                text\n",
              "0  satwamuluhqgulamlrmvezuhqvkrpmletwulcitwskuhle...\n",
              "1  twmkiwpmqvtwleuhsaiwsktwmvlelekramuhqvkruhtwsk...\n",
              "2  vidfpmskuhvilepmuluhtwtvuhulsovienamqvuhskiwmv...\n",
              "3  raskleenkrlruhtwulenleengztwqvuhenuhsatvuhsktw...\n",
              "4  dfenqvuhtwamqvuhqgtwiwtvenuluhqvijletwamulenxe..."
            ]
          },
          "metadata": {
            "tags": []
          },
          "execution_count": 7
        }
      ]
    },
    {
      "cell_type": "code",
      "metadata": {
        "id": "K3zG6QpZdiMG",
        "colab_type": "code",
        "colab": {
          "base_uri": "https://localhost:8080/",
          "height": 34
        },
        "outputId": "537a0caf-851a-4cc1-8678-3bddf8c55e2c"
      },
      "source": [
        "data_xtest=pd.read_csv('xtest_obfuscated.txt', header = None,sep=\" \" )\n",
        "data_xtest.columns = [\"text\"]\n",
        "data_xtest.shape"
      ],
      "execution_count": 8,
      "outputs": [
        {
          "output_type": "execute_result",
          "data": {
            "text/plain": [
              "(3000, 1)"
            ]
          },
          "metadata": {
            "tags": []
          },
          "execution_count": 8
        }
      ]
    },
    {
      "cell_type": "code",
      "metadata": {
        "id": "gCjG2JNEdiMJ",
        "colab_type": "code",
        "colab": {
          "base_uri": "https://localhost:8080/",
          "height": 195
        },
        "outputId": "7af082ee-42d1-4845-9eb8-dd8b51c1bcd1"
      },
      "source": [
        "data_xtest.head()"
      ],
      "execution_count": 9,
      "outputs": [
        {
          "output_type": "execute_result",
          "data": {
            "text/html": [
              "<div>\n",
              "<style scoped>\n",
              "    .dataframe tbody tr th:only-of-type {\n",
              "        vertical-align: middle;\n",
              "    }\n",
              "\n",
              "    .dataframe tbody tr th {\n",
              "        vertical-align: top;\n",
              "    }\n",
              "\n",
              "    .dataframe thead th {\n",
              "        text-align: right;\n",
              "    }\n",
              "</style>\n",
              "<table border=\"1\" class=\"dataframe\">\n",
              "  <thead>\n",
              "    <tr style=\"text-align: right;\">\n",
              "      <th></th>\n",
              "      <th>text</th>\n",
              "    </tr>\n",
              "  </thead>\n",
              "  <tbody>\n",
              "    <tr>\n",
              "      <th>0</th>\n",
              "      <td>tvletwgzkrqvuhtwamuluhpkskpmpmiwtvuhamqvmviwlr...</td>\n",
              "    </tr>\n",
              "    <tr>\n",
              "      <th>1</th>\n",
              "      <td>qvmvuhskleenmvviengzxyuhqvmvamguuhrakrpmsauhul...</td>\n",
              "    </tr>\n",
              "    <tr>\n",
              "      <th>2</th>\n",
              "      <td>twamuhulenamuluhskvienuhqgdftwmvmkletwulvimvuh...</td>\n",
              "    </tr>\n",
              "    <tr>\n",
              "      <th>3</th>\n",
              "      <td>sooatwqvvitwqvvipmviuhoaampmpmmwuhuhraulvikrpm...</td>\n",
              "    </tr>\n",
              "    <tr>\n",
              "      <th>4</th>\n",
              "      <td>lepmuhpmdfuluhtwletwdfuhtwletwamguuhuhraezpmpm...</td>\n",
              "    </tr>\n",
              "  </tbody>\n",
              "</table>\n",
              "</div>"
            ],
            "text/plain": [
              "                                                text\n",
              "0  tvletwgzkrqvuhtwamuluhpkskpmpmiwtvuhamqvmviwlr...\n",
              "1  qvmvuhskleenmvviengzxyuhqvmvamguuhrakrpmsauhul...\n",
              "2  twamuhulenamuluhskvienuhqgdftwmvmkletwulvimvuh...\n",
              "3  sooatwqvvitwqvvipmviuhoaampmpmmwuhuhraulvikrpm...\n",
              "4  lepmuhpmdfuluhtwletwdfuhtwletwamguuhuhraezpmpm..."
            ]
          },
          "metadata": {
            "tags": []
          },
          "execution_count": 9
        }
      ]
    },
    {
      "cell_type": "code",
      "metadata": {
        "id": "yoJDUXr0diML",
        "colab_type": "code",
        "colab": {
          "base_uri": "https://localhost:8080/",
          "height": 34
        },
        "outputId": "bf59c8be-d062-4fac-b6ee-a6c48e3a0c7a"
      },
      "source": [
        "data_ytrain=pd.read_csv('ytrain.txt', header = None,sep=\" \" )\n",
        "data_ytrain.columns = [\"label\"]\n",
        "data_ytrain.shape"
      ],
      "execution_count": 10,
      "outputs": [
        {
          "output_type": "execute_result",
          "data": {
            "text/plain": [
              "(32513, 1)"
            ]
          },
          "metadata": {
            "tags": []
          },
          "execution_count": 10
        }
      ]
    },
    {
      "cell_type": "code",
      "metadata": {
        "id": "Rfw_-JULdiMN",
        "colab_type": "code",
        "colab": {
          "base_uri": "https://localhost:8080/",
          "height": 195
        },
        "outputId": "37f09e53-feea-4033-f88f-993a193c8308"
      },
      "source": [
        "data_ytrain.head()"
      ],
      "execution_count": 11,
      "outputs": [
        {
          "output_type": "execute_result",
          "data": {
            "text/html": [
              "<div>\n",
              "<style scoped>\n",
              "    .dataframe tbody tr th:only-of-type {\n",
              "        vertical-align: middle;\n",
              "    }\n",
              "\n",
              "    .dataframe tbody tr th {\n",
              "        vertical-align: top;\n",
              "    }\n",
              "\n",
              "    .dataframe thead th {\n",
              "        text-align: right;\n",
              "    }\n",
              "</style>\n",
              "<table border=\"1\" class=\"dataframe\">\n",
              "  <thead>\n",
              "    <tr style=\"text-align: right;\">\n",
              "      <th></th>\n",
              "      <th>label</th>\n",
              "    </tr>\n",
              "  </thead>\n",
              "  <tbody>\n",
              "    <tr>\n",
              "      <th>0</th>\n",
              "      <td>7</td>\n",
              "    </tr>\n",
              "    <tr>\n",
              "      <th>1</th>\n",
              "      <td>3</td>\n",
              "    </tr>\n",
              "    <tr>\n",
              "      <th>2</th>\n",
              "      <td>8</td>\n",
              "    </tr>\n",
              "    <tr>\n",
              "      <th>3</th>\n",
              "      <td>3</td>\n",
              "    </tr>\n",
              "    <tr>\n",
              "      <th>4</th>\n",
              "      <td>4</td>\n",
              "    </tr>\n",
              "  </tbody>\n",
              "</table>\n",
              "</div>"
            ],
            "text/plain": [
              "   label\n",
              "0      7\n",
              "1      3\n",
              "2      8\n",
              "3      3\n",
              "4      4"
            ]
          },
          "metadata": {
            "tags": []
          },
          "execution_count": 11
        }
      ]
    },
    {
      "cell_type": "code",
      "metadata": {
        "id": "HBpHhWGBdiMQ",
        "colab_type": "code",
        "colab": {
          "base_uri": "https://localhost:8080/",
          "height": 235
        },
        "outputId": "bbbe7a12-fb62-4740-f690-cb53cb9e3028"
      },
      "source": [
        "data_ytrain.label.value_counts()"
      ],
      "execution_count": 12,
      "outputs": [
        {
          "output_type": "execute_result",
          "data": {
            "text/plain": [
              "7     5097\n",
              "6     4226\n",
              "3     4023\n",
              "8     3634\n",
              "1     3459\n",
              "10    3052\n",
              "4     2337\n",
              "5     2283\n",
              "2     1471\n",
              "11    1408\n",
              "9      980\n",
              "0      543\n",
              "Name: label, dtype: int64"
            ]
          },
          "metadata": {
            "tags": []
          },
          "execution_count": 12
        }
      ]
    },
    {
      "cell_type": "code",
      "metadata": {
        "id": "m1-nN2UGdiMT",
        "colab_type": "code",
        "colab": {
          "base_uri": "https://localhost:8080/",
          "height": 235
        },
        "outputId": "13b95fb4-bf61-4f68-d2e9-5d09ac8f761a"
      },
      "source": [
        "data_ytrain.label.value_counts(normalize=True)"
      ],
      "execution_count": 13,
      "outputs": [
        {
          "output_type": "execute_result",
          "data": {
            "text/plain": [
              "7     0.156768\n",
              "6     0.129979\n",
              "3     0.123735\n",
              "8     0.111771\n",
              "1     0.106388\n",
              "10    0.093870\n",
              "4     0.071879\n",
              "5     0.070218\n",
              "2     0.045243\n",
              "11    0.043306\n",
              "9     0.030142\n",
              "0     0.016701\n",
              "Name: label, dtype: float64"
            ]
          },
          "metadata": {
            "tags": []
          },
          "execution_count": 13
        }
      ]
    },
    {
      "cell_type": "markdown",
      "metadata": {
        "id": "4swb8KMGdiMW",
        "colab_type": "text"
      },
      "source": [
        "# 3-Vectorize"
      ]
    },
    {
      "cell_type": "code",
      "metadata": {
        "id": "iZuKW1MddiMW",
        "colab_type": "code",
        "colab": {}
      },
      "source": [
        "from sklearn.feature_extraction.text import TfidfVectorizer, CountVectorizer"
      ],
      "execution_count": 14,
      "outputs": []
    },
    {
      "cell_type": "code",
      "metadata": {
        "id": "FB9KEGNbdiMZ",
        "colab_type": "code",
        "colab": {}
      },
      "source": [
        "x_train=data_xtrain.text\n",
        "x_test=data_xtest.text"
      ],
      "execution_count": 15,
      "outputs": []
    },
    {
      "cell_type": "code",
      "metadata": {
        "id": "gcOp2byediMb",
        "colab_type": "code",
        "colab": {}
      },
      "source": [
        "# using trigram and char as unit for analysis\n",
        "tfidf_vec = TfidfVectorizer(ngram_range=(1,3), analyzer='char')"
      ],
      "execution_count": 16,
      "outputs": []
    },
    {
      "cell_type": "code",
      "metadata": {
        "id": "AOrt-e6xdiMd",
        "colab_type": "code",
        "colab": {}
      },
      "source": [
        "#full_tfidf = tfidf_vec.fit_transform(train_data_x + test_data_x)\n",
        "train_tfidf = tfidf_vec.fit_transform(x_train).toarray()\n",
        "test_tfidf = tfidf_vec.transform(x_test).toarray()"
      ],
      "execution_count": 17,
      "outputs": []
    },
    {
      "cell_type": "code",
      "metadata": {
        "id": "7jQAv9uAdiMf",
        "colab_type": "code",
        "colab": {
          "base_uri": "https://localhost:8080/",
          "height": 50
        },
        "outputId": "db1d2d08-9e63-48f9-9752-d7df89226842"
      },
      "source": [
        "print(train_tfidf.shape)\n",
        "print(test_tfidf.shape)"
      ],
      "execution_count": 18,
      "outputs": [
        {
          "output_type": "stream",
          "text": [
            "(32513, 3398)\n",
            "(3000, 3398)\n"
          ],
          "name": "stdout"
        }
      ]
    },
    {
      "cell_type": "code",
      "metadata": {
        "id": "ew-7u2DGdiMi",
        "colab_type": "code",
        "colab": {}
      },
      "source": [
        "labels = data_ytrain.label.astype(str)"
      ],
      "execution_count": 19,
      "outputs": []
    },
    {
      "cell_type": "code",
      "metadata": {
        "id": "VrJwnF9SdiMk",
        "colab_type": "code",
        "colab": {
          "base_uri": "https://localhost:8080/",
          "height": 244
        },
        "outputId": "412887a5-2c69-4ed1-dea8-764ff21695e8"
      },
      "source": [
        "pd.DataFrame(train_tfidf).head()"
      ],
      "execution_count": 20,
      "outputs": [
        {
          "output_type": "execute_result",
          "data": {
            "text/html": [
              "<div>\n",
              "<style scoped>\n",
              "    .dataframe tbody tr th:only-of-type {\n",
              "        vertical-align: middle;\n",
              "    }\n",
              "\n",
              "    .dataframe tbody tr th {\n",
              "        vertical-align: top;\n",
              "    }\n",
              "\n",
              "    .dataframe thead th {\n",
              "        text-align: right;\n",
              "    }\n",
              "</style>\n",
              "<table border=\"1\" class=\"dataframe\">\n",
              "  <thead>\n",
              "    <tr style=\"text-align: right;\">\n",
              "      <th></th>\n",
              "      <th>0</th>\n",
              "      <th>1</th>\n",
              "      <th>2</th>\n",
              "      <th>3</th>\n",
              "      <th>4</th>\n",
              "      <th>5</th>\n",
              "      <th>6</th>\n",
              "      <th>7</th>\n",
              "      <th>8</th>\n",
              "      <th>9</th>\n",
              "      <th>10</th>\n",
              "      <th>11</th>\n",
              "      <th>12</th>\n",
              "      <th>13</th>\n",
              "      <th>14</th>\n",
              "      <th>15</th>\n",
              "      <th>16</th>\n",
              "      <th>17</th>\n",
              "      <th>18</th>\n",
              "      <th>19</th>\n",
              "      <th>20</th>\n",
              "      <th>21</th>\n",
              "      <th>22</th>\n",
              "      <th>23</th>\n",
              "      <th>24</th>\n",
              "      <th>25</th>\n",
              "      <th>26</th>\n",
              "      <th>27</th>\n",
              "      <th>28</th>\n",
              "      <th>29</th>\n",
              "      <th>30</th>\n",
              "      <th>31</th>\n",
              "      <th>32</th>\n",
              "      <th>33</th>\n",
              "      <th>34</th>\n",
              "      <th>35</th>\n",
              "      <th>36</th>\n",
              "      <th>37</th>\n",
              "      <th>38</th>\n",
              "      <th>39</th>\n",
              "      <th>...</th>\n",
              "      <th>3358</th>\n",
              "      <th>3359</th>\n",
              "      <th>3360</th>\n",
              "      <th>3361</th>\n",
              "      <th>3362</th>\n",
              "      <th>3363</th>\n",
              "      <th>3364</th>\n",
              "      <th>3365</th>\n",
              "      <th>3366</th>\n",
              "      <th>3367</th>\n",
              "      <th>3368</th>\n",
              "      <th>3369</th>\n",
              "      <th>3370</th>\n",
              "      <th>3371</th>\n",
              "      <th>3372</th>\n",
              "      <th>3373</th>\n",
              "      <th>3374</th>\n",
              "      <th>3375</th>\n",
              "      <th>3376</th>\n",
              "      <th>3377</th>\n",
              "      <th>3378</th>\n",
              "      <th>3379</th>\n",
              "      <th>3380</th>\n",
              "      <th>3381</th>\n",
              "      <th>3382</th>\n",
              "      <th>3383</th>\n",
              "      <th>3384</th>\n",
              "      <th>3385</th>\n",
              "      <th>3386</th>\n",
              "      <th>3387</th>\n",
              "      <th>3388</th>\n",
              "      <th>3389</th>\n",
              "      <th>3390</th>\n",
              "      <th>3391</th>\n",
              "      <th>3392</th>\n",
              "      <th>3393</th>\n",
              "      <th>3394</th>\n",
              "      <th>3395</th>\n",
              "      <th>3396</th>\n",
              "      <th>3397</th>\n",
              "    </tr>\n",
              "  </thead>\n",
              "  <tbody>\n",
              "    <tr>\n",
              "      <th>0</th>\n",
              "      <td>0.126480</td>\n",
              "      <td>0.0</td>\n",
              "      <td>0.0</td>\n",
              "      <td>0.0</td>\n",
              "      <td>0.0</td>\n",
              "      <td>0.0</td>\n",
              "      <td>0.0</td>\n",
              "      <td>0.0</td>\n",
              "      <td>0.0</td>\n",
              "      <td>0.0</td>\n",
              "      <td>0.0</td>\n",
              "      <td>0.0</td>\n",
              "      <td>0.0</td>\n",
              "      <td>0.0</td>\n",
              "      <td>0.000000</td>\n",
              "      <td>0.0</td>\n",
              "      <td>0.0</td>\n",
              "      <td>0.000000</td>\n",
              "      <td>0.0</td>\n",
              "      <td>0.0</td>\n",
              "      <td>0.0</td>\n",
              "      <td>0.000000</td>\n",
              "      <td>0.0</td>\n",
              "      <td>0.0</td>\n",
              "      <td>0.000000</td>\n",
              "      <td>0.0</td>\n",
              "      <td>0.0</td>\n",
              "      <td>0.000000</td>\n",
              "      <td>0.0</td>\n",
              "      <td>0.0</td>\n",
              "      <td>0.0</td>\n",
              "      <td>0.000000</td>\n",
              "      <td>0.0</td>\n",
              "      <td>0.0</td>\n",
              "      <td>0.0</td>\n",
              "      <td>0.0</td>\n",
              "      <td>0.0</td>\n",
              "      <td>0.0</td>\n",
              "      <td>0.0</td>\n",
              "      <td>0.0</td>\n",
              "      <td>...</td>\n",
              "      <td>0.0</td>\n",
              "      <td>0.0</td>\n",
              "      <td>0.0</td>\n",
              "      <td>0.0</td>\n",
              "      <td>0.0</td>\n",
              "      <td>0.0</td>\n",
              "      <td>0.026665</td>\n",
              "      <td>0.0</td>\n",
              "      <td>0.0</td>\n",
              "      <td>0.026712</td>\n",
              "      <td>0.008209</td>\n",
              "      <td>0.0</td>\n",
              "      <td>0.008231</td>\n",
              "      <td>0.0</td>\n",
              "      <td>0.0</td>\n",
              "      <td>0.0</td>\n",
              "      <td>0.0</td>\n",
              "      <td>0.0</td>\n",
              "      <td>0.0</td>\n",
              "      <td>0.0</td>\n",
              "      <td>0.0</td>\n",
              "      <td>0.0</td>\n",
              "      <td>0.0</td>\n",
              "      <td>0.0</td>\n",
              "      <td>0.0</td>\n",
              "      <td>0.0</td>\n",
              "      <td>0.0</td>\n",
              "      <td>0.0</td>\n",
              "      <td>0.0</td>\n",
              "      <td>0.0</td>\n",
              "      <td>0.0</td>\n",
              "      <td>0.0</td>\n",
              "      <td>0.0</td>\n",
              "      <td>0.0</td>\n",
              "      <td>0.0</td>\n",
              "      <td>0.0</td>\n",
              "      <td>0.0</td>\n",
              "      <td>0.0</td>\n",
              "      <td>0.0</td>\n",
              "      <td>0.0</td>\n",
              "    </tr>\n",
              "    <tr>\n",
              "      <th>1</th>\n",
              "      <td>0.095712</td>\n",
              "      <td>0.0</td>\n",
              "      <td>0.0</td>\n",
              "      <td>0.0</td>\n",
              "      <td>0.0</td>\n",
              "      <td>0.0</td>\n",
              "      <td>0.0</td>\n",
              "      <td>0.0</td>\n",
              "      <td>0.0</td>\n",
              "      <td>0.0</td>\n",
              "      <td>0.0</td>\n",
              "      <td>0.0</td>\n",
              "      <td>0.0</td>\n",
              "      <td>0.0</td>\n",
              "      <td>0.014032</td>\n",
              "      <td>0.0</td>\n",
              "      <td>0.0</td>\n",
              "      <td>0.020304</td>\n",
              "      <td>0.0</td>\n",
              "      <td>0.0</td>\n",
              "      <td>0.0</td>\n",
              "      <td>0.000000</td>\n",
              "      <td>0.0</td>\n",
              "      <td>0.0</td>\n",
              "      <td>0.000000</td>\n",
              "      <td>0.0</td>\n",
              "      <td>0.0</td>\n",
              "      <td>0.029217</td>\n",
              "      <td>0.0</td>\n",
              "      <td>0.0</td>\n",
              "      <td>0.0</td>\n",
              "      <td>0.029383</td>\n",
              "      <td>0.0</td>\n",
              "      <td>0.0</td>\n",
              "      <td>0.0</td>\n",
              "      <td>0.0</td>\n",
              "      <td>0.0</td>\n",
              "      <td>0.0</td>\n",
              "      <td>0.0</td>\n",
              "      <td>0.0</td>\n",
              "      <td>...</td>\n",
              "      <td>0.0</td>\n",
              "      <td>0.0</td>\n",
              "      <td>0.0</td>\n",
              "      <td>0.0</td>\n",
              "      <td>0.0</td>\n",
              "      <td>0.0</td>\n",
              "      <td>0.000000</td>\n",
              "      <td>0.0</td>\n",
              "      <td>0.0</td>\n",
              "      <td>0.000000</td>\n",
              "      <td>0.026401</td>\n",
              "      <td>0.0</td>\n",
              "      <td>0.026472</td>\n",
              "      <td>0.0</td>\n",
              "      <td>0.0</td>\n",
              "      <td>0.0</td>\n",
              "      <td>0.0</td>\n",
              "      <td>0.0</td>\n",
              "      <td>0.0</td>\n",
              "      <td>0.0</td>\n",
              "      <td>0.0</td>\n",
              "      <td>0.0</td>\n",
              "      <td>0.0</td>\n",
              "      <td>0.0</td>\n",
              "      <td>0.0</td>\n",
              "      <td>0.0</td>\n",
              "      <td>0.0</td>\n",
              "      <td>0.0</td>\n",
              "      <td>0.0</td>\n",
              "      <td>0.0</td>\n",
              "      <td>0.0</td>\n",
              "      <td>0.0</td>\n",
              "      <td>0.0</td>\n",
              "      <td>0.0</td>\n",
              "      <td>0.0</td>\n",
              "      <td>0.0</td>\n",
              "      <td>0.0</td>\n",
              "      <td>0.0</td>\n",
              "      <td>0.0</td>\n",
              "      <td>0.0</td>\n",
              "    </tr>\n",
              "    <tr>\n",
              "      <th>2</th>\n",
              "      <td>0.088707</td>\n",
              "      <td>0.0</td>\n",
              "      <td>0.0</td>\n",
              "      <td>0.0</td>\n",
              "      <td>0.0</td>\n",
              "      <td>0.0</td>\n",
              "      <td>0.0</td>\n",
              "      <td>0.0</td>\n",
              "      <td>0.0</td>\n",
              "      <td>0.0</td>\n",
              "      <td>0.0</td>\n",
              "      <td>0.0</td>\n",
              "      <td>0.0</td>\n",
              "      <td>0.0</td>\n",
              "      <td>0.000000</td>\n",
              "      <td>0.0</td>\n",
              "      <td>0.0</td>\n",
              "      <td>0.000000</td>\n",
              "      <td>0.0</td>\n",
              "      <td>0.0</td>\n",
              "      <td>0.0</td>\n",
              "      <td>0.029377</td>\n",
              "      <td>0.0</td>\n",
              "      <td>0.0</td>\n",
              "      <td>0.029586</td>\n",
              "      <td>0.0</td>\n",
              "      <td>0.0</td>\n",
              "      <td>0.012498</td>\n",
              "      <td>0.0</td>\n",
              "      <td>0.0</td>\n",
              "      <td>0.0</td>\n",
              "      <td>0.012569</td>\n",
              "      <td>0.0</td>\n",
              "      <td>0.0</td>\n",
              "      <td>0.0</td>\n",
              "      <td>0.0</td>\n",
              "      <td>0.0</td>\n",
              "      <td>0.0</td>\n",
              "      <td>0.0</td>\n",
              "      <td>0.0</td>\n",
              "      <td>...</td>\n",
              "      <td>0.0</td>\n",
              "      <td>0.0</td>\n",
              "      <td>0.0</td>\n",
              "      <td>0.0</td>\n",
              "      <td>0.0</td>\n",
              "      <td>0.0</td>\n",
              "      <td>0.000000</td>\n",
              "      <td>0.0</td>\n",
              "      <td>0.0</td>\n",
              "      <td>0.000000</td>\n",
              "      <td>0.015058</td>\n",
              "      <td>0.0</td>\n",
              "      <td>0.015098</td>\n",
              "      <td>0.0</td>\n",
              "      <td>0.0</td>\n",
              "      <td>0.0</td>\n",
              "      <td>0.0</td>\n",
              "      <td>0.0</td>\n",
              "      <td>0.0</td>\n",
              "      <td>0.0</td>\n",
              "      <td>0.0</td>\n",
              "      <td>0.0</td>\n",
              "      <td>0.0</td>\n",
              "      <td>0.0</td>\n",
              "      <td>0.0</td>\n",
              "      <td>0.0</td>\n",
              "      <td>0.0</td>\n",
              "      <td>0.0</td>\n",
              "      <td>0.0</td>\n",
              "      <td>0.0</td>\n",
              "      <td>0.0</td>\n",
              "      <td>0.0</td>\n",
              "      <td>0.0</td>\n",
              "      <td>0.0</td>\n",
              "      <td>0.0</td>\n",
              "      <td>0.0</td>\n",
              "      <td>0.0</td>\n",
              "      <td>0.0</td>\n",
              "      <td>0.0</td>\n",
              "      <td>0.0</td>\n",
              "    </tr>\n",
              "    <tr>\n",
              "      <th>3</th>\n",
              "      <td>0.100503</td>\n",
              "      <td>0.0</td>\n",
              "      <td>0.0</td>\n",
              "      <td>0.0</td>\n",
              "      <td>0.0</td>\n",
              "      <td>0.0</td>\n",
              "      <td>0.0</td>\n",
              "      <td>0.0</td>\n",
              "      <td>0.0</td>\n",
              "      <td>0.0</td>\n",
              "      <td>0.0</td>\n",
              "      <td>0.0</td>\n",
              "      <td>0.0</td>\n",
              "      <td>0.0</td>\n",
              "      <td>0.025260</td>\n",
              "      <td>0.0</td>\n",
              "      <td>0.0</td>\n",
              "      <td>0.036550</td>\n",
              "      <td>0.0</td>\n",
              "      <td>0.0</td>\n",
              "      <td>0.0</td>\n",
              "      <td>0.000000</td>\n",
              "      <td>0.0</td>\n",
              "      <td>0.0</td>\n",
              "      <td>0.000000</td>\n",
              "      <td>0.0</td>\n",
              "      <td>0.0</td>\n",
              "      <td>0.000000</td>\n",
              "      <td>0.0</td>\n",
              "      <td>0.0</td>\n",
              "      <td>0.0</td>\n",
              "      <td>0.000000</td>\n",
              "      <td>0.0</td>\n",
              "      <td>0.0</td>\n",
              "      <td>0.0</td>\n",
              "      <td>0.0</td>\n",
              "      <td>0.0</td>\n",
              "      <td>0.0</td>\n",
              "      <td>0.0</td>\n",
              "      <td>0.0</td>\n",
              "      <td>...</td>\n",
              "      <td>0.0</td>\n",
              "      <td>0.0</td>\n",
              "      <td>0.0</td>\n",
              "      <td>0.0</td>\n",
              "      <td>0.0</td>\n",
              "      <td>0.0</td>\n",
              "      <td>0.038593</td>\n",
              "      <td>0.0</td>\n",
              "      <td>0.0</td>\n",
              "      <td>0.038662</td>\n",
              "      <td>0.015842</td>\n",
              "      <td>0.0</td>\n",
              "      <td>0.015884</td>\n",
              "      <td>0.0</td>\n",
              "      <td>0.0</td>\n",
              "      <td>0.0</td>\n",
              "      <td>0.0</td>\n",
              "      <td>0.0</td>\n",
              "      <td>0.0</td>\n",
              "      <td>0.0</td>\n",
              "      <td>0.0</td>\n",
              "      <td>0.0</td>\n",
              "      <td>0.0</td>\n",
              "      <td>0.0</td>\n",
              "      <td>0.0</td>\n",
              "      <td>0.0</td>\n",
              "      <td>0.0</td>\n",
              "      <td>0.0</td>\n",
              "      <td>0.0</td>\n",
              "      <td>0.0</td>\n",
              "      <td>0.0</td>\n",
              "      <td>0.0</td>\n",
              "      <td>0.0</td>\n",
              "      <td>0.0</td>\n",
              "      <td>0.0</td>\n",
              "      <td>0.0</td>\n",
              "      <td>0.0</td>\n",
              "      <td>0.0</td>\n",
              "      <td>0.0</td>\n",
              "      <td>0.0</td>\n",
              "    </tr>\n",
              "    <tr>\n",
              "      <th>4</th>\n",
              "      <td>0.081580</td>\n",
              "      <td>0.0</td>\n",
              "      <td>0.0</td>\n",
              "      <td>0.0</td>\n",
              "      <td>0.0</td>\n",
              "      <td>0.0</td>\n",
              "      <td>0.0</td>\n",
              "      <td>0.0</td>\n",
              "      <td>0.0</td>\n",
              "      <td>0.0</td>\n",
              "      <td>0.0</td>\n",
              "      <td>0.0</td>\n",
              "      <td>0.0</td>\n",
              "      <td>0.0</td>\n",
              "      <td>0.000000</td>\n",
              "      <td>0.0</td>\n",
              "      <td>0.0</td>\n",
              "      <td>0.000000</td>\n",
              "      <td>0.0</td>\n",
              "      <td>0.0</td>\n",
              "      <td>0.0</td>\n",
              "      <td>0.000000</td>\n",
              "      <td>0.0</td>\n",
              "      <td>0.0</td>\n",
              "      <td>0.000000</td>\n",
              "      <td>0.0</td>\n",
              "      <td>0.0</td>\n",
              "      <td>0.000000</td>\n",
              "      <td>0.0</td>\n",
              "      <td>0.0</td>\n",
              "      <td>0.0</td>\n",
              "      <td>0.000000</td>\n",
              "      <td>0.0</td>\n",
              "      <td>0.0</td>\n",
              "      <td>0.0</td>\n",
              "      <td>0.0</td>\n",
              "      <td>0.0</td>\n",
              "      <td>0.0</td>\n",
              "      <td>0.0</td>\n",
              "      <td>0.0</td>\n",
              "      <td>...</td>\n",
              "      <td>0.0</td>\n",
              "      <td>0.0</td>\n",
              "      <td>0.0</td>\n",
              "      <td>0.0</td>\n",
              "      <td>0.0</td>\n",
              "      <td>0.0</td>\n",
              "      <td>0.013290</td>\n",
              "      <td>0.0</td>\n",
              "      <td>0.0</td>\n",
              "      <td>0.013314</td>\n",
              "      <td>0.024549</td>\n",
              "      <td>0.0</td>\n",
              "      <td>0.024614</td>\n",
              "      <td>0.0</td>\n",
              "      <td>0.0</td>\n",
              "      <td>0.0</td>\n",
              "      <td>0.0</td>\n",
              "      <td>0.0</td>\n",
              "      <td>0.0</td>\n",
              "      <td>0.0</td>\n",
              "      <td>0.0</td>\n",
              "      <td>0.0</td>\n",
              "      <td>0.0</td>\n",
              "      <td>0.0</td>\n",
              "      <td>0.0</td>\n",
              "      <td>0.0</td>\n",
              "      <td>0.0</td>\n",
              "      <td>0.0</td>\n",
              "      <td>0.0</td>\n",
              "      <td>0.0</td>\n",
              "      <td>0.0</td>\n",
              "      <td>0.0</td>\n",
              "      <td>0.0</td>\n",
              "      <td>0.0</td>\n",
              "      <td>0.0</td>\n",
              "      <td>0.0</td>\n",
              "      <td>0.0</td>\n",
              "      <td>0.0</td>\n",
              "      <td>0.0</td>\n",
              "      <td>0.0</td>\n",
              "    </tr>\n",
              "  </tbody>\n",
              "</table>\n",
              "<p>5 rows × 3398 columns</p>\n",
              "</div>"
            ],
            "text/plain": [
              "       0     1     2     3     4     5     ...  3392  3393  3394  3395  3396  3397\n",
              "0  0.126480   0.0   0.0   0.0   0.0   0.0  ...   0.0   0.0   0.0   0.0   0.0   0.0\n",
              "1  0.095712   0.0   0.0   0.0   0.0   0.0  ...   0.0   0.0   0.0   0.0   0.0   0.0\n",
              "2  0.088707   0.0   0.0   0.0   0.0   0.0  ...   0.0   0.0   0.0   0.0   0.0   0.0\n",
              "3  0.100503   0.0   0.0   0.0   0.0   0.0  ...   0.0   0.0   0.0   0.0   0.0   0.0\n",
              "4  0.081580   0.0   0.0   0.0   0.0   0.0  ...   0.0   0.0   0.0   0.0   0.0   0.0\n",
              "\n",
              "[5 rows x 3398 columns]"
            ]
          },
          "metadata": {
            "tags": []
          },
          "execution_count": 20
        }
      ]
    },
    {
      "cell_type": "markdown",
      "metadata": {
        "id": "oLSd6v_EdiMm",
        "colab_type": "text"
      },
      "source": [
        "# 4-ML models"
      ]
    },
    {
      "cell_type": "code",
      "metadata": {
        "id": "pzAQZV8IdiMn",
        "colab_type": "code",
        "colab": {}
      },
      "source": [
        "from sklearn.linear_model import LogisticRegression\n",
        "from sklearn.ensemble import RandomForestClassifier\n",
        "from sklearn.svm import LinearSVC\n",
        "from sklearn.model_selection import cross_val_score\n",
        "\n",
        "\n",
        "models = [\n",
        "    RandomForestClassifier(random_state=0),\n",
        "    LinearSVC(),\n",
        "    MultinomialNB(),\n",
        "    LogisticRegression(random_state=0)\n",
        "   \n",
        "]\n",
        "CV = 5\n",
        "cv_df = pd.DataFrame(index=range(CV * len(models)))\n",
        "entries = []\n",
        "for model in models:\n",
        "    model_name = model.__class__.__name__\n",
        "    accuracies = cross_val_score(model, train_tfidf, labels, scoring='accuracy', cv=CV)\n",
        "    for fold_idx, accuracy in enumerate(accuracies):\n",
        "        entries.append((model_name, fold_idx, accuracy))\n",
        "cv_df = pd.DataFrame(entries, columns=['model_name', 'fold_idx', 'accuracy'])"
      ],
      "execution_count": 21,
      "outputs": []
    },
    {
      "cell_type": "code",
      "metadata": {
        "id": "wF4yDx3HdiMp",
        "colab_type": "code",
        "colab": {
          "base_uri": "https://localhost:8080/",
          "height": 639
        },
        "outputId": "e81b563b-6c7d-4f18-ee74-303a35026a42"
      },
      "source": [
        "cv_df"
      ],
      "execution_count": 22,
      "outputs": [
        {
          "output_type": "execute_result",
          "data": {
            "text/html": [
              "<div>\n",
              "<style scoped>\n",
              "    .dataframe tbody tr th:only-of-type {\n",
              "        vertical-align: middle;\n",
              "    }\n",
              "\n",
              "    .dataframe tbody tr th {\n",
              "        vertical-align: top;\n",
              "    }\n",
              "\n",
              "    .dataframe thead th {\n",
              "        text-align: right;\n",
              "    }\n",
              "</style>\n",
              "<table border=\"1\" class=\"dataframe\">\n",
              "  <thead>\n",
              "    <tr style=\"text-align: right;\">\n",
              "      <th></th>\n",
              "      <th>model_name</th>\n",
              "      <th>fold_idx</th>\n",
              "      <th>accuracy</th>\n",
              "    </tr>\n",
              "  </thead>\n",
              "  <tbody>\n",
              "    <tr>\n",
              "      <th>0</th>\n",
              "      <td>RandomForestClassifier</td>\n",
              "      <td>0</td>\n",
              "      <td>0.629863</td>\n",
              "    </tr>\n",
              "    <tr>\n",
              "      <th>1</th>\n",
              "      <td>RandomForestClassifier</td>\n",
              "      <td>1</td>\n",
              "      <td>0.618638</td>\n",
              "    </tr>\n",
              "    <tr>\n",
              "      <th>2</th>\n",
              "      <td>RandomForestClassifier</td>\n",
              "      <td>2</td>\n",
              "      <td>0.624327</td>\n",
              "    </tr>\n",
              "    <tr>\n",
              "      <th>3</th>\n",
              "      <td>RandomForestClassifier</td>\n",
              "      <td>3</td>\n",
              "      <td>0.623193</td>\n",
              "    </tr>\n",
              "    <tr>\n",
              "      <th>4</th>\n",
              "      <td>RandomForestClassifier</td>\n",
              "      <td>4</td>\n",
              "      <td>0.620886</td>\n",
              "    </tr>\n",
              "    <tr>\n",
              "      <th>5</th>\n",
              "      <td>LinearSVC</td>\n",
              "      <td>0</td>\n",
              "      <td>0.764570</td>\n",
              "    </tr>\n",
              "    <tr>\n",
              "      <th>6</th>\n",
              "      <td>LinearSVC</td>\n",
              "      <td>1</td>\n",
              "      <td>0.749808</td>\n",
              "    </tr>\n",
              "    <tr>\n",
              "      <th>7</th>\n",
              "      <td>LinearSVC</td>\n",
              "      <td>2</td>\n",
              "      <td>0.752883</td>\n",
              "    </tr>\n",
              "    <tr>\n",
              "      <th>8</th>\n",
              "      <td>LinearSVC</td>\n",
              "      <td>3</td>\n",
              "      <td>0.754229</td>\n",
              "    </tr>\n",
              "    <tr>\n",
              "      <th>9</th>\n",
              "      <td>LinearSVC</td>\n",
              "      <td>4</td>\n",
              "      <td>0.748231</td>\n",
              "    </tr>\n",
              "    <tr>\n",
              "      <th>10</th>\n",
              "      <td>MultinomialNB</td>\n",
              "      <td>0</td>\n",
              "      <td>0.422113</td>\n",
              "    </tr>\n",
              "    <tr>\n",
              "      <th>11</th>\n",
              "      <td>MultinomialNB</td>\n",
              "      <td>1</td>\n",
              "      <td>0.425188</td>\n",
              "    </tr>\n",
              "    <tr>\n",
              "      <th>12</th>\n",
              "      <td>MultinomialNB</td>\n",
              "      <td>2</td>\n",
              "      <td>0.428725</td>\n",
              "    </tr>\n",
              "    <tr>\n",
              "      <th>13</th>\n",
              "      <td>MultinomialNB</td>\n",
              "      <td>3</td>\n",
              "      <td>0.425408</td>\n",
              "    </tr>\n",
              "    <tr>\n",
              "      <th>14</th>\n",
              "      <td>MultinomialNB</td>\n",
              "      <td>4</td>\n",
              "      <td>0.420794</td>\n",
              "    </tr>\n",
              "    <tr>\n",
              "      <th>15</th>\n",
              "      <td>LogisticRegression</td>\n",
              "      <td>0</td>\n",
              "      <td>0.667692</td>\n",
              "    </tr>\n",
              "    <tr>\n",
              "      <th>16</th>\n",
              "      <td>LogisticRegression</td>\n",
              "      <td>1</td>\n",
              "      <td>0.661233</td>\n",
              "    </tr>\n",
              "    <tr>\n",
              "      <th>17</th>\n",
              "      <td>LogisticRegression</td>\n",
              "      <td>2</td>\n",
              "      <td>0.662617</td>\n",
              "    </tr>\n",
              "    <tr>\n",
              "      <th>18</th>\n",
              "      <td>LogisticRegression</td>\n",
              "      <td>3</td>\n",
              "      <td>0.661181</td>\n",
              "    </tr>\n",
              "    <tr>\n",
              "      <th>19</th>\n",
              "      <td>LogisticRegression</td>\n",
              "      <td>4</td>\n",
              "      <td>0.654722</td>\n",
              "    </tr>\n",
              "  </tbody>\n",
              "</table>\n",
              "</div>"
            ],
            "text/plain": [
              "                model_name  fold_idx  accuracy\n",
              "0   RandomForestClassifier         0  0.629863\n",
              "1   RandomForestClassifier         1  0.618638\n",
              "2   RandomForestClassifier         2  0.624327\n",
              "3   RandomForestClassifier         3  0.623193\n",
              "4   RandomForestClassifier         4  0.620886\n",
              "5                LinearSVC         0  0.764570\n",
              "6                LinearSVC         1  0.749808\n",
              "7                LinearSVC         2  0.752883\n",
              "8                LinearSVC         3  0.754229\n",
              "9                LinearSVC         4  0.748231\n",
              "10           MultinomialNB         0  0.422113\n",
              "11           MultinomialNB         1  0.425188\n",
              "12           MultinomialNB         2  0.428725\n",
              "13           MultinomialNB         3  0.425408\n",
              "14           MultinomialNB         4  0.420794\n",
              "15      LogisticRegression         0  0.667692\n",
              "16      LogisticRegression         1  0.661233\n",
              "17      LogisticRegression         2  0.662617\n",
              "18      LogisticRegression         3  0.661181\n",
              "19      LogisticRegression         4  0.654722"
            ]
          },
          "metadata": {
            "tags": []
          },
          "execution_count": 22
        }
      ]
    },
    {
      "cell_type": "code",
      "metadata": {
        "id": "Ok8msD5LdiMr",
        "colab_type": "code",
        "colab": {
          "base_uri": "https://localhost:8080/",
          "height": 118
        },
        "outputId": "f4b1a26e-4af9-43a8-909e-48a3e7270991"
      },
      "source": [
        "cv_df.groupby('model_name').accuracy.mean()"
      ],
      "execution_count": 23,
      "outputs": [
        {
          "output_type": "execute_result",
          "data": {
            "text/plain": [
              "model_name\n",
              "LinearSVC                 0.753944\n",
              "LogisticRegression        0.661489\n",
              "MultinomialNB             0.424446\n",
              "RandomForestClassifier    0.623381\n",
              "Name: accuracy, dtype: float64"
            ]
          },
          "metadata": {
            "tags": []
          },
          "execution_count": 23
        }
      ]
    },
    {
      "cell_type": "markdown",
      "metadata": {
        "id": "9uFb_WsidiMt",
        "colab_type": "text"
      },
      "source": [
        "# 5-Evaluate model\n",
        "\n",
        "SVC is best performing model so we shall use it"
      ]
    },
    {
      "cell_type": "code",
      "metadata": {
        "id": "_g1oJJONdiMt",
        "colab_type": "code",
        "colab": {}
      },
      "source": [
        "X_train, X_val, y_train, y_val, indices_train, indices_val = train_test_split(train_tfidf, labels, x_train.index, test_size=0.20, random_state=0)"
      ],
      "execution_count": 24,
      "outputs": []
    },
    {
      "cell_type": "code",
      "metadata": {
        "id": "f7jMQ-eY358_",
        "colab_type": "code",
        "colab": {}
      },
      "source": [
        "clf = LinearSVC()\n",
        "clf.fit(X_train, y_train)\n",
        "predictions = clf._predict_proba_lr(X_val)"
      ],
      "execution_count": 25,
      "outputs": []
    },
    {
      "cell_type": "code",
      "metadata": {
        "id": "kaVY0RUyFi0v",
        "colab_type": "code",
        "colab": {
          "base_uri": "https://localhost:8080/",
          "height": 50
        },
        "outputId": "155def01-e77d-453a-908f-a693857c09c0"
      },
      "source": [
        "print(\"Probability Distribution for 1st sample:\",predictions[0])"
      ],
      "execution_count": 26,
      "outputs": [
        {
          "output_type": "stream",
          "text": [
            "Probability Distribution for 1st sample: [0.07345059 0.10450479 0.11500868 0.1176853  0.06947199 0.0919526\n",
            " 0.05873454 0.08282792 0.06395337 0.06717727 0.07860529 0.07662764]\n"
          ],
          "name": "stdout"
        }
      ]
    },
    {
      "cell_type": "code",
      "metadata": {
        "id": "74BtcxN236EV",
        "colab_type": "code",
        "colab": {
          "base_uri": "https://localhost:8080/",
          "height": 34
        },
        "outputId": "e69fb104-16e2-427a-e8c0-51688a5f2426"
      },
      "source": [
        "print(\"logloss: %0.3f \" % metrics.log_loss(np.asarray(y_val), predictions))\n"
      ],
      "execution_count": 27,
      "outputs": [
        {
          "output_type": "stream",
          "text": [
            "logloss: 1.803 \n"
          ],
          "name": "stdout"
        }
      ]
    },
    {
      "cell_type": "code",
      "metadata": {
        "id": "O9I9TaopE0S_",
        "colab_type": "code",
        "colab": {
          "base_uri": "https://localhost:8080/",
          "height": 34
        },
        "outputId": "c7a4500c-8b63-48d2-9374-7f72660ca32b"
      },
      "source": [
        "# predict class type\n",
        "y_pred = clf.predict(X_val)\n",
        "y_pred[:5]"
      ],
      "execution_count": 28,
      "outputs": [
        {
          "output_type": "execute_result",
          "data": {
            "text/plain": [
              "array(['11', '7', '1', '3', '5'], dtype=object)"
            ]
          },
          "metadata": {
            "tags": []
          },
          "execution_count": 28
        }
      ]
    },
    {
      "cell_type": "code",
      "metadata": {
        "id": "QqvWeoJ_35v1",
        "colab_type": "code",
        "colab": {
          "base_uri": "https://localhost:8080/",
          "height": 34
        },
        "outputId": "5924b373-5297-462f-dbe8-9d6a87422450"
      },
      "source": [
        "# prediction values for class type\n",
        "accuracy_value_class=predictions.max(axis=1)\n",
        "accuracy_value_class[:5]"
      ],
      "execution_count": 29,
      "outputs": [
        {
          "output_type": "execute_result",
          "data": {
            "text/plain": [
              "array([0.1176853 , 0.17435677, 0.160474  , 0.1642157 , 0.27929978])"
            ]
          },
          "metadata": {
            "tags": []
          },
          "execution_count": 29
        }
      ]
    },
    {
      "cell_type": "code",
      "metadata": {
        "id": "5UqVfaik35s_",
        "colab_type": "code",
        "colab": {
          "base_uri": "https://localhost:8080/",
          "height": 34
        },
        "outputId": "a4f57643-0a62-47a7-e557-2a1c82e24dee"
      },
      "source": [
        "from sklearn.metrics import accuracy_score\n",
        "print(accuracy_score(y_val, y_pred))"
      ],
      "execution_count": 30,
      "outputs": [
        {
          "output_type": "stream",
          "text": [
            "0.7573427648777488\n"
          ],
          "name": "stdout"
        }
      ]
    },
    {
      "cell_type": "code",
      "metadata": {
        "id": "vstbufVfdiM_",
        "colab_type": "code",
        "colab": {}
      },
      "source": [
        "#Function for category id\n",
        "data_ytrain['category_id'] = data_ytrain['label'].factorize()[0]\n",
        "category_id_df = data_ytrain[['label', 'category_id']].drop_duplicates().sort_values('category_id')\n",
        "category_to_id = dict(category_id_df.values)\n",
        "id_to_category = dict(category_id_df[['category_id', 'label']].values)"
      ],
      "execution_count": 31,
      "outputs": []
    },
    {
      "cell_type": "code",
      "metadata": {
        "id": "ZrANETcbdiNB",
        "colab_type": "code",
        "colab": {
          "base_uri": "https://localhost:8080/",
          "height": 813
        },
        "outputId": "55fedc4d-743d-42c8-fccb-012da1582616"
      },
      "source": [
        "from sklearn.metrics import confusion_matrix\n",
        "conf_mat = confusion_matrix(y_val, y_pred)\n",
        "fig, ax = plt.subplots(figsize=(10,10))\n",
        "sns.heatmap(conf_mat, annot=True, fmt='d',\n",
        "            xticklabels=category_id_df.label.values, yticklabels=category_id_df.label.values)\n",
        "plt.ylabel('Actual')\n",
        "plt.xlabel('Predicted')\n",
        "plt.show()"
      ],
      "execution_count": 32,
      "outputs": [
        {
          "output_type": "display_data",
          "data": {
            "text/plain": [
              "<Figure size 720x720 with 2 Axes>"
            ],
            "image/svg+xml": "<?xml version=\"1.0\" encoding=\"utf-8\" standalone=\"no\"?>\n<!DOCTYPE svg PUBLIC \"-//W3C//DTD SVG 1.1//EN\"\n  \"http://www.w3.org/Graphics/SVG/1.1/DTD/svg11.dtd\">\n<!-- Created with matplotlib (https://matplotlib.org/) -->\n<svg height=\"593.759688pt\" version=\"1.1\" viewBox=\"0 0 582.135938 593.759688\" width=\"582.135938pt\" xmlns=\"http://www.w3.org/2000/svg\" xmlns:xlink=\"http://www.w3.org/1999/xlink\">\n <defs>\n  <style type=\"text/css\">\n*{stroke-linecap:butt;stroke-linejoin:round;}\n  </style>\n </defs>\n <g id=\"figure_1\">\n  <g id=\"patch_1\">\n   <path d=\"M 0 593.759688 \nL 582.135938 593.759688 \nL 582.135938 0 \nL 0 0 \nz\n\" style=\"fill:none;\"/>\n  </g>\n  <g id=\"axes_1\">\n   <g id=\"patch_2\">\n    <path d=\"M 42.959688 550.8 \nL 489.359688 550.8 \nL 489.359688 7.2 \nL 42.959688 7.2 \nz\n\" style=\"fill:#eaeaf2;\"/>\n   </g>\n   <g id=\"matplotlib.axis_1\">\n    <g id=\"xtick_1\">\n     <g id=\"text_1\">\n      <!-- 7 -->\n      <defs>\n       <path d=\"M 8.203125 72.90625 \nL 55.078125 72.90625 \nL 55.078125 68.703125 \nL 28.609375 0 \nL 18.3125 0 \nL 43.21875 64.59375 \nL 8.203125 64.59375 \nz\n\" id=\"DejaVuSans-55\"/>\n      </defs>\n      <g style=\"fill:#262626;\" transform=\"translate(58.060313 568.658281)scale(0.11 -0.11)\">\n       <use xlink:href=\"#DejaVuSans-55\"/>\n      </g>\n     </g>\n    </g>\n    <g id=\"xtick_2\">\n     <g id=\"text_2\">\n      <!-- 3 -->\n      <defs>\n       <path d=\"M 40.578125 39.3125 \nQ 47.65625 37.796875 51.625 33 \nQ 55.609375 28.21875 55.609375 21.1875 \nQ 55.609375 10.40625 48.1875 4.484375 \nQ 40.765625 -1.421875 27.09375 -1.421875 \nQ 22.515625 -1.421875 17.65625 -0.515625 \nQ 12.796875 0.390625 7.625 2.203125 \nL 7.625 11.71875 \nQ 11.71875 9.328125 16.59375 8.109375 \nQ 21.484375 6.890625 26.8125 6.890625 \nQ 36.078125 6.890625 40.9375 10.546875 \nQ 45.796875 14.203125 45.796875 21.1875 \nQ 45.796875 27.640625 41.28125 31.265625 \nQ 36.765625 34.90625 28.71875 34.90625 \nL 20.21875 34.90625 \nL 20.21875 43.015625 \nL 29.109375 43.015625 \nQ 36.375 43.015625 40.234375 45.921875 \nQ 44.09375 48.828125 44.09375 54.296875 \nQ 44.09375 59.90625 40.109375 62.90625 \nQ 36.140625 65.921875 28.71875 65.921875 \nQ 24.65625 65.921875 20.015625 65.03125 \nQ 15.375 64.15625 9.8125 62.3125 \nL 9.8125 71.09375 \nQ 15.4375 72.65625 20.34375 73.4375 \nQ 25.25 74.21875 29.59375 74.21875 \nQ 40.828125 74.21875 47.359375 69.109375 \nQ 53.90625 64.015625 53.90625 55.328125 \nQ 53.90625 49.265625 50.4375 45.09375 \nQ 46.96875 40.921875 40.578125 39.3125 \nz\n\" id=\"DejaVuSans-51\"/>\n      </defs>\n      <g style=\"fill:#262626;\" transform=\"translate(95.260313 568.658281)scale(0.11 -0.11)\">\n       <use xlink:href=\"#DejaVuSans-51\"/>\n      </g>\n     </g>\n    </g>\n    <g id=\"xtick_3\">\n     <g id=\"text_3\">\n      <!-- 8 -->\n      <defs>\n       <path d=\"M 31.78125 34.625 \nQ 24.75 34.625 20.71875 30.859375 \nQ 16.703125 27.09375 16.703125 20.515625 \nQ 16.703125 13.921875 20.71875 10.15625 \nQ 24.75 6.390625 31.78125 6.390625 \nQ 38.8125 6.390625 42.859375 10.171875 \nQ 46.921875 13.96875 46.921875 20.515625 \nQ 46.921875 27.09375 42.890625 30.859375 \nQ 38.875 34.625 31.78125 34.625 \nz\nM 21.921875 38.8125 \nQ 15.578125 40.375 12.03125 44.71875 \nQ 8.5 49.078125 8.5 55.328125 \nQ 8.5 64.0625 14.71875 69.140625 \nQ 20.953125 74.21875 31.78125 74.21875 \nQ 42.671875 74.21875 48.875 69.140625 \nQ 55.078125 64.0625 55.078125 55.328125 \nQ 55.078125 49.078125 51.53125 44.71875 \nQ 48 40.375 41.703125 38.8125 \nQ 48.828125 37.15625 52.796875 32.3125 \nQ 56.78125 27.484375 56.78125 20.515625 \nQ 56.78125 9.90625 50.3125 4.234375 \nQ 43.84375 -1.421875 31.78125 -1.421875 \nQ 19.734375 -1.421875 13.25 4.234375 \nQ 6.78125 9.90625 6.78125 20.515625 \nQ 6.78125 27.484375 10.78125 32.3125 \nQ 14.796875 37.15625 21.921875 38.8125 \nz\nM 18.3125 54.390625 \nQ 18.3125 48.734375 21.84375 45.5625 \nQ 25.390625 42.390625 31.78125 42.390625 \nQ 38.140625 42.390625 41.71875 45.5625 \nQ 45.3125 48.734375 45.3125 54.390625 \nQ 45.3125 60.0625 41.71875 63.234375 \nQ 38.140625 66.40625 31.78125 66.40625 \nQ 25.390625 66.40625 21.84375 63.234375 \nQ 18.3125 60.0625 18.3125 54.390625 \nz\n\" id=\"DejaVuSans-56\"/>\n      </defs>\n      <g style=\"fill:#262626;\" transform=\"translate(132.460313 568.658281)scale(0.11 -0.11)\">\n       <use xlink:href=\"#DejaVuSans-56\"/>\n      </g>\n     </g>\n    </g>\n    <g id=\"xtick_4\">\n     <g id=\"text_4\">\n      <!-- 4 -->\n      <defs>\n       <path d=\"M 37.796875 64.3125 \nL 12.890625 25.390625 \nL 37.796875 25.390625 \nz\nM 35.203125 72.90625 \nL 47.609375 72.90625 \nL 47.609375 25.390625 \nL 58.015625 25.390625 \nL 58.015625 17.1875 \nL 47.609375 17.1875 \nL 47.609375 0 \nL 37.796875 0 \nL 37.796875 17.1875 \nL 4.890625 17.1875 \nL 4.890625 26.703125 \nz\n\" id=\"DejaVuSans-52\"/>\n      </defs>\n      <g style=\"fill:#262626;\" transform=\"translate(169.660313 568.658281)scale(0.11 -0.11)\">\n       <use xlink:href=\"#DejaVuSans-52\"/>\n      </g>\n     </g>\n    </g>\n    <g id=\"xtick_5\">\n     <g id=\"text_5\">\n      <!-- 1 -->\n      <defs>\n       <path d=\"M 12.40625 8.296875 \nL 28.515625 8.296875 \nL 28.515625 63.921875 \nL 10.984375 60.40625 \nL 10.984375 69.390625 \nL 28.421875 72.90625 \nL 38.28125 72.90625 \nL 38.28125 8.296875 \nL 54.390625 8.296875 \nL 54.390625 0 \nL 12.40625 0 \nz\n\" id=\"DejaVuSans-49\"/>\n      </defs>\n      <g style=\"fill:#262626;\" transform=\"translate(206.860313 568.658281)scale(0.11 -0.11)\">\n       <use xlink:href=\"#DejaVuSans-49\"/>\n      </g>\n     </g>\n    </g>\n    <g id=\"xtick_6\">\n     <g id=\"text_6\">\n      <!-- 11 -->\n      <g style=\"fill:#262626;\" transform=\"translate(240.560938 568.658281)scale(0.11 -0.11)\">\n       <use xlink:href=\"#DejaVuSans-49\"/>\n       <use x=\"63.623047\" xlink:href=\"#DejaVuSans-49\"/>\n      </g>\n     </g>\n    </g>\n    <g id=\"xtick_7\">\n     <g id=\"text_7\">\n      <!-- 10 -->\n      <defs>\n       <path d=\"M 31.78125 66.40625 \nQ 24.171875 66.40625 20.328125 58.90625 \nQ 16.5 51.421875 16.5 36.375 \nQ 16.5 21.390625 20.328125 13.890625 \nQ 24.171875 6.390625 31.78125 6.390625 \nQ 39.453125 6.390625 43.28125 13.890625 \nQ 47.125 21.390625 47.125 36.375 \nQ 47.125 51.421875 43.28125 58.90625 \nQ 39.453125 66.40625 31.78125 66.40625 \nz\nM 31.78125 74.21875 \nQ 44.046875 74.21875 50.515625 64.515625 \nQ 56.984375 54.828125 56.984375 36.375 \nQ 56.984375 17.96875 50.515625 8.265625 \nQ 44.046875 -1.421875 31.78125 -1.421875 \nQ 19.53125 -1.421875 13.0625 8.265625 \nQ 6.59375 17.96875 6.59375 36.375 \nQ 6.59375 54.828125 13.0625 64.515625 \nQ 19.53125 74.21875 31.78125 74.21875 \nz\n\" id=\"DejaVuSans-48\"/>\n      </defs>\n      <g style=\"fill:#262626;\" transform=\"translate(277.760938 568.658281)scale(0.11 -0.11)\">\n       <use xlink:href=\"#DejaVuSans-49\"/>\n       <use x=\"63.623047\" xlink:href=\"#DejaVuSans-48\"/>\n      </g>\n     </g>\n    </g>\n    <g id=\"xtick_8\">\n     <g id=\"text_8\">\n      <!-- 9 -->\n      <defs>\n       <path d=\"M 10.984375 1.515625 \nL 10.984375 10.5 \nQ 14.703125 8.734375 18.5 7.8125 \nQ 22.3125 6.890625 25.984375 6.890625 \nQ 35.75 6.890625 40.890625 13.453125 \nQ 46.046875 20.015625 46.78125 33.40625 \nQ 43.953125 29.203125 39.59375 26.953125 \nQ 35.25 24.703125 29.984375 24.703125 \nQ 19.046875 24.703125 12.671875 31.3125 \nQ 6.296875 37.9375 6.296875 49.421875 \nQ 6.296875 60.640625 12.9375 67.421875 \nQ 19.578125 74.21875 30.609375 74.21875 \nQ 43.265625 74.21875 49.921875 64.515625 \nQ 56.59375 54.828125 56.59375 36.375 \nQ 56.59375 19.140625 48.40625 8.859375 \nQ 40.234375 -1.421875 26.421875 -1.421875 \nQ 22.703125 -1.421875 18.890625 -0.6875 \nQ 15.09375 0.046875 10.984375 1.515625 \nz\nM 30.609375 32.421875 \nQ 37.25 32.421875 41.125 36.953125 \nQ 45.015625 41.5 45.015625 49.421875 \nQ 45.015625 57.28125 41.125 61.84375 \nQ 37.25 66.40625 30.609375 66.40625 \nQ 23.96875 66.40625 20.09375 61.84375 \nQ 16.21875 57.28125 16.21875 49.421875 \nQ 16.21875 41.5 20.09375 36.953125 \nQ 23.96875 32.421875 30.609375 32.421875 \nz\n\" id=\"DejaVuSans-57\"/>\n      </defs>\n      <g style=\"fill:#262626;\" transform=\"translate(318.460312 568.658281)scale(0.11 -0.11)\">\n       <use xlink:href=\"#DejaVuSans-57\"/>\n      </g>\n     </g>\n    </g>\n    <g id=\"xtick_9\">\n     <g id=\"text_9\">\n      <!-- 6 -->\n      <defs>\n       <path d=\"M 33.015625 40.375 \nQ 26.375 40.375 22.484375 35.828125 \nQ 18.609375 31.296875 18.609375 23.390625 \nQ 18.609375 15.53125 22.484375 10.953125 \nQ 26.375 6.390625 33.015625 6.390625 \nQ 39.65625 6.390625 43.53125 10.953125 \nQ 47.40625 15.53125 47.40625 23.390625 \nQ 47.40625 31.296875 43.53125 35.828125 \nQ 39.65625 40.375 33.015625 40.375 \nz\nM 52.59375 71.296875 \nL 52.59375 62.3125 \nQ 48.875 64.0625 45.09375 64.984375 \nQ 41.3125 65.921875 37.59375 65.921875 \nQ 27.828125 65.921875 22.671875 59.328125 \nQ 17.53125 52.734375 16.796875 39.40625 \nQ 19.671875 43.65625 24.015625 45.921875 \nQ 28.375 48.1875 33.59375 48.1875 \nQ 44.578125 48.1875 50.953125 41.515625 \nQ 57.328125 34.859375 57.328125 23.390625 \nQ 57.328125 12.15625 50.6875 5.359375 \nQ 44.046875 -1.421875 33.015625 -1.421875 \nQ 20.359375 -1.421875 13.671875 8.265625 \nQ 6.984375 17.96875 6.984375 36.375 \nQ 6.984375 53.65625 15.1875 63.9375 \nQ 23.390625 74.21875 37.203125 74.21875 \nQ 40.921875 74.21875 44.703125 73.484375 \nQ 48.484375 72.75 52.59375 71.296875 \nz\n\" id=\"DejaVuSans-54\"/>\n      </defs>\n      <g style=\"fill:#262626;\" transform=\"translate(355.660313 568.658281)scale(0.11 -0.11)\">\n       <use xlink:href=\"#DejaVuSans-54\"/>\n      </g>\n     </g>\n    </g>\n    <g id=\"xtick_10\">\n     <g id=\"text_10\">\n      <!-- 2 -->\n      <defs>\n       <path d=\"M 19.1875 8.296875 \nL 53.609375 8.296875 \nL 53.609375 0 \nL 7.328125 0 \nL 7.328125 8.296875 \nQ 12.9375 14.109375 22.625 23.890625 \nQ 32.328125 33.6875 34.8125 36.53125 \nQ 39.546875 41.84375 41.421875 45.53125 \nQ 43.3125 49.21875 43.3125 52.78125 \nQ 43.3125 58.59375 39.234375 62.25 \nQ 35.15625 65.921875 28.609375 65.921875 \nQ 23.96875 65.921875 18.8125 64.3125 \nQ 13.671875 62.703125 7.8125 59.421875 \nL 7.8125 69.390625 \nQ 13.765625 71.78125 18.9375 73 \nQ 24.125 74.21875 28.421875 74.21875 \nQ 39.75 74.21875 46.484375 68.546875 \nQ 53.21875 62.890625 53.21875 53.421875 \nQ 53.21875 48.921875 51.53125 44.890625 \nQ 49.859375 40.875 45.40625 35.40625 \nQ 44.1875 33.984375 37.640625 27.21875 \nQ 31.109375 20.453125 19.1875 8.296875 \nz\n\" id=\"DejaVuSans-50\"/>\n      </defs>\n      <g style=\"fill:#262626;\" transform=\"translate(392.860313 568.658281)scale(0.11 -0.11)\">\n       <use xlink:href=\"#DejaVuSans-50\"/>\n      </g>\n     </g>\n    </g>\n    <g id=\"xtick_11\">\n     <g id=\"text_11\">\n      <!-- 5 -->\n      <defs>\n       <path d=\"M 10.796875 72.90625 \nL 49.515625 72.90625 \nL 49.515625 64.59375 \nL 19.828125 64.59375 \nL 19.828125 46.734375 \nQ 21.96875 47.46875 24.109375 47.828125 \nQ 26.265625 48.1875 28.421875 48.1875 \nQ 40.625 48.1875 47.75 41.5 \nQ 54.890625 34.8125 54.890625 23.390625 \nQ 54.890625 11.625 47.5625 5.09375 \nQ 40.234375 -1.421875 26.90625 -1.421875 \nQ 22.3125 -1.421875 17.546875 -0.640625 \nQ 12.796875 0.140625 7.71875 1.703125 \nL 7.71875 11.625 \nQ 12.109375 9.234375 16.796875 8.0625 \nQ 21.484375 6.890625 26.703125 6.890625 \nQ 35.15625 6.890625 40.078125 11.328125 \nQ 45.015625 15.765625 45.015625 23.390625 \nQ 45.015625 31 40.078125 35.4375 \nQ 35.15625 39.890625 26.703125 39.890625 \nQ 22.75 39.890625 18.8125 39.015625 \nQ 14.890625 38.140625 10.796875 36.28125 \nz\n\" id=\"DejaVuSans-53\"/>\n      </defs>\n      <g style=\"fill:#262626;\" transform=\"translate(430.060313 568.658281)scale(0.11 -0.11)\">\n       <use xlink:href=\"#DejaVuSans-53\"/>\n      </g>\n     </g>\n    </g>\n    <g id=\"xtick_12\">\n     <g id=\"text_12\">\n      <!-- 0 -->\n      <g style=\"fill:#262626;\" transform=\"translate(467.260313 568.658281)scale(0.11 -0.11)\">\n       <use xlink:href=\"#DejaVuSans-48\"/>\n      </g>\n     </g>\n    </g>\n    <g id=\"text_13\">\n     <!-- Predicted -->\n     <defs>\n      <path d=\"M 19.671875 64.796875 \nL 19.671875 37.40625 \nL 32.078125 37.40625 \nQ 38.96875 37.40625 42.71875 40.96875 \nQ 46.484375 44.53125 46.484375 51.125 \nQ 46.484375 57.671875 42.71875 61.234375 \nQ 38.96875 64.796875 32.078125 64.796875 \nz\nM 9.8125 72.90625 \nL 32.078125 72.90625 \nQ 44.34375 72.90625 50.609375 67.359375 \nQ 56.890625 61.8125 56.890625 51.125 \nQ 56.890625 40.328125 50.609375 34.8125 \nQ 44.34375 29.296875 32.078125 29.296875 \nL 19.671875 29.296875 \nL 19.671875 0 \nL 9.8125 0 \nz\n\" id=\"DejaVuSans-80\"/>\n      <path d=\"M 41.109375 46.296875 \nQ 39.59375 47.171875 37.8125 47.578125 \nQ 36.03125 48 33.890625 48 \nQ 26.265625 48 22.1875 43.046875 \nQ 18.109375 38.09375 18.109375 28.8125 \nL 18.109375 0 \nL 9.078125 0 \nL 9.078125 54.6875 \nL 18.109375 54.6875 \nL 18.109375 46.1875 \nQ 20.953125 51.171875 25.484375 53.578125 \nQ 30.03125 56 36.53125 56 \nQ 37.453125 56 38.578125 55.875 \nQ 39.703125 55.765625 41.0625 55.515625 \nz\n\" id=\"DejaVuSans-114\"/>\n      <path d=\"M 56.203125 29.59375 \nL 56.203125 25.203125 \nL 14.890625 25.203125 \nQ 15.484375 15.921875 20.484375 11.0625 \nQ 25.484375 6.203125 34.421875 6.203125 \nQ 39.59375 6.203125 44.453125 7.46875 \nQ 49.3125 8.734375 54.109375 11.28125 \nL 54.109375 2.78125 \nQ 49.265625 0.734375 44.1875 -0.34375 \nQ 39.109375 -1.421875 33.890625 -1.421875 \nQ 20.796875 -1.421875 13.15625 6.1875 \nQ 5.515625 13.8125 5.515625 26.8125 \nQ 5.515625 40.234375 12.765625 48.109375 \nQ 20.015625 56 32.328125 56 \nQ 43.359375 56 49.78125 48.890625 \nQ 56.203125 41.796875 56.203125 29.59375 \nz\nM 47.21875 32.234375 \nQ 47.125 39.59375 43.09375 43.984375 \nQ 39.0625 48.390625 32.421875 48.390625 \nQ 24.90625 48.390625 20.390625 44.140625 \nQ 15.875 39.890625 15.1875 32.171875 \nz\n\" id=\"DejaVuSans-101\"/>\n      <path d=\"M 45.40625 46.390625 \nL 45.40625 75.984375 \nL 54.390625 75.984375 \nL 54.390625 0 \nL 45.40625 0 \nL 45.40625 8.203125 \nQ 42.578125 3.328125 38.25 0.953125 \nQ 33.9375 -1.421875 27.875 -1.421875 \nQ 17.96875 -1.421875 11.734375 6.484375 \nQ 5.515625 14.40625 5.515625 27.296875 \nQ 5.515625 40.1875 11.734375 48.09375 \nQ 17.96875 56 27.875 56 \nQ 33.9375 56 38.25 53.625 \nQ 42.578125 51.265625 45.40625 46.390625 \nz\nM 14.796875 27.296875 \nQ 14.796875 17.390625 18.875 11.75 \nQ 22.953125 6.109375 30.078125 6.109375 \nQ 37.203125 6.109375 41.296875 11.75 \nQ 45.40625 17.390625 45.40625 27.296875 \nQ 45.40625 37.203125 41.296875 42.84375 \nQ 37.203125 48.484375 30.078125 48.484375 \nQ 22.953125 48.484375 18.875 42.84375 \nQ 14.796875 37.203125 14.796875 27.296875 \nz\n\" id=\"DejaVuSans-100\"/>\n      <path d=\"M 9.421875 54.6875 \nL 18.40625 54.6875 \nL 18.40625 0 \nL 9.421875 0 \nz\nM 9.421875 75.984375 \nL 18.40625 75.984375 \nL 18.40625 64.59375 \nL 9.421875 64.59375 \nz\n\" id=\"DejaVuSans-105\"/>\n      <path d=\"M 48.78125 52.59375 \nL 48.78125 44.1875 \nQ 44.96875 46.296875 41.140625 47.34375 \nQ 37.3125 48.390625 33.40625 48.390625 \nQ 24.65625 48.390625 19.8125 42.84375 \nQ 14.984375 37.3125 14.984375 27.296875 \nQ 14.984375 17.28125 19.8125 11.734375 \nQ 24.65625 6.203125 33.40625 6.203125 \nQ 37.3125 6.203125 41.140625 7.25 \nQ 44.96875 8.296875 48.78125 10.40625 \nL 48.78125 2.09375 \nQ 45.015625 0.34375 40.984375 -0.53125 \nQ 36.96875 -1.421875 32.421875 -1.421875 \nQ 20.0625 -1.421875 12.78125 6.34375 \nQ 5.515625 14.109375 5.515625 27.296875 \nQ 5.515625 40.671875 12.859375 48.328125 \nQ 20.21875 56 33.015625 56 \nQ 37.15625 56 41.109375 55.140625 \nQ 45.0625 54.296875 48.78125 52.59375 \nz\n\" id=\"DejaVuSans-99\"/>\n      <path d=\"M 18.3125 70.21875 \nL 18.3125 54.6875 \nL 36.8125 54.6875 \nL 36.8125 47.703125 \nL 18.3125 47.703125 \nL 18.3125 18.015625 \nQ 18.3125 11.328125 20.140625 9.421875 \nQ 21.96875 7.515625 27.59375 7.515625 \nL 36.8125 7.515625 \nL 36.8125 0 \nL 27.59375 0 \nQ 17.1875 0 13.234375 3.875 \nQ 9.28125 7.765625 9.28125 18.015625 \nL 9.28125 47.703125 \nL 2.6875 47.703125 \nL 2.6875 54.6875 \nL 9.28125 54.6875 \nL 9.28125 70.21875 \nz\n\" id=\"DejaVuSans-116\"/>\n     </defs>\n     <g style=\"fill:#262626;\" transform=\"translate(237.995313 584.064063)scale(0.12 -0.12)\">\n      <use xlink:href=\"#DejaVuSans-80\"/>\n      <use x=\"58.552734\" xlink:href=\"#DejaVuSans-114\"/>\n      <use x=\"97.416016\" xlink:href=\"#DejaVuSans-101\"/>\n      <use x=\"158.939453\" xlink:href=\"#DejaVuSans-100\"/>\n      <use x=\"222.416016\" xlink:href=\"#DejaVuSans-105\"/>\n      <use x=\"250.199219\" xlink:href=\"#DejaVuSans-99\"/>\n      <use x=\"305.179688\" xlink:href=\"#DejaVuSans-116\"/>\n      <use x=\"344.388672\" xlink:href=\"#DejaVuSans-101\"/>\n      <use x=\"405.912109\" xlink:href=\"#DejaVuSans-100\"/>\n     </g>\n    </g>\n   </g>\n   <g id=\"matplotlib.axis_2\">\n    <g id=\"ytick_1\">\n     <g id=\"text_14\">\n      <!-- 7 -->\n      <g style=\"fill:#262626;\" transform=\"translate(31.172031 32.669609)rotate(-90)scale(0.11 -0.11)\">\n       <use xlink:href=\"#DejaVuSans-55\"/>\n      </g>\n     </g>\n    </g>\n    <g id=\"ytick_2\">\n     <g id=\"text_15\">\n      <!-- 3 -->\n      <g style=\"fill:#262626;\" transform=\"translate(31.172031 77.969609)rotate(-90)scale(0.11 -0.11)\">\n       <use xlink:href=\"#DejaVuSans-51\"/>\n      </g>\n     </g>\n    </g>\n    <g id=\"ytick_3\">\n     <g id=\"text_16\">\n      <!-- 8 -->\n      <g style=\"fill:#262626;\" transform=\"translate(31.172031 123.269609)rotate(-90)scale(0.11 -0.11)\">\n       <use xlink:href=\"#DejaVuSans-56\"/>\n      </g>\n     </g>\n    </g>\n    <g id=\"ytick_4\">\n     <g id=\"text_17\">\n      <!-- 4 -->\n      <g style=\"fill:#262626;\" transform=\"translate(31.172031 168.569609)rotate(-90)scale(0.11 -0.11)\">\n       <use xlink:href=\"#DejaVuSans-52\"/>\n      </g>\n     </g>\n    </g>\n    <g id=\"ytick_5\">\n     <g id=\"text_18\">\n      <!-- 1 -->\n      <g style=\"fill:#262626;\" transform=\"translate(31.172031 213.869609)rotate(-90)scale(0.11 -0.11)\">\n       <use xlink:href=\"#DejaVuSans-49\"/>\n      </g>\n     </g>\n    </g>\n    <g id=\"ytick_6\">\n     <g id=\"text_19\">\n      <!-- 11 -->\n      <g style=\"fill:#262626;\" transform=\"translate(31.172031 266.168359)rotate(-90)scale(0.11 -0.11)\">\n       <use xlink:href=\"#DejaVuSans-49\"/>\n       <use x=\"63.623047\" xlink:href=\"#DejaVuSans-49\"/>\n      </g>\n     </g>\n    </g>\n    <g id=\"ytick_7\">\n     <g id=\"text_20\">\n      <!-- 10 -->\n      <g style=\"fill:#262626;\" transform=\"translate(31.172031 311.468359)rotate(-90)scale(0.11 -0.11)\">\n       <use xlink:href=\"#DejaVuSans-49\"/>\n       <use x=\"63.623047\" xlink:href=\"#DejaVuSans-48\"/>\n      </g>\n     </g>\n    </g>\n    <g id=\"ytick_8\">\n     <g id=\"text_21\">\n      <!-- 9 -->\n      <g style=\"fill:#262626;\" transform=\"translate(31.172031 349.769609)rotate(-90)scale(0.11 -0.11)\">\n       <use xlink:href=\"#DejaVuSans-57\"/>\n      </g>\n     </g>\n    </g>\n    <g id=\"ytick_9\">\n     <g id=\"text_22\">\n      <!-- 6 -->\n      <g style=\"fill:#262626;\" transform=\"translate(31.172031 395.069609)rotate(-90)scale(0.11 -0.11)\">\n       <use xlink:href=\"#DejaVuSans-54\"/>\n      </g>\n     </g>\n    </g>\n    <g id=\"ytick_10\">\n     <g id=\"text_23\">\n      <!-- 2 -->\n      <g style=\"fill:#262626;\" transform=\"translate(31.172031 440.369609)rotate(-90)scale(0.11 -0.11)\">\n       <use xlink:href=\"#DejaVuSans-50\"/>\n      </g>\n     </g>\n    </g>\n    <g id=\"ytick_11\">\n     <g id=\"text_24\">\n      <!-- 5 -->\n      <g style=\"fill:#262626;\" transform=\"translate(31.172031 485.669609)rotate(-90)scale(0.11 -0.11)\">\n       <use xlink:href=\"#DejaVuSans-53\"/>\n      </g>\n     </g>\n    </g>\n    <g id=\"ytick_12\">\n     <g id=\"text_25\">\n      <!-- 0 -->\n      <g style=\"fill:#262626;\" transform=\"translate(31.172031 530.969609)rotate(-90)scale(0.11 -0.11)\">\n       <use xlink:href=\"#DejaVuSans-48\"/>\n      </g>\n     </g>\n    </g>\n    <g id=\"text_26\">\n     <!-- Actual -->\n     <defs>\n      <path d=\"M 34.1875 63.1875 \nL 20.796875 26.90625 \nL 47.609375 26.90625 \nz\nM 28.609375 72.90625 \nL 39.796875 72.90625 \nL 67.578125 0 \nL 57.328125 0 \nL 50.6875 18.703125 \nL 17.828125 18.703125 \nL 11.1875 0 \nL 0.78125 0 \nz\n\" id=\"DejaVuSans-65\"/>\n      <path d=\"M 8.5 21.578125 \nL 8.5 54.6875 \nL 17.484375 54.6875 \nL 17.484375 21.921875 \nQ 17.484375 14.15625 20.5 10.265625 \nQ 23.53125 6.390625 29.59375 6.390625 \nQ 36.859375 6.390625 41.078125 11.03125 \nQ 45.3125 15.671875 45.3125 23.6875 \nL 45.3125 54.6875 \nL 54.296875 54.6875 \nL 54.296875 0 \nL 45.3125 0 \nL 45.3125 8.40625 \nQ 42.046875 3.421875 37.71875 1 \nQ 33.40625 -1.421875 27.6875 -1.421875 \nQ 18.265625 -1.421875 13.375 4.4375 \nQ 8.5 10.296875 8.5 21.578125 \nz\nM 31.109375 56 \nz\n\" id=\"DejaVuSans-117\"/>\n      <path d=\"M 34.28125 27.484375 \nQ 23.390625 27.484375 19.1875 25 \nQ 14.984375 22.515625 14.984375 16.5 \nQ 14.984375 11.71875 18.140625 8.90625 \nQ 21.296875 6.109375 26.703125 6.109375 \nQ 34.1875 6.109375 38.703125 11.40625 \nQ 43.21875 16.703125 43.21875 25.484375 \nL 43.21875 27.484375 \nz\nM 52.203125 31.203125 \nL 52.203125 0 \nL 43.21875 0 \nL 43.21875 8.296875 \nQ 40.140625 3.328125 35.546875 0.953125 \nQ 30.953125 -1.421875 24.3125 -1.421875 \nQ 15.921875 -1.421875 10.953125 3.296875 \nQ 6 8.015625 6 15.921875 \nQ 6 25.140625 12.171875 29.828125 \nQ 18.359375 34.515625 30.609375 34.515625 \nL 43.21875 34.515625 \nL 43.21875 35.40625 \nQ 43.21875 41.609375 39.140625 45 \nQ 35.0625 48.390625 27.6875 48.390625 \nQ 23 48.390625 18.546875 47.265625 \nQ 14.109375 46.140625 10.015625 43.890625 \nL 10.015625 52.203125 \nQ 14.9375 54.109375 19.578125 55.046875 \nQ 24.21875 56 28.609375 56 \nQ 40.484375 56 46.34375 49.84375 \nQ 52.203125 43.703125 52.203125 31.203125 \nz\n\" id=\"DejaVuSans-97\"/>\n      <path d=\"M 9.421875 75.984375 \nL 18.40625 75.984375 \nL 18.40625 0 \nL 9.421875 0 \nz\n\" id=\"DejaVuSans-108\"/>\n     </defs>\n     <g style=\"fill:#262626;\" transform=\"translate(16.318125 297.796875)rotate(-90)scale(0.12 -0.12)\">\n      <use xlink:href=\"#DejaVuSans-65\"/>\n      <use x=\"66.658203\" xlink:href=\"#DejaVuSans-99\"/>\n      <use x=\"121.638672\" xlink:href=\"#DejaVuSans-116\"/>\n      <use x=\"160.847656\" xlink:href=\"#DejaVuSans-117\"/>\n      <use x=\"224.226562\" xlink:href=\"#DejaVuSans-97\"/>\n      <use x=\"285.505859\" xlink:href=\"#DejaVuSans-108\"/>\n     </g>\n    </g>\n   </g>\n   <g id=\"QuadMesh_1\">\n    <path clip-path=\"url(#p620eeb89fb)\" d=\"M 42.959688 7.2 \nL 80.159688 7.2 \nL 80.159688 52.5 \nL 42.959688 52.5 \nL 42.959688 7.2 \n\" style=\"fill:#251433;\"/>\n    <path clip-path=\"url(#p620eeb89fb)\" d=\"M 80.159688 7.2 \nL 117.359688 7.2 \nL 117.359688 52.5 \nL 80.159688 52.5 \nL 80.159688 7.2 \n\" style=\"fill:#03051a;\"/>\n    <path clip-path=\"url(#p620eeb89fb)\" d=\"M 117.359688 7.2 \nL 154.559687 7.2 \nL 154.559687 52.5 \nL 117.359688 52.5 \nL 117.359688 7.2 \n\" style=\"fill:#03051a;\"/>\n    <path clip-path=\"url(#p620eeb89fb)\" d=\"M 154.559687 7.2 \nL 191.759688 7.2 \nL 191.759688 52.5 \nL 154.559687 52.5 \nL 154.559687 7.2 \n\" style=\"fill:#03051a;\"/>\n    <path clip-path=\"url(#p620eeb89fb)\" d=\"M 191.759688 7.2 \nL 228.959688 7.2 \nL 228.959688 52.5 \nL 191.759688 52.5 \nL 191.759688 7.2 \n\" style=\"fill:#03051a;\"/>\n    <path clip-path=\"url(#p620eeb89fb)\" d=\"M 228.959688 7.2 \nL 266.159688 7.2 \nL 266.159688 52.5 \nL 228.959688 52.5 \nL 228.959688 7.2 \n\" style=\"fill:#03051a;\"/>\n    <path clip-path=\"url(#p620eeb89fb)\" d=\"M 266.159688 7.2 \nL 303.359688 7.2 \nL 303.359688 52.5 \nL 266.159688 52.5 \nL 266.159688 7.2 \n\" style=\"fill:#04051a;\"/>\n    <path clip-path=\"url(#p620eeb89fb)\" d=\"M 303.359688 7.2 \nL 340.559687 7.2 \nL 340.559687 52.5 \nL 303.359688 52.5 \nL 303.359688 7.2 \n\" style=\"fill:#03051a;\"/>\n    <path clip-path=\"url(#p620eeb89fb)\" d=\"M 340.559687 7.2 \nL 377.759688 7.2 \nL 377.759688 52.5 \nL 340.559687 52.5 \nL 340.559687 7.2 \n\" style=\"fill:#04051a;\"/>\n    <path clip-path=\"url(#p620eeb89fb)\" d=\"M 377.759688 7.2 \nL 414.959687 7.2 \nL 414.959687 52.5 \nL 377.759688 52.5 \nL 377.759688 7.2 \n\" style=\"fill:#04051a;\"/>\n    <path clip-path=\"url(#p620eeb89fb)\" d=\"M 414.959687 7.2 \nL 452.159688 7.2 \nL 452.159688 52.5 \nL 414.959687 52.5 \nL 414.959687 7.2 \n\" style=\"fill:#03051a;\"/>\n    <path clip-path=\"url(#p620eeb89fb)\" d=\"M 452.159688 7.2 \nL 489.359688 7.2 \nL 489.359688 52.5 \nL 452.159688 52.5 \nL 452.159688 7.2 \n\" style=\"fill:#03051a;\"/>\n    <path clip-path=\"url(#p620eeb89fb)\" d=\"M 42.959688 52.5 \nL 80.159688 52.5 \nL 80.159688 97.8 \nL 42.959688 97.8 \nL 42.959688 52.5 \n\" style=\"fill:#03051a;\"/>\n    <path clip-path=\"url(#p620eeb89fb)\" d=\"M 80.159688 52.5 \nL 117.359688 52.5 \nL 117.359688 97.8 \nL 80.159688 97.8 \nL 80.159688 52.5 \n\" style=\"fill:#e23442;\"/>\n    <path clip-path=\"url(#p620eeb89fb)\" d=\"M 117.359688 52.5 \nL 154.559687 52.5 \nL 154.559687 97.8 \nL 117.359688 97.8 \nL 117.359688 52.5 \n\" style=\"fill:#05061b;\"/>\n    <path clip-path=\"url(#p620eeb89fb)\" d=\"M 154.559687 52.5 \nL 191.759688 52.5 \nL 191.759688 97.8 \nL 154.559687 97.8 \nL 154.559687 52.5 \n\" style=\"fill:#04051a;\"/>\n    <path clip-path=\"url(#p620eeb89fb)\" d=\"M 191.759688 52.5 \nL 228.959688 52.5 \nL 228.959688 97.8 \nL 191.759688 97.8 \nL 191.759688 52.5 \n\" style=\"fill:#03051a;\"/>\n    <path clip-path=\"url(#p620eeb89fb)\" d=\"M 228.959688 52.5 \nL 266.159688 52.5 \nL 266.159688 97.8 \nL 228.959688 97.8 \nL 228.959688 52.5 \n\" style=\"fill:#0d0a21;\"/>\n    <path clip-path=\"url(#p620eeb89fb)\" d=\"M 266.159688 52.5 \nL 303.359688 52.5 \nL 303.359688 97.8 \nL 266.159688 97.8 \nL 266.159688 52.5 \n\" style=\"fill:#03051a;\"/>\n    <path clip-path=\"url(#p620eeb89fb)\" d=\"M 303.359688 52.5 \nL 340.559687 52.5 \nL 340.559687 97.8 \nL 303.359688 97.8 \nL 303.359688 52.5 \n\" style=\"fill:#04051a;\"/>\n    <path clip-path=\"url(#p620eeb89fb)\" d=\"M 340.559687 52.5 \nL 377.759688 52.5 \nL 377.759688 97.8 \nL 340.559687 97.8 \nL 340.559687 52.5 \n\" style=\"fill:#100b23;\"/>\n    <path clip-path=\"url(#p620eeb89fb)\" d=\"M 377.759688 52.5 \nL 414.959687 52.5 \nL 414.959687 97.8 \nL 377.759688 97.8 \nL 377.759688 52.5 \n\" style=\"fill:#0e0b22;\"/>\n    <path clip-path=\"url(#p620eeb89fb)\" d=\"M 414.959687 52.5 \nL 452.159688 52.5 \nL 452.159688 97.8 \nL 414.959687 97.8 \nL 414.959687 52.5 \n\" style=\"fill:#06071c;\"/>\n    <path clip-path=\"url(#p620eeb89fb)\" d=\"M 452.159688 52.5 \nL 489.359688 52.5 \nL 489.359688 97.8 \nL 452.159688 97.8 \nL 452.159688 52.5 \n\" style=\"fill:#03051a;\"/>\n    <path clip-path=\"url(#p620eeb89fb)\" d=\"M 42.959688 97.8 \nL 80.159688 97.8 \nL 80.159688 143.1 \nL 42.959688 143.1 \nL 42.959688 97.8 \n\" style=\"fill:#03051a;\"/>\n    <path clip-path=\"url(#p620eeb89fb)\" d=\"M 80.159688 97.8 \nL 117.359688 97.8 \nL 117.359688 143.1 \nL 80.159688 143.1 \nL 80.159688 97.8 \n\" style=\"fill:#0b0920;\"/>\n    <path clip-path=\"url(#p620eeb89fb)\" d=\"M 117.359688 97.8 \nL 154.559687 97.8 \nL 154.559687 143.1 \nL 117.359688 143.1 \nL 117.359688 97.8 \n\" style=\"fill:#a11a5b;\"/>\n    <path clip-path=\"url(#p620eeb89fb)\" d=\"M 154.559687 97.8 \nL 191.759688 97.8 \nL 191.759688 143.1 \nL 154.559687 143.1 \nL 154.559687 97.8 \n\" style=\"fill:#03051a;\"/>\n    <path clip-path=\"url(#p620eeb89fb)\" d=\"M 191.759688 97.8 \nL 228.959688 97.8 \nL 228.959688 143.1 \nL 191.759688 143.1 \nL 191.759688 97.8 \n\" style=\"fill:#04051a;\"/>\n    <path clip-path=\"url(#p620eeb89fb)\" d=\"M 228.959688 97.8 \nL 266.159688 97.8 \nL 266.159688 143.1 \nL 228.959688 143.1 \nL 228.959688 97.8 \n\" style=\"fill:#1a102a;\"/>\n    <path clip-path=\"url(#p620eeb89fb)\" d=\"M 266.159688 97.8 \nL 303.359688 97.8 \nL 303.359688 143.1 \nL 266.159688 143.1 \nL 266.159688 97.8 \n\" style=\"fill:#03051a;\"/>\n    <path clip-path=\"url(#p620eeb89fb)\" d=\"M 303.359688 97.8 \nL 340.559687 97.8 \nL 340.559687 143.1 \nL 303.359688 143.1 \nL 303.359688 97.8 \n\" style=\"fill:#03051a;\"/>\n    <path clip-path=\"url(#p620eeb89fb)\" d=\"M 340.559687 97.8 \nL 377.759688 97.8 \nL 377.759688 143.1 \nL 340.559687 143.1 \nL 340.559687 97.8 \n\" style=\"fill:#180f29;\"/>\n    <path clip-path=\"url(#p620eeb89fb)\" d=\"M 377.759688 97.8 \nL 414.959687 97.8 \nL 414.959687 143.1 \nL 377.759688 143.1 \nL 377.759688 97.8 \n\" style=\"fill:#1e122d;\"/>\n    <path clip-path=\"url(#p620eeb89fb)\" d=\"M 414.959687 97.8 \nL 452.159688 97.8 \nL 452.159688 143.1 \nL 414.959687 143.1 \nL 414.959687 97.8 \n\" style=\"fill:#05061b;\"/>\n    <path clip-path=\"url(#p620eeb89fb)\" d=\"M 452.159688 97.8 \nL 489.359688 97.8 \nL 489.359688 143.1 \nL 452.159688 143.1 \nL 452.159688 97.8 \n\" style=\"fill:#03051a;\"/>\n    <path clip-path=\"url(#p620eeb89fb)\" d=\"M 42.959688 143.1 \nL 80.159688 143.1 \nL 80.159688 188.4 \nL 42.959688 188.4 \nL 42.959688 143.1 \n\" style=\"fill:#03051a;\"/>\n    <path clip-path=\"url(#p620eeb89fb)\" d=\"M 80.159688 143.1 \nL 117.359688 143.1 \nL 117.359688 188.4 \nL 80.159688 188.4 \nL 80.159688 143.1 \n\" style=\"fill:#08081e;\"/>\n    <path clip-path=\"url(#p620eeb89fb)\" d=\"M 117.359688 143.1 \nL 154.559687 143.1 \nL 154.559687 188.4 \nL 117.359688 188.4 \nL 117.359688 143.1 \n\" style=\"fill:#04051a;\"/>\n    <path clip-path=\"url(#p620eeb89fb)\" d=\"M 154.559687 143.1 \nL 191.759688 143.1 \nL 191.759688 188.4 \nL 154.559687 188.4 \nL 154.559687 143.1 \n\" style=\"fill:#431c46;\"/>\n    <path clip-path=\"url(#p620eeb89fb)\" d=\"M 191.759688 143.1 \nL 228.959688 143.1 \nL 228.959688 188.4 \nL 191.759688 188.4 \nL 191.759688 143.1 \n\" style=\"fill:#04051a;\"/>\n    <path clip-path=\"url(#p620eeb89fb)\" d=\"M 228.959688 143.1 \nL 266.159688 143.1 \nL 266.159688 188.4 \nL 228.959688 188.4 \nL 228.959688 143.1 \n\" style=\"fill:#07071d;\"/>\n    <path clip-path=\"url(#p620eeb89fb)\" d=\"M 266.159688 143.1 \nL 303.359688 143.1 \nL 303.359688 188.4 \nL 266.159688 188.4 \nL 266.159688 143.1 \n\" style=\"fill:#03051a;\"/>\n    <path clip-path=\"url(#p620eeb89fb)\" d=\"M 303.359688 143.1 \nL 340.559687 143.1 \nL 340.559687 188.4 \nL 303.359688 188.4 \nL 303.359688 143.1 \n\" style=\"fill:#07071d;\"/>\n    <path clip-path=\"url(#p620eeb89fb)\" d=\"M 340.559687 143.1 \nL 377.759688 143.1 \nL 377.759688 188.4 \nL 340.559687 188.4 \nL 340.559687 143.1 \n\" style=\"fill:#0a091f;\"/>\n    <path clip-path=\"url(#p620eeb89fb)\" d=\"M 377.759688 143.1 \nL 414.959687 143.1 \nL 414.959687 188.4 \nL 377.759688 188.4 \nL 377.759688 143.1 \n\" style=\"fill:#0e0b22;\"/>\n    <path clip-path=\"url(#p620eeb89fb)\" d=\"M 414.959687 143.1 \nL 452.159688 143.1 \nL 452.159688 188.4 \nL 414.959687 188.4 \nL 414.959687 143.1 \n\" style=\"fill:#04051a;\"/>\n    <path clip-path=\"url(#p620eeb89fb)\" d=\"M 452.159688 143.1 \nL 489.359688 143.1 \nL 489.359688 188.4 \nL 452.159688 188.4 \nL 452.159688 143.1 \n\" style=\"fill:#04051a;\"/>\n    <path clip-path=\"url(#p620eeb89fb)\" d=\"M 42.959688 188.4 \nL 80.159688 188.4 \nL 80.159688 233.7 \nL 42.959688 233.7 \nL 42.959688 188.4 \n\" style=\"fill:#03051a;\"/>\n    <path clip-path=\"url(#p620eeb89fb)\" d=\"M 80.159688 188.4 \nL 117.359688 188.4 \nL 117.359688 233.7 \nL 80.159688 233.7 \nL 80.159688 188.4 \n\" style=\"fill:#06071c;\"/>\n    <path clip-path=\"url(#p620eeb89fb)\" d=\"M 117.359688 188.4 \nL 154.559687 188.4 \nL 154.559687 233.7 \nL 117.359688 233.7 \nL 117.359688 188.4 \n\" style=\"fill:#06071c;\"/>\n    <path clip-path=\"url(#p620eeb89fb)\" d=\"M 154.559687 188.4 \nL 191.759688 188.4 \nL 191.759688 233.7 \nL 154.559687 233.7 \nL 154.559687 188.4 \n\" style=\"fill:#05061b;\"/>\n    <path clip-path=\"url(#p620eeb89fb)\" d=\"M 191.759688 188.4 \nL 228.959688 188.4 \nL 228.959688 233.7 \nL 191.759688 233.7 \nL 191.759688 188.4 \n\" style=\"fill:#541e4e;\"/>\n    <path clip-path=\"url(#p620eeb89fb)\" d=\"M 228.959688 188.4 \nL 266.159688 188.4 \nL 266.159688 233.7 \nL 228.959688 233.7 \nL 228.959688 188.4 \n\" style=\"fill:#07071d;\"/>\n    <path clip-path=\"url(#p620eeb89fb)\" d=\"M 266.159688 188.4 \nL 303.359688 188.4 \nL 303.359688 233.7 \nL 266.159688 233.7 \nL 266.159688 188.4 \n\" style=\"fill:#03051a;\"/>\n    <path clip-path=\"url(#p620eeb89fb)\" d=\"M 303.359688 188.4 \nL 340.559687 188.4 \nL 340.559687 233.7 \nL 303.359688 233.7 \nL 303.359688 188.4 \n\" style=\"fill:#05061b;\"/>\n    <path clip-path=\"url(#p620eeb89fb)\" d=\"M 340.559687 188.4 \nL 377.759688 188.4 \nL 377.759688 233.7 \nL 340.559687 233.7 \nL 340.559687 188.4 \n\" style=\"fill:#0a091f;\"/>\n    <path clip-path=\"url(#p620eeb89fb)\" d=\"M 377.759688 188.4 \nL 414.959687 188.4 \nL 414.959687 233.7 \nL 377.759688 233.7 \nL 377.759688 188.4 \n\" style=\"fill:#0e0b22;\"/>\n    <path clip-path=\"url(#p620eeb89fb)\" d=\"M 414.959687 188.4 \nL 452.159688 188.4 \nL 452.159688 233.7 \nL 414.959687 233.7 \nL 414.959687 188.4 \n\" style=\"fill:#03051a;\"/>\n    <path clip-path=\"url(#p620eeb89fb)\" d=\"M 452.159688 188.4 \nL 489.359688 188.4 \nL 489.359688 233.7 \nL 452.159688 233.7 \nL 452.159688 188.4 \n\" style=\"fill:#03051a;\"/>\n    <path clip-path=\"url(#p620eeb89fb)\" d=\"M 42.959688 233.7 \nL 80.159688 233.7 \nL 80.159688 279 \nL 42.959688 279 \nL 42.959688 233.7 \n\" style=\"fill:#03051a;\"/>\n    <path clip-path=\"url(#p620eeb89fb)\" d=\"M 80.159688 233.7 \nL 117.359688 233.7 \nL 117.359688 279 \nL 80.159688 279 \nL 80.159688 233.7 \n\" style=\"fill:#160e27;\"/>\n    <path clip-path=\"url(#p620eeb89fb)\" d=\"M 117.359688 233.7 \nL 154.559687 233.7 \nL 154.559687 279 \nL 117.359688 279 \nL 117.359688 233.7 \n\" style=\"fill:#160e27;\"/>\n    <path clip-path=\"url(#p620eeb89fb)\" d=\"M 154.559687 233.7 \nL 191.759688 233.7 \nL 191.759688 279 \nL 154.559687 279 \nL 154.559687 233.7 \n\" style=\"fill:#04051a;\"/>\n    <path clip-path=\"url(#p620eeb89fb)\" d=\"M 191.759688 233.7 \nL 228.959688 233.7 \nL 228.959688 279 \nL 191.759688 279 \nL 191.759688 233.7 \n\" style=\"fill:#04051a;\"/>\n    <path clip-path=\"url(#p620eeb89fb)\" d=\"M 228.959688 233.7 \nL 266.159688 233.7 \nL 266.159688 279 \nL 228.959688 279 \nL 228.959688 233.7 \n\" style=\"fill:#f05e42;\"/>\n    <path clip-path=\"url(#p620eeb89fb)\" d=\"M 266.159688 233.7 \nL 303.359688 233.7 \nL 303.359688 279 \nL 266.159688 279 \nL 266.159688 233.7 \n\" style=\"fill:#04051a;\"/>\n    <path clip-path=\"url(#p620eeb89fb)\" d=\"M 303.359688 233.7 \nL 340.559687 233.7 \nL 340.559687 279 \nL 303.359688 279 \nL 303.359688 233.7 \n\" style=\"fill:#0a091f;\"/>\n    <path clip-path=\"url(#p620eeb89fb)\" d=\"M 340.559687 233.7 \nL 377.759688 233.7 \nL 377.759688 279 \nL 340.559687 279 \nL 340.559687 233.7 \n\" style=\"fill:#0a091f;\"/>\n    <path clip-path=\"url(#p620eeb89fb)\" d=\"M 377.759688 233.7 \nL 414.959687 233.7 \nL 414.959687 279 \nL 377.759688 279 \nL 377.759688 233.7 \n\" style=\"fill:#1a102a;\"/>\n    <path clip-path=\"url(#p620eeb89fb)\" d=\"M 414.959687 233.7 \nL 452.159688 233.7 \nL 452.159688 279 \nL 414.959687 279 \nL 414.959687 233.7 \n\" style=\"fill:#05061b;\"/>\n    <path clip-path=\"url(#p620eeb89fb)\" d=\"M 452.159688 233.7 \nL 489.359688 233.7 \nL 489.359688 279 \nL 452.159688 279 \nL 452.159688 233.7 \n\" style=\"fill:#03051a;\"/>\n    <path clip-path=\"url(#p620eeb89fb)\" d=\"M 42.959688 279 \nL 80.159688 279 \nL 80.159688 324.3 \nL 42.959688 324.3 \nL 42.959688 279 \n\" style=\"fill:#03051a;\"/>\n    <path clip-path=\"url(#p620eeb89fb)\" d=\"M 80.159688 279 \nL 117.359688 279 \nL 117.359688 324.3 \nL 80.159688 324.3 \nL 80.159688 279 \n\" style=\"fill:#04051a;\"/>\n    <path clip-path=\"url(#p620eeb89fb)\" d=\"M 117.359688 279 \nL 154.559687 279 \nL 154.559687 324.3 \nL 117.359688 324.3 \nL 117.359688 279 \n\" style=\"fill:#05061b;\"/>\n    <path clip-path=\"url(#p620eeb89fb)\" d=\"M 154.559687 279 \nL 191.759688 279 \nL 191.759688 324.3 \nL 154.559687 324.3 \nL 154.559687 279 \n\" style=\"fill:#03051a;\"/>\n    <path clip-path=\"url(#p620eeb89fb)\" d=\"M 191.759688 279 \nL 228.959688 279 \nL 228.959688 324.3 \nL 191.759688 324.3 \nL 191.759688 279 \n\" style=\"fill:#03051a;\"/>\n    <path clip-path=\"url(#p620eeb89fb)\" d=\"M 228.959688 279 \nL 266.159688 279 \nL 266.159688 324.3 \nL 228.959688 324.3 \nL 228.959688 279 \n\" style=\"fill:#06071c;\"/>\n    <path clip-path=\"url(#p620eeb89fb)\" d=\"M 266.159688 279 \nL 303.359688 279 \nL 303.359688 324.3 \nL 266.159688 324.3 \nL 266.159688 279 \n\" style=\"fill:#971c5b;\"/>\n    <path clip-path=\"url(#p620eeb89fb)\" d=\"M 303.359688 279 \nL 340.559687 279 \nL 340.559687 324.3 \nL 303.359688 324.3 \nL 303.359688 279 \n\" style=\"fill:#0a091f;\"/>\n    <path clip-path=\"url(#p620eeb89fb)\" d=\"M 340.559687 279 \nL 377.759688 279 \nL 377.759688 324.3 \nL 340.559687 324.3 \nL 340.559687 279 \n\" style=\"fill:#07071d;\"/>\n    <path clip-path=\"url(#p620eeb89fb)\" d=\"M 377.759688 279 \nL 414.959687 279 \nL 414.959687 324.3 \nL 377.759688 324.3 \nL 377.759688 279 \n\" style=\"fill:#0e0b22;\"/>\n    <path clip-path=\"url(#p620eeb89fb)\" d=\"M 414.959687 279 \nL 452.159688 279 \nL 452.159688 324.3 \nL 414.959687 324.3 \nL 414.959687 279 \n\" style=\"fill:#100b23;\"/>\n    <path clip-path=\"url(#p620eeb89fb)\" d=\"M 452.159688 279 \nL 489.359688 279 \nL 489.359688 324.3 \nL 452.159688 324.3 \nL 452.159688 279 \n\" style=\"fill:#03051a;\"/>\n    <path clip-path=\"url(#p620eeb89fb)\" d=\"M 42.959688 324.3 \nL 80.159688 324.3 \nL 80.159688 369.6 \nL 42.959688 369.6 \nL 42.959688 324.3 \n\" style=\"fill:#03051a;\"/>\n    <path clip-path=\"url(#p620eeb89fb)\" d=\"M 80.159688 324.3 \nL 117.359688 324.3 \nL 117.359688 369.6 \nL 80.159688 369.6 \nL 80.159688 324.3 \n\" style=\"fill:#03051a;\"/>\n    <path clip-path=\"url(#p620eeb89fb)\" d=\"M 117.359688 324.3 \nL 154.559687 324.3 \nL 154.559687 369.6 \nL 117.359688 369.6 \nL 117.359688 324.3 \n\" style=\"fill:#04051a;\"/>\n    <path clip-path=\"url(#p620eeb89fb)\" d=\"M 154.559687 324.3 \nL 191.759688 324.3 \nL 191.759688 369.6 \nL 154.559687 369.6 \nL 154.559687 324.3 \n\" style=\"fill:#03051a;\"/>\n    <path clip-path=\"url(#p620eeb89fb)\" d=\"M 191.759688 324.3 \nL 228.959688 324.3 \nL 228.959688 369.6 \nL 191.759688 369.6 \nL 191.759688 324.3 \n\" style=\"fill:#03051a;\"/>\n    <path clip-path=\"url(#p620eeb89fb)\" d=\"M 228.959688 324.3 \nL 266.159688 324.3 \nL 266.159688 369.6 \nL 228.959688 369.6 \nL 228.959688 324.3 \n\" style=\"fill:#05061b;\"/>\n    <path clip-path=\"url(#p620eeb89fb)\" d=\"M 266.159688 324.3 \nL 303.359688 324.3 \nL 303.359688 369.6 \nL 266.159688 369.6 \nL 266.159688 324.3 \n\" style=\"fill:#04051a;\"/>\n    <path clip-path=\"url(#p620eeb89fb)\" d=\"M 303.359688 324.3 \nL 340.559687 324.3 \nL 340.559687 369.6 \nL 303.359688 369.6 \nL 303.359688 324.3 \n\" style=\"fill:#c41753;\"/>\n    <path clip-path=\"url(#p620eeb89fb)\" d=\"M 340.559687 324.3 \nL 377.759688 324.3 \nL 377.759688 369.6 \nL 340.559687 369.6 \nL 340.559687 324.3 \n\" style=\"fill:#03051a;\"/>\n    <path clip-path=\"url(#p620eeb89fb)\" d=\"M 377.759688 324.3 \nL 414.959687 324.3 \nL 414.959687 369.6 \nL 377.759688 369.6 \nL 377.759688 324.3 \n\" style=\"fill:#03051a;\"/>\n    <path clip-path=\"url(#p620eeb89fb)\" d=\"M 414.959687 324.3 \nL 452.159688 324.3 \nL 452.159688 369.6 \nL 414.959687 369.6 \nL 414.959687 324.3 \n\" style=\"fill:#03051a;\"/>\n    <path clip-path=\"url(#p620eeb89fb)\" d=\"M 452.159688 324.3 \nL 489.359688 324.3 \nL 489.359688 369.6 \nL 452.159688 369.6 \nL 452.159688 324.3 \n\" style=\"fill:#03051a;\"/>\n    <path clip-path=\"url(#p620eeb89fb)\" d=\"M 42.959688 369.6 \nL 80.159688 369.6 \nL 80.159688 414.9 \nL 42.959688 414.9 \nL 42.959688 369.6 \n\" style=\"fill:#03051a;\"/>\n    <path clip-path=\"url(#p620eeb89fb)\" d=\"M 80.159688 369.6 \nL 117.359688 369.6 \nL 117.359688 414.9 \nL 80.159688 414.9 \nL 80.159688 369.6 \n\" style=\"fill:#0d0a21;\"/>\n    <path clip-path=\"url(#p620eeb89fb)\" d=\"M 117.359688 369.6 \nL 154.559687 369.6 \nL 154.559687 414.9 \nL 117.359688 414.9 \nL 117.359688 369.6 \n\" style=\"fill:#0a091f;\"/>\n    <path clip-path=\"url(#p620eeb89fb)\" d=\"M 154.559687 369.6 \nL 191.759688 369.6 \nL 191.759688 414.9 \nL 154.559687 414.9 \nL 154.559687 369.6 \n\" style=\"fill:#07071d;\"/>\n    <path clip-path=\"url(#p620eeb89fb)\" d=\"M 191.759688 369.6 \nL 228.959688 369.6 \nL 228.959688 414.9 \nL 191.759688 414.9 \nL 191.759688 369.6 \n\" style=\"fill:#05061b;\"/>\n    <path clip-path=\"url(#p620eeb89fb)\" d=\"M 228.959688 369.6 \nL 266.159688 369.6 \nL 266.159688 414.9 \nL 228.959688 414.9 \nL 228.959688 369.6 \n\" style=\"fill:#06071c;\"/>\n    <path clip-path=\"url(#p620eeb89fb)\" d=\"M 266.159688 369.6 \nL 303.359688 369.6 \nL 303.359688 414.9 \nL 266.159688 414.9 \nL 266.159688 369.6 \n\" style=\"fill:#03051a;\"/>\n    <path clip-path=\"url(#p620eeb89fb)\" d=\"M 303.359688 369.6 \nL 340.559687 369.6 \nL 340.559687 414.9 \nL 303.359688 414.9 \nL 303.359688 369.6 \n\" style=\"fill:#03051a;\"/>\n    <path clip-path=\"url(#p620eeb89fb)\" d=\"M 340.559687 369.6 \nL 377.759688 369.6 \nL 377.759688 414.9 \nL 340.559687 414.9 \nL 340.559687 369.6 \n\" style=\"fill:#f26b49;\"/>\n    <path clip-path=\"url(#p620eeb89fb)\" d=\"M 377.759688 369.6 \nL 414.959687 369.6 \nL 414.959687 414.9 \nL 377.759688 414.9 \nL 377.759688 369.6 \n\" style=\"fill:#1e122d;\"/>\n    <path clip-path=\"url(#p620eeb89fb)\" d=\"M 414.959687 369.6 \nL 452.159688 369.6 \nL 452.159688 414.9 \nL 414.959687 414.9 \nL 414.959687 369.6 \n\" style=\"fill:#08081e;\"/>\n    <path clip-path=\"url(#p620eeb89fb)\" d=\"M 452.159688 369.6 \nL 489.359688 369.6 \nL 489.359688 414.9 \nL 452.159688 414.9 \nL 452.159688 369.6 \n\" style=\"fill:#03051a;\"/>\n    <path clip-path=\"url(#p620eeb89fb)\" d=\"M 42.959688 414.9 \nL 80.159688 414.9 \nL 80.159688 460.2 \nL 42.959688 460.2 \nL 42.959688 414.9 \n\" style=\"fill:#03051a;\"/>\n    <path clip-path=\"url(#p620eeb89fb)\" d=\"M 80.159688 414.9 \nL 117.359688 414.9 \nL 117.359688 460.2 \nL 80.159688 460.2 \nL 80.159688 414.9 \n\" style=\"fill:#07071d;\"/>\n    <path clip-path=\"url(#p620eeb89fb)\" d=\"M 117.359688 414.9 \nL 154.559687 414.9 \nL 154.559687 460.2 \nL 117.359688 460.2 \nL 117.359688 414.9 \n\" style=\"fill:#07071d;\"/>\n    <path clip-path=\"url(#p620eeb89fb)\" d=\"M 154.559687 414.9 \nL 191.759688 414.9 \nL 191.759688 460.2 \nL 154.559687 460.2 \nL 154.559687 414.9 \n\" style=\"fill:#03051a;\"/>\n    <path clip-path=\"url(#p620eeb89fb)\" d=\"M 191.759688 414.9 \nL 228.959688 414.9 \nL 228.959688 460.2 \nL 191.759688 460.2 \nL 191.759688 414.9 \n\" style=\"fill:#05061b;\"/>\n    <path clip-path=\"url(#p620eeb89fb)\" d=\"M 228.959688 414.9 \nL 266.159688 414.9 \nL 266.159688 460.2 \nL 228.959688 460.2 \nL 228.959688 414.9 \n\" style=\"fill:#0b0920;\"/>\n    <path clip-path=\"url(#p620eeb89fb)\" d=\"M 266.159688 414.9 \nL 303.359688 414.9 \nL 303.359688 460.2 \nL 266.159688 460.2 \nL 266.159688 414.9 \n\" style=\"fill:#03051a;\"/>\n    <path clip-path=\"url(#p620eeb89fb)\" d=\"M 303.359688 414.9 \nL 340.559687 414.9 \nL 340.559687 460.2 \nL 303.359688 460.2 \nL 303.359688 414.9 \n\" style=\"fill:#06071c;\"/>\n    <path clip-path=\"url(#p620eeb89fb)\" d=\"M 340.559687 414.9 \nL 377.759688 414.9 \nL 377.759688 460.2 \nL 340.559687 460.2 \nL 340.559687 414.9 \n\" style=\"fill:#140e26;\"/>\n    <path clip-path=\"url(#p620eeb89fb)\" d=\"M 377.759688 414.9 \nL 414.959687 414.9 \nL 414.959687 460.2 \nL 377.759688 460.2 \nL 377.759688 414.9 \n\" style=\"fill:#faebdd;\"/>\n    <path clip-path=\"url(#p620eeb89fb)\" d=\"M 414.959687 414.9 \nL 452.159688 414.9 \nL 452.159688 460.2 \nL 414.959687 460.2 \nL 414.959687 414.9 \n\" style=\"fill:#04051a;\"/>\n    <path clip-path=\"url(#p620eeb89fb)\" d=\"M 452.159688 414.9 \nL 489.359688 414.9 \nL 489.359688 460.2 \nL 452.159688 460.2 \nL 452.159688 414.9 \n\" style=\"fill:#03051a;\"/>\n    <path clip-path=\"url(#p620eeb89fb)\" d=\"M 42.959688 460.2 \nL 80.159688 460.2 \nL 80.159688 505.5 \nL 42.959688 505.5 \nL 42.959688 460.2 \n\" style=\"fill:#03051a;\"/>\n    <path clip-path=\"url(#p620eeb89fb)\" d=\"M 80.159688 460.2 \nL 117.359688 460.2 \nL 117.359688 505.5 \nL 80.159688 505.5 \nL 80.159688 460.2 \n\" style=\"fill:#05061b;\"/>\n    <path clip-path=\"url(#p620eeb89fb)\" d=\"M 117.359688 460.2 \nL 154.559687 460.2 \nL 154.559687 505.5 \nL 117.359688 505.5 \nL 117.359688 460.2 \n\" style=\"fill:#07071d;\"/>\n    <path clip-path=\"url(#p620eeb89fb)\" d=\"M 154.559687 460.2 \nL 191.759688 460.2 \nL 191.759688 505.5 \nL 154.559687 505.5 \nL 154.559687 460.2 \n\" style=\"fill:#03051a;\"/>\n    <path clip-path=\"url(#p620eeb89fb)\" d=\"M 191.759688 460.2 \nL 228.959688 460.2 \nL 228.959688 505.5 \nL 191.759688 505.5 \nL 191.759688 460.2 \n\" style=\"fill:#03051a;\"/>\n    <path clip-path=\"url(#p620eeb89fb)\" d=\"M 228.959688 460.2 \nL 266.159688 460.2 \nL 266.159688 505.5 \nL 228.959688 505.5 \nL 228.959688 460.2 \n\" style=\"fill:#07071d;\"/>\n    <path clip-path=\"url(#p620eeb89fb)\" d=\"M 266.159688 460.2 \nL 303.359688 460.2 \nL 303.359688 505.5 \nL 266.159688 505.5 \nL 266.159688 460.2 \n\" style=\"fill:#08081e;\"/>\n    <path clip-path=\"url(#p620eeb89fb)\" d=\"M 303.359688 460.2 \nL 340.559687 460.2 \nL 340.559687 505.5 \nL 303.359688 505.5 \nL 303.359688 460.2 \n\" style=\"fill:#06071c;\"/>\n    <path clip-path=\"url(#p620eeb89fb)\" d=\"M 340.559687 460.2 \nL 377.759688 460.2 \nL 377.759688 505.5 \nL 340.559687 505.5 \nL 340.559687 460.2 \n\" style=\"fill:#100b23;\"/>\n    <path clip-path=\"url(#p620eeb89fb)\" d=\"M 377.759688 460.2 \nL 414.959687 460.2 \nL 414.959687 505.5 \nL 377.759688 505.5 \nL 377.759688 460.2 \n\" style=\"fill:#100b23;\"/>\n    <path clip-path=\"url(#p620eeb89fb)\" d=\"M 414.959687 460.2 \nL 452.159688 460.2 \nL 452.159688 505.5 \nL 414.959687 505.5 \nL 414.959687 460.2 \n\" style=\"fill:#f26b49;\"/>\n    <path clip-path=\"url(#p620eeb89fb)\" d=\"M 452.159688 460.2 \nL 489.359688 460.2 \nL 489.359688 505.5 \nL 452.159688 505.5 \nL 452.159688 460.2 \n\" style=\"fill:#03051a;\"/>\n    <path clip-path=\"url(#p620eeb89fb)\" d=\"M 42.959688 505.5 \nL 80.159688 505.5 \nL 80.159688 550.8 \nL 42.959688 550.8 \nL 42.959688 505.5 \n\" style=\"fill:#03051a;\"/>\n    <path clip-path=\"url(#p620eeb89fb)\" d=\"M 80.159688 505.5 \nL 117.359688 505.5 \nL 117.359688 550.8 \nL 80.159688 550.8 \nL 80.159688 505.5 \n\" style=\"fill:#05061b;\"/>\n    <path clip-path=\"url(#p620eeb89fb)\" d=\"M 117.359688 505.5 \nL 154.559687 505.5 \nL 154.559687 550.8 \nL 117.359688 550.8 \nL 117.359688 505.5 \n\" style=\"fill:#05061b;\"/>\n    <path clip-path=\"url(#p620eeb89fb)\" d=\"M 154.559687 505.5 \nL 191.759688 505.5 \nL 191.759688 550.8 \nL 154.559687 550.8 \nL 154.559687 505.5 \n\" style=\"fill:#04051a;\"/>\n    <path clip-path=\"url(#p620eeb89fb)\" d=\"M 191.759688 505.5 \nL 228.959688 505.5 \nL 228.959688 550.8 \nL 191.759688 550.8 \nL 191.759688 505.5 \n\" style=\"fill:#04051a;\"/>\n    <path clip-path=\"url(#p620eeb89fb)\" d=\"M 228.959688 505.5 \nL 266.159688 505.5 \nL 266.159688 550.8 \nL 228.959688 550.8 \nL 228.959688 505.5 \n\" style=\"fill:#06071c;\"/>\n    <path clip-path=\"url(#p620eeb89fb)\" d=\"M 266.159688 505.5 \nL 303.359688 505.5 \nL 303.359688 550.8 \nL 266.159688 550.8 \nL 266.159688 505.5 \n\" style=\"fill:#03051a;\"/>\n    <path clip-path=\"url(#p620eeb89fb)\" d=\"M 303.359688 505.5 \nL 340.559687 505.5 \nL 340.559687 550.8 \nL 303.359688 550.8 \nL 303.359688 505.5 \n\" style=\"fill:#04051a;\"/>\n    <path clip-path=\"url(#p620eeb89fb)\" d=\"M 340.559687 505.5 \nL 377.759688 505.5 \nL 377.759688 550.8 \nL 340.559687 550.8 \nL 340.559687 505.5 \n\" style=\"fill:#05061b;\"/>\n    <path clip-path=\"url(#p620eeb89fb)\" d=\"M 377.759688 505.5 \nL 414.959687 505.5 \nL 414.959687 550.8 \nL 377.759688 550.8 \nL 377.759688 505.5 \n\" style=\"fill:#07071d;\"/>\n    <path clip-path=\"url(#p620eeb89fb)\" d=\"M 414.959687 505.5 \nL 452.159688 505.5 \nL 452.159688 550.8 \nL 414.959687 550.8 \nL 414.959687 505.5 \n\" style=\"fill:#03051a;\"/>\n    <path clip-path=\"url(#p620eeb89fb)\" d=\"M 452.159688 505.5 \nL 489.359688 505.5 \nL 489.359688 550.8 \nL 452.159688 550.8 \nL 452.159688 505.5 \n\" style=\"fill:#30173a;\"/>\n   </g>\n   <g id=\"text_27\">\n    <!-- 88 -->\n    <g style=\"fill:#ffffff;\" transform=\"translate(55.197187 32.609375)scale(0.1 -0.1)\">\n     <use xlink:href=\"#DejaVuSans-56\"/>\n     <use x=\"63.623047\" xlink:href=\"#DejaVuSans-56\"/>\n    </g>\n   </g>\n   <g id=\"text_28\">\n    <!-- 0 -->\n    <g style=\"fill:#ffffff;\" transform=\"translate(95.578438 32.609375)scale(0.1 -0.1)\">\n     <use xlink:href=\"#DejaVuSans-48\"/>\n    </g>\n   </g>\n   <g id=\"text_29\">\n    <!-- 3 -->\n    <g style=\"fill:#ffffff;\" transform=\"translate(132.778437 32.609375)scale(0.1 -0.1)\">\n     <use xlink:href=\"#DejaVuSans-51\"/>\n    </g>\n   </g>\n   <g id=\"text_30\">\n    <!-- 1 -->\n    <g style=\"fill:#ffffff;\" transform=\"translate(169.978438 32.609375)scale(0.1 -0.1)\">\n     <use xlink:href=\"#DejaVuSans-49\"/>\n    </g>\n   </g>\n   <g id=\"text_31\">\n    <!-- 0 -->\n    <g style=\"fill:#ffffff;\" transform=\"translate(207.178438 32.609375)scale(0.1 -0.1)\">\n     <use xlink:href=\"#DejaVuSans-48\"/>\n    </g>\n   </g>\n   <g id=\"text_32\">\n    <!-- 3 -->\n    <g style=\"fill:#ffffff;\" transform=\"translate(244.378438 32.609375)scale(0.1 -0.1)\">\n     <use xlink:href=\"#DejaVuSans-51\"/>\n    </g>\n   </g>\n   <g id=\"text_33\">\n    <!-- 5 -->\n    <g style=\"fill:#ffffff;\" transform=\"translate(281.578438 32.609375)scale(0.1 -0.1)\">\n     <use xlink:href=\"#DejaVuSans-53\"/>\n    </g>\n   </g>\n   <g id=\"text_34\">\n    <!-- 3 -->\n    <g style=\"fill:#ffffff;\" transform=\"translate(318.778437 32.609375)scale(0.1 -0.1)\">\n     <use xlink:href=\"#DejaVuSans-51\"/>\n    </g>\n   </g>\n   <g id=\"text_35\">\n    <!-- 4 -->\n    <g style=\"fill:#ffffff;\" transform=\"translate(355.978438 32.609375)scale(0.1 -0.1)\">\n     <use xlink:href=\"#DejaVuSans-52\"/>\n    </g>\n   </g>\n   <g id=\"text_36\">\n    <!-- 5 -->\n    <g style=\"fill:#ffffff;\" transform=\"translate(393.178438 32.609375)scale(0.1 -0.1)\">\n     <use xlink:href=\"#DejaVuSans-53\"/>\n    </g>\n   </g>\n   <g id=\"text_37\">\n    <!-- 1 -->\n    <g style=\"fill:#ffffff;\" transform=\"translate(430.378438 32.609375)scale(0.1 -0.1)\">\n     <use xlink:href=\"#DejaVuSans-49\"/>\n    </g>\n   </g>\n   <g id=\"text_38\">\n    <!-- 2 -->\n    <g style=\"fill:#ffffff;\" transform=\"translate(467.578438 32.609375)scale(0.1 -0.1)\">\n     <use xlink:href=\"#DejaVuSans-50\"/>\n    </g>\n   </g>\n   <g id=\"text_39\">\n    <!-- 0 -->\n    <g style=\"fill:#ffffff;\" transform=\"translate(58.378438 77.909375)scale(0.1 -0.1)\">\n     <use xlink:href=\"#DejaVuSans-48\"/>\n    </g>\n   </g>\n   <g id=\"text_40\">\n    <!-- 516 -->\n    <g style=\"fill:#ffffff;\" transform=\"translate(89.215938 77.909375)scale(0.1 -0.1)\">\n     <use xlink:href=\"#DejaVuSans-53\"/>\n     <use x=\"63.623047\" xlink:href=\"#DejaVuSans-49\"/>\n     <use x=\"127.246094\" xlink:href=\"#DejaVuSans-54\"/>\n    </g>\n   </g>\n   <g id=\"text_41\">\n    <!-- 9 -->\n    <g style=\"fill:#ffffff;\" transform=\"translate(132.778437 77.909375)scale(0.1 -0.1)\">\n     <use xlink:href=\"#DejaVuSans-57\"/>\n    </g>\n   </g>\n   <g id=\"text_42\">\n    <!-- 4 -->\n    <g style=\"fill:#ffffff;\" transform=\"translate(169.978438 77.909375)scale(0.1 -0.1)\">\n     <use xlink:href=\"#DejaVuSans-52\"/>\n    </g>\n   </g>\n   <g id=\"text_43\">\n    <!-- 3 -->\n    <g style=\"fill:#ffffff;\" transform=\"translate(207.178438 77.909375)scale(0.1 -0.1)\">\n     <use xlink:href=\"#DejaVuSans-51\"/>\n    </g>\n   </g>\n   <g id=\"text_44\">\n    <!-- 29 -->\n    <g style=\"fill:#ffffff;\" transform=\"translate(241.197188 77.909375)scale(0.1 -0.1)\">\n     <use xlink:href=\"#DejaVuSans-50\"/>\n     <use x=\"63.623047\" xlink:href=\"#DejaVuSans-57\"/>\n    </g>\n   </g>\n   <g id=\"text_45\">\n    <!-- 2 -->\n    <g style=\"fill:#ffffff;\" transform=\"translate(281.578438 77.909375)scale(0.1 -0.1)\">\n     <use xlink:href=\"#DejaVuSans-50\"/>\n    </g>\n   </g>\n   <g id=\"text_46\">\n    <!-- 4 -->\n    <g style=\"fill:#ffffff;\" transform=\"translate(318.778437 77.909375)scale(0.1 -0.1)\">\n     <use xlink:href=\"#DejaVuSans-52\"/>\n    </g>\n   </g>\n   <g id=\"text_47\">\n    <!-- 37 -->\n    <g style=\"fill:#ffffff;\" transform=\"translate(352.797188 77.909375)scale(0.1 -0.1)\">\n     <use xlink:href=\"#DejaVuSans-51\"/>\n     <use x=\"63.623047\" xlink:href=\"#DejaVuSans-55\"/>\n    </g>\n   </g>\n   <g id=\"text_48\">\n    <!-- 34 -->\n    <g style=\"fill:#ffffff;\" transform=\"translate(389.997188 77.909375)scale(0.1 -0.1)\">\n     <use xlink:href=\"#DejaVuSans-51\"/>\n     <use x=\"63.623047\" xlink:href=\"#DejaVuSans-52\"/>\n    </g>\n   </g>\n   <g id=\"text_49\">\n    <!-- 13 -->\n    <g style=\"fill:#ffffff;\" transform=\"translate(427.197187 77.909375)scale(0.1 -0.1)\">\n     <use xlink:href=\"#DejaVuSans-49\"/>\n     <use x=\"63.623047\" xlink:href=\"#DejaVuSans-51\"/>\n    </g>\n   </g>\n   <g id=\"text_50\">\n    <!-- 2 -->\n    <g style=\"fill:#ffffff;\" transform=\"translate(467.578438 77.909375)scale(0.1 -0.1)\">\n     <use xlink:href=\"#DejaVuSans-50\"/>\n    </g>\n   </g>\n   <g id=\"text_51\">\n    <!-- 1 -->\n    <g style=\"fill:#ffffff;\" transform=\"translate(58.378438 123.209375)scale(0.1 -0.1)\">\n     <use xlink:href=\"#DejaVuSans-49\"/>\n    </g>\n   </g>\n   <g id=\"text_52\">\n    <!-- 25 -->\n    <g style=\"fill:#ffffff;\" transform=\"translate(92.397188 123.209375)scale(0.1 -0.1)\">\n     <use xlink:href=\"#DejaVuSans-50\"/>\n     <use x=\"63.623047\" xlink:href=\"#DejaVuSans-53\"/>\n    </g>\n   </g>\n   <g id=\"text_53\">\n    <!-- 359 -->\n    <g style=\"fill:#ffffff;\" transform=\"translate(126.415937 123.209375)scale(0.1 -0.1)\">\n     <use xlink:href=\"#DejaVuSans-51\"/>\n     <use x=\"63.623047\" xlink:href=\"#DejaVuSans-53\"/>\n     <use x=\"127.246094\" xlink:href=\"#DejaVuSans-57\"/>\n    </g>\n   </g>\n   <g id=\"text_54\">\n    <!-- 3 -->\n    <g style=\"fill:#ffffff;\" transform=\"translate(169.978438 123.209375)scale(0.1 -0.1)\">\n     <use xlink:href=\"#DejaVuSans-51\"/>\n    </g>\n   </g>\n   <g id=\"text_55\">\n    <!-- 5 -->\n    <g style=\"fill:#ffffff;\" transform=\"translate(207.178438 123.209375)scale(0.1 -0.1)\">\n     <use xlink:href=\"#DejaVuSans-53\"/>\n    </g>\n   </g>\n   <g id=\"text_56\">\n    <!-- 61 -->\n    <g style=\"fill:#ffffff;\" transform=\"translate(241.197188 123.209375)scale(0.1 -0.1)\">\n     <use xlink:href=\"#DejaVuSans-54\"/>\n     <use x=\"63.623047\" xlink:href=\"#DejaVuSans-49\"/>\n    </g>\n   </g>\n   <g id=\"text_57\">\n    <!-- 3 -->\n    <g style=\"fill:#ffffff;\" transform=\"translate(281.578438 123.209375)scale(0.1 -0.1)\">\n     <use xlink:href=\"#DejaVuSans-51\"/>\n    </g>\n   </g>\n   <g id=\"text_58\">\n    <!-- 3 -->\n    <g style=\"fill:#ffffff;\" transform=\"translate(318.778437 123.209375)scale(0.1 -0.1)\">\n     <use xlink:href=\"#DejaVuSans-51\"/>\n    </g>\n   </g>\n   <g id=\"text_59\">\n    <!-- 58 -->\n    <g style=\"fill:#ffffff;\" transform=\"translate(352.797188 123.209375)scale(0.1 -0.1)\">\n     <use xlink:href=\"#DejaVuSans-53\"/>\n     <use x=\"63.623047\" xlink:href=\"#DejaVuSans-56\"/>\n    </g>\n   </g>\n   <g id=\"text_60\">\n    <!-- 70 -->\n    <g style=\"fill:#ffffff;\" transform=\"translate(389.997188 123.209375)scale(0.1 -0.1)\">\n     <use xlink:href=\"#DejaVuSans-55\"/>\n     <use x=\"63.623047\" xlink:href=\"#DejaVuSans-48\"/>\n    </g>\n   </g>\n   <g id=\"text_61\">\n    <!-- 7 -->\n    <g style=\"fill:#ffffff;\" transform=\"translate(430.378438 123.209375)scale(0.1 -0.1)\">\n     <use xlink:href=\"#DejaVuSans-55\"/>\n    </g>\n   </g>\n   <g id=\"text_62\">\n    <!-- 2 -->\n    <g style=\"fill:#ffffff;\" transform=\"translate(467.578438 123.209375)scale(0.1 -0.1)\">\n     <use xlink:href=\"#DejaVuSans-50\"/>\n    </g>\n   </g>\n   <g id=\"text_63\">\n    <!-- 0 -->\n    <g style=\"fill:#ffffff;\" transform=\"translate(58.378438 168.509375)scale(0.1 -0.1)\">\n     <use xlink:href=\"#DejaVuSans-48\"/>\n    </g>\n   </g>\n   <g id=\"text_64\">\n    <!-- 18 -->\n    <g style=\"fill:#ffffff;\" transform=\"translate(92.397188 168.509375)scale(0.1 -0.1)\">\n     <use xlink:href=\"#DejaVuSans-49\"/>\n     <use x=\"63.623047\" xlink:href=\"#DejaVuSans-56\"/>\n    </g>\n   </g>\n   <g id=\"text_65\">\n    <!-- 5 -->\n    <g style=\"fill:#ffffff;\" transform=\"translate(132.778437 168.509375)scale(0.1 -0.1)\">\n     <use xlink:href=\"#DejaVuSans-53\"/>\n    </g>\n   </g>\n   <g id=\"text_66\">\n    <!-- 160 -->\n    <g style=\"fill:#ffffff;\" transform=\"translate(163.615938 168.509375)scale(0.1 -0.1)\">\n     <use xlink:href=\"#DejaVuSans-49\"/>\n     <use x=\"63.623047\" xlink:href=\"#DejaVuSans-54\"/>\n     <use x=\"127.246094\" xlink:href=\"#DejaVuSans-48\"/>\n    </g>\n   </g>\n   <g id=\"text_67\">\n    <!-- 4 -->\n    <g style=\"fill:#ffffff;\" transform=\"translate(207.178438 168.509375)scale(0.1 -0.1)\">\n     <use xlink:href=\"#DejaVuSans-52\"/>\n    </g>\n   </g>\n   <g id=\"text_68\">\n    <!-- 16 -->\n    <g style=\"fill:#ffffff;\" transform=\"translate(241.197188 168.509375)scale(0.1 -0.1)\">\n     <use xlink:href=\"#DejaVuSans-49\"/>\n     <use x=\"63.623047\" xlink:href=\"#DejaVuSans-54\"/>\n    </g>\n   </g>\n   <g id=\"text_69\">\n    <!-- 0 -->\n    <g style=\"fill:#ffffff;\" transform=\"translate(281.578438 168.509375)scale(0.1 -0.1)\">\n     <use xlink:href=\"#DejaVuSans-48\"/>\n    </g>\n   </g>\n   <g id=\"text_70\">\n    <!-- 15 -->\n    <g style=\"fill:#ffffff;\" transform=\"translate(315.597187 168.509375)scale(0.1 -0.1)\">\n     <use xlink:href=\"#DejaVuSans-49\"/>\n     <use x=\"63.623047\" xlink:href=\"#DejaVuSans-53\"/>\n    </g>\n   </g>\n   <g id=\"text_71\">\n    <!-- 23 -->\n    <g style=\"fill:#ffffff;\" transform=\"translate(352.797188 168.509375)scale(0.1 -0.1)\">\n     <use xlink:href=\"#DejaVuSans-50\"/>\n     <use x=\"63.623047\" xlink:href=\"#DejaVuSans-51\"/>\n    </g>\n   </g>\n   <g id=\"text_72\">\n    <!-- 33 -->\n    <g style=\"fill:#ffffff;\" transform=\"translate(389.997188 168.509375)scale(0.1 -0.1)\">\n     <use xlink:href=\"#DejaVuSans-51\"/>\n     <use x=\"63.623047\" xlink:href=\"#DejaVuSans-51\"/>\n    </g>\n   </g>\n   <g id=\"text_73\">\n    <!-- 6 -->\n    <g style=\"fill:#ffffff;\" transform=\"translate(430.378438 168.509375)scale(0.1 -0.1)\">\n     <use xlink:href=\"#DejaVuSans-54\"/>\n    </g>\n   </g>\n   <g id=\"text_74\">\n    <!-- 4 -->\n    <g style=\"fill:#ffffff;\" transform=\"translate(467.578438 168.509375)scale(0.1 -0.1)\">\n     <use xlink:href=\"#DejaVuSans-52\"/>\n    </g>\n   </g>\n   <g id=\"text_75\">\n    <!-- 1 -->\n    <g style=\"fill:#ffffff;\" transform=\"translate(58.378438 213.809375)scale(0.1 -0.1)\">\n     <use xlink:href=\"#DejaVuSans-49\"/>\n    </g>\n   </g>\n   <g id=\"text_76\">\n    <!-- 13 -->\n    <g style=\"fill:#ffffff;\" transform=\"translate(92.397188 213.809375)scale(0.1 -0.1)\">\n     <use xlink:href=\"#DejaVuSans-49\"/>\n     <use x=\"63.623047\" xlink:href=\"#DejaVuSans-51\"/>\n    </g>\n   </g>\n   <g id=\"text_77\">\n    <!-- 12 -->\n    <g style=\"fill:#ffffff;\" transform=\"translate(129.597187 213.809375)scale(0.1 -0.1)\">\n     <use xlink:href=\"#DejaVuSans-49\"/>\n     <use x=\"63.623047\" xlink:href=\"#DejaVuSans-50\"/>\n    </g>\n   </g>\n   <g id=\"text_78\">\n    <!-- 8 -->\n    <g style=\"fill:#ffffff;\" transform=\"translate(169.978438 213.809375)scale(0.1 -0.1)\">\n     <use xlink:href=\"#DejaVuSans-56\"/>\n    </g>\n   </g>\n   <g id=\"text_79\">\n    <!-- 199 -->\n    <g style=\"fill:#ffffff;\" transform=\"translate(200.815938 213.809375)scale(0.1 -0.1)\">\n     <use xlink:href=\"#DejaVuSans-49\"/>\n     <use x=\"63.623047\" xlink:href=\"#DejaVuSans-57\"/>\n     <use x=\"127.246094\" xlink:href=\"#DejaVuSans-57\"/>\n    </g>\n   </g>\n   <g id=\"text_80\">\n    <!-- 15 -->\n    <g style=\"fill:#ffffff;\" transform=\"translate(241.197188 213.809375)scale(0.1 -0.1)\">\n     <use xlink:href=\"#DejaVuSans-49\"/>\n     <use x=\"63.623047\" xlink:href=\"#DejaVuSans-53\"/>\n    </g>\n   </g>\n   <g id=\"text_81\">\n    <!-- 1 -->\n    <g style=\"fill:#ffffff;\" transform=\"translate(281.578438 213.809375)scale(0.1 -0.1)\">\n     <use xlink:href=\"#DejaVuSans-49\"/>\n    </g>\n   </g>\n   <g id=\"text_82\">\n    <!-- 8 -->\n    <g style=\"fill:#ffffff;\" transform=\"translate(318.778437 213.809375)scale(0.1 -0.1)\">\n     <use xlink:href=\"#DejaVuSans-56\"/>\n    </g>\n   </g>\n   <g id=\"text_83\">\n    <!-- 24 -->\n    <g style=\"fill:#ffffff;\" transform=\"translate(352.797188 213.809375)scale(0.1 -0.1)\">\n     <use xlink:href=\"#DejaVuSans-50\"/>\n     <use x=\"63.623047\" xlink:href=\"#DejaVuSans-52\"/>\n    </g>\n   </g>\n   <g id=\"text_84\">\n    <!-- 32 -->\n    <g style=\"fill:#ffffff;\" transform=\"translate(389.997188 213.809375)scale(0.1 -0.1)\">\n     <use xlink:href=\"#DejaVuSans-51\"/>\n     <use x=\"63.623047\" xlink:href=\"#DejaVuSans-50\"/>\n    </g>\n   </g>\n   <g id=\"text_85\">\n    <!-- 0 -->\n    <g style=\"fill:#ffffff;\" transform=\"translate(430.378438 213.809375)scale(0.1 -0.1)\">\n     <use xlink:href=\"#DejaVuSans-48\"/>\n    </g>\n   </g>\n   <g id=\"text_86\">\n    <!-- 3 -->\n    <g style=\"fill:#ffffff;\" transform=\"translate(467.578438 213.809375)scale(0.1 -0.1)\">\n     <use xlink:href=\"#DejaVuSans-51\"/>\n    </g>\n   </g>\n   <g id=\"text_87\">\n    <!-- 1 -->\n    <g style=\"fill:#ffffff;\" transform=\"translate(58.378438 259.109375)scale(0.1 -0.1)\">\n     <use xlink:href=\"#DejaVuSans-49\"/>\n    </g>\n   </g>\n   <g id=\"text_88\">\n    <!-- 49 -->\n    <g style=\"fill:#ffffff;\" transform=\"translate(92.397188 259.109375)scale(0.1 -0.1)\">\n     <use xlink:href=\"#DejaVuSans-52\"/>\n     <use x=\"63.623047\" xlink:href=\"#DejaVuSans-57\"/>\n    </g>\n   </g>\n   <g id=\"text_89\">\n    <!-- 52 -->\n    <g style=\"fill:#ffffff;\" transform=\"translate(129.597187 259.109375)scale(0.1 -0.1)\">\n     <use xlink:href=\"#DejaVuSans-53\"/>\n     <use x=\"63.623047\" xlink:href=\"#DejaVuSans-50\"/>\n    </g>\n   </g>\n   <g id=\"text_90\">\n    <!-- 5 -->\n    <g style=\"fill:#ffffff;\" transform=\"translate(169.978438 259.109375)scale(0.1 -0.1)\">\n     <use xlink:href=\"#DejaVuSans-53\"/>\n    </g>\n   </g>\n   <g id=\"text_91\">\n    <!-- 4 -->\n    <g style=\"fill:#ffffff;\" transform=\"translate(207.178438 259.109375)scale(0.1 -0.1)\">\n     <use xlink:href=\"#DejaVuSans-52\"/>\n    </g>\n   </g>\n   <g id=\"text_92\">\n    <!-- 593 -->\n    <g style=\"fill:#ffffff;\" transform=\"translate(238.015938 259.109375)scale(0.1 -0.1)\">\n     <use xlink:href=\"#DejaVuSans-53\"/>\n     <use x=\"63.623047\" xlink:href=\"#DejaVuSans-57\"/>\n     <use x=\"127.246094\" xlink:href=\"#DejaVuSans-51\"/>\n    </g>\n   </g>\n   <g id=\"text_93\">\n    <!-- 5 -->\n    <g style=\"fill:#ffffff;\" transform=\"translate(281.578438 259.109375)scale(0.1 -0.1)\">\n     <use xlink:href=\"#DejaVuSans-53\"/>\n    </g>\n   </g>\n   <g id=\"text_94\">\n    <!-- 23 -->\n    <g style=\"fill:#ffffff;\" transform=\"translate(315.597187 259.109375)scale(0.1 -0.1)\">\n     <use xlink:href=\"#DejaVuSans-50\"/>\n     <use x=\"63.623047\" xlink:href=\"#DejaVuSans-51\"/>\n    </g>\n   </g>\n   <g id=\"text_95\">\n    <!-- 23 -->\n    <g style=\"fill:#ffffff;\" transform=\"translate(352.797188 259.109375)scale(0.1 -0.1)\">\n     <use xlink:href=\"#DejaVuSans-50\"/>\n     <use x=\"63.623047\" xlink:href=\"#DejaVuSans-51\"/>\n    </g>\n   </g>\n   <g id=\"text_96\">\n    <!-- 62 -->\n    <g style=\"fill:#ffffff;\" transform=\"translate(389.997188 259.109375)scale(0.1 -0.1)\">\n     <use xlink:href=\"#DejaVuSans-54\"/>\n     <use x=\"63.623047\" xlink:href=\"#DejaVuSans-50\"/>\n    </g>\n   </g>\n   <g id=\"text_97\">\n    <!-- 8 -->\n    <g style=\"fill:#ffffff;\" transform=\"translate(430.378438 259.109375)scale(0.1 -0.1)\">\n     <use xlink:href=\"#DejaVuSans-56\"/>\n    </g>\n   </g>\n   <g id=\"text_98\">\n    <!-- 0 -->\n    <g style=\"fill:#ffffff;\" transform=\"translate(467.578438 259.109375)scale(0.1 -0.1)\">\n     <use xlink:href=\"#DejaVuSans-48\"/>\n    </g>\n   </g>\n   <g id=\"text_99\">\n    <!-- 0 -->\n    <g style=\"fill:#ffffff;\" transform=\"translate(58.378438 304.409375)scale(0.1 -0.1)\">\n     <use xlink:href=\"#DejaVuSans-48\"/>\n    </g>\n   </g>\n   <g id=\"text_100\">\n    <!-- 4 -->\n    <g style=\"fill:#ffffff;\" transform=\"translate(95.578438 304.409375)scale(0.1 -0.1)\">\n     <use xlink:href=\"#DejaVuSans-52\"/>\n    </g>\n   </g>\n   <g id=\"text_101\">\n    <!-- 9 -->\n    <g style=\"fill:#ffffff;\" transform=\"translate(132.778437 304.409375)scale(0.1 -0.1)\">\n     <use xlink:href=\"#DejaVuSans-57\"/>\n    </g>\n   </g>\n   <g id=\"text_102\">\n    <!-- 2 -->\n    <g style=\"fill:#ffffff;\" transform=\"translate(169.978438 304.409375)scale(0.1 -0.1)\">\n     <use xlink:href=\"#DejaVuSans-50\"/>\n    </g>\n   </g>\n   <g id=\"text_103\">\n    <!-- 1 -->\n    <g style=\"fill:#ffffff;\" transform=\"translate(207.178438 304.409375)scale(0.1 -0.1)\">\n     <use xlink:href=\"#DejaVuSans-49\"/>\n    </g>\n   </g>\n   <g id=\"text_104\">\n    <!-- 12 -->\n    <g style=\"fill:#ffffff;\" transform=\"translate(241.197188 304.409375)scale(0.1 -0.1)\">\n     <use xlink:href=\"#DejaVuSans-49\"/>\n     <use x=\"63.623047\" xlink:href=\"#DejaVuSans-50\"/>\n    </g>\n   </g>\n   <g id=\"text_105\">\n    <!-- 338 -->\n    <g style=\"fill:#ffffff;\" transform=\"translate(275.215938 304.409375)scale(0.1 -0.1)\">\n     <use xlink:href=\"#DejaVuSans-51\"/>\n     <use x=\"63.623047\" xlink:href=\"#DejaVuSans-51\"/>\n     <use x=\"127.246094\" xlink:href=\"#DejaVuSans-56\"/>\n    </g>\n   </g>\n   <g id=\"text_106\">\n    <!-- 21 -->\n    <g style=\"fill:#ffffff;\" transform=\"translate(315.597187 304.409375)scale(0.1 -0.1)\">\n     <use xlink:href=\"#DejaVuSans-50\"/>\n     <use x=\"63.623047\" xlink:href=\"#DejaVuSans-49\"/>\n    </g>\n   </g>\n   <g id=\"text_107\">\n    <!-- 15 -->\n    <g style=\"fill:#ffffff;\" transform=\"translate(352.797188 304.409375)scale(0.1 -0.1)\">\n     <use xlink:href=\"#DejaVuSans-49\"/>\n     <use x=\"63.623047\" xlink:href=\"#DejaVuSans-53\"/>\n    </g>\n   </g>\n   <g id=\"text_108\">\n    <!-- 32 -->\n    <g style=\"fill:#ffffff;\" transform=\"translate(389.997188 304.409375)scale(0.1 -0.1)\">\n     <use xlink:href=\"#DejaVuSans-51\"/>\n     <use x=\"63.623047\" xlink:href=\"#DejaVuSans-50\"/>\n    </g>\n   </g>\n   <g id=\"text_109\">\n    <!-- 35 -->\n    <g style=\"fill:#ffffff;\" transform=\"translate(427.197187 304.409375)scale(0.1 -0.1)\">\n     <use xlink:href=\"#DejaVuSans-51\"/>\n     <use x=\"63.623047\" xlink:href=\"#DejaVuSans-53\"/>\n    </g>\n   </g>\n   <g id=\"text_110\">\n    <!-- 0 -->\n    <g style=\"fill:#ffffff;\" transform=\"translate(467.578438 304.409375)scale(0.1 -0.1)\">\n     <use xlink:href=\"#DejaVuSans-48\"/>\n    </g>\n   </g>\n   <g id=\"text_111\">\n    <!-- 0 -->\n    <g style=\"fill:#ffffff;\" transform=\"translate(58.378438 349.709375)scale(0.1 -0.1)\">\n     <use xlink:href=\"#DejaVuSans-48\"/>\n    </g>\n   </g>\n   <g id=\"text_112\">\n    <!-- 3 -->\n    <g style=\"fill:#ffffff;\" transform=\"translate(95.578438 349.709375)scale(0.1 -0.1)\">\n     <use xlink:href=\"#DejaVuSans-51\"/>\n    </g>\n   </g>\n   <g id=\"text_113\">\n    <!-- 4 -->\n    <g style=\"fill:#ffffff;\" transform=\"translate(132.778437 349.709375)scale(0.1 -0.1)\">\n     <use xlink:href=\"#DejaVuSans-52\"/>\n    </g>\n   </g>\n   <g id=\"text_114\">\n    <!-- 2 -->\n    <g style=\"fill:#ffffff;\" transform=\"translate(169.978438 349.709375)scale(0.1 -0.1)\">\n     <use xlink:href=\"#DejaVuSans-50\"/>\n    </g>\n   </g>\n   <g id=\"text_115\">\n    <!-- 1 -->\n    <g style=\"fill:#ffffff;\" transform=\"translate(207.178438 349.709375)scale(0.1 -0.1)\">\n     <use xlink:href=\"#DejaVuSans-49\"/>\n    </g>\n   </g>\n   <g id=\"text_116\">\n    <!-- 10 -->\n    <g style=\"fill:#ffffff;\" transform=\"translate(241.197188 349.709375)scale(0.1 -0.1)\">\n     <use xlink:href=\"#DejaVuSans-49\"/>\n     <use x=\"63.623047\" xlink:href=\"#DejaVuSans-48\"/>\n    </g>\n   </g>\n   <g id=\"text_117\">\n    <!-- 4 -->\n    <g style=\"fill:#ffffff;\" transform=\"translate(281.578438 349.709375)scale(0.1 -0.1)\">\n     <use xlink:href=\"#DejaVuSans-52\"/>\n    </g>\n   </g>\n   <g id=\"text_118\">\n    <!-- 431 -->\n    <g style=\"fill:#ffffff;\" transform=\"translate(312.415937 349.709375)scale(0.1 -0.1)\">\n     <use xlink:href=\"#DejaVuSans-52\"/>\n     <use x=\"63.623047\" xlink:href=\"#DejaVuSans-51\"/>\n     <use x=\"127.246094\" xlink:href=\"#DejaVuSans-49\"/>\n    </g>\n   </g>\n   <g id=\"text_119\">\n    <!-- 2 -->\n    <g style=\"fill:#ffffff;\" transform=\"translate(355.978438 349.709375)scale(0.1 -0.1)\">\n     <use xlink:href=\"#DejaVuSans-50\"/>\n    </g>\n   </g>\n   <g id=\"text_120\">\n    <!-- 3 -->\n    <g style=\"fill:#ffffff;\" transform=\"translate(393.178438 349.709375)scale(0.1 -0.1)\">\n     <use xlink:href=\"#DejaVuSans-51\"/>\n    </g>\n   </g>\n   <g id=\"text_121\">\n    <!-- 3 -->\n    <g style=\"fill:#ffffff;\" transform=\"translate(430.378438 349.709375)scale(0.1 -0.1)\">\n     <use xlink:href=\"#DejaVuSans-51\"/>\n    </g>\n   </g>\n   <g id=\"text_122\">\n    <!-- 1 -->\n    <g style=\"fill:#ffffff;\" transform=\"translate(467.578438 349.709375)scale(0.1 -0.1)\">\n     <use xlink:href=\"#DejaVuSans-49\"/>\n    </g>\n   </g>\n   <g id=\"text_123\">\n    <!-- 1 -->\n    <g style=\"fill:#ffffff;\" transform=\"translate(58.378438 395.009375)scale(0.1 -0.1)\">\n     <use xlink:href=\"#DejaVuSans-49\"/>\n    </g>\n   </g>\n   <g id=\"text_124\">\n    <!-- 30 -->\n    <g style=\"fill:#ffffff;\" transform=\"translate(92.397188 395.009375)scale(0.1 -0.1)\">\n     <use xlink:href=\"#DejaVuSans-51\"/>\n     <use x=\"63.623047\" xlink:href=\"#DejaVuSans-48\"/>\n    </g>\n   </g>\n   <g id=\"text_125\">\n    <!-- 22 -->\n    <g style=\"fill:#ffffff;\" transform=\"translate(129.597187 395.009375)scale(0.1 -0.1)\">\n     <use xlink:href=\"#DejaVuSans-50\"/>\n     <use x=\"63.623047\" xlink:href=\"#DejaVuSans-50\"/>\n    </g>\n   </g>\n   <g id=\"text_126\">\n    <!-- 14 -->\n    <g style=\"fill:#ffffff;\" transform=\"translate(166.797188 395.009375)scale(0.1 -0.1)\">\n     <use xlink:href=\"#DejaVuSans-49\"/>\n     <use x=\"63.623047\" xlink:href=\"#DejaVuSans-52\"/>\n    </g>\n   </g>\n   <g id=\"text_127\">\n    <!-- 7 -->\n    <g style=\"fill:#ffffff;\" transform=\"translate(207.178438 395.009375)scale(0.1 -0.1)\">\n     <use xlink:href=\"#DejaVuSans-55\"/>\n    </g>\n   </g>\n   <g id=\"text_128\">\n    <!-- 13 -->\n    <g style=\"fill:#ffffff;\" transform=\"translate(241.197188 395.009375)scale(0.1 -0.1)\">\n     <use xlink:href=\"#DejaVuSans-49\"/>\n     <use x=\"63.623047\" xlink:href=\"#DejaVuSans-51\"/>\n    </g>\n   </g>\n   <g id=\"text_129\">\n    <!-- 2 -->\n    <g style=\"fill:#ffffff;\" transform=\"translate(281.578438 395.009375)scale(0.1 -0.1)\">\n     <use xlink:href=\"#DejaVuSans-50\"/>\n    </g>\n   </g>\n   <g id=\"text_130\">\n    <!-- 0 -->\n    <g style=\"fill:#ffffff;\" transform=\"translate(318.778437 395.009375)scale(0.1 -0.1)\">\n     <use xlink:href=\"#DejaVuSans-48\"/>\n    </g>\n   </g>\n   <g id=\"text_131\">\n    <!-- 616 -->\n    <g style=\"fill:#ffffff;\" transform=\"translate(349.615938 395.009375)scale(0.1 -0.1)\">\n     <use xlink:href=\"#DejaVuSans-54\"/>\n     <use x=\"63.623047\" xlink:href=\"#DejaVuSans-49\"/>\n     <use x=\"127.246094\" xlink:href=\"#DejaVuSans-54\"/>\n    </g>\n   </g>\n   <g id=\"text_132\">\n    <!-- 73 -->\n    <g style=\"fill:#ffffff;\" transform=\"translate(389.997188 395.009375)scale(0.1 -0.1)\">\n     <use xlink:href=\"#DejaVuSans-55\"/>\n     <use x=\"63.623047\" xlink:href=\"#DejaVuSans-51\"/>\n    </g>\n   </g>\n   <g id=\"text_133\">\n    <!-- 20 -->\n    <g style=\"fill:#ffffff;\" transform=\"translate(427.197187 395.009375)scale(0.1 -0.1)\">\n     <use xlink:href=\"#DejaVuSans-50\"/>\n     <use x=\"63.623047\" xlink:href=\"#DejaVuSans-48\"/>\n    </g>\n   </g>\n   <g id=\"text_134\">\n    <!-- 1 -->\n    <g style=\"fill:#ffffff;\" transform=\"translate(467.578438 395.009375)scale(0.1 -0.1)\">\n     <use xlink:href=\"#DejaVuSans-49\"/>\n    </g>\n   </g>\n   <g id=\"text_135\">\n    <!-- 0 -->\n    <g style=\"fill:#ffffff;\" transform=\"translate(58.378438 440.309375)scale(0.1 -0.1)\">\n     <use xlink:href=\"#DejaVuSans-48\"/>\n    </g>\n   </g>\n   <g id=\"text_136\">\n    <!-- 16 -->\n    <g style=\"fill:#ffffff;\" transform=\"translate(92.397188 440.309375)scale(0.1 -0.1)\">\n     <use xlink:href=\"#DejaVuSans-49\"/>\n     <use x=\"63.623047\" xlink:href=\"#DejaVuSans-54\"/>\n    </g>\n   </g>\n   <g id=\"text_137\">\n    <!-- 16 -->\n    <g style=\"fill:#ffffff;\" transform=\"translate(129.597187 440.309375)scale(0.1 -0.1)\">\n     <use xlink:href=\"#DejaVuSans-49\"/>\n     <use x=\"63.623047\" xlink:href=\"#DejaVuSans-54\"/>\n    </g>\n   </g>\n   <g id=\"text_138\">\n    <!-- 2 -->\n    <g style=\"fill:#ffffff;\" transform=\"translate(169.978438 440.309375)scale(0.1 -0.1)\">\n     <use xlink:href=\"#DejaVuSans-50\"/>\n    </g>\n   </g>\n   <g id=\"text_139\">\n    <!-- 8 -->\n    <g style=\"fill:#ffffff;\" transform=\"translate(207.178438 440.309375)scale(0.1 -0.1)\">\n     <use xlink:href=\"#DejaVuSans-56\"/>\n    </g>\n   </g>\n   <g id=\"text_140\">\n    <!-- 26 -->\n    <g style=\"fill:#ffffff;\" transform=\"translate(241.197188 440.309375)scale(0.1 -0.1)\">\n     <use xlink:href=\"#DejaVuSans-50\"/>\n     <use x=\"63.623047\" xlink:href=\"#DejaVuSans-54\"/>\n    </g>\n   </g>\n   <g id=\"text_141\">\n    <!-- 1 -->\n    <g style=\"fill:#ffffff;\" transform=\"translate(281.578438 440.309375)scale(0.1 -0.1)\">\n     <use xlink:href=\"#DejaVuSans-49\"/>\n    </g>\n   </g>\n   <g id=\"text_142\">\n    <!-- 11 -->\n    <g style=\"fill:#ffffff;\" transform=\"translate(315.597187 440.309375)scale(0.1 -0.1)\">\n     <use xlink:href=\"#DejaVuSans-49\"/>\n     <use x=\"63.623047\" xlink:href=\"#DejaVuSans-49\"/>\n    </g>\n   </g>\n   <g id=\"text_143\">\n    <!-- 47 -->\n    <g style=\"fill:#ffffff;\" transform=\"translate(352.797188 440.309375)scale(0.1 -0.1)\">\n     <use xlink:href=\"#DejaVuSans-52\"/>\n     <use x=\"63.623047\" xlink:href=\"#DejaVuSans-55\"/>\n    </g>\n   </g>\n   <g id=\"text_144\">\n    <!-- 894 -->\n    <g style=\"fill:#262626;\" transform=\"translate(386.815938 440.309375)scale(0.1 -0.1)\">\n     <use xlink:href=\"#DejaVuSans-56\"/>\n     <use x=\"63.623047\" xlink:href=\"#DejaVuSans-57\"/>\n     <use x=\"127.246094\" xlink:href=\"#DejaVuSans-52\"/>\n    </g>\n   </g>\n   <g id=\"text_145\">\n    <!-- 4 -->\n    <g style=\"fill:#ffffff;\" transform=\"translate(430.378438 440.309375)scale(0.1 -0.1)\">\n     <use xlink:href=\"#DejaVuSans-52\"/>\n    </g>\n   </g>\n   <g id=\"text_146\">\n    <!-- 3 -->\n    <g style=\"fill:#ffffff;\" transform=\"translate(467.578438 440.309375)scale(0.1 -0.1)\">\n     <use xlink:href=\"#DejaVuSans-51\"/>\n    </g>\n   </g>\n   <g id=\"text_147\">\n    <!-- 0 -->\n    <g style=\"fill:#ffffff;\" transform=\"translate(58.378438 485.609375)scale(0.1 -0.1)\">\n     <use xlink:href=\"#DejaVuSans-48\"/>\n    </g>\n   </g>\n   <g id=\"text_148\">\n    <!-- 10 -->\n    <g style=\"fill:#ffffff;\" transform=\"translate(92.397188 485.609375)scale(0.1 -0.1)\">\n     <use xlink:href=\"#DejaVuSans-49\"/>\n     <use x=\"63.623047\" xlink:href=\"#DejaVuSans-48\"/>\n    </g>\n   </g>\n   <g id=\"text_149\">\n    <!-- 17 -->\n    <g style=\"fill:#ffffff;\" transform=\"translate(129.597187 485.609375)scale(0.1 -0.1)\">\n     <use xlink:href=\"#DejaVuSans-49\"/>\n     <use x=\"63.623047\" xlink:href=\"#DejaVuSans-55\"/>\n    </g>\n   </g>\n   <g id=\"text_150\">\n    <!-- 2 -->\n    <g style=\"fill:#ffffff;\" transform=\"translate(169.978438 485.609375)scale(0.1 -0.1)\">\n     <use xlink:href=\"#DejaVuSans-50\"/>\n    </g>\n   </g>\n   <g id=\"text_151\">\n    <!-- 3 -->\n    <g style=\"fill:#ffffff;\" transform=\"translate(207.178438 485.609375)scale(0.1 -0.1)\">\n     <use xlink:href=\"#DejaVuSans-51\"/>\n    </g>\n   </g>\n   <g id=\"text_152\">\n    <!-- 17 -->\n    <g style=\"fill:#ffffff;\" transform=\"translate(241.197188 485.609375)scale(0.1 -0.1)\">\n     <use xlink:href=\"#DejaVuSans-49\"/>\n     <use x=\"63.623047\" xlink:href=\"#DejaVuSans-55\"/>\n    </g>\n   </g>\n   <g id=\"text_153\">\n    <!-- 18 -->\n    <g style=\"fill:#ffffff;\" transform=\"translate(278.397188 485.609375)scale(0.1 -0.1)\">\n     <use xlink:href=\"#DejaVuSans-49\"/>\n     <use x=\"63.623047\" xlink:href=\"#DejaVuSans-56\"/>\n    </g>\n   </g>\n   <g id=\"text_154\">\n    <!-- 11 -->\n    <g style=\"fill:#ffffff;\" transform=\"translate(315.597187 485.609375)scale(0.1 -0.1)\">\n     <use xlink:href=\"#DejaVuSans-49\"/>\n     <use x=\"63.623047\" xlink:href=\"#DejaVuSans-49\"/>\n    </g>\n   </g>\n   <g id=\"text_155\">\n    <!-- 36 -->\n    <g style=\"fill:#ffffff;\" transform=\"translate(352.797188 485.609375)scale(0.1 -0.1)\">\n     <use xlink:href=\"#DejaVuSans-51\"/>\n     <use x=\"63.623047\" xlink:href=\"#DejaVuSans-54\"/>\n    </g>\n   </g>\n   <g id=\"text_156\">\n    <!-- 36 -->\n    <g style=\"fill:#ffffff;\" transform=\"translate(389.997188 485.609375)scale(0.1 -0.1)\">\n     <use xlink:href=\"#DejaVuSans-51\"/>\n     <use x=\"63.623047\" xlink:href=\"#DejaVuSans-54\"/>\n    </g>\n   </g>\n   <g id=\"text_157\">\n    <!-- 616 -->\n    <g style=\"fill:#ffffff;\" transform=\"translate(424.015938 485.609375)scale(0.1 -0.1)\">\n     <use xlink:href=\"#DejaVuSans-54\"/>\n     <use x=\"63.623047\" xlink:href=\"#DejaVuSans-49\"/>\n     <use x=\"127.246094\" xlink:href=\"#DejaVuSans-54\"/>\n    </g>\n   </g>\n   <g id=\"text_158\">\n    <!-- 0 -->\n    <g style=\"fill:#ffffff;\" transform=\"translate(467.578438 485.609375)scale(0.1 -0.1)\">\n     <use xlink:href=\"#DejaVuSans-48\"/>\n    </g>\n   </g>\n   <g id=\"text_159\">\n    <!-- 0 -->\n    <g style=\"fill:#ffffff;\" transform=\"translate(58.378438 530.909375)scale(0.1 -0.1)\">\n     <use xlink:href=\"#DejaVuSans-48\"/>\n    </g>\n   </g>\n   <g id=\"text_160\">\n    <!-- 7 -->\n    <g style=\"fill:#ffffff;\" transform=\"translate(95.578438 530.909375)scale(0.1 -0.1)\">\n     <use xlink:href=\"#DejaVuSans-55\"/>\n    </g>\n   </g>\n   <g id=\"text_161\">\n    <!-- 10 -->\n    <g style=\"fill:#ffffff;\" transform=\"translate(129.597187 530.909375)scale(0.1 -0.1)\">\n     <use xlink:href=\"#DejaVuSans-49\"/>\n     <use x=\"63.623047\" xlink:href=\"#DejaVuSans-48\"/>\n    </g>\n   </g>\n   <g id=\"text_162\">\n    <!-- 6 -->\n    <g style=\"fill:#ffffff;\" transform=\"translate(169.978438 530.909375)scale(0.1 -0.1)\">\n     <use xlink:href=\"#DejaVuSans-54\"/>\n    </g>\n   </g>\n   <g id=\"text_163\">\n    <!-- 4 -->\n    <g style=\"fill:#ffffff;\" transform=\"translate(207.178438 530.909375)scale(0.1 -0.1)\">\n     <use xlink:href=\"#DejaVuSans-52\"/>\n    </g>\n   </g>\n   <g id=\"text_164\">\n    <!-- 13 -->\n    <g style=\"fill:#ffffff;\" transform=\"translate(241.197188 530.909375)scale(0.1 -0.1)\">\n     <use xlink:href=\"#DejaVuSans-49\"/>\n     <use x=\"63.623047\" xlink:href=\"#DejaVuSans-51\"/>\n    </g>\n   </g>\n   <g id=\"text_165\">\n    <!-- 0 -->\n    <g style=\"fill:#ffffff;\" transform=\"translate(281.578438 530.909375)scale(0.1 -0.1)\">\n     <use xlink:href=\"#DejaVuSans-48\"/>\n    </g>\n   </g>\n   <g id=\"text_166\">\n    <!-- 6 -->\n    <g style=\"fill:#ffffff;\" transform=\"translate(318.778437 530.909375)scale(0.1 -0.1)\">\n     <use xlink:href=\"#DejaVuSans-54\"/>\n    </g>\n   </g>\n   <g id=\"text_167\">\n    <!-- 9 -->\n    <g style=\"fill:#ffffff;\" transform=\"translate(355.978438 530.909375)scale(0.1 -0.1)\">\n     <use xlink:href=\"#DejaVuSans-57\"/>\n    </g>\n   </g>\n   <g id=\"text_168\">\n    <!-- 17 -->\n    <g style=\"fill:#ffffff;\" transform=\"translate(389.997188 530.909375)scale(0.1 -0.1)\">\n     <use xlink:href=\"#DejaVuSans-49\"/>\n     <use x=\"63.623047\" xlink:href=\"#DejaVuSans-55\"/>\n    </g>\n   </g>\n   <g id=\"text_169\">\n    <!-- 0 -->\n    <g style=\"fill:#ffffff;\" transform=\"translate(430.378438 530.909375)scale(0.1 -0.1)\">\n     <use xlink:href=\"#DejaVuSans-48\"/>\n    </g>\n   </g>\n   <g id=\"text_170\">\n    <!-- 115 -->\n    <g style=\"fill:#ffffff;\" transform=\"translate(461.215938 530.909375)scale(0.1 -0.1)\">\n     <use xlink:href=\"#DejaVuSans-49\"/>\n     <use x=\"63.623047\" xlink:href=\"#DejaVuSans-49\"/>\n     <use x=\"127.246094\" xlink:href=\"#DejaVuSans-53\"/>\n    </g>\n   </g>\n  </g>\n  <g id=\"axes_2\">\n   <g id=\"patch_3\">\n    <path clip-path=\"url(#pd12f0a79ba)\" d=\"M 517.259688 550.8 \nL 517.259688 548.676562 \nL 517.259688 9.323438 \nL 517.259688 7.2 \nL 544.439688 7.2 \nL 544.439688 9.323438 \nL 544.439688 548.676562 \nL 544.439688 550.8 \nz\n\" style=\"fill:#eaeaf2;stroke:#eaeaf2;stroke-linejoin:miter;stroke-width:0.01;\"/>\n   </g>\n   <g id=\"matplotlib.axis_3\"/>\n   <g id=\"matplotlib.axis_4\">\n    <g id=\"ytick_13\">\n     <g id=\"line2d_1\">\n      <defs>\n       <path d=\"M 0 0 \nL 6 0 \n\" id=\"m356d85e078\" style=\"stroke:#262626;stroke-width:1.25;\"/>\n      </defs>\n      <g>\n       <use style=\"fill:#262626;stroke:#262626;stroke-width:1.25;\" x=\"544.439688\" xlink:href=\"#m356d85e078\" y=\"550.8\"/>\n      </g>\n     </g>\n     <g id=\"text_171\">\n      <!-- 0 -->\n      <g style=\"fill:#262626;\" transform=\"translate(553.939688 554.979141)scale(0.11 -0.11)\">\n       <use xlink:href=\"#DejaVuSans-48\"/>\n      </g>\n     </g>\n    </g>\n    <g id=\"ytick_14\">\n     <g id=\"line2d_2\">\n      <g>\n       <use style=\"fill:#262626;stroke:#262626;stroke-width:1.25;\" x=\"544.439688\" xlink:href=\"#m356d85e078\" y=\"489.994631\"/>\n      </g>\n     </g>\n     <g id=\"text_172\">\n      <!-- 100 -->\n      <g style=\"fill:#262626;\" transform=\"translate(553.939688 494.173771)scale(0.11 -0.11)\">\n       <use xlink:href=\"#DejaVuSans-49\"/>\n       <use x=\"63.623047\" xlink:href=\"#DejaVuSans-48\"/>\n       <use x=\"127.246094\" xlink:href=\"#DejaVuSans-48\"/>\n      </g>\n     </g>\n    </g>\n    <g id=\"ytick_15\">\n     <g id=\"line2d_3\">\n      <g>\n       <use style=\"fill:#262626;stroke:#262626;stroke-width:1.25;\" x=\"544.439688\" xlink:href=\"#m356d85e078\" y=\"429.189262\"/>\n      </g>\n     </g>\n     <g id=\"text_173\">\n      <!-- 200 -->\n      <g style=\"fill:#262626;\" transform=\"translate(553.939688 433.368402)scale(0.11 -0.11)\">\n       <use xlink:href=\"#DejaVuSans-50\"/>\n       <use x=\"63.623047\" xlink:href=\"#DejaVuSans-48\"/>\n       <use x=\"127.246094\" xlink:href=\"#DejaVuSans-48\"/>\n      </g>\n     </g>\n    </g>\n    <g id=\"ytick_16\">\n     <g id=\"line2d_4\">\n      <g>\n       <use style=\"fill:#262626;stroke:#262626;stroke-width:1.25;\" x=\"544.439688\" xlink:href=\"#m356d85e078\" y=\"368.383893\"/>\n      </g>\n     </g>\n     <g id=\"text_174\">\n      <!-- 300 -->\n      <g style=\"fill:#262626;\" transform=\"translate(553.939688 372.563033)scale(0.11 -0.11)\">\n       <use xlink:href=\"#DejaVuSans-51\"/>\n       <use x=\"63.623047\" xlink:href=\"#DejaVuSans-48\"/>\n       <use x=\"127.246094\" xlink:href=\"#DejaVuSans-48\"/>\n      </g>\n     </g>\n    </g>\n    <g id=\"ytick_17\">\n     <g id=\"line2d_5\">\n      <g>\n       <use style=\"fill:#262626;stroke:#262626;stroke-width:1.25;\" x=\"544.439688\" xlink:href=\"#m356d85e078\" y=\"307.578523\"/>\n      </g>\n     </g>\n     <g id=\"text_175\">\n      <!-- 400 -->\n      <g style=\"fill:#262626;\" transform=\"translate(553.939688 311.757664)scale(0.11 -0.11)\">\n       <use xlink:href=\"#DejaVuSans-52\"/>\n       <use x=\"63.623047\" xlink:href=\"#DejaVuSans-48\"/>\n       <use x=\"127.246094\" xlink:href=\"#DejaVuSans-48\"/>\n      </g>\n     </g>\n    </g>\n    <g id=\"ytick_18\">\n     <g id=\"line2d_6\">\n      <g>\n       <use style=\"fill:#262626;stroke:#262626;stroke-width:1.25;\" x=\"544.439688\" xlink:href=\"#m356d85e078\" y=\"246.773154\"/>\n      </g>\n     </g>\n     <g id=\"text_176\">\n      <!-- 500 -->\n      <g style=\"fill:#262626;\" transform=\"translate(553.939688 250.952295)scale(0.11 -0.11)\">\n       <use xlink:href=\"#DejaVuSans-53\"/>\n       <use x=\"63.623047\" xlink:href=\"#DejaVuSans-48\"/>\n       <use x=\"127.246094\" xlink:href=\"#DejaVuSans-48\"/>\n      </g>\n     </g>\n    </g>\n    <g id=\"ytick_19\">\n     <g id=\"line2d_7\">\n      <g>\n       <use style=\"fill:#262626;stroke:#262626;stroke-width:1.25;\" x=\"544.439688\" xlink:href=\"#m356d85e078\" y=\"185.967785\"/>\n      </g>\n     </g>\n     <g id=\"text_177\">\n      <!-- 600 -->\n      <g style=\"fill:#262626;\" transform=\"translate(553.939688 190.146926)scale(0.11 -0.11)\">\n       <use xlink:href=\"#DejaVuSans-54\"/>\n       <use x=\"63.623047\" xlink:href=\"#DejaVuSans-48\"/>\n       <use x=\"127.246094\" xlink:href=\"#DejaVuSans-48\"/>\n      </g>\n     </g>\n    </g>\n    <g id=\"ytick_20\">\n     <g id=\"line2d_8\">\n      <g>\n       <use style=\"fill:#262626;stroke:#262626;stroke-width:1.25;\" x=\"544.439688\" xlink:href=\"#m356d85e078\" y=\"125.162416\"/>\n      </g>\n     </g>\n     <g id=\"text_178\">\n      <!-- 700 -->\n      <g style=\"fill:#262626;\" transform=\"translate(553.939688 129.341557)scale(0.11 -0.11)\">\n       <use xlink:href=\"#DejaVuSans-55\"/>\n       <use x=\"63.623047\" xlink:href=\"#DejaVuSans-48\"/>\n       <use x=\"127.246094\" xlink:href=\"#DejaVuSans-48\"/>\n      </g>\n     </g>\n    </g>\n    <g id=\"ytick_21\">\n     <g id=\"line2d_9\">\n      <g>\n       <use style=\"fill:#262626;stroke:#262626;stroke-width:1.25;\" x=\"544.439688\" xlink:href=\"#m356d85e078\" y=\"64.357047\"/>\n      </g>\n     </g>\n     <g id=\"text_179\">\n      <!-- 800 -->\n      <g style=\"fill:#262626;\" transform=\"translate(553.939688 68.536188)scale(0.11 -0.11)\">\n       <use xlink:href=\"#DejaVuSans-56\"/>\n       <use x=\"63.623047\" xlink:href=\"#DejaVuSans-48\"/>\n       <use x=\"127.246094\" xlink:href=\"#DejaVuSans-48\"/>\n      </g>\n     </g>\n    </g>\n   </g>\n   <image height=\"544\" id=\"imaged72b61c772\" transform=\"scale(1 -1)translate(0 -544)\" width=\"27\" x=\"517\" xlink:href=\"data:image/png;base64,\niVBORw0KGgoAAAANSUhEUgAAABsAAAIgCAYAAAB09hISAAAABHNCSVQICAgIfAhkiAAAAoNJREFUeJztnIGNIzEMxOyN00T67zMpIoQAE2QDwtzMSP69x+3X+/NdQzxTg9Za6+zBYcPK9py2lCGcvbTKtJ49WmXeNGo9q9QI59FGX+yZVpnYs3oG0LPgvmGtK4TWFUKeIUx7NjevE4Pg3foFBMEbkDxDyDOEPEPoKXffsN76CHmG0LpCKI0IYs+0yvoPQwi9iBEqNUInBqGeIZzJaebjWakBKjWCt9TmNIo3yBxtEARvz4o+QtFH6AsPgvgLTxuEIM/uG1ZAEDqeCObjqfXM27N2I4H6eM7RukLwRr80IpRGhNKIID6ez9jfhKrUEOpSz9G6QiiNCG39+4YVfYSUIXhLXc8QUoZwtrVnBQTBrMwa/U4MQmlEUKdxzjTz8dRG37uuxKX+SktdGhE6MQjerT8dfW1ABoelDKE0IuQZgvl4Dr54Op4IrSuEswd/ZTFdaqsy8b/PvJ5plWk9mw7I3LCij+CNfmlEKI0IZw9+3axnCF7PWlcI6nU1N6w0InjXVScGIWX3DSv6CB1PBPXxnBtWzxDEni1rzwoIQsoQhkutVZZnBHmG4PVsOiDWv+miDUieIUwrs3pWGglK433D1NFP2f9Mf7a1KvN6ZlY2Ny/P7hvW8USY/o1Fpf6flCGc3YkBaIPcN8wckEoNUKkRxJ51PAnq2X3DzAHxllr8cVPrmViZNo3WE+NNY59tEYo+QsoQevAgtEEQvJ71Y0RoXSGkDKFFjJBnCHmG0LMAIWUI3ujnGUKeIeQZgvh47v0aG1ZAEMzKWlcAeYZw1qPdjVbPKjWCNyA9eBBKI0KeIfQsuG+YOiBWZTvPAOoZgncRqz2TKmsRI3gDoi61dBGPDvsBjiQv/wtQWK0AAAAASUVORK5CYII=\" y=\"-6\"/>\n   <g id=\"patch_4\">\n    <path d=\"M 517.259688 550.8 \nL 517.259688 548.676562 \nL 517.259688 9.323438 \nL 517.259688 7.2 \nL 544.439688 7.2 \nL 544.439688 9.323438 \nL 544.439688 548.676562 \nL 544.439688 550.8 \nz\n\" style=\"fill:none;\"/>\n   </g>\n  </g>\n </g>\n <defs>\n  <clipPath id=\"p620eeb89fb\">\n   <rect height=\"543.6\" width=\"446.4\" x=\"42.959688\" y=\"7.2\"/>\n  </clipPath>\n  <clipPath id=\"pd12f0a79ba\">\n   <rect height=\"543.6\" width=\"27.18\" x=\"517.259688\" y=\"7.2\"/>\n  </clipPath>\n </defs>\n</svg>\n"
          },
          "metadata": {
            "tags": [],
            "needs_background": "light"
          }
        }
      ]
    },
    {
      "cell_type": "code",
      "metadata": {
        "id": "HEsCzjj3diND",
        "colab_type": "code",
        "colab": {
          "base_uri": "https://localhost:8080/",
          "height": 336
        },
        "outputId": "507375dd-d6fc-4e56-e0bb-3493453a6818"
      },
      "source": [
        "from sklearn import metrics\n",
        "print(metrics.classification_report(y_val, y_pred))"
      ],
      "execution_count": 33,
      "outputs": [
        {
          "output_type": "stream",
          "text": [
            "              precision    recall  f1-score   support\n",
            "\n",
            "           0       0.96      0.77      0.85       115\n",
            "           1       0.75      0.79      0.77       653\n",
            "          10       0.69      0.60      0.64       597\n",
            "          11       0.77      0.56      0.65       284\n",
            "           2       0.83      0.63      0.72       316\n",
            "           3       0.73      0.72      0.73       825\n",
            "           4       0.89      0.72      0.80       469\n",
            "           5       0.80      0.93      0.86       464\n",
            "           6       0.69      0.77      0.73       799\n",
            "           7       0.69      0.87      0.77      1028\n",
            "           8       0.86      0.80      0.83       766\n",
            "           9       0.86      0.61      0.72       187\n",
            "\n",
            "    accuracy                           0.76      6503\n",
            "   macro avg       0.79      0.73      0.76      6503\n",
            "weighted avg       0.76      0.76      0.76      6503\n",
            "\n"
          ],
          "name": "stdout"
        }
      ]
    },
    {
      "cell_type": "markdown",
      "metadata": {
        "id": "7Qh_LAzO9yFO",
        "colab_type": "text"
      },
      "source": [
        "We calculated \n",
        "\n",
        "- Log_loss (lower is better)\n",
        "- Accuracy \n",
        "- Precision\n",
        "- Recall\n",
        "- f1"
      ]
    },
    {
      "cell_type": "markdown",
      "metadata": {
        "id": "XS8-5FLddiNF",
        "colab_type": "text"
      },
      "source": [
        "# ML Model for Prediction on test dataset"
      ]
    },
    {
      "cell_type": "code",
      "metadata": {
        "id": "lI5fO4hgdiNF",
        "colab_type": "code",
        "colab": {
          "base_uri": "https://localhost:8080/",
          "height": 195
        },
        "outputId": "fd056ed8-315e-466e-84df-c96bf848a261"
      },
      "source": [
        "data_xtest.head()"
      ],
      "execution_count": 34,
      "outputs": [
        {
          "output_type": "execute_result",
          "data": {
            "text/html": [
              "<div>\n",
              "<style scoped>\n",
              "    .dataframe tbody tr th:only-of-type {\n",
              "        vertical-align: middle;\n",
              "    }\n",
              "\n",
              "    .dataframe tbody tr th {\n",
              "        vertical-align: top;\n",
              "    }\n",
              "\n",
              "    .dataframe thead th {\n",
              "        text-align: right;\n",
              "    }\n",
              "</style>\n",
              "<table border=\"1\" class=\"dataframe\">\n",
              "  <thead>\n",
              "    <tr style=\"text-align: right;\">\n",
              "      <th></th>\n",
              "      <th>text</th>\n",
              "    </tr>\n",
              "  </thead>\n",
              "  <tbody>\n",
              "    <tr>\n",
              "      <th>0</th>\n",
              "      <td>tvletwgzkrqvuhtwamuluhpkskpmpmiwtvuhamqvmviwlr...</td>\n",
              "    </tr>\n",
              "    <tr>\n",
              "      <th>1</th>\n",
              "      <td>qvmvuhskleenmvviengzxyuhqvmvamguuhrakrpmsauhul...</td>\n",
              "    </tr>\n",
              "    <tr>\n",
              "      <th>2</th>\n",
              "      <td>twamuhulenamuluhskvienuhqgdftwmvmkletwulvimvuh...</td>\n",
              "    </tr>\n",
              "    <tr>\n",
              "      <th>3</th>\n",
              "      <td>sooatwqvvitwqvvipmviuhoaampmpmmwuhuhraulvikrpm...</td>\n",
              "    </tr>\n",
              "    <tr>\n",
              "      <th>4</th>\n",
              "      <td>lepmuhpmdfuluhtwletwdfuhtwletwamguuhuhraezpmpm...</td>\n",
              "    </tr>\n",
              "  </tbody>\n",
              "</table>\n",
              "</div>"
            ],
            "text/plain": [
              "                                                text\n",
              "0  tvletwgzkrqvuhtwamuluhpkskpmpmiwtvuhamqvmviwlr...\n",
              "1  qvmvuhskleenmvviengzxyuhqvmvamguuhrakrpmsauhul...\n",
              "2  twamuhulenamuluhskvienuhqgdftwmvmkletwulvimvuh...\n",
              "3  sooatwqvvitwqvvipmviuhoaampmpmmwuhuhraulvikrpm...\n",
              "4  lepmuhpmdfuluhtwletwdfuhtwletwamguuhuhraezpmpm..."
            ]
          },
          "metadata": {
            "tags": []
          },
          "execution_count": 34
        }
      ]
    },
    {
      "cell_type": "code",
      "metadata": {
        "id": "OOs0Q99BdiNI",
        "colab_type": "code",
        "colab": {
          "base_uri": "https://localhost:8080/",
          "height": 118
        },
        "outputId": "4a4537f5-8e17-4174-f0d1-8d2d2f5dfcbd"
      },
      "source": [
        "labels.head()"
      ],
      "execution_count": 35,
      "outputs": [
        {
          "output_type": "execute_result",
          "data": {
            "text/plain": [
              "0    7\n",
              "1    3\n",
              "2    8\n",
              "3    3\n",
              "4    4\n",
              "Name: label, dtype: object"
            ]
          },
          "metadata": {
            "tags": []
          },
          "execution_count": 35
        }
      ]
    },
    {
      "cell_type": "code",
      "metadata": {
        "id": "qEFIVtBadiNK",
        "colab_type": "code",
        "colab": {
          "base_uri": "https://localhost:8080/",
          "height": 84
        },
        "outputId": "9ba962b7-733e-46dc-fb6a-ccd46cdf8cec"
      },
      "source": [
        "clf.fit(train_tfidf, labels)"
      ],
      "execution_count": 36,
      "outputs": [
        {
          "output_type": "execute_result",
          "data": {
            "text/plain": [
              "LinearSVC(C=1.0, class_weight=None, dual=True, fit_intercept=True,\n",
              "          intercept_scaling=1, loss='squared_hinge', max_iter=1000,\n",
              "          multi_class='ovr', penalty='l2', random_state=None, tol=0.0001,\n",
              "          verbose=0)"
            ]
          },
          "metadata": {
            "tags": []
          },
          "execution_count": 36
        }
      ]
    },
    {
      "cell_type": "code",
      "metadata": {
        "id": "kFLNeL40diNM",
        "colab_type": "code",
        "colab": {
          "base_uri": "https://localhost:8080/",
          "height": 34
        },
        "outputId": "d84fcb9d-60e5-4897-c912-a5531081c553"
      },
      "source": [
        "y_pred = clf.predict(test_tfidf)\n",
        "y_pred[:5]"
      ],
      "execution_count": 37,
      "outputs": [
        {
          "output_type": "execute_result",
          "data": {
            "text/plain": [
              "array(['6', '11', '8', '8', '8'], dtype=object)"
            ]
          },
          "metadata": {
            "tags": []
          },
          "execution_count": 37
        }
      ]
    },
    {
      "cell_type": "code",
      "metadata": {
        "id": "G4MW51RtdiNP",
        "colab_type": "code",
        "colab": {
          "base_uri": "https://localhost:8080/",
          "height": 34
        },
        "outputId": "a8a15ba1-f842-48e5-cdb4-b81e19722ea2"
      },
      "source": [
        "print(y_pred.shape)"
      ],
      "execution_count": 38,
      "outputs": [
        {
          "output_type": "stream",
          "text": [
            "(3000,)\n"
          ],
          "name": "stdout"
        }
      ]
    },
    {
      "cell_type": "code",
      "metadata": {
        "id": "GU_7saGbdiNQ",
        "colab_type": "code",
        "colab": {
          "base_uri": "https://localhost:8080/",
          "height": 195
        },
        "outputId": "e59e0807-c0b6-4f69-f165-ff3b6cb2f492"
      },
      "source": [
        "# probability distribution acc. all 12 classes\n",
        "prediction_df=pd.DataFrame(clf._predict_proba_lr(test_tfidf), columns=clf.classes_)\n",
        "prediction_df[:5]"
      ],
      "execution_count": 39,
      "outputs": [
        {
          "output_type": "execute_result",
          "data": {
            "text/html": [
              "<div>\n",
              "<style scoped>\n",
              "    .dataframe tbody tr th:only-of-type {\n",
              "        vertical-align: middle;\n",
              "    }\n",
              "\n",
              "    .dataframe tbody tr th {\n",
              "        vertical-align: top;\n",
              "    }\n",
              "\n",
              "    .dataframe thead th {\n",
              "        text-align: right;\n",
              "    }\n",
              "</style>\n",
              "<table border=\"1\" class=\"dataframe\">\n",
              "  <thead>\n",
              "    <tr style=\"text-align: right;\">\n",
              "      <th></th>\n",
              "      <th>0</th>\n",
              "      <th>1</th>\n",
              "      <th>10</th>\n",
              "      <th>11</th>\n",
              "      <th>2</th>\n",
              "      <th>3</th>\n",
              "      <th>4</th>\n",
              "      <th>5</th>\n",
              "      <th>6</th>\n",
              "      <th>7</th>\n",
              "      <th>8</th>\n",
              "      <th>9</th>\n",
              "    </tr>\n",
              "  </thead>\n",
              "  <tbody>\n",
              "    <tr>\n",
              "      <th>0</th>\n",
              "      <td>0.075169</td>\n",
              "      <td>0.067180</td>\n",
              "      <td>0.067714</td>\n",
              "      <td>0.057420</td>\n",
              "      <td>0.057642</td>\n",
              "      <td>0.082979</td>\n",
              "      <td>0.065305</td>\n",
              "      <td>0.040997</td>\n",
              "      <td>0.234623</td>\n",
              "      <td>0.094901</td>\n",
              "      <td>0.062265</td>\n",
              "      <td>0.093804</td>\n",
              "    </tr>\n",
              "    <tr>\n",
              "      <th>1</th>\n",
              "      <td>0.029431</td>\n",
              "      <td>0.088391</td>\n",
              "      <td>0.081246</td>\n",
              "      <td>0.206996</td>\n",
              "      <td>0.075486</td>\n",
              "      <td>0.104373</td>\n",
              "      <td>0.060481</td>\n",
              "      <td>0.085047</td>\n",
              "      <td>0.098058</td>\n",
              "      <td>0.029675</td>\n",
              "      <td>0.062625</td>\n",
              "      <td>0.078192</td>\n",
              "    </tr>\n",
              "    <tr>\n",
              "      <th>2</th>\n",
              "      <td>0.053382</td>\n",
              "      <td>0.062175</td>\n",
              "      <td>0.105786</td>\n",
              "      <td>0.086154</td>\n",
              "      <td>0.111127</td>\n",
              "      <td>0.109070</td>\n",
              "      <td>0.107947</td>\n",
              "      <td>0.029048</td>\n",
              "      <td>0.049669</td>\n",
              "      <td>0.095432</td>\n",
              "      <td>0.128962</td>\n",
              "      <td>0.061247</td>\n",
              "    </tr>\n",
              "    <tr>\n",
              "      <th>3</th>\n",
              "      <td>0.031155</td>\n",
              "      <td>0.125015</td>\n",
              "      <td>0.021441</td>\n",
              "      <td>0.042419</td>\n",
              "      <td>0.059697</td>\n",
              "      <td>0.036248</td>\n",
              "      <td>0.125396</td>\n",
              "      <td>0.049418</td>\n",
              "      <td>0.142872</td>\n",
              "      <td>0.023649</td>\n",
              "      <td>0.271309</td>\n",
              "      <td>0.071381</td>\n",
              "    </tr>\n",
              "    <tr>\n",
              "      <th>4</th>\n",
              "      <td>0.057864</td>\n",
              "      <td>0.063223</td>\n",
              "      <td>0.097905</td>\n",
              "      <td>0.058901</td>\n",
              "      <td>0.103011</td>\n",
              "      <td>0.091667</td>\n",
              "      <td>0.130830</td>\n",
              "      <td>0.042778</td>\n",
              "      <td>0.081880</td>\n",
              "      <td>0.054069</td>\n",
              "      <td>0.157652</td>\n",
              "      <td>0.060220</td>\n",
              "    </tr>\n",
              "  </tbody>\n",
              "</table>\n",
              "</div>"
            ],
            "text/plain": [
              "          0         1        10  ...         7         8         9\n",
              "0  0.075169  0.067180  0.067714  ...  0.094901  0.062265  0.093804\n",
              "1  0.029431  0.088391  0.081246  ...  0.029675  0.062625  0.078192\n",
              "2  0.053382  0.062175  0.105786  ...  0.095432  0.128962  0.061247\n",
              "3  0.031155  0.125015  0.021441  ...  0.023649  0.271309  0.071381\n",
              "4  0.057864  0.063223  0.097905  ...  0.054069  0.157652  0.060220\n",
              "\n",
              "[5 rows x 12 columns]"
            ]
          },
          "metadata": {
            "tags": []
          },
          "execution_count": 39
        }
      ]
    },
    {
      "cell_type": "code",
      "metadata": {
        "id": "oVmaqK5UdiNX",
        "colab_type": "code",
        "colab": {}
      },
      "source": [
        "accuracy_value_class=prediction_df.max(axis=1)"
      ],
      "execution_count": 40,
      "outputs": []
    },
    {
      "cell_type": "code",
      "metadata": {
        "id": "zedq3-2qdiNZ",
        "colab_type": "code",
        "colab": {
          "base_uri": "https://localhost:8080/",
          "height": 195
        },
        "outputId": "a3493c53-0f7d-4b47-cd94-63d59827fd3f"
      },
      "source": [
        "df_submit=data_xtest.copy()\n",
        "df_submit[\"predicted_class\"]=y_pred\n",
        "df_submit[\"probability\"]=accuracy_value_class\n",
        "df_submit.head()"
      ],
      "execution_count": 41,
      "outputs": [
        {
          "output_type": "execute_result",
          "data": {
            "text/html": [
              "<div>\n",
              "<style scoped>\n",
              "    .dataframe tbody tr th:only-of-type {\n",
              "        vertical-align: middle;\n",
              "    }\n",
              "\n",
              "    .dataframe tbody tr th {\n",
              "        vertical-align: top;\n",
              "    }\n",
              "\n",
              "    .dataframe thead th {\n",
              "        text-align: right;\n",
              "    }\n",
              "</style>\n",
              "<table border=\"1\" class=\"dataframe\">\n",
              "  <thead>\n",
              "    <tr style=\"text-align: right;\">\n",
              "      <th></th>\n",
              "      <th>text</th>\n",
              "      <th>predicted_class</th>\n",
              "      <th>probability</th>\n",
              "    </tr>\n",
              "  </thead>\n",
              "  <tbody>\n",
              "    <tr>\n",
              "      <th>0</th>\n",
              "      <td>tvletwgzkrqvuhtwamuluhpkskpmpmiwtvuhamqvmviwlr...</td>\n",
              "      <td>6</td>\n",
              "      <td>0.234623</td>\n",
              "    </tr>\n",
              "    <tr>\n",
              "      <th>1</th>\n",
              "      <td>qvmvuhskleenmvviengzxyuhqvmvamguuhrakrpmsauhul...</td>\n",
              "      <td>11</td>\n",
              "      <td>0.206996</td>\n",
              "    </tr>\n",
              "    <tr>\n",
              "      <th>2</th>\n",
              "      <td>twamuhulenamuluhskvienuhqgdftwmvmkletwulvimvuh...</td>\n",
              "      <td>8</td>\n",
              "      <td>0.128962</td>\n",
              "    </tr>\n",
              "    <tr>\n",
              "      <th>3</th>\n",
              "      <td>sooatwqvvitwqvvipmviuhoaampmpmmwuhuhraulvikrpm...</td>\n",
              "      <td>8</td>\n",
              "      <td>0.271309</td>\n",
              "    </tr>\n",
              "    <tr>\n",
              "      <th>4</th>\n",
              "      <td>lepmuhpmdfuluhtwletwdfuhtwletwamguuhuhraezpmpm...</td>\n",
              "      <td>8</td>\n",
              "      <td>0.157652</td>\n",
              "    </tr>\n",
              "  </tbody>\n",
              "</table>\n",
              "</div>"
            ],
            "text/plain": [
              "                                                text  ... probability\n",
              "0  tvletwgzkrqvuhtwamuluhpkskpmpmiwtvuhamqvmviwlr...  ...    0.234623\n",
              "1  qvmvuhskleenmvviengzxyuhqvmvamguuhrakrpmsauhul...  ...    0.206996\n",
              "2  twamuhulenamuluhskvienuhqgdftwmvmkletwulvimvuh...  ...    0.128962\n",
              "3  sooatwqvvitwqvvipmviuhoaampmpmmwuhuhraulvikrpm...  ...    0.271309\n",
              "4  lepmuhpmdfuluhtwletwdfuhtwletwamguuhuhraezpmpm...  ...    0.157652\n",
              "\n",
              "[5 rows x 3 columns]"
            ]
          },
          "metadata": {
            "tags": []
          },
          "execution_count": 41
        }
      ]
    },
    {
      "cell_type": "code",
      "metadata": {
        "id": "UtBiOA5H_VFf",
        "colab_type": "code",
        "colab": {
          "base_uri": "https://localhost:8080/",
          "height": 34
        },
        "outputId": "b324f286-1d50-49be-ddf3-bbe0a778a71d"
      },
      "source": [
        "df_submit.shape"
      ],
      "execution_count": 42,
      "outputs": [
        {
          "output_type": "execute_result",
          "data": {
            "text/plain": [
              "(3000, 3)"
            ]
          },
          "metadata": {
            "tags": []
          },
          "execution_count": 42
        }
      ]
    },
    {
      "cell_type": "markdown",
      "metadata": {
        "id": "KRLU0k8GakfX",
        "colab_type": "text"
      },
      "source": [
        "# 6-Apply Sequence model using Recurrent NN"
      ]
    },
    {
      "cell_type": "code",
      "metadata": {
        "id": "QG0Pg3mTai93",
        "colab_type": "code",
        "colab": {}
      },
      "source": [
        "from sklearn.feature_extraction.text import CountVectorizer\n",
        "from keras.preprocessing.text import Tokenizer\n",
        "from keras.preprocessing.sequence import pad_sequences\n",
        "from keras.models import Sequential\n",
        "from keras.layers import Dense, Embedding, LSTM, SpatialDropout1D,Dropout\n",
        "from keras.utils.np_utils import to_categorical\n",
        "from keras.utils import np_utils"
      ],
      "execution_count": 43,
      "outputs": []
    },
    {
      "cell_type": "code",
      "metadata": {
        "id": "XCggRE6sajG0",
        "colab_type": "code",
        "colab": {
          "base_uri": "https://localhost:8080/",
          "height": 50
        },
        "outputId": "51c8b675-5063-4c0b-fa85-475c8200bb4e"
      },
      "source": [
        "y=data_ytrain.label\n",
        "X=data_xtrain.text\n",
        "print(X.shape)\n",
        "print(y.shape)"
      ],
      "execution_count": 44,
      "outputs": [
        {
          "output_type": "stream",
          "text": [
            "(32513,)\n",
            "(32513,)\n"
          ],
          "name": "stdout"
        }
      ]
    },
    {
      "cell_type": "code",
      "metadata": {
        "id": "J0sBw-7NajKF",
        "colab_type": "code",
        "colab": {}
      },
      "source": [
        "# The maximum number of words to be used. (most frequent)\n",
        "MAX_NB_WORDS = 200\n",
        "# Max number of words in each complaint.\n",
        "MAX_SEQUENCE_LENGTH = 100\n",
        "# This is fixed.\n",
        "EMBEDDING_DIM = 100\n",
        "\n",
        "tokenizer = Tokenizer(num_words=MAX_NB_WORDS,char_level=True)\n",
        "tokenizer.fit_on_texts(X.values)"
      ],
      "execution_count": 58,
      "outputs": []
    },
    {
      "cell_type": "code",
      "metadata": {
        "id": "GxLGCIUXajNa",
        "colab_type": "code",
        "colab": {
          "base_uri": "https://localhost:8080/",
          "height": 34
        },
        "outputId": "890de6bf-45a9-46f1-cffb-3224b4657b12"
      },
      "source": [
        "word_index = tokenizer.word_index\n",
        "print('Found %s unique tokens.' % len(word_index))"
      ],
      "execution_count": 59,
      "outputs": [
        {
          "output_type": "stream",
          "text": [
            "Found 26 unique tokens.\n"
          ],
          "name": "stdout"
        }
      ]
    },
    {
      "cell_type": "code",
      "metadata": {
        "id": "hIq7DfZsajQa",
        "colab_type": "code",
        "colab": {}
      },
      "source": [
        "# convert to sequence\n",
        "X_token = tokenizer.texts_to_sequences(X.values)"
      ],
      "execution_count": 60,
      "outputs": []
    },
    {
      "cell_type": "code",
      "metadata": {
        "id": "Yuka8cDoajTr",
        "colab_type": "code",
        "colab": {
          "base_uri": "https://localhost:8080/",
          "height": 244
        },
        "outputId": "4798352a-42e8-4843-e24b-a6e06e36c1c1"
      },
      "source": [
        "pd.DataFrame(X_token).head()"
      ],
      "execution_count": 61,
      "outputs": [
        {
          "output_type": "execute_result",
          "data": {
            "text/html": [
              "<div>\n",
              "<style scoped>\n",
              "    .dataframe tbody tr th:only-of-type {\n",
              "        vertical-align: middle;\n",
              "    }\n",
              "\n",
              "    .dataframe tbody tr th {\n",
              "        vertical-align: top;\n",
              "    }\n",
              "\n",
              "    .dataframe thead th {\n",
              "        text-align: right;\n",
              "    }\n",
              "</style>\n",
              "<table border=\"1\" class=\"dataframe\">\n",
              "  <thead>\n",
              "    <tr style=\"text-align: right;\">\n",
              "      <th></th>\n",
              "      <th>0</th>\n",
              "      <th>1</th>\n",
              "      <th>2</th>\n",
              "      <th>3</th>\n",
              "      <th>4</th>\n",
              "      <th>5</th>\n",
              "      <th>6</th>\n",
              "      <th>7</th>\n",
              "      <th>8</th>\n",
              "      <th>9</th>\n",
              "      <th>10</th>\n",
              "      <th>11</th>\n",
              "      <th>12</th>\n",
              "      <th>13</th>\n",
              "      <th>14</th>\n",
              "      <th>15</th>\n",
              "      <th>16</th>\n",
              "      <th>17</th>\n",
              "      <th>18</th>\n",
              "      <th>19</th>\n",
              "      <th>20</th>\n",
              "      <th>21</th>\n",
              "      <th>22</th>\n",
              "      <th>23</th>\n",
              "      <th>24</th>\n",
              "      <th>25</th>\n",
              "      <th>26</th>\n",
              "      <th>27</th>\n",
              "      <th>28</th>\n",
              "      <th>29</th>\n",
              "      <th>30</th>\n",
              "      <th>31</th>\n",
              "      <th>32</th>\n",
              "      <th>33</th>\n",
              "      <th>34</th>\n",
              "      <th>35</th>\n",
              "      <th>36</th>\n",
              "      <th>37</th>\n",
              "      <th>38</th>\n",
              "      <th>39</th>\n",
              "      <th>...</th>\n",
              "      <th>412</th>\n",
              "      <th>413</th>\n",
              "      <th>414</th>\n",
              "      <th>415</th>\n",
              "      <th>416</th>\n",
              "      <th>417</th>\n",
              "      <th>418</th>\n",
              "      <th>419</th>\n",
              "      <th>420</th>\n",
              "      <th>421</th>\n",
              "      <th>422</th>\n",
              "      <th>423</th>\n",
              "      <th>424</th>\n",
              "      <th>425</th>\n",
              "      <th>426</th>\n",
              "      <th>427</th>\n",
              "      <th>428</th>\n",
              "      <th>429</th>\n",
              "      <th>430</th>\n",
              "      <th>431</th>\n",
              "      <th>432</th>\n",
              "      <th>433</th>\n",
              "      <th>434</th>\n",
              "      <th>435</th>\n",
              "      <th>436</th>\n",
              "      <th>437</th>\n",
              "      <th>438</th>\n",
              "      <th>439</th>\n",
              "      <th>440</th>\n",
              "      <th>441</th>\n",
              "      <th>442</th>\n",
              "      <th>443</th>\n",
              "      <th>444</th>\n",
              "      <th>445</th>\n",
              "      <th>446</th>\n",
              "      <th>447</th>\n",
              "      <th>448</th>\n",
              "      <th>449</th>\n",
              "      <th>450</th>\n",
              "      <th>451</th>\n",
              "    </tr>\n",
              "  </thead>\n",
              "  <tbody>\n",
              "    <tr>\n",
              "      <th>0</th>\n",
              "      <td>15</td>\n",
              "      <td>11</td>\n",
              "      <td>8</td>\n",
              "      <td>7</td>\n",
              "      <td>11</td>\n",
              "      <td>3</td>\n",
              "      <td>1</td>\n",
              "      <td>6</td>\n",
              "      <td>1</td>\n",
              "      <td>2</td>\n",
              "      <td>13</td>\n",
              "      <td>17</td>\n",
              "      <td>1</td>\n",
              "      <td>6</td>\n",
              "      <td>11</td>\n",
              "      <td>3</td>\n",
              "      <td>6</td>\n",
              "      <td>16</td>\n",
              "      <td>3</td>\n",
              "      <td>4</td>\n",
              "      <td>5</td>\n",
              "      <td>18</td>\n",
              "      <td>1</td>\n",
              "      <td>2</td>\n",
              "      <td>13</td>\n",
              "      <td>4</td>\n",
              "      <td>12</td>\n",
              "      <td>16</td>\n",
              "      <td>10</td>\n",
              "      <td>3</td>\n",
              "      <td>6</td>\n",
              "      <td>5</td>\n",
              "      <td>8</td>\n",
              "      <td>7</td>\n",
              "      <td>1</td>\n",
              "      <td>6</td>\n",
              "      <td>23</td>\n",
              "      <td>9</td>\n",
              "      <td>8</td>\n",
              "      <td>7</td>\n",
              "      <td>...</td>\n",
              "      <td>NaN</td>\n",
              "      <td>NaN</td>\n",
              "      <td>NaN</td>\n",
              "      <td>NaN</td>\n",
              "      <td>NaN</td>\n",
              "      <td>NaN</td>\n",
              "      <td>NaN</td>\n",
              "      <td>NaN</td>\n",
              "      <td>NaN</td>\n",
              "      <td>NaN</td>\n",
              "      <td>NaN</td>\n",
              "      <td>NaN</td>\n",
              "      <td>NaN</td>\n",
              "      <td>NaN</td>\n",
              "      <td>NaN</td>\n",
              "      <td>NaN</td>\n",
              "      <td>NaN</td>\n",
              "      <td>NaN</td>\n",
              "      <td>NaN</td>\n",
              "      <td>NaN</td>\n",
              "      <td>NaN</td>\n",
              "      <td>NaN</td>\n",
              "      <td>NaN</td>\n",
              "      <td>NaN</td>\n",
              "      <td>NaN</td>\n",
              "      <td>NaN</td>\n",
              "      <td>NaN</td>\n",
              "      <td>NaN</td>\n",
              "      <td>NaN</td>\n",
              "      <td>NaN</td>\n",
              "      <td>NaN</td>\n",
              "      <td>NaN</td>\n",
              "      <td>NaN</td>\n",
              "      <td>NaN</td>\n",
              "      <td>NaN</td>\n",
              "      <td>NaN</td>\n",
              "      <td>NaN</td>\n",
              "      <td>NaN</td>\n",
              "      <td>NaN</td>\n",
              "      <td>NaN</td>\n",
              "    </tr>\n",
              "    <tr>\n",
              "      <th>1</th>\n",
              "      <td>8</td>\n",
              "      <td>7</td>\n",
              "      <td>3</td>\n",
              "      <td>12</td>\n",
              "      <td>9</td>\n",
              "      <td>7</td>\n",
              "      <td>10</td>\n",
              "      <td>3</td>\n",
              "      <td>13</td>\n",
              "      <td>4</td>\n",
              "      <td>8</td>\n",
              "      <td>7</td>\n",
              "      <td>6</td>\n",
              "      <td>5</td>\n",
              "      <td>1</td>\n",
              "      <td>2</td>\n",
              "      <td>15</td>\n",
              "      <td>11</td>\n",
              "      <td>9</td>\n",
              "      <td>7</td>\n",
              "      <td>15</td>\n",
              "      <td>12</td>\n",
              "      <td>8</td>\n",
              "      <td>7</td>\n",
              "      <td>3</td>\n",
              "      <td>4</td>\n",
              "      <td>6</td>\n",
              "      <td>5</td>\n",
              "      <td>6</td>\n",
              "      <td>5</td>\n",
              "      <td>12</td>\n",
              "      <td>16</td>\n",
              "      <td>11</td>\n",
              "      <td>3</td>\n",
              "      <td>1</td>\n",
              "      <td>2</td>\n",
              "      <td>13</td>\n",
              "      <td>4</td>\n",
              "      <td>12</td>\n",
              "      <td>16</td>\n",
              "      <td>...</td>\n",
              "      <td>NaN</td>\n",
              "      <td>NaN</td>\n",
              "      <td>NaN</td>\n",
              "      <td>NaN</td>\n",
              "      <td>NaN</td>\n",
              "      <td>NaN</td>\n",
              "      <td>NaN</td>\n",
              "      <td>NaN</td>\n",
              "      <td>NaN</td>\n",
              "      <td>NaN</td>\n",
              "      <td>NaN</td>\n",
              "      <td>NaN</td>\n",
              "      <td>NaN</td>\n",
              "      <td>NaN</td>\n",
              "      <td>NaN</td>\n",
              "      <td>NaN</td>\n",
              "      <td>NaN</td>\n",
              "      <td>NaN</td>\n",
              "      <td>NaN</td>\n",
              "      <td>NaN</td>\n",
              "      <td>NaN</td>\n",
              "      <td>NaN</td>\n",
              "      <td>NaN</td>\n",
              "      <td>NaN</td>\n",
              "      <td>NaN</td>\n",
              "      <td>NaN</td>\n",
              "      <td>NaN</td>\n",
              "      <td>NaN</td>\n",
              "      <td>NaN</td>\n",
              "      <td>NaN</td>\n",
              "      <td>NaN</td>\n",
              "      <td>NaN</td>\n",
              "      <td>NaN</td>\n",
              "      <td>NaN</td>\n",
              "      <td>NaN</td>\n",
              "      <td>NaN</td>\n",
              "      <td>NaN</td>\n",
              "      <td>NaN</td>\n",
              "      <td>NaN</td>\n",
              "      <td>NaN</td>\n",
              "    </tr>\n",
              "    <tr>\n",
              "      <th>2</th>\n",
              "      <td>4</td>\n",
              "      <td>9</td>\n",
              "      <td>19</td>\n",
              "      <td>20</td>\n",
              "      <td>10</td>\n",
              "      <td>3</td>\n",
              "      <td>15</td>\n",
              "      <td>12</td>\n",
              "      <td>1</td>\n",
              "      <td>2</td>\n",
              "      <td>4</td>\n",
              "      <td>9</td>\n",
              "      <td>6</td>\n",
              "      <td>5</td>\n",
              "      <td>10</td>\n",
              "      <td>3</td>\n",
              "      <td>1</td>\n",
              "      <td>6</td>\n",
              "      <td>1</td>\n",
              "      <td>2</td>\n",
              "      <td>8</td>\n",
              "      <td>7</td>\n",
              "      <td>8</td>\n",
              "      <td>4</td>\n",
              "      <td>1</td>\n",
              "      <td>2</td>\n",
              "      <td>1</td>\n",
              "      <td>6</td>\n",
              "      <td>15</td>\n",
              "      <td>24</td>\n",
              "      <td>4</td>\n",
              "      <td>9</td>\n",
              "      <td>5</td>\n",
              "      <td>14</td>\n",
              "      <td>11</td>\n",
              "      <td>3</td>\n",
              "      <td>13</td>\n",
              "      <td>4</td>\n",
              "      <td>1</td>\n",
              "      <td>2</td>\n",
              "      <td>...</td>\n",
              "      <td>8.0</td>\n",
              "      <td>7.0</td>\n",
              "      <td>11.0</td>\n",
              "      <td>3.0</td>\n",
              "      <td>1.0</td>\n",
              "      <td>6.0</td>\n",
              "      <td>NaN</td>\n",
              "      <td>NaN</td>\n",
              "      <td>NaN</td>\n",
              "      <td>NaN</td>\n",
              "      <td>NaN</td>\n",
              "      <td>NaN</td>\n",
              "      <td>NaN</td>\n",
              "      <td>NaN</td>\n",
              "      <td>NaN</td>\n",
              "      <td>NaN</td>\n",
              "      <td>NaN</td>\n",
              "      <td>NaN</td>\n",
              "      <td>NaN</td>\n",
              "      <td>NaN</td>\n",
              "      <td>NaN</td>\n",
              "      <td>NaN</td>\n",
              "      <td>NaN</td>\n",
              "      <td>NaN</td>\n",
              "      <td>NaN</td>\n",
              "      <td>NaN</td>\n",
              "      <td>NaN</td>\n",
              "      <td>NaN</td>\n",
              "      <td>NaN</td>\n",
              "      <td>NaN</td>\n",
              "      <td>NaN</td>\n",
              "      <td>NaN</td>\n",
              "      <td>NaN</td>\n",
              "      <td>NaN</td>\n",
              "      <td>NaN</td>\n",
              "      <td>NaN</td>\n",
              "      <td>NaN</td>\n",
              "      <td>NaN</td>\n",
              "      <td>NaN</td>\n",
              "      <td>NaN</td>\n",
              "    </tr>\n",
              "    <tr>\n",
              "      <th>3</th>\n",
              "      <td>16</td>\n",
              "      <td>11</td>\n",
              "      <td>15</td>\n",
              "      <td>12</td>\n",
              "      <td>6</td>\n",
              "      <td>5</td>\n",
              "      <td>5</td>\n",
              "      <td>14</td>\n",
              "      <td>12</td>\n",
              "      <td>16</td>\n",
              "      <td>6</td>\n",
              "      <td>16</td>\n",
              "      <td>1</td>\n",
              "      <td>2</td>\n",
              "      <td>8</td>\n",
              "      <td>7</td>\n",
              "      <td>1</td>\n",
              "      <td>6</td>\n",
              "      <td>5</td>\n",
              "      <td>14</td>\n",
              "      <td>6</td>\n",
              "      <td>5</td>\n",
              "      <td>5</td>\n",
              "      <td>14</td>\n",
              "      <td>17</td>\n",
              "      <td>18</td>\n",
              "      <td>8</td>\n",
              "      <td>7</td>\n",
              "      <td>13</td>\n",
              "      <td>4</td>\n",
              "      <td>1</td>\n",
              "      <td>2</td>\n",
              "      <td>5</td>\n",
              "      <td>14</td>\n",
              "      <td>1</td>\n",
              "      <td>2</td>\n",
              "      <td>15</td>\n",
              "      <td>11</td>\n",
              "      <td>8</td>\n",
              "      <td>4</td>\n",
              "      <td>...</td>\n",
              "      <td>1.0</td>\n",
              "      <td>6.0</td>\n",
              "      <td>1.0</td>\n",
              "      <td>2.0</td>\n",
              "      <td>15.0</td>\n",
              "      <td>12.0</td>\n",
              "      <td>4.0</td>\n",
              "      <td>9.0</td>\n",
              "      <td>12.0</td>\n",
              "      <td>16.0</td>\n",
              "      <td>10.0</td>\n",
              "      <td>3.0</td>\n",
              "      <td>13.0</td>\n",
              "      <td>4.0</td>\n",
              "      <td>NaN</td>\n",
              "      <td>NaN</td>\n",
              "      <td>NaN</td>\n",
              "      <td>NaN</td>\n",
              "      <td>NaN</td>\n",
              "      <td>NaN</td>\n",
              "      <td>NaN</td>\n",
              "      <td>NaN</td>\n",
              "      <td>NaN</td>\n",
              "      <td>NaN</td>\n",
              "      <td>NaN</td>\n",
              "      <td>NaN</td>\n",
              "      <td>NaN</td>\n",
              "      <td>NaN</td>\n",
              "      <td>NaN</td>\n",
              "      <td>NaN</td>\n",
              "      <td>NaN</td>\n",
              "      <td>NaN</td>\n",
              "      <td>NaN</td>\n",
              "      <td>NaN</td>\n",
              "      <td>NaN</td>\n",
              "      <td>NaN</td>\n",
              "      <td>NaN</td>\n",
              "      <td>NaN</td>\n",
              "      <td>NaN</td>\n",
              "      <td>NaN</td>\n",
              "    </tr>\n",
              "    <tr>\n",
              "      <th>4</th>\n",
              "      <td>19</td>\n",
              "      <td>20</td>\n",
              "      <td>5</td>\n",
              "      <td>14</td>\n",
              "      <td>13</td>\n",
              "      <td>4</td>\n",
              "      <td>1</td>\n",
              "      <td>2</td>\n",
              "      <td>8</td>\n",
              "      <td>7</td>\n",
              "      <td>11</td>\n",
              "      <td>3</td>\n",
              "      <td>13</td>\n",
              "      <td>4</td>\n",
              "      <td>1</td>\n",
              "      <td>2</td>\n",
              "      <td>13</td>\n",
              "      <td>17</td>\n",
              "      <td>8</td>\n",
              "      <td>7</td>\n",
              "      <td>9</td>\n",
              "      <td>7</td>\n",
              "      <td>8</td>\n",
              "      <td>4</td>\n",
              "      <td>5</td>\n",
              "      <td>14</td>\n",
              "      <td>1</td>\n",
              "      <td>6</td>\n",
              "      <td>1</td>\n",
              "      <td>2</td>\n",
              "      <td>13</td>\n",
              "      <td>4</td>\n",
              "      <td>9</td>\n",
              "      <td>25</td>\n",
              "      <td>6</td>\n",
              "      <td>5</td>\n",
              "      <td>8</td>\n",
              "      <td>7</td>\n",
              "      <td>11</td>\n",
              "      <td>3</td>\n",
              "      <td>...</td>\n",
              "      <td>4.0</td>\n",
              "      <td>9.0</td>\n",
              "      <td>3.0</td>\n",
              "      <td>4.0</td>\n",
              "      <td>NaN</td>\n",
              "      <td>NaN</td>\n",
              "      <td>NaN</td>\n",
              "      <td>NaN</td>\n",
              "      <td>NaN</td>\n",
              "      <td>NaN</td>\n",
              "      <td>NaN</td>\n",
              "      <td>NaN</td>\n",
              "      <td>NaN</td>\n",
              "      <td>NaN</td>\n",
              "      <td>NaN</td>\n",
              "      <td>NaN</td>\n",
              "      <td>NaN</td>\n",
              "      <td>NaN</td>\n",
              "      <td>NaN</td>\n",
              "      <td>NaN</td>\n",
              "      <td>NaN</td>\n",
              "      <td>NaN</td>\n",
              "      <td>NaN</td>\n",
              "      <td>NaN</td>\n",
              "      <td>NaN</td>\n",
              "      <td>NaN</td>\n",
              "      <td>NaN</td>\n",
              "      <td>NaN</td>\n",
              "      <td>NaN</td>\n",
              "      <td>NaN</td>\n",
              "      <td>NaN</td>\n",
              "      <td>NaN</td>\n",
              "      <td>NaN</td>\n",
              "      <td>NaN</td>\n",
              "      <td>NaN</td>\n",
              "      <td>NaN</td>\n",
              "      <td>NaN</td>\n",
              "      <td>NaN</td>\n",
              "      <td>NaN</td>\n",
              "      <td>NaN</td>\n",
              "    </tr>\n",
              "  </tbody>\n",
              "</table>\n",
              "<p>5 rows × 452 columns</p>\n",
              "</div>"
            ],
            "text/plain": [
              "   0    1    2    3    4    5    6    ...  445  446  447  448  449  450  451\n",
              "0   15   11    8    7   11    3    1  ...  NaN  NaN  NaN  NaN  NaN  NaN  NaN\n",
              "1    8    7    3   12    9    7   10  ...  NaN  NaN  NaN  NaN  NaN  NaN  NaN\n",
              "2    4    9   19   20   10    3   15  ...  NaN  NaN  NaN  NaN  NaN  NaN  NaN\n",
              "3   16   11   15   12    6    5    5  ...  NaN  NaN  NaN  NaN  NaN  NaN  NaN\n",
              "4   19   20    5   14   13    4    1  ...  NaN  NaN  NaN  NaN  NaN  NaN  NaN\n",
              "\n",
              "[5 rows x 452 columns]"
            ]
          },
          "metadata": {
            "tags": []
          },
          "execution_count": 61
        }
      ]
    },
    {
      "cell_type": "code",
      "metadata": {
        "id": "kr-Jf1aKajWg",
        "colab_type": "code",
        "colab": {}
      },
      "source": [
        "X_pd_sq = pad_sequences(X_token,maxlen=MAX_SEQUENCE_LENGTH)"
      ],
      "execution_count": 62,
      "outputs": []
    },
    {
      "cell_type": "code",
      "metadata": {
        "id": "n8GfohEbajZm",
        "colab_type": "code",
        "colab": {
          "base_uri": "https://localhost:8080/",
          "height": 34
        },
        "outputId": "31fd1023-3522-4a88-fac2-f1a7ba5e693d"
      },
      "source": [
        "print('Shape of data tensor:', X_pd_sq.shape)"
      ],
      "execution_count": 63,
      "outputs": [
        {
          "output_type": "stream",
          "text": [
            "Shape of data tensor: (32513, 100)\n"
          ],
          "name": "stdout"
        }
      ]
    },
    {
      "cell_type": "code",
      "metadata": {
        "id": "oq3SA2paGf5V",
        "colab_type": "code",
        "colab": {
          "base_uri": "https://localhost:8080/",
          "height": 244
        },
        "outputId": "b40a9147-085b-42ac-ef18-a8ad1c449cbe"
      },
      "source": [
        "pd.DataFrame(X_pd_sq).head()"
      ],
      "execution_count": 64,
      "outputs": [
        {
          "output_type": "execute_result",
          "data": {
            "text/html": [
              "<div>\n",
              "<style scoped>\n",
              "    .dataframe tbody tr th:only-of-type {\n",
              "        vertical-align: middle;\n",
              "    }\n",
              "\n",
              "    .dataframe tbody tr th {\n",
              "        vertical-align: top;\n",
              "    }\n",
              "\n",
              "    .dataframe thead th {\n",
              "        text-align: right;\n",
              "    }\n",
              "</style>\n",
              "<table border=\"1\" class=\"dataframe\">\n",
              "  <thead>\n",
              "    <tr style=\"text-align: right;\">\n",
              "      <th></th>\n",
              "      <th>0</th>\n",
              "      <th>1</th>\n",
              "      <th>2</th>\n",
              "      <th>3</th>\n",
              "      <th>4</th>\n",
              "      <th>5</th>\n",
              "      <th>6</th>\n",
              "      <th>7</th>\n",
              "      <th>8</th>\n",
              "      <th>9</th>\n",
              "      <th>10</th>\n",
              "      <th>11</th>\n",
              "      <th>12</th>\n",
              "      <th>13</th>\n",
              "      <th>14</th>\n",
              "      <th>15</th>\n",
              "      <th>16</th>\n",
              "      <th>17</th>\n",
              "      <th>18</th>\n",
              "      <th>19</th>\n",
              "      <th>20</th>\n",
              "      <th>21</th>\n",
              "      <th>22</th>\n",
              "      <th>23</th>\n",
              "      <th>24</th>\n",
              "      <th>25</th>\n",
              "      <th>26</th>\n",
              "      <th>27</th>\n",
              "      <th>28</th>\n",
              "      <th>29</th>\n",
              "      <th>30</th>\n",
              "      <th>31</th>\n",
              "      <th>32</th>\n",
              "      <th>33</th>\n",
              "      <th>34</th>\n",
              "      <th>35</th>\n",
              "      <th>36</th>\n",
              "      <th>37</th>\n",
              "      <th>38</th>\n",
              "      <th>39</th>\n",
              "      <th>...</th>\n",
              "      <th>60</th>\n",
              "      <th>61</th>\n",
              "      <th>62</th>\n",
              "      <th>63</th>\n",
              "      <th>64</th>\n",
              "      <th>65</th>\n",
              "      <th>66</th>\n",
              "      <th>67</th>\n",
              "      <th>68</th>\n",
              "      <th>69</th>\n",
              "      <th>70</th>\n",
              "      <th>71</th>\n",
              "      <th>72</th>\n",
              "      <th>73</th>\n",
              "      <th>74</th>\n",
              "      <th>75</th>\n",
              "      <th>76</th>\n",
              "      <th>77</th>\n",
              "      <th>78</th>\n",
              "      <th>79</th>\n",
              "      <th>80</th>\n",
              "      <th>81</th>\n",
              "      <th>82</th>\n",
              "      <th>83</th>\n",
              "      <th>84</th>\n",
              "      <th>85</th>\n",
              "      <th>86</th>\n",
              "      <th>87</th>\n",
              "      <th>88</th>\n",
              "      <th>89</th>\n",
              "      <th>90</th>\n",
              "      <th>91</th>\n",
              "      <th>92</th>\n",
              "      <th>93</th>\n",
              "      <th>94</th>\n",
              "      <th>95</th>\n",
              "      <th>96</th>\n",
              "      <th>97</th>\n",
              "      <th>98</th>\n",
              "      <th>99</th>\n",
              "    </tr>\n",
              "  </thead>\n",
              "  <tbody>\n",
              "    <tr>\n",
              "      <th>0</th>\n",
              "      <td>17</td>\n",
              "      <td>18</td>\n",
              "      <td>8</td>\n",
              "      <td>7</td>\n",
              "      <td>8</td>\n",
              "      <td>7</td>\n",
              "      <td>15</td>\n",
              "      <td>12</td>\n",
              "      <td>1</td>\n",
              "      <td>2</td>\n",
              "      <td>8</td>\n",
              "      <td>7</td>\n",
              "      <td>6</td>\n",
              "      <td>16</td>\n",
              "      <td>12</td>\n",
              "      <td>16</td>\n",
              "      <td>10</td>\n",
              "      <td>3</td>\n",
              "      <td>6</td>\n",
              "      <td>16</td>\n",
              "      <td>1</td>\n",
              "      <td>2</td>\n",
              "      <td>10</td>\n",
              "      <td>3</td>\n",
              "      <td>1</td>\n",
              "      <td>6</td>\n",
              "      <td>1</td>\n",
              "      <td>2</td>\n",
              "      <td>13</td>\n",
              "      <td>4</td>\n",
              "      <td>5</td>\n",
              "      <td>14</td>\n",
              "      <td>1</td>\n",
              "      <td>2</td>\n",
              "      <td>8</td>\n",
              "      <td>7</td>\n",
              "      <td>21</td>\n",
              "      <td>10</td>\n",
              "      <td>6</td>\n",
              "      <td>5</td>\n",
              "      <td>...</td>\n",
              "      <td>11</td>\n",
              "      <td>3</td>\n",
              "      <td>1</td>\n",
              "      <td>6</td>\n",
              "      <td>3</td>\n",
              "      <td>4</td>\n",
              "      <td>19</td>\n",
              "      <td>20</td>\n",
              "      <td>1</td>\n",
              "      <td>2</td>\n",
              "      <td>13</td>\n",
              "      <td>4</td>\n",
              "      <td>15</td>\n",
              "      <td>12</td>\n",
              "      <td>5</td>\n",
              "      <td>14</td>\n",
              "      <td>8</td>\n",
              "      <td>7</td>\n",
              "      <td>11</td>\n",
              "      <td>3</td>\n",
              "      <td>6</td>\n",
              "      <td>5</td>\n",
              "      <td>8</td>\n",
              "      <td>7</td>\n",
              "      <td>6</td>\n",
              "      <td>16</td>\n",
              "      <td>6</td>\n",
              "      <td>16</td>\n",
              "      <td>10</td>\n",
              "      <td>3</td>\n",
              "      <td>9</td>\n",
              "      <td>7</td>\n",
              "      <td>1</td>\n",
              "      <td>2</td>\n",
              "      <td>8</td>\n",
              "      <td>7</td>\n",
              "      <td>11</td>\n",
              "      <td>3</td>\n",
              "      <td>1</td>\n",
              "      <td>6</td>\n",
              "    </tr>\n",
              "    <tr>\n",
              "      <th>1</th>\n",
              "      <td>8</td>\n",
              "      <td>7</td>\n",
              "      <td>6</td>\n",
              "      <td>5</td>\n",
              "      <td>1</td>\n",
              "      <td>2</td>\n",
              "      <td>4</td>\n",
              "      <td>9</td>\n",
              "      <td>5</td>\n",
              "      <td>14</td>\n",
              "      <td>3</td>\n",
              "      <td>4</td>\n",
              "      <td>21</td>\n",
              "      <td>10</td>\n",
              "      <td>13</td>\n",
              "      <td>4</td>\n",
              "      <td>10</td>\n",
              "      <td>3</td>\n",
              "      <td>25</td>\n",
              "      <td>5</td>\n",
              "      <td>1</td>\n",
              "      <td>2</td>\n",
              "      <td>22</td>\n",
              "      <td>5</td>\n",
              "      <td>10</td>\n",
              "      <td>3</td>\n",
              "      <td>1</td>\n",
              "      <td>2</td>\n",
              "      <td>6</td>\n",
              "      <td>5</td>\n",
              "      <td>12</td>\n",
              "      <td>16</td>\n",
              "      <td>8</td>\n",
              "      <td>7</td>\n",
              "      <td>1</td>\n",
              "      <td>6</td>\n",
              "      <td>5</td>\n",
              "      <td>14</td>\n",
              "      <td>5</td>\n",
              "      <td>18</td>\n",
              "      <td>...</td>\n",
              "      <td>6</td>\n",
              "      <td>5</td>\n",
              "      <td>17</td>\n",
              "      <td>18</td>\n",
              "      <td>1</td>\n",
              "      <td>2</td>\n",
              "      <td>15</td>\n",
              "      <td>12</td>\n",
              "      <td>8</td>\n",
              "      <td>7</td>\n",
              "      <td>1</td>\n",
              "      <td>6</td>\n",
              "      <td>5</td>\n",
              "      <td>14</td>\n",
              "      <td>6</td>\n",
              "      <td>5</td>\n",
              "      <td>8</td>\n",
              "      <td>4</td>\n",
              "      <td>8</td>\n",
              "      <td>7</td>\n",
              "      <td>9</td>\n",
              "      <td>7</td>\n",
              "      <td>8</td>\n",
              "      <td>7</td>\n",
              "      <td>21</td>\n",
              "      <td>10</td>\n",
              "      <td>1</td>\n",
              "      <td>2</td>\n",
              "      <td>8</td>\n",
              "      <td>7</td>\n",
              "      <td>11</td>\n",
              "      <td>3</td>\n",
              "      <td>1</td>\n",
              "      <td>6</td>\n",
              "      <td>1</td>\n",
              "      <td>2</td>\n",
              "      <td>10</td>\n",
              "      <td>3</td>\n",
              "      <td>1</td>\n",
              "      <td>6</td>\n",
              "    </tr>\n",
              "    <tr>\n",
              "      <th>2</th>\n",
              "      <td>9</td>\n",
              "      <td>7</td>\n",
              "      <td>17</td>\n",
              "      <td>18</td>\n",
              "      <td>13</td>\n",
              "      <td>4</td>\n",
              "      <td>1</td>\n",
              "      <td>2</td>\n",
              "      <td>9</td>\n",
              "      <td>7</td>\n",
              "      <td>9</td>\n",
              "      <td>7</td>\n",
              "      <td>15</td>\n",
              "      <td>24</td>\n",
              "      <td>9</td>\n",
              "      <td>17</td>\n",
              "      <td>1</td>\n",
              "      <td>2</td>\n",
              "      <td>6</td>\n",
              "      <td>5</td>\n",
              "      <td>10</td>\n",
              "      <td>3</td>\n",
              "      <td>1</td>\n",
              "      <td>2</td>\n",
              "      <td>13</td>\n",
              "      <td>17</td>\n",
              "      <td>8</td>\n",
              "      <td>7</td>\n",
              "      <td>5</td>\n",
              "      <td>18</td>\n",
              "      <td>1</td>\n",
              "      <td>2</td>\n",
              "      <td>5</td>\n",
              "      <td>18</td>\n",
              "      <td>10</td>\n",
              "      <td>3</td>\n",
              "      <td>6</td>\n",
              "      <td>5</td>\n",
              "      <td>22</td>\n",
              "      <td>5</td>\n",
              "      <td>...</td>\n",
              "      <td>15</td>\n",
              "      <td>24</td>\n",
              "      <td>1</td>\n",
              "      <td>2</td>\n",
              "      <td>1</td>\n",
              "      <td>2</td>\n",
              "      <td>16</td>\n",
              "      <td>11</td>\n",
              "      <td>17</td>\n",
              "      <td>18</td>\n",
              "      <td>13</td>\n",
              "      <td>4</td>\n",
              "      <td>5</td>\n",
              "      <td>14</td>\n",
              "      <td>6</td>\n",
              "      <td>5</td>\n",
              "      <td>6</td>\n",
              "      <td>16</td>\n",
              "      <td>1</td>\n",
              "      <td>2</td>\n",
              "      <td>13</td>\n",
              "      <td>4</td>\n",
              "      <td>15</td>\n",
              "      <td>24</td>\n",
              "      <td>9</td>\n",
              "      <td>7</td>\n",
              "      <td>6</td>\n",
              "      <td>5</td>\n",
              "      <td>3</td>\n",
              "      <td>4</td>\n",
              "      <td>6</td>\n",
              "      <td>16</td>\n",
              "      <td>1</td>\n",
              "      <td>2</td>\n",
              "      <td>8</td>\n",
              "      <td>7</td>\n",
              "      <td>11</td>\n",
              "      <td>3</td>\n",
              "      <td>1</td>\n",
              "      <td>6</td>\n",
              "    </tr>\n",
              "    <tr>\n",
              "      <th>3</th>\n",
              "      <td>6</td>\n",
              "      <td>5</td>\n",
              "      <td>5</td>\n",
              "      <td>14</td>\n",
              "      <td>8</td>\n",
              "      <td>7</td>\n",
              "      <td>1</td>\n",
              "      <td>2</td>\n",
              "      <td>15</td>\n",
              "      <td>11</td>\n",
              "      <td>5</td>\n",
              "      <td>18</td>\n",
              "      <td>1</td>\n",
              "      <td>2</td>\n",
              "      <td>8</td>\n",
              "      <td>7</td>\n",
              "      <td>15</td>\n",
              "      <td>12</td>\n",
              "      <td>3</td>\n",
              "      <td>4</td>\n",
              "      <td>13</td>\n",
              "      <td>4</td>\n",
              "      <td>4</td>\n",
              "      <td>9</td>\n",
              "      <td>3</td>\n",
              "      <td>4</td>\n",
              "      <td>1</td>\n",
              "      <td>2</td>\n",
              "      <td>6</td>\n",
              "      <td>16</td>\n",
              "      <td>4</td>\n",
              "      <td>9</td>\n",
              "      <td>3</td>\n",
              "      <td>4</td>\n",
              "      <td>11</td>\n",
              "      <td>3</td>\n",
              "      <td>1</td>\n",
              "      <td>6</td>\n",
              "      <td>8</td>\n",
              "      <td>7</td>\n",
              "      <td>...</td>\n",
              "      <td>10</td>\n",
              "      <td>3</td>\n",
              "      <td>1</td>\n",
              "      <td>6</td>\n",
              "      <td>1</td>\n",
              "      <td>2</td>\n",
              "      <td>15</td>\n",
              "      <td>12</td>\n",
              "      <td>8</td>\n",
              "      <td>7</td>\n",
              "      <td>5</td>\n",
              "      <td>18</td>\n",
              "      <td>8</td>\n",
              "      <td>7</td>\n",
              "      <td>8</td>\n",
              "      <td>7</td>\n",
              "      <td>13</td>\n",
              "      <td>4</td>\n",
              "      <td>1</td>\n",
              "      <td>2</td>\n",
              "      <td>1</td>\n",
              "      <td>6</td>\n",
              "      <td>5</td>\n",
              "      <td>14</td>\n",
              "      <td>11</td>\n",
              "      <td>3</td>\n",
              "      <td>1</td>\n",
              "      <td>6</td>\n",
              "      <td>1</td>\n",
              "      <td>2</td>\n",
              "      <td>15</td>\n",
              "      <td>12</td>\n",
              "      <td>4</td>\n",
              "      <td>9</td>\n",
              "      <td>12</td>\n",
              "      <td>16</td>\n",
              "      <td>10</td>\n",
              "      <td>3</td>\n",
              "      <td>13</td>\n",
              "      <td>4</td>\n",
              "    </tr>\n",
              "    <tr>\n",
              "      <th>4</th>\n",
              "      <td>1</td>\n",
              "      <td>23</td>\n",
              "      <td>3</td>\n",
              "      <td>4</td>\n",
              "      <td>9</td>\n",
              "      <td>7</td>\n",
              "      <td>1</td>\n",
              "      <td>2</td>\n",
              "      <td>1</td>\n",
              "      <td>6</td>\n",
              "      <td>5</td>\n",
              "      <td>14</td>\n",
              "      <td>8</td>\n",
              "      <td>7</td>\n",
              "      <td>8</td>\n",
              "      <td>4</td>\n",
              "      <td>1</td>\n",
              "      <td>2</td>\n",
              "      <td>5</td>\n",
              "      <td>14</td>\n",
              "      <td>1</td>\n",
              "      <td>2</td>\n",
              "      <td>11</td>\n",
              "      <td>3</td>\n",
              "      <td>1</td>\n",
              "      <td>6</td>\n",
              "      <td>3</td>\n",
              "      <td>4</td>\n",
              "      <td>19</td>\n",
              "      <td>20</td>\n",
              "      <td>1</td>\n",
              "      <td>2</td>\n",
              "      <td>15</td>\n",
              "      <td>12</td>\n",
              "      <td>4</td>\n",
              "      <td>9</td>\n",
              "      <td>10</td>\n",
              "      <td>3</td>\n",
              "      <td>21</td>\n",
              "      <td>10</td>\n",
              "      <td>...</td>\n",
              "      <td>8</td>\n",
              "      <td>7</td>\n",
              "      <td>6</td>\n",
              "      <td>5</td>\n",
              "      <td>12</td>\n",
              "      <td>16</td>\n",
              "      <td>13</td>\n",
              "      <td>4</td>\n",
              "      <td>5</td>\n",
              "      <td>14</td>\n",
              "      <td>8</td>\n",
              "      <td>7</td>\n",
              "      <td>5</td>\n",
              "      <td>18</td>\n",
              "      <td>1</td>\n",
              "      <td>2</td>\n",
              "      <td>11</td>\n",
              "      <td>3</td>\n",
              "      <td>21</td>\n",
              "      <td>10</td>\n",
              "      <td>3</td>\n",
              "      <td>4</td>\n",
              "      <td>11</td>\n",
              "      <td>3</td>\n",
              "      <td>19</td>\n",
              "      <td>20</td>\n",
              "      <td>1</td>\n",
              "      <td>2</td>\n",
              "      <td>13</td>\n",
              "      <td>17</td>\n",
              "      <td>1</td>\n",
              "      <td>6</td>\n",
              "      <td>3</td>\n",
              "      <td>4</td>\n",
              "      <td>1</td>\n",
              "      <td>2</td>\n",
              "      <td>4</td>\n",
              "      <td>9</td>\n",
              "      <td>3</td>\n",
              "      <td>4</td>\n",
              "    </tr>\n",
              "  </tbody>\n",
              "</table>\n",
              "<p>5 rows × 100 columns</p>\n",
              "</div>"
            ],
            "text/plain": [
              "   0   1   2   3   4   5   6   7   8   ...  91  92  93  94  95  96  97  98  99\n",
              "0  17  18   8   7   8   7  15  12   1  ...   7   1   2   8   7  11   3   1   6\n",
              "1   8   7   6   5   1   2   4   9   5  ...   3   1   6   1   2  10   3   1   6\n",
              "2   9   7  17  18  13   4   1   2   9  ...  16   1   2   8   7  11   3   1   6\n",
              "3   6   5   5  14   8   7   1   2  15  ...  12   4   9  12  16  10   3  13   4\n",
              "4   1  23   3   4   9   7   1   2   1  ...   6   3   4   1   2   4   9   3   4\n",
              "\n",
              "[5 rows x 100 columns]"
            ]
          },
          "metadata": {
            "tags": []
          },
          "execution_count": 64
        }
      ]
    },
    {
      "cell_type": "code",
      "metadata": {
        "id": "cH5r0zUrh6G7",
        "colab_type": "code",
        "colab": {}
      },
      "source": [
        "from sklearn.model_selection import train_test_split\n",
        "X_train, X_val, y_train, y_val = train_test_split(X_pd_sq,y,random_state=42)"
      ],
      "execution_count": 65,
      "outputs": []
    },
    {
      "cell_type": "code",
      "metadata": {
        "id": "h1mDzz09iG2L",
        "colab_type": "code",
        "colab": {
          "base_uri": "https://localhost:8080/",
          "height": 84
        },
        "outputId": "62bc05f8-9014-43ae-c250-b0c4a52094a9"
      },
      "source": [
        "print(X_train.shape)\n",
        "print(X_val.shape)\n",
        "print(y_train.shape)\n",
        "print(y_val.shape)"
      ],
      "execution_count": 66,
      "outputs": [
        {
          "output_type": "stream",
          "text": [
            "(24384, 100)\n",
            "(8129, 100)\n",
            "(24384,)\n",
            "(8129,)\n"
          ],
          "name": "stdout"
        }
      ]
    },
    {
      "cell_type": "code",
      "metadata": {
        "id": "uMYSD90miTmE",
        "colab_type": "code",
        "colab": {}
      },
      "source": [
        "# keras needs inputs to be vectors , so one hot encoding values\n",
        "from keras.utils import np_utils\n",
        "def one_hot_encode_object_array(arr):\n",
        "    '''One hot encode a numpy array of objects (e.g. strings)'''\n",
        "    uniques, ids = np.unique(arr, return_inverse=True)\n",
        "    return np_utils.to_categorical(ids, len(uniques))\n",
        "\n",
        "y_train_ohe=one_hot_encode_object_array(y_train)\n",
        "y_val_ohe=one_hot_encode_object_array(y_val)"
      ],
      "execution_count": 87,
      "outputs": []
    },
    {
      "cell_type": "code",
      "metadata": {
        "id": "vxt_DqoiiZEt",
        "colab_type": "code",
        "colab": {
          "base_uri": "https://localhost:8080/",
          "height": 118
        },
        "outputId": "d7038874-ad79-4f3c-ff2b-4b3a08047ca6"
      },
      "source": [
        "y_train[:5]"
      ],
      "execution_count": 69,
      "outputs": [
        {
          "output_type": "execute_result",
          "data": {
            "text/plain": [
              "15170    10\n",
              "26733     8\n",
              "4122      7\n",
              "7585      3\n",
              "28354     2\n",
              "Name: label, dtype: int64"
            ]
          },
          "metadata": {
            "tags": []
          },
          "execution_count": 69
        }
      ]
    },
    {
      "cell_type": "code",
      "metadata": {
        "id": "LwOPl8erieQJ",
        "colab_type": "code",
        "colab": {
          "base_uri": "https://localhost:8080/",
          "height": 101
        },
        "outputId": "53ff3537-6915-4ff3-cd88-7be1e5bf1543"
      },
      "source": [
        "y_train_ohe[:5]"
      ],
      "execution_count": 70,
      "outputs": [
        {
          "output_type": "execute_result",
          "data": {
            "text/plain": [
              "array([[0., 0., 0., 0., 0., 0., 0., 0., 0., 0., 1., 0.],\n",
              "       [0., 0., 0., 0., 0., 0., 0., 0., 1., 0., 0., 0.],\n",
              "       [0., 0., 0., 0., 0., 0., 0., 1., 0., 0., 0., 0.],\n",
              "       [0., 0., 0., 1., 0., 0., 0., 0., 0., 0., 0., 0.],\n",
              "       [0., 0., 1., 0., 0., 0., 0., 0., 0., 0., 0., 0.]], dtype=float32)"
            ]
          },
          "metadata": {
            "tags": []
          },
          "execution_count": 70
        }
      ]
    },
    {
      "cell_type": "code",
      "metadata": {
        "id": "06kLSdULig1i",
        "colab_type": "code",
        "colab": {
          "base_uri": "https://localhost:8080/",
          "height": 34
        },
        "outputId": "a8c1e3ef-6a16-4149-e91b-c07b05835af4"
      },
      "source": [
        "unique_y_labels = list(y_train.value_counts().index)\n",
        "unique_y_labels"
      ],
      "execution_count": 71,
      "outputs": [
        {
          "output_type": "execute_result",
          "data": {
            "text/plain": [
              "[7, 6, 3, 8, 1, 10, 4, 5, 2, 11, 9, 0]"
            ]
          },
          "metadata": {
            "tags": []
          },
          "execution_count": 71
        }
      ]
    },
    {
      "cell_type": "code",
      "metadata": {
        "id": "uVatk9qoinTr",
        "colab_type": "code",
        "colab": {
          "base_uri": "https://localhost:8080/",
          "height": 34
        },
        "outputId": "743c50bc-0ea3-4cce-9744-d8c03ec70e58"
      },
      "source": [
        "len(unique_y_labels)"
      ],
      "execution_count": 72,
      "outputs": [
        {
          "output_type": "execute_result",
          "data": {
            "text/plain": [
              "12"
            ]
          },
          "metadata": {
            "tags": []
          },
          "execution_count": 72
        }
      ]
    },
    {
      "cell_type": "markdown",
      "metadata": {
        "id": "KLlIqlEsiw7B",
        "colab_type": "text"
      },
      "source": [
        "# Defining LSTM"
      ]
    },
    {
      "cell_type": "code",
      "metadata": {
        "id": "pS7t6f6DiqRD",
        "colab_type": "code",
        "colab": {}
      },
      "source": [
        "input_length=X_pd_sq.shape[1]\n",
        "uniq_y_label=len(unique_y_labels)\n",
        "batch_size = 64\n",
        "epochs = 15"
      ],
      "execution_count": 77,
      "outputs": []
    },
    {
      "cell_type": "code",
      "metadata": {
        "id": "SkP4BK0ri0oa",
        "colab_type": "code",
        "colab": {
          "base_uri": "https://localhost:8080/",
          "height": 54
        },
        "outputId": "929866f8-0d08-487b-b703-ca646dcd0ae1"
      },
      "source": [
        "model = Sequential()\n",
        "model.add(Embedding(MAX_NB_WORDS, EMBEDDING_DIM, input_length=X_pd_sq.shape[1]))\n",
        "model.add(SpatialDropout1D(0.2))\n",
        "model.add(LSTM(100, recurrent_dropout=0.2))\n",
        "model.add(Dropout(0.2))\n",
        "model.add(Dense(uniq_y_label, activation='softmax'))\n",
        "model.compile(loss='categorical_crossentropy', optimizer='adam', metrics=['accuracy'])"
      ],
      "execution_count": 74,
      "outputs": [
        {
          "output_type": "stream",
          "text": [
            "WARNING:tensorflow:Layer lstm will not use cuDNN kernel since it doesn't meet the cuDNN kernel criteria. It will use generic GPU kernel as fallback when running on GPU\n"
          ],
          "name": "stdout"
        }
      ]
    },
    {
      "cell_type": "code",
      "metadata": {
        "id": "Iqlr0uhljEya",
        "colab_type": "code",
        "colab": {
          "base_uri": "https://localhost:8080/",
          "height": 336
        },
        "outputId": "bafdd5ec-bed3-472c-b93a-7fbb6ba871c6"
      },
      "source": [
        "print(model.summary())"
      ],
      "execution_count": 75,
      "outputs": [
        {
          "output_type": "stream",
          "text": [
            "Model: \"sequential\"\n",
            "_________________________________________________________________\n",
            "Layer (type)                 Output Shape              Param #   \n",
            "=================================================================\n",
            "embedding (Embedding)        (None, 100, 100)          20000     \n",
            "_________________________________________________________________\n",
            "spatial_dropout1d (SpatialDr (None, 100, 100)          0         \n",
            "_________________________________________________________________\n",
            "lstm (LSTM)                  (None, 100)               80400     \n",
            "_________________________________________________________________\n",
            "dropout (Dropout)            (None, 100)               0         \n",
            "_________________________________________________________________\n",
            "dense (Dense)                (None, 12)                1212      \n",
            "=================================================================\n",
            "Total params: 101,612\n",
            "Trainable params: 101,612\n",
            "Non-trainable params: 0\n",
            "_________________________________________________________________\n",
            "None\n"
          ],
          "name": "stdout"
        }
      ]
    },
    {
      "cell_type": "code",
      "metadata": {
        "id": "B8gmgrEbjJm_",
        "colab_type": "code",
        "colab": {}
      },
      "source": [
        "# for imbalanced classes\n",
        "from sklearn.utils import class_weight\n",
        "class_weights = class_weight.compute_class_weight('balanced',\n",
        "                                                 np.unique(y_train),\n",
        "                                                 y_train)"
      ],
      "execution_count": 81,
      "outputs": []
    },
    {
      "cell_type": "code",
      "metadata": {
        "id": "T1BBJ-UljVJr",
        "colab_type": "code",
        "colab": {
          "base_uri": "https://localhost:8080/",
          "height": 521
        },
        "outputId": "b08112eb-d104-429e-9024-33bf9f7caecf"
      },
      "source": [
        "# early stopping\n",
        "from keras.callbacks import EarlyStopping\n",
        "history=model.fit(X_train,y_train_ohe,validation_data=(X_val,y_val_ohe),\n",
        "                          epochs=epochs,batch_size=batch_size,\n",
        "                          callbacks=[EarlyStopping(monitor='val_loss', patience=3, \n",
        "                                                   min_delta=0.0001)])"
      ],
      "execution_count": 84,
      "outputs": [
        {
          "output_type": "stream",
          "text": [
            "Epoch 1/15\n",
            "381/381 [==============================] - 51s 133ms/step - loss: 2.0127 - accuracy: 0.2840 - val_loss: 1.9921 - val_accuracy: 0.2833\n",
            "Epoch 2/15\n",
            "381/381 [==============================] - 51s 133ms/step - loss: 1.9940 - accuracy: 0.2923 - val_loss: 1.9791 - val_accuracy: 0.2882\n",
            "Epoch 3/15\n",
            "381/381 [==============================] - 50s 132ms/step - loss: 1.9796 - accuracy: 0.2953 - val_loss: 1.9474 - val_accuracy: 0.2977\n",
            "Epoch 4/15\n",
            "381/381 [==============================] - 50s 132ms/step - loss: 1.9616 - accuracy: 0.3039 - val_loss: 1.9203 - val_accuracy: 0.3157\n",
            "Epoch 5/15\n",
            "381/381 [==============================] - 50s 132ms/step - loss: 1.9474 - accuracy: 0.3069 - val_loss: 1.9218 - val_accuracy: 0.3178\n",
            "Epoch 6/15\n",
            "381/381 [==============================] - 51s 134ms/step - loss: 1.9269 - accuracy: 0.3143 - val_loss: 1.8727 - val_accuracy: 0.3186\n",
            "Epoch 7/15\n",
            "381/381 [==============================] - 51s 133ms/step - loss: 1.8955 - accuracy: 0.3237 - val_loss: 1.8506 - val_accuracy: 0.3399\n",
            "Epoch 8/15\n",
            "381/381 [==============================] - 50s 132ms/step - loss: 1.8765 - accuracy: 0.3279 - val_loss: 1.8246 - val_accuracy: 0.3415\n",
            "Epoch 9/15\n",
            "381/381 [==============================] - 50s 132ms/step - loss: 1.8685 - accuracy: 0.3287 - val_loss: 1.8009 - val_accuracy: 0.3489\n",
            "Epoch 10/15\n",
            "381/381 [==============================] - 50s 131ms/step - loss: 1.8486 - accuracy: 0.3368 - val_loss: 1.7932 - val_accuracy: 0.3567\n",
            "Epoch 11/15\n",
            "381/381 [==============================] - 50s 131ms/step - loss: 1.8446 - accuracy: 0.3409 - val_loss: 1.8007 - val_accuracy: 0.3547\n",
            "Epoch 12/15\n",
            "381/381 [==============================] - 50s 132ms/step - loss: 1.8466 - accuracy: 0.3400 - val_loss: 1.7644 - val_accuracy: 0.3575\n",
            "Epoch 13/15\n",
            "381/381 [==============================] - 50s 131ms/step - loss: 1.8213 - accuracy: 0.3504 - val_loss: 1.7473 - val_accuracy: 0.3649\n",
            "Epoch 14/15\n",
            "381/381 [==============================] - 49s 128ms/step - loss: 1.8011 - accuracy: 0.3536 - val_loss: 1.7642 - val_accuracy: 0.3637\n",
            "Epoch 15/15\n",
            "381/381 [==============================] - 48s 127ms/step - loss: 1.7981 - accuracy: 0.3570 - val_loss: 1.7250 - val_accuracy: 0.3793\n"
          ],
          "name": "stdout"
        }
      ]
    },
    {
      "cell_type": "markdown",
      "metadata": {
        "id": "AKDKwBjkj9u0",
        "colab_type": "text"
      },
      "source": [
        "# Evaluate"
      ]
    },
    {
      "cell_type": "code",
      "metadata": {
        "id": "yWBjujACjoTR",
        "colab_type": "code",
        "colab": {
          "base_uri": "https://localhost:8080/",
          "height": 50
        },
        "outputId": "fa7bf7ce-c95e-4570-f991-71716474463c"
      },
      "source": [
        "loss, accuracy = model.evaluate(X_train, y_train_ohe, verbose=False)\n",
        "print(\"Training Accuracy: {:.4f}\".format(accuracy))\n",
        "print(\"Training Loss: {:.4f}\".format(loss))"
      ],
      "execution_count": 85,
      "outputs": [
        {
          "output_type": "stream",
          "text": [
            "Training Accuracy: 0.3834\n",
            "Training Loss: 1.7243\n"
          ],
          "name": "stdout"
        }
      ]
    },
    {
      "cell_type": "code",
      "metadata": {
        "id": "OYT1RstwkRfX",
        "colab_type": "code",
        "colab": {
          "base_uri": "https://localhost:8080/",
          "height": 50
        },
        "outputId": "bdb51107-5059-42eb-dfb1-8ea101756d5a"
      },
      "source": [
        "loss, accuracy = model.evaluate(X_val, y_val_ohe, verbose=False)\n",
        "print(\"Testing Accuracy:  {:.4f}\".format(accuracy))\n",
        "print(\"Testing Loss:  {:.4f}\".format(loss))"
      ],
      "execution_count": 88,
      "outputs": [
        {
          "output_type": "stream",
          "text": [
            "Testing Accuracy:  0.3382\n",
            "Testing Loss:  1.8498\n"
          ],
          "name": "stdout"
        }
      ]
    },
    {
      "cell_type": "code",
      "metadata": {
        "id": "20UuJRRskW43",
        "colab_type": "code",
        "colab": {}
      },
      "source": [
        "import matplotlib.pyplot as plt\n",
        "plt.style.use('ggplot')\n",
        "\n",
        "def plot_history(history):\n",
        "    acc = history.history['accuracy']\n",
        "    val_acc = history.history['val_accuracy']\n",
        "    loss = history.history['loss']\n",
        "    val_loss = history.history['val_loss']\n",
        "    x = range(1, len(acc) + 1)\n",
        "\n",
        "    plt.figure(figsize=(12, 5))\n",
        "    plt.subplot(1, 2, 1)\n",
        "    plt.plot(x, acc, 'b', label='Training acc')\n",
        "    plt.plot(x, val_acc, 'r', label='Validation acc')\n",
        "    plt.title('Training and validation accuracy')\n",
        "    plt.legend()\n",
        "    plt.subplot(1, 2, 2)\n",
        "    plt.plot(x, loss, 'b', label='Training loss')\n",
        "    plt.plot(x, val_loss, 'r', label='Validation loss')\n",
        "    plt.title('Training and validation loss')\n",
        "    plt.legend()"
      ],
      "execution_count": 89,
      "outputs": []
    },
    {
      "cell_type": "code",
      "metadata": {
        "id": "g_M3c2TkkZRZ",
        "colab_type": "code",
        "colab": {
          "base_uri": "https://localhost:8080/",
          "height": 452
        },
        "outputId": "26b7295e-7ad0-49ff-85cc-52ad1b1c5b8e"
      },
      "source": [
        "plot_history(history)"
      ],
      "execution_count": 90,
      "outputs": [
        {
          "output_type": "display_data",
          "data": {
            "text/plain": [
              "<Figure size 864x360 with 2 Axes>"
            ],
            "image/svg+xml": "<?xml version=\"1.0\" encoding=\"utf-8\" standalone=\"no\"?>\n<!DOCTYPE svg PUBLIC \"-//W3C//DTD SVG 1.1//EN\"\n  \"http://www.w3.org/Graphics/SVG/1.1/DTD/svg11.dtd\">\n<!-- Created with matplotlib (https://matplotlib.org/) -->\n<svg height=\"323.287688pt\" version=\"1.1\" viewBox=\"0 0 717.992187 323.287688\" width=\"717.992187pt\" xmlns=\"http://www.w3.org/2000/svg\" xmlns:xlink=\"http://www.w3.org/1999/xlink\">\n <defs>\n  <style type=\"text/css\">\n*{stroke-linecap:butt;stroke-linejoin:round;}\n  </style>\n </defs>\n <g id=\"figure_1\">\n  <g id=\"patch_1\">\n   <path d=\"M 0 323.287688 \nL 717.992187 323.287688 \nL 717.992187 0 \nL 0 0 \nz\n\" style=\"fill:#ffffff;\"/>\n  </g>\n  <g id=\"axes_1\">\n   <g id=\"patch_2\">\n    <path d=\"M 41.192188 295.94175 \nL 345.555824 295.94175 \nL 345.555824 24.14175 \nL 41.192188 24.14175 \nz\n\" style=\"fill:#e5e5e5;\"/>\n   </g>\n   <g id=\"matplotlib.axis_1\">\n    <g id=\"xtick_1\">\n     <g id=\"line2d_1\">\n      <path clip-path=\"url(#pfd804f92dc)\" d=\"M 74.790771 295.94175 \nL 74.790771 24.14175 \n\" style=\"fill:none;stroke:#ffffff;stroke-linecap:round;\"/>\n     </g>\n     <g id=\"text_1\">\n      <!-- 2 -->\n      <defs>\n       <path d=\"M 19.1875 8.296875 \nL 53.609375 8.296875 \nL 53.609375 0 \nL 7.328125 0 \nL 7.328125 8.296875 \nQ 12.9375 14.109375 22.625 23.890625 \nQ 32.328125 33.6875 34.8125 36.53125 \nQ 39.546875 41.84375 41.421875 45.53125 \nQ 43.3125 49.21875 43.3125 52.78125 \nQ 43.3125 58.59375 39.234375 62.25 \nQ 35.15625 65.921875 28.609375 65.921875 \nQ 23.96875 65.921875 18.8125 64.3125 \nQ 13.671875 62.703125 7.8125 59.421875 \nL 7.8125 69.390625 \nQ 13.765625 71.78125 18.9375 73 \nQ 24.125 74.21875 28.421875 74.21875 \nQ 39.75 74.21875 46.484375 68.546875 \nQ 53.21875 62.890625 53.21875 53.421875 \nQ 53.21875 48.921875 51.53125 44.890625 \nQ 49.859375 40.875 45.40625 35.40625 \nQ 44.1875 33.984375 37.640625 27.21875 \nQ 31.109375 20.453125 19.1875 8.296875 \nz\n\" id=\"DejaVuSans-50\"/>\n      </defs>\n      <g style=\"fill:#555555;\" transform=\"translate(71.291396 313.800031)scale(0.11 -0.11)\">\n       <use xlink:href=\"#DejaVuSans-50\"/>\n      </g>\n     </g>\n    </g>\n    <g id=\"xtick_2\">\n     <g id=\"line2d_2\">\n      <path clip-path=\"url(#pfd804f92dc)\" d=\"M 114.318516 295.94175 \nL 114.318516 24.14175 \n\" style=\"fill:none;stroke:#ffffff;stroke-linecap:round;\"/>\n     </g>\n     <g id=\"text_2\">\n      <!-- 4 -->\n      <defs>\n       <path d=\"M 37.796875 64.3125 \nL 12.890625 25.390625 \nL 37.796875 25.390625 \nz\nM 35.203125 72.90625 \nL 47.609375 72.90625 \nL 47.609375 25.390625 \nL 58.015625 25.390625 \nL 58.015625 17.1875 \nL 47.609375 17.1875 \nL 47.609375 0 \nL 37.796875 0 \nL 37.796875 17.1875 \nL 4.890625 17.1875 \nL 4.890625 26.703125 \nz\n\" id=\"DejaVuSans-52\"/>\n      </defs>\n      <g style=\"fill:#555555;\" transform=\"translate(110.819141 313.800031)scale(0.11 -0.11)\">\n       <use xlink:href=\"#DejaVuSans-52\"/>\n      </g>\n     </g>\n    </g>\n    <g id=\"xtick_3\">\n     <g id=\"line2d_3\">\n      <path clip-path=\"url(#pfd804f92dc)\" d=\"M 153.846261 295.94175 \nL 153.846261 24.14175 \n\" style=\"fill:none;stroke:#ffffff;stroke-linecap:round;\"/>\n     </g>\n     <g id=\"text_3\">\n      <!-- 6 -->\n      <defs>\n       <path d=\"M 33.015625 40.375 \nQ 26.375 40.375 22.484375 35.828125 \nQ 18.609375 31.296875 18.609375 23.390625 \nQ 18.609375 15.53125 22.484375 10.953125 \nQ 26.375 6.390625 33.015625 6.390625 \nQ 39.65625 6.390625 43.53125 10.953125 \nQ 47.40625 15.53125 47.40625 23.390625 \nQ 47.40625 31.296875 43.53125 35.828125 \nQ 39.65625 40.375 33.015625 40.375 \nz\nM 52.59375 71.296875 \nL 52.59375 62.3125 \nQ 48.875 64.0625 45.09375 64.984375 \nQ 41.3125 65.921875 37.59375 65.921875 \nQ 27.828125 65.921875 22.671875 59.328125 \nQ 17.53125 52.734375 16.796875 39.40625 \nQ 19.671875 43.65625 24.015625 45.921875 \nQ 28.375 48.1875 33.59375 48.1875 \nQ 44.578125 48.1875 50.953125 41.515625 \nQ 57.328125 34.859375 57.328125 23.390625 \nQ 57.328125 12.15625 50.6875 5.359375 \nQ 44.046875 -1.421875 33.015625 -1.421875 \nQ 20.359375 -1.421875 13.671875 8.265625 \nQ 6.984375 17.96875 6.984375 36.375 \nQ 6.984375 53.65625 15.1875 63.9375 \nQ 23.390625 74.21875 37.203125 74.21875 \nQ 40.921875 74.21875 44.703125 73.484375 \nQ 48.484375 72.75 52.59375 71.296875 \nz\n\" id=\"DejaVuSans-54\"/>\n      </defs>\n      <g style=\"fill:#555555;\" transform=\"translate(150.346886 313.800031)scale(0.11 -0.11)\">\n       <use xlink:href=\"#DejaVuSans-54\"/>\n      </g>\n     </g>\n    </g>\n    <g id=\"xtick_4\">\n     <g id=\"line2d_4\">\n      <path clip-path=\"url(#pfd804f92dc)\" d=\"M 193.374006 295.94175 \nL 193.374006 24.14175 \n\" style=\"fill:none;stroke:#ffffff;stroke-linecap:round;\"/>\n     </g>\n     <g id=\"text_4\">\n      <!-- 8 -->\n      <defs>\n       <path d=\"M 31.78125 34.625 \nQ 24.75 34.625 20.71875 30.859375 \nQ 16.703125 27.09375 16.703125 20.515625 \nQ 16.703125 13.921875 20.71875 10.15625 \nQ 24.75 6.390625 31.78125 6.390625 \nQ 38.8125 6.390625 42.859375 10.171875 \nQ 46.921875 13.96875 46.921875 20.515625 \nQ 46.921875 27.09375 42.890625 30.859375 \nQ 38.875 34.625 31.78125 34.625 \nz\nM 21.921875 38.8125 \nQ 15.578125 40.375 12.03125 44.71875 \nQ 8.5 49.078125 8.5 55.328125 \nQ 8.5 64.0625 14.71875 69.140625 \nQ 20.953125 74.21875 31.78125 74.21875 \nQ 42.671875 74.21875 48.875 69.140625 \nQ 55.078125 64.0625 55.078125 55.328125 \nQ 55.078125 49.078125 51.53125 44.71875 \nQ 48 40.375 41.703125 38.8125 \nQ 48.828125 37.15625 52.796875 32.3125 \nQ 56.78125 27.484375 56.78125 20.515625 \nQ 56.78125 9.90625 50.3125 4.234375 \nQ 43.84375 -1.421875 31.78125 -1.421875 \nQ 19.734375 -1.421875 13.25 4.234375 \nQ 6.78125 9.90625 6.78125 20.515625 \nQ 6.78125 27.484375 10.78125 32.3125 \nQ 14.796875 37.15625 21.921875 38.8125 \nz\nM 18.3125 54.390625 \nQ 18.3125 48.734375 21.84375 45.5625 \nQ 25.390625 42.390625 31.78125 42.390625 \nQ 38.140625 42.390625 41.71875 45.5625 \nQ 45.3125 48.734375 45.3125 54.390625 \nQ 45.3125 60.0625 41.71875 63.234375 \nQ 38.140625 66.40625 31.78125 66.40625 \nQ 25.390625 66.40625 21.84375 63.234375 \nQ 18.3125 60.0625 18.3125 54.390625 \nz\n\" id=\"DejaVuSans-56\"/>\n      </defs>\n      <g style=\"fill:#555555;\" transform=\"translate(189.874631 313.800031)scale(0.11 -0.11)\">\n       <use xlink:href=\"#DejaVuSans-56\"/>\n      </g>\n     </g>\n    </g>\n    <g id=\"xtick_5\">\n     <g id=\"line2d_5\">\n      <path clip-path=\"url(#pfd804f92dc)\" d=\"M 232.901751 295.94175 \nL 232.901751 24.14175 \n\" style=\"fill:none;stroke:#ffffff;stroke-linecap:round;\"/>\n     </g>\n     <g id=\"text_5\">\n      <!-- 10 -->\n      <defs>\n       <path d=\"M 12.40625 8.296875 \nL 28.515625 8.296875 \nL 28.515625 63.921875 \nL 10.984375 60.40625 \nL 10.984375 69.390625 \nL 28.421875 72.90625 \nL 38.28125 72.90625 \nL 38.28125 8.296875 \nL 54.390625 8.296875 \nL 54.390625 0 \nL 12.40625 0 \nz\n\" id=\"DejaVuSans-49\"/>\n       <path d=\"M 31.78125 66.40625 \nQ 24.171875 66.40625 20.328125 58.90625 \nQ 16.5 51.421875 16.5 36.375 \nQ 16.5 21.390625 20.328125 13.890625 \nQ 24.171875 6.390625 31.78125 6.390625 \nQ 39.453125 6.390625 43.28125 13.890625 \nQ 47.125 21.390625 47.125 36.375 \nQ 47.125 51.421875 43.28125 58.90625 \nQ 39.453125 66.40625 31.78125 66.40625 \nz\nM 31.78125 74.21875 \nQ 44.046875 74.21875 50.515625 64.515625 \nQ 56.984375 54.828125 56.984375 36.375 \nQ 56.984375 17.96875 50.515625 8.265625 \nQ 44.046875 -1.421875 31.78125 -1.421875 \nQ 19.53125 -1.421875 13.0625 8.265625 \nQ 6.59375 17.96875 6.59375 36.375 \nQ 6.59375 54.828125 13.0625 64.515625 \nQ 19.53125 74.21875 31.78125 74.21875 \nz\n\" id=\"DejaVuSans-48\"/>\n      </defs>\n      <g style=\"fill:#555555;\" transform=\"translate(225.903001 313.800031)scale(0.11 -0.11)\">\n       <use xlink:href=\"#DejaVuSans-49\"/>\n       <use x=\"63.623047\" xlink:href=\"#DejaVuSans-48\"/>\n      </g>\n     </g>\n    </g>\n    <g id=\"xtick_6\">\n     <g id=\"line2d_6\">\n      <path clip-path=\"url(#pfd804f92dc)\" d=\"M 272.429496 295.94175 \nL 272.429496 24.14175 \n\" style=\"fill:none;stroke:#ffffff;stroke-linecap:round;\"/>\n     </g>\n     <g id=\"text_6\">\n      <!-- 12 -->\n      <g style=\"fill:#555555;\" transform=\"translate(265.430746 313.800031)scale(0.11 -0.11)\">\n       <use xlink:href=\"#DejaVuSans-49\"/>\n       <use x=\"63.623047\" xlink:href=\"#DejaVuSans-50\"/>\n      </g>\n     </g>\n    </g>\n    <g id=\"xtick_7\">\n     <g id=\"line2d_7\">\n      <path clip-path=\"url(#pfd804f92dc)\" d=\"M 311.957241 295.94175 \nL 311.957241 24.14175 \n\" style=\"fill:none;stroke:#ffffff;stroke-linecap:round;\"/>\n     </g>\n     <g id=\"text_7\">\n      <!-- 14 -->\n      <g style=\"fill:#555555;\" transform=\"translate(304.958491 313.800031)scale(0.11 -0.11)\">\n       <use xlink:href=\"#DejaVuSans-49\"/>\n       <use x=\"63.623047\" xlink:href=\"#DejaVuSans-52\"/>\n      </g>\n     </g>\n    </g>\n   </g>\n   <g id=\"matplotlib.axis_2\">\n    <g id=\"ytick_1\">\n     <g id=\"line2d_8\">\n      <path clip-path=\"url(#pfd804f92dc)\" d=\"M 41.192188 292.119216 \nL 345.555824 292.119216 \n\" style=\"fill:none;stroke:#ffffff;stroke-linecap:round;\"/>\n     </g>\n     <g id=\"text_8\">\n      <!-- 0.28 -->\n      <defs>\n       <path d=\"M 10.6875 12.40625 \nL 21 12.40625 \nL 21 0 \nL 10.6875 0 \nz\n\" id=\"DejaVuSans-46\"/>\n      </defs>\n      <g style=\"fill:#555555;\" transform=\"translate(7.2 296.298357)scale(0.11 -0.11)\">\n       <use xlink:href=\"#DejaVuSans-48\"/>\n       <use x=\"63.623047\" xlink:href=\"#DejaVuSans-46\"/>\n       <use x=\"95.410156\" xlink:href=\"#DejaVuSans-50\"/>\n       <use x=\"159.033203\" xlink:href=\"#DejaVuSans-56\"/>\n      </g>\n     </g>\n    </g>\n    <g id=\"ytick_2\">\n     <g id=\"line2d_9\">\n      <path clip-path=\"url(#pfd804f92dc)\" d=\"M 41.192188 240.610275 \nL 345.555824 240.610275 \n\" style=\"fill:none;stroke:#ffffff;stroke-linecap:round;\"/>\n     </g>\n     <g id=\"text_9\">\n      <!-- 0.30 -->\n      <defs>\n       <path d=\"M 40.578125 39.3125 \nQ 47.65625 37.796875 51.625 33 \nQ 55.609375 28.21875 55.609375 21.1875 \nQ 55.609375 10.40625 48.1875 4.484375 \nQ 40.765625 -1.421875 27.09375 -1.421875 \nQ 22.515625 -1.421875 17.65625 -0.515625 \nQ 12.796875 0.390625 7.625 2.203125 \nL 7.625 11.71875 \nQ 11.71875 9.328125 16.59375 8.109375 \nQ 21.484375 6.890625 26.8125 6.890625 \nQ 36.078125 6.890625 40.9375 10.546875 \nQ 45.796875 14.203125 45.796875 21.1875 \nQ 45.796875 27.640625 41.28125 31.265625 \nQ 36.765625 34.90625 28.71875 34.90625 \nL 20.21875 34.90625 \nL 20.21875 43.015625 \nL 29.109375 43.015625 \nQ 36.375 43.015625 40.234375 45.921875 \nQ 44.09375 48.828125 44.09375 54.296875 \nQ 44.09375 59.90625 40.109375 62.90625 \nQ 36.140625 65.921875 28.71875 65.921875 \nQ 24.65625 65.921875 20.015625 65.03125 \nQ 15.375 64.15625 9.8125 62.3125 \nL 9.8125 71.09375 \nQ 15.4375 72.65625 20.34375 73.4375 \nQ 25.25 74.21875 29.59375 74.21875 \nQ 40.828125 74.21875 47.359375 69.109375 \nQ 53.90625 64.015625 53.90625 55.328125 \nQ 53.90625 49.265625 50.4375 45.09375 \nQ 46.96875 40.921875 40.578125 39.3125 \nz\n\" id=\"DejaVuSans-51\"/>\n      </defs>\n      <g style=\"fill:#555555;\" transform=\"translate(7.2 244.789415)scale(0.11 -0.11)\">\n       <use xlink:href=\"#DejaVuSans-48\"/>\n       <use x=\"63.623047\" xlink:href=\"#DejaVuSans-46\"/>\n       <use x=\"95.410156\" xlink:href=\"#DejaVuSans-51\"/>\n       <use x=\"159.033203\" xlink:href=\"#DejaVuSans-48\"/>\n      </g>\n     </g>\n    </g>\n    <g id=\"ytick_3\">\n     <g id=\"line2d_10\">\n      <path clip-path=\"url(#pfd804f92dc)\" d=\"M 41.192188 189.101333 \nL 345.555824 189.101333 \n\" style=\"fill:none;stroke:#ffffff;stroke-linecap:round;\"/>\n     </g>\n     <g id=\"text_10\">\n      <!-- 0.32 -->\n      <g style=\"fill:#555555;\" transform=\"translate(7.2 193.280474)scale(0.11 -0.11)\">\n       <use xlink:href=\"#DejaVuSans-48\"/>\n       <use x=\"63.623047\" xlink:href=\"#DejaVuSans-46\"/>\n       <use x=\"95.410156\" xlink:href=\"#DejaVuSans-51\"/>\n       <use x=\"159.033203\" xlink:href=\"#DejaVuSans-50\"/>\n      </g>\n     </g>\n    </g>\n    <g id=\"ytick_4\">\n     <g id=\"line2d_11\">\n      <path clip-path=\"url(#pfd804f92dc)\" d=\"M 41.192188 137.592392 \nL 345.555824 137.592392 \n\" style=\"fill:none;stroke:#ffffff;stroke-linecap:round;\"/>\n     </g>\n     <g id=\"text_11\">\n      <!-- 0.34 -->\n      <g style=\"fill:#555555;\" transform=\"translate(7.2 141.771532)scale(0.11 -0.11)\">\n       <use xlink:href=\"#DejaVuSans-48\"/>\n       <use x=\"63.623047\" xlink:href=\"#DejaVuSans-46\"/>\n       <use x=\"95.410156\" xlink:href=\"#DejaVuSans-51\"/>\n       <use x=\"159.033203\" xlink:href=\"#DejaVuSans-52\"/>\n      </g>\n     </g>\n    </g>\n    <g id=\"ytick_5\">\n     <g id=\"line2d_12\">\n      <path clip-path=\"url(#pfd804f92dc)\" d=\"M 41.192188 86.08345 \nL 345.555824 86.08345 \n\" style=\"fill:none;stroke:#ffffff;stroke-linecap:round;\"/>\n     </g>\n     <g id=\"text_12\">\n      <!-- 0.36 -->\n      <g style=\"fill:#555555;\" transform=\"translate(7.2 90.262591)scale(0.11 -0.11)\">\n       <use xlink:href=\"#DejaVuSans-48\"/>\n       <use x=\"63.623047\" xlink:href=\"#DejaVuSans-46\"/>\n       <use x=\"95.410156\" xlink:href=\"#DejaVuSans-51\"/>\n       <use x=\"159.033203\" xlink:href=\"#DejaVuSans-54\"/>\n      </g>\n     </g>\n    </g>\n    <g id=\"ytick_6\">\n     <g id=\"line2d_13\">\n      <path clip-path=\"url(#pfd804f92dc)\" d=\"M 41.192188 34.574509 \nL 345.555824 34.574509 \n\" style=\"fill:none;stroke:#ffffff;stroke-linecap:round;\"/>\n     </g>\n     <g id=\"text_13\">\n      <!-- 0.38 -->\n      <g style=\"fill:#555555;\" transform=\"translate(7.2 38.75365)scale(0.11 -0.11)\">\n       <use xlink:href=\"#DejaVuSans-48\"/>\n       <use x=\"63.623047\" xlink:href=\"#DejaVuSans-46\"/>\n       <use x=\"95.410156\" xlink:href=\"#DejaVuSans-51\"/>\n       <use x=\"159.033203\" xlink:href=\"#DejaVuSans-56\"/>\n      </g>\n     </g>\n    </g>\n   </g>\n   <g id=\"line2d_14\">\n    <path clip-path=\"url(#pfd804f92dc)\" d=\"M 55.026898 281.823314 \nL 74.790771 260.487997 \nL 94.554643 252.77772 \nL 114.318516 230.491878 \nL 134.082388 222.887215 \nL 153.846261 203.875481 \nL 173.610133 179.477206 \nL 193.374006 168.703895 \nL 213.137878 166.59154 \nL 232.901751 145.889907 \nL 252.665623 135.3279 \nL 272.429496 137.65156 \nL 292.193368 110.823935 \nL 311.957241 102.479975 \nL 331.721113 93.92471 \n\" style=\"fill:none;stroke:#4c72b0;stroke-linecap:round;stroke-width:1.5;\"/>\n   </g>\n   <g id=\"line2d_15\">\n    <path clip-path=\"url(#pfd804f92dc)\" d=\"M 55.026898 283.587205 \nL 74.790771 270.915837 \nL 94.554643 246.629163 \nL 114.318516 200.167634 \nL 134.082388 194.887935 \nL 153.846261 192.776041 \nL 173.610133 137.866933 \nL 193.374006 133.643143 \nL 213.137878 114.636168 \nL 232.901751 94.573207 \nL 252.665623 99.852982 \nL 272.429496 92.461389 \nL 292.193368 73.454337 \nL 311.957241 76.622217 \nL 331.721113 36.496295 \n\" style=\"fill:none;stroke:#c44e52;stroke-linecap:round;stroke-width:1.5;\"/>\n   </g>\n   <g id=\"patch_3\">\n    <path d=\"M 41.192188 295.94175 \nL 41.192188 24.14175 \n\" style=\"fill:none;stroke:#ffffff;stroke-linecap:square;stroke-linejoin:miter;\"/>\n   </g>\n   <g id=\"patch_4\">\n    <path d=\"M 345.555824 295.94175 \nL 345.555824 24.14175 \n\" style=\"fill:none;stroke:#ffffff;stroke-linecap:square;stroke-linejoin:miter;\"/>\n   </g>\n   <g id=\"patch_5\">\n    <path d=\"M 41.192188 295.94175 \nL 345.555824 295.94175 \n\" style=\"fill:none;stroke:#ffffff;stroke-linecap:square;stroke-linejoin:miter;\"/>\n   </g>\n   <g id=\"patch_6\">\n    <path d=\"M 41.192188 24.14175 \nL 345.555824 24.14175 \n\" style=\"fill:none;stroke:#ffffff;stroke-linecap:square;stroke-linejoin:miter;\"/>\n   </g>\n   <g id=\"text_14\">\n    <!-- Training and validation accuracy -->\n    <defs>\n     <path d=\"M -0.296875 72.90625 \nL 61.375 72.90625 \nL 61.375 64.59375 \nL 35.5 64.59375 \nL 35.5 0 \nL 25.59375 0 \nL 25.59375 64.59375 \nL -0.296875 64.59375 \nz\n\" id=\"DejaVuSans-84\"/>\n     <path d=\"M 41.109375 46.296875 \nQ 39.59375 47.171875 37.8125 47.578125 \nQ 36.03125 48 33.890625 48 \nQ 26.265625 48 22.1875 43.046875 \nQ 18.109375 38.09375 18.109375 28.8125 \nL 18.109375 0 \nL 9.078125 0 \nL 9.078125 54.6875 \nL 18.109375 54.6875 \nL 18.109375 46.1875 \nQ 20.953125 51.171875 25.484375 53.578125 \nQ 30.03125 56 36.53125 56 \nQ 37.453125 56 38.578125 55.875 \nQ 39.703125 55.765625 41.0625 55.515625 \nz\n\" id=\"DejaVuSans-114\"/>\n     <path d=\"M 34.28125 27.484375 \nQ 23.390625 27.484375 19.1875 25 \nQ 14.984375 22.515625 14.984375 16.5 \nQ 14.984375 11.71875 18.140625 8.90625 \nQ 21.296875 6.109375 26.703125 6.109375 \nQ 34.1875 6.109375 38.703125 11.40625 \nQ 43.21875 16.703125 43.21875 25.484375 \nL 43.21875 27.484375 \nz\nM 52.203125 31.203125 \nL 52.203125 0 \nL 43.21875 0 \nL 43.21875 8.296875 \nQ 40.140625 3.328125 35.546875 0.953125 \nQ 30.953125 -1.421875 24.3125 -1.421875 \nQ 15.921875 -1.421875 10.953125 3.296875 \nQ 6 8.015625 6 15.921875 \nQ 6 25.140625 12.171875 29.828125 \nQ 18.359375 34.515625 30.609375 34.515625 \nL 43.21875 34.515625 \nL 43.21875 35.40625 \nQ 43.21875 41.609375 39.140625 45 \nQ 35.0625 48.390625 27.6875 48.390625 \nQ 23 48.390625 18.546875 47.265625 \nQ 14.109375 46.140625 10.015625 43.890625 \nL 10.015625 52.203125 \nQ 14.9375 54.109375 19.578125 55.046875 \nQ 24.21875 56 28.609375 56 \nQ 40.484375 56 46.34375 49.84375 \nQ 52.203125 43.703125 52.203125 31.203125 \nz\n\" id=\"DejaVuSans-97\"/>\n     <path d=\"M 9.421875 54.6875 \nL 18.40625 54.6875 \nL 18.40625 0 \nL 9.421875 0 \nz\nM 9.421875 75.984375 \nL 18.40625 75.984375 \nL 18.40625 64.59375 \nL 9.421875 64.59375 \nz\n\" id=\"DejaVuSans-105\"/>\n     <path d=\"M 54.890625 33.015625 \nL 54.890625 0 \nL 45.90625 0 \nL 45.90625 32.71875 \nQ 45.90625 40.484375 42.875 44.328125 \nQ 39.84375 48.1875 33.796875 48.1875 \nQ 26.515625 48.1875 22.3125 43.546875 \nQ 18.109375 38.921875 18.109375 30.90625 \nL 18.109375 0 \nL 9.078125 0 \nL 9.078125 54.6875 \nL 18.109375 54.6875 \nL 18.109375 46.1875 \nQ 21.34375 51.125 25.703125 53.5625 \nQ 30.078125 56 35.796875 56 \nQ 45.21875 56 50.046875 50.171875 \nQ 54.890625 44.34375 54.890625 33.015625 \nz\n\" id=\"DejaVuSans-110\"/>\n     <path d=\"M 45.40625 27.984375 \nQ 45.40625 37.75 41.375 43.109375 \nQ 37.359375 48.484375 30.078125 48.484375 \nQ 22.859375 48.484375 18.828125 43.109375 \nQ 14.796875 37.75 14.796875 27.984375 \nQ 14.796875 18.265625 18.828125 12.890625 \nQ 22.859375 7.515625 30.078125 7.515625 \nQ 37.359375 7.515625 41.375 12.890625 \nQ 45.40625 18.265625 45.40625 27.984375 \nz\nM 54.390625 6.78125 \nQ 54.390625 -7.171875 48.1875 -13.984375 \nQ 42 -20.796875 29.203125 -20.796875 \nQ 24.46875 -20.796875 20.265625 -20.09375 \nQ 16.0625 -19.390625 12.109375 -17.921875 \nL 12.109375 -9.1875 \nQ 16.0625 -11.328125 19.921875 -12.34375 \nQ 23.78125 -13.375 27.78125 -13.375 \nQ 36.625 -13.375 41.015625 -8.765625 \nQ 45.40625 -4.15625 45.40625 5.171875 \nL 45.40625 9.625 \nQ 42.625 4.78125 38.28125 2.390625 \nQ 33.9375 0 27.875 0 \nQ 17.828125 0 11.671875 7.65625 \nQ 5.515625 15.328125 5.515625 27.984375 \nQ 5.515625 40.671875 11.671875 48.328125 \nQ 17.828125 56 27.875 56 \nQ 33.9375 56 38.28125 53.609375 \nQ 42.625 51.21875 45.40625 46.390625 \nL 45.40625 54.6875 \nL 54.390625 54.6875 \nz\n\" id=\"DejaVuSans-103\"/>\n     <path id=\"DejaVuSans-32\"/>\n     <path d=\"M 45.40625 46.390625 \nL 45.40625 75.984375 \nL 54.390625 75.984375 \nL 54.390625 0 \nL 45.40625 0 \nL 45.40625 8.203125 \nQ 42.578125 3.328125 38.25 0.953125 \nQ 33.9375 -1.421875 27.875 -1.421875 \nQ 17.96875 -1.421875 11.734375 6.484375 \nQ 5.515625 14.40625 5.515625 27.296875 \nQ 5.515625 40.1875 11.734375 48.09375 \nQ 17.96875 56 27.875 56 \nQ 33.9375 56 38.25 53.625 \nQ 42.578125 51.265625 45.40625 46.390625 \nz\nM 14.796875 27.296875 \nQ 14.796875 17.390625 18.875 11.75 \nQ 22.953125 6.109375 30.078125 6.109375 \nQ 37.203125 6.109375 41.296875 11.75 \nQ 45.40625 17.390625 45.40625 27.296875 \nQ 45.40625 37.203125 41.296875 42.84375 \nQ 37.203125 48.484375 30.078125 48.484375 \nQ 22.953125 48.484375 18.875 42.84375 \nQ 14.796875 37.203125 14.796875 27.296875 \nz\n\" id=\"DejaVuSans-100\"/>\n     <path d=\"M 2.984375 54.6875 \nL 12.5 54.6875 \nL 29.59375 8.796875 \nL 46.6875 54.6875 \nL 56.203125 54.6875 \nL 35.6875 0 \nL 23.484375 0 \nz\n\" id=\"DejaVuSans-118\"/>\n     <path d=\"M 9.421875 75.984375 \nL 18.40625 75.984375 \nL 18.40625 0 \nL 9.421875 0 \nz\n\" id=\"DejaVuSans-108\"/>\n     <path d=\"M 18.3125 70.21875 \nL 18.3125 54.6875 \nL 36.8125 54.6875 \nL 36.8125 47.703125 \nL 18.3125 47.703125 \nL 18.3125 18.015625 \nQ 18.3125 11.328125 20.140625 9.421875 \nQ 21.96875 7.515625 27.59375 7.515625 \nL 36.8125 7.515625 \nL 36.8125 0 \nL 27.59375 0 \nQ 17.1875 0 13.234375 3.875 \nQ 9.28125 7.765625 9.28125 18.015625 \nL 9.28125 47.703125 \nL 2.6875 47.703125 \nL 2.6875 54.6875 \nL 9.28125 54.6875 \nL 9.28125 70.21875 \nz\n\" id=\"DejaVuSans-116\"/>\n     <path d=\"M 30.609375 48.390625 \nQ 23.390625 48.390625 19.1875 42.75 \nQ 14.984375 37.109375 14.984375 27.296875 \nQ 14.984375 17.484375 19.15625 11.84375 \nQ 23.34375 6.203125 30.609375 6.203125 \nQ 37.796875 6.203125 41.984375 11.859375 \nQ 46.1875 17.53125 46.1875 27.296875 \nQ 46.1875 37.015625 41.984375 42.703125 \nQ 37.796875 48.390625 30.609375 48.390625 \nz\nM 30.609375 56 \nQ 42.328125 56 49.015625 48.375 \nQ 55.71875 40.765625 55.71875 27.296875 \nQ 55.71875 13.875 49.015625 6.21875 \nQ 42.328125 -1.421875 30.609375 -1.421875 \nQ 18.84375 -1.421875 12.171875 6.21875 \nQ 5.515625 13.875 5.515625 27.296875 \nQ 5.515625 40.765625 12.171875 48.375 \nQ 18.84375 56 30.609375 56 \nz\n\" id=\"DejaVuSans-111\"/>\n     <path d=\"M 48.78125 52.59375 \nL 48.78125 44.1875 \nQ 44.96875 46.296875 41.140625 47.34375 \nQ 37.3125 48.390625 33.40625 48.390625 \nQ 24.65625 48.390625 19.8125 42.84375 \nQ 14.984375 37.3125 14.984375 27.296875 \nQ 14.984375 17.28125 19.8125 11.734375 \nQ 24.65625 6.203125 33.40625 6.203125 \nQ 37.3125 6.203125 41.140625 7.25 \nQ 44.96875 8.296875 48.78125 10.40625 \nL 48.78125 2.09375 \nQ 45.015625 0.34375 40.984375 -0.53125 \nQ 36.96875 -1.421875 32.421875 -1.421875 \nQ 20.0625 -1.421875 12.78125 6.34375 \nQ 5.515625 14.109375 5.515625 27.296875 \nQ 5.515625 40.671875 12.859375 48.328125 \nQ 20.21875 56 33.015625 56 \nQ 37.15625 56 41.109375 55.140625 \nQ 45.0625 54.296875 48.78125 52.59375 \nz\n\" id=\"DejaVuSans-99\"/>\n     <path d=\"M 8.5 21.578125 \nL 8.5 54.6875 \nL 17.484375 54.6875 \nL 17.484375 21.921875 \nQ 17.484375 14.15625 20.5 10.265625 \nQ 23.53125 6.390625 29.59375 6.390625 \nQ 36.859375 6.390625 41.078125 11.03125 \nQ 45.3125 15.671875 45.3125 23.6875 \nL 45.3125 54.6875 \nL 54.296875 54.6875 \nL 54.296875 0 \nL 45.3125 0 \nL 45.3125 8.40625 \nQ 42.046875 3.421875 37.71875 1 \nQ 33.40625 -1.421875 27.6875 -1.421875 \nQ 18.265625 -1.421875 13.375 4.4375 \nQ 8.5 10.296875 8.5 21.578125 \nz\nM 31.109375 56 \nz\n\" id=\"DejaVuSans-117\"/>\n     <path d=\"M 32.171875 -5.078125 \nQ 28.375 -14.84375 24.75 -17.8125 \nQ 21.140625 -20.796875 15.09375 -20.796875 \nL 7.90625 -20.796875 \nL 7.90625 -13.28125 \nL 13.1875 -13.28125 \nQ 16.890625 -13.28125 18.9375 -11.515625 \nQ 21 -9.765625 23.484375 -3.21875 \nL 25.09375 0.875 \nL 2.984375 54.6875 \nL 12.5 54.6875 \nL 29.59375 11.921875 \nL 46.6875 54.6875 \nL 56.203125 54.6875 \nz\n\" id=\"DejaVuSans-121\"/>\n    </defs>\n    <g style=\"fill:#262626;\" transform=\"translate(76.623756 18.14175)scale(0.144 -0.144)\">\n     <use xlink:href=\"#DejaVuSans-84\"/>\n     <use x=\"46.333984\" xlink:href=\"#DejaVuSans-114\"/>\n     <use x=\"87.447266\" xlink:href=\"#DejaVuSans-97\"/>\n     <use x=\"148.726562\" xlink:href=\"#DejaVuSans-105\"/>\n     <use x=\"176.509766\" xlink:href=\"#DejaVuSans-110\"/>\n     <use x=\"239.888672\" xlink:href=\"#DejaVuSans-105\"/>\n     <use x=\"267.671875\" xlink:href=\"#DejaVuSans-110\"/>\n     <use x=\"331.050781\" xlink:href=\"#DejaVuSans-103\"/>\n     <use x=\"394.527344\" xlink:href=\"#DejaVuSans-32\"/>\n     <use x=\"426.314453\" xlink:href=\"#DejaVuSans-97\"/>\n     <use x=\"487.59375\" xlink:href=\"#DejaVuSans-110\"/>\n     <use x=\"550.972656\" xlink:href=\"#DejaVuSans-100\"/>\n     <use x=\"614.449219\" xlink:href=\"#DejaVuSans-32\"/>\n     <use x=\"646.236328\" xlink:href=\"#DejaVuSans-118\"/>\n     <use x=\"705.416016\" xlink:href=\"#DejaVuSans-97\"/>\n     <use x=\"766.695312\" xlink:href=\"#DejaVuSans-108\"/>\n     <use x=\"794.478516\" xlink:href=\"#DejaVuSans-105\"/>\n     <use x=\"822.261719\" xlink:href=\"#DejaVuSans-100\"/>\n     <use x=\"885.738281\" xlink:href=\"#DejaVuSans-97\"/>\n     <use x=\"947.017578\" xlink:href=\"#DejaVuSans-116\"/>\n     <use x=\"986.226562\" xlink:href=\"#DejaVuSans-105\"/>\n     <use x=\"1014.009766\" xlink:href=\"#DejaVuSans-111\"/>\n     <use x=\"1075.191406\" xlink:href=\"#DejaVuSans-110\"/>\n     <use x=\"1138.570312\" xlink:href=\"#DejaVuSans-32\"/>\n     <use x=\"1170.357422\" xlink:href=\"#DejaVuSans-97\"/>\n     <use x=\"1231.636719\" xlink:href=\"#DejaVuSans-99\"/>\n     <use x=\"1286.617188\" xlink:href=\"#DejaVuSans-99\"/>\n     <use x=\"1341.597656\" xlink:href=\"#DejaVuSans-117\"/>\n     <use x=\"1404.976562\" xlink:href=\"#DejaVuSans-114\"/>\n     <use x=\"1446.089844\" xlink:href=\"#DejaVuSans-97\"/>\n     <use x=\"1507.369141\" xlink:href=\"#DejaVuSans-99\"/>\n     <use x=\"1562.349609\" xlink:href=\"#DejaVuSans-121\"/>\n    </g>\n   </g>\n   <g id=\"legend_1\">\n    <g id=\"patch_7\">\n     <path d=\"M 48.892188 65.233625 \nL 160.745 65.233625 \nQ 162.945 65.233625 162.945 63.033625 \nL 162.945 31.84175 \nQ 162.945 29.64175 160.745 29.64175 \nL 48.892188 29.64175 \nQ 46.692188 29.64175 46.692188 31.84175 \nL 46.692188 63.033625 \nQ 46.692188 65.233625 48.892188 65.233625 \nz\n\" style=\"fill:#e5e5e5;opacity:0.8;stroke:#cccccc;stroke-linejoin:miter;stroke-width:0.5;\"/>\n    </g>\n    <g id=\"line2d_16\">\n     <path d=\"M 51.092188 38.550031 \nL 73.092187 38.550031 \n\" style=\"fill:none;stroke:#4c72b0;stroke-linecap:round;stroke-width:1.5;\"/>\n    </g>\n    <g id=\"line2d_17\"/>\n    <g id=\"text_15\">\n     <!-- Training acc -->\n     <g style=\"fill:#262626;\" transform=\"translate(81.892188 42.400031)scale(0.11 -0.11)\">\n      <use xlink:href=\"#DejaVuSans-84\"/>\n      <use x=\"46.333984\" xlink:href=\"#DejaVuSans-114\"/>\n      <use x=\"87.447266\" xlink:href=\"#DejaVuSans-97\"/>\n      <use x=\"148.726562\" xlink:href=\"#DejaVuSans-105\"/>\n      <use x=\"176.509766\" xlink:href=\"#DejaVuSans-110\"/>\n      <use x=\"239.888672\" xlink:href=\"#DejaVuSans-105\"/>\n      <use x=\"267.671875\" xlink:href=\"#DejaVuSans-110\"/>\n      <use x=\"331.050781\" xlink:href=\"#DejaVuSans-103\"/>\n      <use x=\"394.527344\" xlink:href=\"#DejaVuSans-32\"/>\n      <use x=\"426.314453\" xlink:href=\"#DejaVuSans-97\"/>\n      <use x=\"487.59375\" xlink:href=\"#DejaVuSans-99\"/>\n      <use x=\"542.574219\" xlink:href=\"#DejaVuSans-99\"/>\n     </g>\n    </g>\n    <g id=\"line2d_18\">\n     <path d=\"M 51.092188 54.695969 \nL 73.092187 54.695969 \n\" style=\"fill:none;stroke:#c44e52;stroke-linecap:round;stroke-width:1.5;\"/>\n    </g>\n    <g id=\"line2d_19\"/>\n    <g id=\"text_16\">\n     <!-- Validation acc -->\n     <defs>\n      <path d=\"M 28.609375 0 \nL 0.78125 72.90625 \nL 11.078125 72.90625 \nL 34.1875 11.53125 \nL 57.328125 72.90625 \nL 67.578125 72.90625 \nL 39.796875 0 \nz\n\" id=\"DejaVuSans-86\"/>\n     </defs>\n     <g style=\"fill:#262626;\" transform=\"translate(81.892188 58.545969)scale(0.11 -0.11)\">\n      <use xlink:href=\"#DejaVuSans-86\"/>\n      <use x=\"60.658203\" xlink:href=\"#DejaVuSans-97\"/>\n      <use x=\"121.9375\" xlink:href=\"#DejaVuSans-108\"/>\n      <use x=\"149.720703\" xlink:href=\"#DejaVuSans-105\"/>\n      <use x=\"177.503906\" xlink:href=\"#DejaVuSans-100\"/>\n      <use x=\"240.980469\" xlink:href=\"#DejaVuSans-97\"/>\n      <use x=\"302.259766\" xlink:href=\"#DejaVuSans-116\"/>\n      <use x=\"341.46875\" xlink:href=\"#DejaVuSans-105\"/>\n      <use x=\"369.251953\" xlink:href=\"#DejaVuSans-111\"/>\n      <use x=\"430.433594\" xlink:href=\"#DejaVuSans-110\"/>\n      <use x=\"493.8125\" xlink:href=\"#DejaVuSans-32\"/>\n      <use x=\"525.599609\" xlink:href=\"#DejaVuSans-97\"/>\n      <use x=\"586.878906\" xlink:href=\"#DejaVuSans-99\"/>\n      <use x=\"641.859375\" xlink:href=\"#DejaVuSans-99\"/>\n     </g>\n    </g>\n   </g>\n  </g>\n  <g id=\"axes_2\">\n   <g id=\"patch_8\">\n    <path d=\"M 406.428551 295.94175 \nL 710.792187 295.94175 \nL 710.792187 24.14175 \nL 406.428551 24.14175 \nz\n\" style=\"fill:#e5e5e5;\"/>\n   </g>\n   <g id=\"matplotlib.axis_3\">\n    <g id=\"xtick_8\">\n     <g id=\"line2d_20\">\n      <path clip-path=\"url(#p5e54bcb3be)\" d=\"M 440.027134 295.94175 \nL 440.027134 24.14175 \n\" style=\"fill:none;stroke:#ffffff;stroke-linecap:round;\"/>\n     </g>\n     <g id=\"text_17\">\n      <!-- 2 -->\n      <g style=\"fill:#555555;\" transform=\"translate(436.527759 313.800031)scale(0.11 -0.11)\">\n       <use xlink:href=\"#DejaVuSans-50\"/>\n      </g>\n     </g>\n    </g>\n    <g id=\"xtick_9\">\n     <g id=\"line2d_21\">\n      <path clip-path=\"url(#p5e54bcb3be)\" d=\"M 479.554879 295.94175 \nL 479.554879 24.14175 \n\" style=\"fill:none;stroke:#ffffff;stroke-linecap:round;\"/>\n     </g>\n     <g id=\"text_18\">\n      <!-- 4 -->\n      <g style=\"fill:#555555;\" transform=\"translate(476.055504 313.800031)scale(0.11 -0.11)\">\n       <use xlink:href=\"#DejaVuSans-52\"/>\n      </g>\n     </g>\n    </g>\n    <g id=\"xtick_10\">\n     <g id=\"line2d_22\">\n      <path clip-path=\"url(#p5e54bcb3be)\" d=\"M 519.082624 295.94175 \nL 519.082624 24.14175 \n\" style=\"fill:none;stroke:#ffffff;stroke-linecap:round;\"/>\n     </g>\n     <g id=\"text_19\">\n      <!-- 6 -->\n      <g style=\"fill:#555555;\" transform=\"translate(515.583249 313.800031)scale(0.11 -0.11)\">\n       <use xlink:href=\"#DejaVuSans-54\"/>\n      </g>\n     </g>\n    </g>\n    <g id=\"xtick_11\">\n     <g id=\"line2d_23\">\n      <path clip-path=\"url(#p5e54bcb3be)\" d=\"M 558.610369 295.94175 \nL 558.610369 24.14175 \n\" style=\"fill:none;stroke:#ffffff;stroke-linecap:round;\"/>\n     </g>\n     <g id=\"text_20\">\n      <!-- 8 -->\n      <g style=\"fill:#555555;\" transform=\"translate(555.110994 313.800031)scale(0.11 -0.11)\">\n       <use xlink:href=\"#DejaVuSans-56\"/>\n      </g>\n     </g>\n    </g>\n    <g id=\"xtick_12\">\n     <g id=\"line2d_24\">\n      <path clip-path=\"url(#p5e54bcb3be)\" d=\"M 598.138114 295.94175 \nL 598.138114 24.14175 \n\" style=\"fill:none;stroke:#ffffff;stroke-linecap:round;\"/>\n     </g>\n     <g id=\"text_21\">\n      <!-- 10 -->\n      <g style=\"fill:#555555;\" transform=\"translate(591.139364 313.800031)scale(0.11 -0.11)\">\n       <use xlink:href=\"#DejaVuSans-49\"/>\n       <use x=\"63.623047\" xlink:href=\"#DejaVuSans-48\"/>\n      </g>\n     </g>\n    </g>\n    <g id=\"xtick_13\">\n     <g id=\"line2d_25\">\n      <path clip-path=\"url(#p5e54bcb3be)\" d=\"M 637.665859 295.94175 \nL 637.665859 24.14175 \n\" style=\"fill:none;stroke:#ffffff;stroke-linecap:round;\"/>\n     </g>\n     <g id=\"text_22\">\n      <!-- 12 -->\n      <g style=\"fill:#555555;\" transform=\"translate(630.667109 313.800031)scale(0.11 -0.11)\">\n       <use xlink:href=\"#DejaVuSans-49\"/>\n       <use x=\"63.623047\" xlink:href=\"#DejaVuSans-50\"/>\n      </g>\n     </g>\n    </g>\n    <g id=\"xtick_14\">\n     <g id=\"line2d_26\">\n      <path clip-path=\"url(#p5e54bcb3be)\" d=\"M 677.193604 295.94175 \nL 677.193604 24.14175 \n\" style=\"fill:none;stroke:#ffffff;stroke-linecap:round;\"/>\n     </g>\n     <g id=\"text_23\">\n      <!-- 14 -->\n      <g style=\"fill:#555555;\" transform=\"translate(670.194854 313.800031)scale(0.11 -0.11)\">\n       <use xlink:href=\"#DejaVuSans-49\"/>\n       <use x=\"63.623047\" xlink:href=\"#DejaVuSans-52\"/>\n      </g>\n     </g>\n    </g>\n   </g>\n   <g id=\"matplotlib.axis_4\">\n    <g id=\"ytick_7\">\n     <g id=\"line2d_27\">\n      <path clip-path=\"url(#p5e54bcb3be)\" d=\"M 406.428551 262.149237 \nL 710.792187 262.149237 \n\" style=\"fill:none;stroke:#ffffff;stroke-linecap:round;\"/>\n     </g>\n     <g id=\"text_24\">\n      <!-- 1.75 -->\n      <defs>\n       <path d=\"M 8.203125 72.90625 \nL 55.078125 72.90625 \nL 55.078125 68.703125 \nL 28.609375 0 \nL 18.3125 0 \nL 43.21875 64.59375 \nL 8.203125 64.59375 \nz\n\" id=\"DejaVuSans-55\"/>\n       <path d=\"M 10.796875 72.90625 \nL 49.515625 72.90625 \nL 49.515625 64.59375 \nL 19.828125 64.59375 \nL 19.828125 46.734375 \nQ 21.96875 47.46875 24.109375 47.828125 \nQ 26.265625 48.1875 28.421875 48.1875 \nQ 40.625 48.1875 47.75 41.5 \nQ 54.890625 34.8125 54.890625 23.390625 \nQ 54.890625 11.625 47.5625 5.09375 \nQ 40.234375 -1.421875 26.90625 -1.421875 \nQ 22.3125 -1.421875 17.546875 -0.640625 \nQ 12.796875 0.140625 7.71875 1.703125 \nL 7.71875 11.625 \nQ 12.109375 9.234375 16.796875 8.0625 \nQ 21.484375 6.890625 26.703125 6.890625 \nQ 35.15625 6.890625 40.078125 11.328125 \nQ 45.015625 15.765625 45.015625 23.390625 \nQ 45.015625 31 40.078125 35.4375 \nQ 35.15625 39.890625 26.703125 39.890625 \nQ 22.75 39.890625 18.8125 39.015625 \nQ 14.890625 38.140625 10.796875 36.28125 \nz\n\" id=\"DejaVuSans-53\"/>\n      </defs>\n      <g style=\"fill:#555555;\" transform=\"translate(372.436364 266.328378)scale(0.11 -0.11)\">\n       <use xlink:href=\"#DejaVuSans-49\"/>\n       <use x=\"63.623047\" xlink:href=\"#DejaVuSans-46\"/>\n       <use x=\"95.410156\" xlink:href=\"#DejaVuSans-55\"/>\n       <use x=\"159.033203\" xlink:href=\"#DejaVuSans-53\"/>\n      </g>\n     </g>\n    </g>\n    <g id=\"ytick_8\">\n     <g id=\"line2d_28\">\n      <path clip-path=\"url(#p5e54bcb3be)\" d=\"M 406.428551 219.207943 \nL 710.792187 219.207943 \n\" style=\"fill:none;stroke:#ffffff;stroke-linecap:round;\"/>\n     </g>\n     <g id=\"text_25\">\n      <!-- 1.80 -->\n      <g style=\"fill:#555555;\" transform=\"translate(372.436364 223.387084)scale(0.11 -0.11)\">\n       <use xlink:href=\"#DejaVuSans-49\"/>\n       <use x=\"63.623047\" xlink:href=\"#DejaVuSans-46\"/>\n       <use x=\"95.410156\" xlink:href=\"#DejaVuSans-56\"/>\n       <use x=\"159.033203\" xlink:href=\"#DejaVuSans-48\"/>\n      </g>\n     </g>\n    </g>\n    <g id=\"ytick_9\">\n     <g id=\"line2d_29\">\n      <path clip-path=\"url(#p5e54bcb3be)\" d=\"M 406.428551 176.266649 \nL 710.792187 176.266649 \n\" style=\"fill:none;stroke:#ffffff;stroke-linecap:round;\"/>\n     </g>\n     <g id=\"text_26\">\n      <!-- 1.85 -->\n      <g style=\"fill:#555555;\" transform=\"translate(372.436364 180.44579)scale(0.11 -0.11)\">\n       <use xlink:href=\"#DejaVuSans-49\"/>\n       <use x=\"63.623047\" xlink:href=\"#DejaVuSans-46\"/>\n       <use x=\"95.410156\" xlink:href=\"#DejaVuSans-56\"/>\n       <use x=\"159.033203\" xlink:href=\"#DejaVuSans-53\"/>\n      </g>\n     </g>\n    </g>\n    <g id=\"ytick_10\">\n     <g id=\"line2d_30\">\n      <path clip-path=\"url(#p5e54bcb3be)\" d=\"M 406.428551 133.325355 \nL 710.792187 133.325355 \n\" style=\"fill:none;stroke:#ffffff;stroke-linecap:round;\"/>\n     </g>\n     <g id=\"text_27\">\n      <!-- 1.90 -->\n      <defs>\n       <path d=\"M 10.984375 1.515625 \nL 10.984375 10.5 \nQ 14.703125 8.734375 18.5 7.8125 \nQ 22.3125 6.890625 25.984375 6.890625 \nQ 35.75 6.890625 40.890625 13.453125 \nQ 46.046875 20.015625 46.78125 33.40625 \nQ 43.953125 29.203125 39.59375 26.953125 \nQ 35.25 24.703125 29.984375 24.703125 \nQ 19.046875 24.703125 12.671875 31.3125 \nQ 6.296875 37.9375 6.296875 49.421875 \nQ 6.296875 60.640625 12.9375 67.421875 \nQ 19.578125 74.21875 30.609375 74.21875 \nQ 43.265625 74.21875 49.921875 64.515625 \nQ 56.59375 54.828125 56.59375 36.375 \nQ 56.59375 19.140625 48.40625 8.859375 \nQ 40.234375 -1.421875 26.421875 -1.421875 \nQ 22.703125 -1.421875 18.890625 -0.6875 \nQ 15.09375 0.046875 10.984375 1.515625 \nz\nM 30.609375 32.421875 \nQ 37.25 32.421875 41.125 36.953125 \nQ 45.015625 41.5 45.015625 49.421875 \nQ 45.015625 57.28125 41.125 61.84375 \nQ 37.25 66.40625 30.609375 66.40625 \nQ 23.96875 66.40625 20.09375 61.84375 \nQ 16.21875 57.28125 16.21875 49.421875 \nQ 16.21875 41.5 20.09375 36.953125 \nQ 23.96875 32.421875 30.609375 32.421875 \nz\n\" id=\"DejaVuSans-57\"/>\n      </defs>\n      <g style=\"fill:#555555;\" transform=\"translate(372.436364 137.504496)scale(0.11 -0.11)\">\n       <use xlink:href=\"#DejaVuSans-49\"/>\n       <use x=\"63.623047\" xlink:href=\"#DejaVuSans-46\"/>\n       <use x=\"95.410156\" xlink:href=\"#DejaVuSans-57\"/>\n       <use x=\"159.033203\" xlink:href=\"#DejaVuSans-48\"/>\n      </g>\n     </g>\n    </g>\n    <g id=\"ytick_11\">\n     <g id=\"line2d_31\">\n      <path clip-path=\"url(#p5e54bcb3be)\" d=\"M 406.428551 90.384061 \nL 710.792187 90.384061 \n\" style=\"fill:none;stroke:#ffffff;stroke-linecap:round;\"/>\n     </g>\n     <g id=\"text_28\">\n      <!-- 1.95 -->\n      <g style=\"fill:#555555;\" transform=\"translate(372.436364 94.563202)scale(0.11 -0.11)\">\n       <use xlink:href=\"#DejaVuSans-49\"/>\n       <use x=\"63.623047\" xlink:href=\"#DejaVuSans-46\"/>\n       <use x=\"95.410156\" xlink:href=\"#DejaVuSans-57\"/>\n       <use x=\"159.033203\" xlink:href=\"#DejaVuSans-53\"/>\n      </g>\n     </g>\n    </g>\n    <g id=\"ytick_12\">\n     <g id=\"line2d_32\">\n      <path clip-path=\"url(#p5e54bcb3be)\" d=\"M 406.428551 47.442768 \nL 710.792187 47.442768 \n\" style=\"fill:none;stroke:#ffffff;stroke-linecap:round;\"/>\n     </g>\n     <g id=\"text_29\">\n      <!-- 2.00 -->\n      <g style=\"fill:#555555;\" transform=\"translate(372.436364 51.621908)scale(0.11 -0.11)\">\n       <use xlink:href=\"#DejaVuSans-50\"/>\n       <use x=\"63.623047\" xlink:href=\"#DejaVuSans-46\"/>\n       <use x=\"95.410156\" xlink:href=\"#DejaVuSans-48\"/>\n       <use x=\"159.033203\" xlink:href=\"#DejaVuSans-48\"/>\n      </g>\n     </g>\n    </g>\n   </g>\n   <g id=\"line2d_33\">\n    <path clip-path=\"url(#p5e54bcb3be)\" d=\"M 420.263262 36.496295 \nL 440.027134 52.607942 \nL 459.791007 64.967873 \nL 479.554879 80.458175 \nL 499.318752 92.60065 \nL 519.082624 110.240626 \nL 538.846497 137.231686 \nL 558.610369 153.480214 \nL 578.374242 160.387078 \nL 598.138114 177.488944 \nL 617.901987 180.867587 \nL 637.665859 179.178624 \nL 657.429732 200.89486 \nL 677.193604 218.266907 \nL 696.957477 220.849443 \n\" style=\"fill:none;stroke:#4c72b0;stroke-linecap:round;stroke-width:1.5;\"/>\n   </g>\n   <g id=\"line2d_34\">\n    <path clip-path=\"url(#p5e54bcb3be)\" d=\"M 420.263262 54.231587 \nL 440.027134 65.374014 \nL 459.791007 92.613243 \nL 479.554879 115.891491 \nL 499.318752 114.609898 \nL 519.082624 156.74112 \nL 538.846497 175.772338 \nL 558.610369 198.083505 \nL 578.374242 218.450986 \nL 598.138114 225.072005 \nL 617.901987 218.583876 \nL 637.665859 249.781321 \nL 657.429732 264.503056 \nL 677.193604 249.989664 \nL 696.957477 283.587205 \n\" style=\"fill:none;stroke:#c44e52;stroke-linecap:round;stroke-width:1.5;\"/>\n   </g>\n   <g id=\"patch_9\">\n    <path d=\"M 406.428551 295.94175 \nL 406.428551 24.14175 \n\" style=\"fill:none;stroke:#ffffff;stroke-linecap:square;stroke-linejoin:miter;\"/>\n   </g>\n   <g id=\"patch_10\">\n    <path d=\"M 710.792187 295.94175 \nL 710.792187 24.14175 \n\" style=\"fill:none;stroke:#ffffff;stroke-linecap:square;stroke-linejoin:miter;\"/>\n   </g>\n   <g id=\"patch_11\">\n    <path d=\"M 406.428551 295.94175 \nL 710.792187 295.94175 \n\" style=\"fill:none;stroke:#ffffff;stroke-linecap:square;stroke-linejoin:miter;\"/>\n   </g>\n   <g id=\"patch_12\">\n    <path d=\"M 406.428551 24.14175 \nL 710.792187 24.14175 \n\" style=\"fill:none;stroke:#ffffff;stroke-linecap:square;stroke-linejoin:miter;\"/>\n   </g>\n   <g id=\"text_30\">\n    <!-- Training and validation loss -->\n    <defs>\n     <path d=\"M 44.28125 53.078125 \nL 44.28125 44.578125 \nQ 40.484375 46.53125 36.375 47.5 \nQ 32.28125 48.484375 27.875 48.484375 \nQ 21.1875 48.484375 17.84375 46.4375 \nQ 14.5 44.390625 14.5 40.28125 \nQ 14.5 37.15625 16.890625 35.375 \nQ 19.28125 33.59375 26.515625 31.984375 \nL 29.59375 31.296875 \nQ 39.15625 29.25 43.1875 25.515625 \nQ 47.21875 21.78125 47.21875 15.09375 \nQ 47.21875 7.46875 41.1875 3.015625 \nQ 35.15625 -1.421875 24.609375 -1.421875 \nQ 20.21875 -1.421875 15.453125 -0.5625 \nQ 10.6875 0.296875 5.421875 2 \nL 5.421875 11.28125 \nQ 10.40625 8.6875 15.234375 7.390625 \nQ 20.0625 6.109375 24.8125 6.109375 \nQ 31.15625 6.109375 34.5625 8.28125 \nQ 37.984375 10.453125 37.984375 14.40625 \nQ 37.984375 18.0625 35.515625 20.015625 \nQ 33.0625 21.96875 24.703125 23.78125 \nL 21.578125 24.515625 \nQ 13.234375 26.265625 9.515625 29.90625 \nQ 5.8125 33.546875 5.8125 39.890625 \nQ 5.8125 47.609375 11.28125 51.796875 \nQ 16.75 56 26.8125 56 \nQ 31.78125 56 36.171875 55.265625 \nQ 40.578125 54.546875 44.28125 53.078125 \nz\n\" id=\"DejaVuSans-115\"/>\n    </defs>\n    <g style=\"fill:#262626;\" transform=\"translate(460.438369 18.14175)scale(0.144 -0.144)\">\n     <use xlink:href=\"#DejaVuSans-84\"/>\n     <use x=\"46.333984\" xlink:href=\"#DejaVuSans-114\"/>\n     <use x=\"87.447266\" xlink:href=\"#DejaVuSans-97\"/>\n     <use x=\"148.726562\" xlink:href=\"#DejaVuSans-105\"/>\n     <use x=\"176.509766\" xlink:href=\"#DejaVuSans-110\"/>\n     <use x=\"239.888672\" xlink:href=\"#DejaVuSans-105\"/>\n     <use x=\"267.671875\" xlink:href=\"#DejaVuSans-110\"/>\n     <use x=\"331.050781\" xlink:href=\"#DejaVuSans-103\"/>\n     <use x=\"394.527344\" xlink:href=\"#DejaVuSans-32\"/>\n     <use x=\"426.314453\" xlink:href=\"#DejaVuSans-97\"/>\n     <use x=\"487.59375\" xlink:href=\"#DejaVuSans-110\"/>\n     <use x=\"550.972656\" xlink:href=\"#DejaVuSans-100\"/>\n     <use x=\"614.449219\" xlink:href=\"#DejaVuSans-32\"/>\n     <use x=\"646.236328\" xlink:href=\"#DejaVuSans-118\"/>\n     <use x=\"705.416016\" xlink:href=\"#DejaVuSans-97\"/>\n     <use x=\"766.695312\" xlink:href=\"#DejaVuSans-108\"/>\n     <use x=\"794.478516\" xlink:href=\"#DejaVuSans-105\"/>\n     <use x=\"822.261719\" xlink:href=\"#DejaVuSans-100\"/>\n     <use x=\"885.738281\" xlink:href=\"#DejaVuSans-97\"/>\n     <use x=\"947.017578\" xlink:href=\"#DejaVuSans-116\"/>\n     <use x=\"986.226562\" xlink:href=\"#DejaVuSans-105\"/>\n     <use x=\"1014.009766\" xlink:href=\"#DejaVuSans-111\"/>\n     <use x=\"1075.191406\" xlink:href=\"#DejaVuSans-110\"/>\n     <use x=\"1138.570312\" xlink:href=\"#DejaVuSans-32\"/>\n     <use x=\"1170.357422\" xlink:href=\"#DejaVuSans-108\"/>\n     <use x=\"1198.140625\" xlink:href=\"#DejaVuSans-111\"/>\n     <use x=\"1259.322266\" xlink:href=\"#DejaVuSans-115\"/>\n     <use x=\"1311.421875\" xlink:href=\"#DejaVuSans-115\"/>\n    </g>\n   </g>\n   <g id=\"legend_2\">\n    <g id=\"patch_13\">\n     <path d=\"M 588.829687 65.233625 \nL 703.092187 65.233625 \nQ 705.292187 65.233625 705.292187 63.033625 \nL 705.292187 31.84175 \nQ 705.292187 29.64175 703.092187 29.64175 \nL 588.829687 29.64175 \nQ 586.629687 29.64175 586.629687 31.84175 \nL 586.629687 63.033625 \nQ 586.629687 65.233625 588.829687 65.233625 \nz\n\" style=\"fill:#e5e5e5;opacity:0.8;stroke:#cccccc;stroke-linejoin:miter;stroke-width:0.5;\"/>\n    </g>\n    <g id=\"line2d_35\">\n     <path d=\"M 591.029687 38.550031 \nL 613.029687 38.550031 \n\" style=\"fill:none;stroke:#4c72b0;stroke-linecap:round;stroke-width:1.5;\"/>\n    </g>\n    <g id=\"line2d_36\"/>\n    <g id=\"text_31\">\n     <!-- Training loss -->\n     <g style=\"fill:#262626;\" transform=\"translate(621.829687 42.400031)scale(0.11 -0.11)\">\n      <use xlink:href=\"#DejaVuSans-84\"/>\n      <use x=\"46.333984\" xlink:href=\"#DejaVuSans-114\"/>\n      <use x=\"87.447266\" xlink:href=\"#DejaVuSans-97\"/>\n      <use x=\"148.726562\" xlink:href=\"#DejaVuSans-105\"/>\n      <use x=\"176.509766\" xlink:href=\"#DejaVuSans-110\"/>\n      <use x=\"239.888672\" xlink:href=\"#DejaVuSans-105\"/>\n      <use x=\"267.671875\" xlink:href=\"#DejaVuSans-110\"/>\n      <use x=\"331.050781\" xlink:href=\"#DejaVuSans-103\"/>\n      <use x=\"394.527344\" xlink:href=\"#DejaVuSans-32\"/>\n      <use x=\"426.314453\" xlink:href=\"#DejaVuSans-108\"/>\n      <use x=\"454.097656\" xlink:href=\"#DejaVuSans-111\"/>\n      <use x=\"515.279297\" xlink:href=\"#DejaVuSans-115\"/>\n      <use x=\"567.378906\" xlink:href=\"#DejaVuSans-115\"/>\n     </g>\n    </g>\n    <g id=\"line2d_37\">\n     <path d=\"M 591.029687 54.695969 \nL 613.029687 54.695969 \n\" style=\"fill:none;stroke:#c44e52;stroke-linecap:round;stroke-width:1.5;\"/>\n    </g>\n    <g id=\"line2d_38\"/>\n    <g id=\"text_32\">\n     <!-- Validation loss -->\n     <g style=\"fill:#262626;\" transform=\"translate(621.829687 58.545969)scale(0.11 -0.11)\">\n      <use xlink:href=\"#DejaVuSans-86\"/>\n      <use x=\"60.658203\" xlink:href=\"#DejaVuSans-97\"/>\n      <use x=\"121.9375\" xlink:href=\"#DejaVuSans-108\"/>\n      <use x=\"149.720703\" xlink:href=\"#DejaVuSans-105\"/>\n      <use x=\"177.503906\" xlink:href=\"#DejaVuSans-100\"/>\n      <use x=\"240.980469\" xlink:href=\"#DejaVuSans-97\"/>\n      <use x=\"302.259766\" xlink:href=\"#DejaVuSans-116\"/>\n      <use x=\"341.46875\" xlink:href=\"#DejaVuSans-105\"/>\n      <use x=\"369.251953\" xlink:href=\"#DejaVuSans-111\"/>\n      <use x=\"430.433594\" xlink:href=\"#DejaVuSans-110\"/>\n      <use x=\"493.8125\" xlink:href=\"#DejaVuSans-32\"/>\n      <use x=\"525.599609\" xlink:href=\"#DejaVuSans-108\"/>\n      <use x=\"553.382812\" xlink:href=\"#DejaVuSans-111\"/>\n      <use x=\"614.564453\" xlink:href=\"#DejaVuSans-115\"/>\n      <use x=\"666.664062\" xlink:href=\"#DejaVuSans-115\"/>\n     </g>\n    </g>\n   </g>\n  </g>\n </g>\n <defs>\n  <clipPath id=\"pfd804f92dc\">\n   <rect height=\"271.8\" width=\"304.363636\" x=\"41.192188\" y=\"24.14175\"/>\n  </clipPath>\n  <clipPath id=\"p5e54bcb3be\">\n   <rect height=\"271.8\" width=\"304.363636\" x=\"406.428551\" y=\"24.14175\"/>\n  </clipPath>\n </defs>\n</svg>\n"
          },
          "metadata": {
            "tags": []
          }
        }
      ]
    },
    {
      "cell_type": "code",
      "metadata": {
        "id": "sXhD3TDAj7Or",
        "colab_type": "code",
        "colab": {}
      },
      "source": [
        "y_pred = model.predict(X_val)"
      ],
      "execution_count": 93,
      "outputs": []
    },
    {
      "cell_type": "code",
      "metadata": {
        "id": "o1nkyPe0j7Y8",
        "colab_type": "code",
        "colab": {}
      },
      "source": [
        "## predict crisp classes for test set. Output will be 1-D\n",
        "y_val_class = np.argmax(y_val_ohe,axis=1)\n",
        "y_pred_class = np.argmax(y_pred,axis=1)"
      ],
      "execution_count": 94,
      "outputs": []
    },
    {
      "cell_type": "code",
      "metadata": {
        "id": "3fVdkPZ4kHUI",
        "colab_type": "code",
        "colab": {
          "base_uri": "https://localhost:8080/",
          "height": 336
        },
        "outputId": "48961e7f-92f9-4812-8444-54d4cd5c3bea"
      },
      "source": [
        "from sklearn.metrics import classification_report,confusion_matrix\n",
        "print(classification_report(y_val_class,y_pred_class))"
      ],
      "execution_count": 95,
      "outputs": [
        {
          "output_type": "stream",
          "text": [
            "              precision    recall  f1-score   support\n",
            "\n",
            "           0       0.67      0.24      0.35       126\n",
            "           1       0.33      0.38      0.35       848\n",
            "           2       0.19      0.10      0.13       354\n",
            "           3       0.39      0.36      0.37      1012\n",
            "           4       0.60      0.28      0.38       592\n",
            "           5       0.39      0.59      0.47       576\n",
            "           6       0.31      0.43      0.36      1077\n",
            "           7       0.25      0.50      0.33      1208\n",
            "           8       0.64      0.34      0.45       906\n",
            "           9       0.14      0.01      0.02       250\n",
            "          10       0.33      0.09      0.14       807\n",
            "          11       0.25      0.11      0.15       373\n",
            "\n",
            "    accuracy                           0.34      8129\n",
            "   macro avg       0.37      0.29      0.29      8129\n",
            "weighted avg       0.37      0.34      0.32      8129\n",
            "\n"
          ],
          "name": "stdout"
        }
      ]
    },
    {
      "cell_type": "code",
      "metadata": {
        "id": "_xT5jZgosPHR",
        "colab_type": "code",
        "colab": {
          "base_uri": "https://localhost:8080/",
          "height": 218
        },
        "outputId": "a9dbcd09-cfc4-466d-bb4d-fc709192f03d"
      },
      "source": [
        "print(confusion_matrix(y_val_class,y_pred_class))"
      ],
      "execution_count": 99,
      "outputs": [
        {
          "output_type": "stream",
          "text": [
            "[[ 30   5   3   6  13  23   9  26   0   2   1   8]\n",
            " [  0 320  12 115   1  55 122 186  17   0   5  15]\n",
            " [  0  38  34  26   0  53  86  95   1   0  14   7]\n",
            " [  1 153  22 360   6  99  98 216   8   0  31  18]\n",
            " [  6   7   5  44 164  75  49 175  53   2   9   3]\n",
            " [  1  34   9  49  27 340  12  76   9   1   5  13]\n",
            " [  0 113  10  36   1  26 467 362  43   2   5  12]\n",
            " [  5  89  19 103   3  58 251 605  14   1  45  15]\n",
            " [  0  51   4  36  49  36 121 272 312   2  13  10]\n",
            " [  0  19  19  32   1  33  40  77   4   2  13  10]\n",
            " [  2  76  19 106   7  46 183 261  22   0  74  11]\n",
            " [  0  63  22  21   0  37  63 111   5   2   8  41]]\n"
          ],
          "name": "stdout"
        }
      ]
    },
    {
      "cell_type": "markdown",
      "metadata": {
        "id": "c0JRsagTsySH",
        "colab_type": "text"
      },
      "source": [
        "### weights at each step of neural network"
      ]
    },
    {
      "cell_type": "code",
      "metadata": {
        "id": "v_wRTvZikHc3",
        "colab_type": "code",
        "colab": {
          "base_uri": "https://localhost:8080/",
          "height": 357
        },
        "outputId": "75413621-07c8-4f16-bf56-1b9c9606f973"
      },
      "source": [
        "plt.hist(model.get_weights()[0].ravel(),100)\n",
        "plt.show()"
      ],
      "execution_count": 100,
      "outputs": [
        {
          "output_type": "display_data",
          "data": {
            "text/plain": [
              "<Figure size 432x288 with 1 Axes>"
            ],
            "image/svg+xml": "<?xml version=\"1.0\" encoding=\"utf-8\" standalone=\"no\"?>\n<!DOCTYPE svg PUBLIC \"-//W3C//DTD SVG 1.1//EN\"\n  \"http://www.w3.org/Graphics/SVG/1.1/DTD/svg11.dtd\">\n<!-- Created with matplotlib (https://matplotlib.org/) -->\n<svg height=\"251.985937pt\" version=\"1.1\" viewBox=\"0 0 386.695 251.985937\" width=\"386.695pt\" xmlns=\"http://www.w3.org/2000/svg\" xmlns:xlink=\"http://www.w3.org/1999/xlink\">\n <defs>\n  <style type=\"text/css\">\n*{stroke-linecap:butt;stroke-linejoin:round;}\n  </style>\n </defs>\n <g id=\"figure_1\">\n  <g id=\"patch_1\">\n   <path d=\"M 0 251.985937 \nL 386.695 251.985937 \nL 386.695 0 \nL 0 0 \nz\n\" style=\"fill:#ffffff;\"/>\n  </g>\n  <g id=\"axes_1\">\n   <g id=\"patch_2\">\n    <path d=\"M 44.695 224.64 \nL 379.495 224.64 \nL 379.495 7.2 \nL 44.695 7.2 \nz\n\" style=\"fill:#e5e5e5;\"/>\n   </g>\n   <g id=\"matplotlib.axis_1\">\n    <g id=\"xtick_1\">\n     <g id=\"line2d_1\">\n      <path clip-path=\"url(#p6475bc6f66)\" d=\"M 56.95851 224.64 \nL 56.95851 7.2 \n\" style=\"fill:none;stroke:#ffffff;stroke-linecap:round;\"/>\n     </g>\n     <g id=\"text_1\">\n      <!-- −1.00 -->\n      <defs>\n       <path d=\"M 10.59375 35.5 \nL 73.1875 35.5 \nL 73.1875 27.203125 \nL 10.59375 27.203125 \nz\n\" id=\"DejaVuSans-8722\"/>\n       <path d=\"M 12.40625 8.296875 \nL 28.515625 8.296875 \nL 28.515625 63.921875 \nL 10.984375 60.40625 \nL 10.984375 69.390625 \nL 28.421875 72.90625 \nL 38.28125 72.90625 \nL 38.28125 8.296875 \nL 54.390625 8.296875 \nL 54.390625 0 \nL 12.40625 0 \nz\n\" id=\"DejaVuSans-49\"/>\n       <path d=\"M 10.6875 12.40625 \nL 21 12.40625 \nL 21 0 \nL 10.6875 0 \nz\n\" id=\"DejaVuSans-46\"/>\n       <path d=\"M 31.78125 66.40625 \nQ 24.171875 66.40625 20.328125 58.90625 \nQ 16.5 51.421875 16.5 36.375 \nQ 16.5 21.390625 20.328125 13.890625 \nQ 24.171875 6.390625 31.78125 6.390625 \nQ 39.453125 6.390625 43.28125 13.890625 \nQ 47.125 21.390625 47.125 36.375 \nQ 47.125 51.421875 43.28125 58.90625 \nQ 39.453125 66.40625 31.78125 66.40625 \nz\nM 31.78125 74.21875 \nQ 44.046875 74.21875 50.515625 64.515625 \nQ 56.984375 54.828125 56.984375 36.375 \nQ 56.984375 17.96875 50.515625 8.265625 \nQ 44.046875 -1.421875 31.78125 -1.421875 \nQ 19.53125 -1.421875 13.0625 8.265625 \nQ 6.59375 17.96875 6.59375 36.375 \nQ 6.59375 54.828125 13.0625 64.515625 \nQ 19.53125 74.21875 31.78125 74.21875 \nz\n\" id=\"DejaVuSans-48\"/>\n      </defs>\n      <g style=\"fill:#555555;\" transform=\"translate(40.103588 242.498281)scale(0.11 -0.11)\">\n       <use xlink:href=\"#DejaVuSans-8722\"/>\n       <use x=\"83.789062\" xlink:href=\"#DejaVuSans-49\"/>\n       <use x=\"147.412109\" xlink:href=\"#DejaVuSans-46\"/>\n       <use x=\"179.199219\" xlink:href=\"#DejaVuSans-48\"/>\n       <use x=\"242.822266\" xlink:href=\"#DejaVuSans-48\"/>\n      </g>\n     </g>\n    </g>\n    <g id=\"xtick_2\">\n     <g id=\"line2d_2\">\n      <path clip-path=\"url(#p6475bc6f66)\" d=\"M 99.915052 224.64 \nL 99.915052 7.2 \n\" style=\"fill:none;stroke:#ffffff;stroke-linecap:round;\"/>\n     </g>\n     <g id=\"text_2\">\n      <!-- −0.75 -->\n      <defs>\n       <path d=\"M 8.203125 72.90625 \nL 55.078125 72.90625 \nL 55.078125 68.703125 \nL 28.609375 0 \nL 18.3125 0 \nL 43.21875 64.59375 \nL 8.203125 64.59375 \nz\n\" id=\"DejaVuSans-55\"/>\n       <path d=\"M 10.796875 72.90625 \nL 49.515625 72.90625 \nL 49.515625 64.59375 \nL 19.828125 64.59375 \nL 19.828125 46.734375 \nQ 21.96875 47.46875 24.109375 47.828125 \nQ 26.265625 48.1875 28.421875 48.1875 \nQ 40.625 48.1875 47.75 41.5 \nQ 54.890625 34.8125 54.890625 23.390625 \nQ 54.890625 11.625 47.5625 5.09375 \nQ 40.234375 -1.421875 26.90625 -1.421875 \nQ 22.3125 -1.421875 17.546875 -0.640625 \nQ 12.796875 0.140625 7.71875 1.703125 \nL 7.71875 11.625 \nQ 12.109375 9.234375 16.796875 8.0625 \nQ 21.484375 6.890625 26.703125 6.890625 \nQ 35.15625 6.890625 40.078125 11.328125 \nQ 45.015625 15.765625 45.015625 23.390625 \nQ 45.015625 31 40.078125 35.4375 \nQ 35.15625 39.890625 26.703125 39.890625 \nQ 22.75 39.890625 18.8125 39.015625 \nQ 14.890625 38.140625 10.796875 36.28125 \nz\n\" id=\"DejaVuSans-53\"/>\n      </defs>\n      <g style=\"fill:#555555;\" transform=\"translate(83.06013 242.498281)scale(0.11 -0.11)\">\n       <use xlink:href=\"#DejaVuSans-8722\"/>\n       <use x=\"83.789062\" xlink:href=\"#DejaVuSans-48\"/>\n       <use x=\"147.412109\" xlink:href=\"#DejaVuSans-46\"/>\n       <use x=\"179.199219\" xlink:href=\"#DejaVuSans-55\"/>\n       <use x=\"242.822266\" xlink:href=\"#DejaVuSans-53\"/>\n      </g>\n     </g>\n    </g>\n    <g id=\"xtick_3\">\n     <g id=\"line2d_3\">\n      <path clip-path=\"url(#p6475bc6f66)\" d=\"M 142.871593 224.64 \nL 142.871593 7.2 \n\" style=\"fill:none;stroke:#ffffff;stroke-linecap:round;\"/>\n     </g>\n     <g id=\"text_3\">\n      <!-- −0.50 -->\n      <g style=\"fill:#555555;\" transform=\"translate(126.016671 242.498281)scale(0.11 -0.11)\">\n       <use xlink:href=\"#DejaVuSans-8722\"/>\n       <use x=\"83.789062\" xlink:href=\"#DejaVuSans-48\"/>\n       <use x=\"147.412109\" xlink:href=\"#DejaVuSans-46\"/>\n       <use x=\"179.199219\" xlink:href=\"#DejaVuSans-53\"/>\n       <use x=\"242.822266\" xlink:href=\"#DejaVuSans-48\"/>\n      </g>\n     </g>\n    </g>\n    <g id=\"xtick_4\">\n     <g id=\"line2d_4\">\n      <path clip-path=\"url(#p6475bc6f66)\" d=\"M 185.828134 224.64 \nL 185.828134 7.2 \n\" style=\"fill:none;stroke:#ffffff;stroke-linecap:round;\"/>\n     </g>\n     <g id=\"text_4\">\n      <!-- −0.25 -->\n      <defs>\n       <path d=\"M 19.1875 8.296875 \nL 53.609375 8.296875 \nL 53.609375 0 \nL 7.328125 0 \nL 7.328125 8.296875 \nQ 12.9375 14.109375 22.625 23.890625 \nQ 32.328125 33.6875 34.8125 36.53125 \nQ 39.546875 41.84375 41.421875 45.53125 \nQ 43.3125 49.21875 43.3125 52.78125 \nQ 43.3125 58.59375 39.234375 62.25 \nQ 35.15625 65.921875 28.609375 65.921875 \nQ 23.96875 65.921875 18.8125 64.3125 \nQ 13.671875 62.703125 7.8125 59.421875 \nL 7.8125 69.390625 \nQ 13.765625 71.78125 18.9375 73 \nQ 24.125 74.21875 28.421875 74.21875 \nQ 39.75 74.21875 46.484375 68.546875 \nQ 53.21875 62.890625 53.21875 53.421875 \nQ 53.21875 48.921875 51.53125 44.890625 \nQ 49.859375 40.875 45.40625 35.40625 \nQ 44.1875 33.984375 37.640625 27.21875 \nQ 31.109375 20.453125 19.1875 8.296875 \nz\n\" id=\"DejaVuSans-50\"/>\n      </defs>\n      <g style=\"fill:#555555;\" transform=\"translate(168.973212 242.498281)scale(0.11 -0.11)\">\n       <use xlink:href=\"#DejaVuSans-8722\"/>\n       <use x=\"83.789062\" xlink:href=\"#DejaVuSans-48\"/>\n       <use x=\"147.412109\" xlink:href=\"#DejaVuSans-46\"/>\n       <use x=\"179.199219\" xlink:href=\"#DejaVuSans-50\"/>\n       <use x=\"242.822266\" xlink:href=\"#DejaVuSans-53\"/>\n      </g>\n     </g>\n    </g>\n    <g id=\"xtick_5\">\n     <g id=\"line2d_5\">\n      <path clip-path=\"url(#p6475bc6f66)\" d=\"M 228.784675 224.64 \nL 228.784675 7.2 \n\" style=\"fill:none;stroke:#ffffff;stroke-linecap:round;\"/>\n     </g>\n     <g id=\"text_5\">\n      <!-- 0.00 -->\n      <g style=\"fill:#555555;\" transform=\"translate(216.538581 242.498281)scale(0.11 -0.11)\">\n       <use xlink:href=\"#DejaVuSans-48\"/>\n       <use x=\"63.623047\" xlink:href=\"#DejaVuSans-46\"/>\n       <use x=\"95.410156\" xlink:href=\"#DejaVuSans-48\"/>\n       <use x=\"159.033203\" xlink:href=\"#DejaVuSans-48\"/>\n      </g>\n     </g>\n    </g>\n    <g id=\"xtick_6\">\n     <g id=\"line2d_6\">\n      <path clip-path=\"url(#p6475bc6f66)\" d=\"M 271.741216 224.64 \nL 271.741216 7.2 \n\" style=\"fill:none;stroke:#ffffff;stroke-linecap:round;\"/>\n     </g>\n     <g id=\"text_6\">\n      <!-- 0.25 -->\n      <g style=\"fill:#555555;\" transform=\"translate(259.495123 242.498281)scale(0.11 -0.11)\">\n       <use xlink:href=\"#DejaVuSans-48\"/>\n       <use x=\"63.623047\" xlink:href=\"#DejaVuSans-46\"/>\n       <use x=\"95.410156\" xlink:href=\"#DejaVuSans-50\"/>\n       <use x=\"159.033203\" xlink:href=\"#DejaVuSans-53\"/>\n      </g>\n     </g>\n    </g>\n    <g id=\"xtick_7\">\n     <g id=\"line2d_7\">\n      <path clip-path=\"url(#p6475bc6f66)\" d=\"M 314.697758 224.64 \nL 314.697758 7.2 \n\" style=\"fill:none;stroke:#ffffff;stroke-linecap:round;\"/>\n     </g>\n     <g id=\"text_7\">\n      <!-- 0.50 -->\n      <g style=\"fill:#555555;\" transform=\"translate(302.451664 242.498281)scale(0.11 -0.11)\">\n       <use xlink:href=\"#DejaVuSans-48\"/>\n       <use x=\"63.623047\" xlink:href=\"#DejaVuSans-46\"/>\n       <use x=\"95.410156\" xlink:href=\"#DejaVuSans-53\"/>\n       <use x=\"159.033203\" xlink:href=\"#DejaVuSans-48\"/>\n      </g>\n     </g>\n    </g>\n    <g id=\"xtick_8\">\n     <g id=\"line2d_8\">\n      <path clip-path=\"url(#p6475bc6f66)\" d=\"M 357.654299 224.64 \nL 357.654299 7.2 \n\" style=\"fill:none;stroke:#ffffff;stroke-linecap:round;\"/>\n     </g>\n     <g id=\"text_8\">\n      <!-- 0.75 -->\n      <g style=\"fill:#555555;\" transform=\"translate(345.408205 242.498281)scale(0.11 -0.11)\">\n       <use xlink:href=\"#DejaVuSans-48\"/>\n       <use x=\"63.623047\" xlink:href=\"#DejaVuSans-46\"/>\n       <use x=\"95.410156\" xlink:href=\"#DejaVuSans-55\"/>\n       <use x=\"159.033203\" xlink:href=\"#DejaVuSans-53\"/>\n      </g>\n     </g>\n    </g>\n   </g>\n   <g id=\"matplotlib.axis_2\">\n    <g id=\"ytick_1\">\n     <g id=\"line2d_9\">\n      <path clip-path=\"url(#p6475bc6f66)\" d=\"M 44.695 224.64 \nL 379.495 224.64 \n\" style=\"fill:none;stroke:#ffffff;stroke-linecap:round;\"/>\n     </g>\n     <g id=\"text_9\">\n      <!-- 0 -->\n      <g style=\"fill:#555555;\" transform=\"translate(28.19625 228.819141)scale(0.11 -0.11)\">\n       <use xlink:href=\"#DejaVuSans-48\"/>\n      </g>\n     </g>\n    </g>\n    <g id=\"ytick_2\">\n     <g id=\"line2d_10\">\n      <path clip-path=\"url(#p6475bc6f66)\" d=\"M 44.695 192.702043 \nL 379.495 192.702043 \n\" style=\"fill:none;stroke:#ffffff;stroke-linecap:round;\"/>\n     </g>\n     <g id=\"text_10\">\n      <!-- 500 -->\n      <g style=\"fill:#555555;\" transform=\"translate(14.19875 196.881183)scale(0.11 -0.11)\">\n       <use xlink:href=\"#DejaVuSans-53\"/>\n       <use x=\"63.623047\" xlink:href=\"#DejaVuSans-48\"/>\n       <use x=\"127.246094\" xlink:href=\"#DejaVuSans-48\"/>\n      </g>\n     </g>\n    </g>\n    <g id=\"ytick_3\">\n     <g id=\"line2d_11\">\n      <path clip-path=\"url(#p6475bc6f66)\" d=\"M 44.695 160.764086 \nL 379.495 160.764086 \n\" style=\"fill:none;stroke:#ffffff;stroke-linecap:round;\"/>\n     </g>\n     <g id=\"text_11\">\n      <!-- 1000 -->\n      <g style=\"fill:#555555;\" transform=\"translate(7.2 164.943226)scale(0.11 -0.11)\">\n       <use xlink:href=\"#DejaVuSans-49\"/>\n       <use x=\"63.623047\" xlink:href=\"#DejaVuSans-48\"/>\n       <use x=\"127.246094\" xlink:href=\"#DejaVuSans-48\"/>\n       <use x=\"190.869141\" xlink:href=\"#DejaVuSans-48\"/>\n      </g>\n     </g>\n    </g>\n    <g id=\"ytick_4\">\n     <g id=\"line2d_12\">\n      <path clip-path=\"url(#p6475bc6f66)\" d=\"M 44.695 128.826128 \nL 379.495 128.826128 \n\" style=\"fill:none;stroke:#ffffff;stroke-linecap:round;\"/>\n     </g>\n     <g id=\"text_12\">\n      <!-- 1500 -->\n      <g style=\"fill:#555555;\" transform=\"translate(7.2 133.005269)scale(0.11 -0.11)\">\n       <use xlink:href=\"#DejaVuSans-49\"/>\n       <use x=\"63.623047\" xlink:href=\"#DejaVuSans-53\"/>\n       <use x=\"127.246094\" xlink:href=\"#DejaVuSans-48\"/>\n       <use x=\"190.869141\" xlink:href=\"#DejaVuSans-48\"/>\n      </g>\n     </g>\n    </g>\n    <g id=\"ytick_5\">\n     <g id=\"line2d_13\">\n      <path clip-path=\"url(#p6475bc6f66)\" d=\"M 44.695 96.888171 \nL 379.495 96.888171 \n\" style=\"fill:none;stroke:#ffffff;stroke-linecap:round;\"/>\n     </g>\n     <g id=\"text_13\">\n      <!-- 2000 -->\n      <g style=\"fill:#555555;\" transform=\"translate(7.2 101.067312)scale(0.11 -0.11)\">\n       <use xlink:href=\"#DejaVuSans-50\"/>\n       <use x=\"63.623047\" xlink:href=\"#DejaVuSans-48\"/>\n       <use x=\"127.246094\" xlink:href=\"#DejaVuSans-48\"/>\n       <use x=\"190.869141\" xlink:href=\"#DejaVuSans-48\"/>\n      </g>\n     </g>\n    </g>\n    <g id=\"ytick_6\">\n     <g id=\"line2d_14\">\n      <path clip-path=\"url(#p6475bc6f66)\" d=\"M 44.695 64.950214 \nL 379.495 64.950214 \n\" style=\"fill:none;stroke:#ffffff;stroke-linecap:round;\"/>\n     </g>\n     <g id=\"text_14\">\n      <!-- 2500 -->\n      <g style=\"fill:#555555;\" transform=\"translate(7.2 69.129355)scale(0.11 -0.11)\">\n       <use xlink:href=\"#DejaVuSans-50\"/>\n       <use x=\"63.623047\" xlink:href=\"#DejaVuSans-53\"/>\n       <use x=\"127.246094\" xlink:href=\"#DejaVuSans-48\"/>\n       <use x=\"190.869141\" xlink:href=\"#DejaVuSans-48\"/>\n      </g>\n     </g>\n    </g>\n    <g id=\"ytick_7\">\n     <g id=\"line2d_15\">\n      <path clip-path=\"url(#p6475bc6f66)\" d=\"M 44.695 33.012257 \nL 379.495 33.012257 \n\" style=\"fill:none;stroke:#ffffff;stroke-linecap:round;\"/>\n     </g>\n     <g id=\"text_15\">\n      <!-- 3000 -->\n      <defs>\n       <path d=\"M 40.578125 39.3125 \nQ 47.65625 37.796875 51.625 33 \nQ 55.609375 28.21875 55.609375 21.1875 \nQ 55.609375 10.40625 48.1875 4.484375 \nQ 40.765625 -1.421875 27.09375 -1.421875 \nQ 22.515625 -1.421875 17.65625 -0.515625 \nQ 12.796875 0.390625 7.625 2.203125 \nL 7.625 11.71875 \nQ 11.71875 9.328125 16.59375 8.109375 \nQ 21.484375 6.890625 26.8125 6.890625 \nQ 36.078125 6.890625 40.9375 10.546875 \nQ 45.796875 14.203125 45.796875 21.1875 \nQ 45.796875 27.640625 41.28125 31.265625 \nQ 36.765625 34.90625 28.71875 34.90625 \nL 20.21875 34.90625 \nL 20.21875 43.015625 \nL 29.109375 43.015625 \nQ 36.375 43.015625 40.234375 45.921875 \nQ 44.09375 48.828125 44.09375 54.296875 \nQ 44.09375 59.90625 40.109375 62.90625 \nQ 36.140625 65.921875 28.71875 65.921875 \nQ 24.65625 65.921875 20.015625 65.03125 \nQ 15.375 64.15625 9.8125 62.3125 \nL 9.8125 71.09375 \nQ 15.4375 72.65625 20.34375 73.4375 \nQ 25.25 74.21875 29.59375 74.21875 \nQ 40.828125 74.21875 47.359375 69.109375 \nQ 53.90625 64.015625 53.90625 55.328125 \nQ 53.90625 49.265625 50.4375 45.09375 \nQ 46.96875 40.921875 40.578125 39.3125 \nz\n\" id=\"DejaVuSans-51\"/>\n      </defs>\n      <g style=\"fill:#555555;\" transform=\"translate(7.2 37.191398)scale(0.11 -0.11)\">\n       <use xlink:href=\"#DejaVuSans-51\"/>\n       <use x=\"63.623047\" xlink:href=\"#DejaVuSans-48\"/>\n       <use x=\"127.246094\" xlink:href=\"#DejaVuSans-48\"/>\n       <use x=\"190.869141\" xlink:href=\"#DejaVuSans-48\"/>\n      </g>\n     </g>\n    </g>\n   </g>\n   <g id=\"patch_3\">\n    <path clip-path=\"url(#p6475bc6f66)\" d=\"M 59.913182 224.64 \nL 62.956822 224.64 \nL 62.956822 224.576124 \nL 59.913182 224.576124 \nz\n\" style=\"fill:#e24a33;stroke:#eeeeee;stroke-linejoin:miter;stroke-width:0.5;\"/>\n   </g>\n   <g id=\"patch_4\">\n    <path clip-path=\"url(#p6475bc6f66)\" d=\"M 62.956833 224.64 \nL 66.000463 224.64 \nL 66.000463 224.64 \nL 62.956833 224.64 \nz\n\" style=\"fill:#e24a33;stroke:#eeeeee;stroke-linejoin:miter;stroke-width:0.5;\"/>\n   </g>\n   <g id=\"patch_5\">\n    <path clip-path=\"url(#p6475bc6f66)\" d=\"M 66.000463 224.64 \nL 69.044104 224.64 \nL 69.044104 224.64 \nL 66.000463 224.64 \nz\n\" style=\"fill:#e24a33;stroke:#eeeeee;stroke-linejoin:miter;stroke-width:0.5;\"/>\n   </g>\n   <g id=\"patch_6\">\n    <path clip-path=\"url(#p6475bc6f66)\" d=\"M 69.044104 224.64 \nL 72.087734 224.64 \nL 72.087734 224.64 \nL 69.044104 224.64 \nz\n\" style=\"fill:#e24a33;stroke:#eeeeee;stroke-linejoin:miter;stroke-width:0.5;\"/>\n   </g>\n   <g id=\"patch_7\">\n    <path clip-path=\"url(#p6475bc6f66)\" d=\"M 72.087724 224.64 \nL 75.131364 224.64 \nL 75.131364 224.64 \nL 72.087724 224.64 \nz\n\" style=\"fill:#e24a33;stroke:#eeeeee;stroke-linejoin:miter;stroke-width:0.5;\"/>\n   </g>\n   <g id=\"patch_8\">\n    <path clip-path=\"url(#p6475bc6f66)\" d=\"M 75.131374 224.64 \nL 78.175015 224.64 \nL 78.175015 224.64 \nL 75.131374 224.64 \nz\n\" style=\"fill:#e24a33;stroke:#eeeeee;stroke-linejoin:miter;stroke-width:0.5;\"/>\n   </g>\n   <g id=\"patch_9\">\n    <path clip-path=\"url(#p6475bc6f66)\" d=\"M 78.175015 224.64 \nL 81.218645 224.64 \nL 81.218645 224.576124 \nL 78.175015 224.576124 \nz\n\" style=\"fill:#e24a33;stroke:#eeeeee;stroke-linejoin:miter;stroke-width:0.5;\"/>\n   </g>\n   <g id=\"patch_10\">\n    <path clip-path=\"url(#p6475bc6f66)\" d=\"M 81.218635 224.64 \nL 84.262276 224.64 \nL 84.262276 224.64 \nL 81.218635 224.64 \nz\n\" style=\"fill:#e24a33;stroke:#eeeeee;stroke-linejoin:miter;stroke-width:0.5;\"/>\n   </g>\n   <g id=\"patch_11\">\n    <path clip-path=\"url(#p6475bc6f66)\" d=\"M 84.262286 224.64 \nL 87.305916 224.64 \nL 87.305916 224.64 \nL 84.262286 224.64 \nz\n\" style=\"fill:#e24a33;stroke:#eeeeee;stroke-linejoin:miter;stroke-width:0.5;\"/>\n   </g>\n   <g id=\"patch_12\">\n    <path clip-path=\"url(#p6475bc6f66)\" d=\"M 87.305916 224.64 \nL 90.349557 224.64 \nL 90.349557 224.64 \nL 87.305916 224.64 \nz\n\" style=\"fill:#e24a33;stroke:#eeeeee;stroke-linejoin:miter;stroke-width:0.5;\"/>\n   </g>\n   <g id=\"patch_13\">\n    <path clip-path=\"url(#p6475bc6f66)\" d=\"M 90.349557 224.64 \nL 93.393187 224.64 \nL 93.393187 224.64 \nL 90.349557 224.64 \nz\n\" style=\"fill:#e24a33;stroke:#eeeeee;stroke-linejoin:miter;stroke-width:0.5;\"/>\n   </g>\n   <g id=\"patch_14\">\n    <path clip-path=\"url(#p6475bc6f66)\" d=\"M 93.393177 224.64 \nL 96.436817 224.64 \nL 96.436817 224.576124 \nL 93.393177 224.576124 \nz\n\" style=\"fill:#e24a33;stroke:#eeeeee;stroke-linejoin:miter;stroke-width:0.5;\"/>\n   </g>\n   <g id=\"patch_15\">\n    <path clip-path=\"url(#p6475bc6f66)\" d=\"M 96.436828 224.64 \nL 99.480468 224.64 \nL 99.480468 224.64 \nL 96.436828 224.64 \nz\n\" style=\"fill:#e24a33;stroke:#eeeeee;stroke-linejoin:miter;stroke-width:0.5;\"/>\n   </g>\n   <g id=\"patch_16\">\n    <path clip-path=\"url(#p6475bc6f66)\" d=\"M 99.480468 224.64 \nL 102.524098 224.64 \nL 102.524098 224.64 \nL 99.480468 224.64 \nz\n\" style=\"fill:#e24a33;stroke:#eeeeee;stroke-linejoin:miter;stroke-width:0.5;\"/>\n   </g>\n   <g id=\"patch_17\">\n    <path clip-path=\"url(#p6475bc6f66)\" d=\"M 102.524088 224.64 \nL 105.567729 224.64 \nL 105.567729 224.64 \nL 102.524088 224.64 \nz\n\" style=\"fill:#e24a33;stroke:#eeeeee;stroke-linejoin:miter;stroke-width:0.5;\"/>\n   </g>\n   <g id=\"patch_18\">\n    <path clip-path=\"url(#p6475bc6f66)\" d=\"M 105.567739 224.64 \nL 108.611369 224.64 \nL 108.611369 224.64 \nL 105.567739 224.64 \nz\n\" style=\"fill:#e24a33;stroke:#eeeeee;stroke-linejoin:miter;stroke-width:0.5;\"/>\n   </g>\n   <g id=\"patch_19\">\n    <path clip-path=\"url(#p6475bc6f66)\" d=\"M 108.611369 224.64 \nL 111.65501 224.64 \nL 111.65501 224.64 \nL 108.611369 224.64 \nz\n\" style=\"fill:#e24a33;stroke:#eeeeee;stroke-linejoin:miter;stroke-width:0.5;\"/>\n   </g>\n   <g id=\"patch_20\">\n    <path clip-path=\"url(#p6475bc6f66)\" d=\"M 111.655 224.64 \nL 114.69864 224.64 \nL 114.69864 224.512248 \nL 111.655 224.512248 \nz\n\" style=\"fill:#e24a33;stroke:#eeeeee;stroke-linejoin:miter;stroke-width:0.5;\"/>\n   </g>\n   <g id=\"patch_21\">\n    <path clip-path=\"url(#p6475bc6f66)\" d=\"M 114.69865 224.64 \nL 117.742281 224.64 \nL 117.742281 224.512248 \nL 114.69865 224.512248 \nz\n\" style=\"fill:#e24a33;stroke:#eeeeee;stroke-linejoin:miter;stroke-width:0.5;\"/>\n   </g>\n   <g id=\"patch_22\">\n    <path clip-path=\"url(#p6475bc6f66)\" d=\"M 117.742281 224.64 \nL 120.785921 224.64 \nL 120.785921 224.64 \nL 117.742281 224.64 \nz\n\" style=\"fill:#e24a33;stroke:#eeeeee;stroke-linejoin:miter;stroke-width:0.5;\"/>\n   </g>\n   <g id=\"patch_23\">\n    <path clip-path=\"url(#p6475bc6f66)\" d=\"M 120.785921 224.64 \nL 123.829552 224.64 \nL 123.829552 224.448372 \nL 120.785921 224.448372 \nz\n\" style=\"fill:#e24a33;stroke:#eeeeee;stroke-linejoin:miter;stroke-width:0.5;\"/>\n   </g>\n   <g id=\"patch_24\">\n    <path clip-path=\"url(#p6475bc6f66)\" d=\"M 123.829541 224.64 \nL 126.873182 224.64 \nL 126.873182 224.576124 \nL 123.829541 224.576124 \nz\n\" style=\"fill:#e24a33;stroke:#eeeeee;stroke-linejoin:miter;stroke-width:0.5;\"/>\n   </g>\n   <g id=\"patch_25\">\n    <path clip-path=\"url(#p6475bc6f66)\" d=\"M 126.873192 224.64 \nL 129.916833 224.64 \nL 129.916833 224.384496 \nL 126.873192 224.384496 \nz\n\" style=\"fill:#e24a33;stroke:#eeeeee;stroke-linejoin:miter;stroke-width:0.5;\"/>\n   </g>\n   <g id=\"patch_26\">\n    <path clip-path=\"url(#p6475bc6f66)\" d=\"M 129.916833 224.64 \nL 132.960463 224.64 \nL 132.960463 224.384496 \nL 129.916833 224.384496 \nz\n\" style=\"fill:#e24a33;stroke:#eeeeee;stroke-linejoin:miter;stroke-width:0.5;\"/>\n   </g>\n   <g id=\"patch_27\">\n    <path clip-path=\"url(#p6475bc6f66)\" d=\"M 132.960453 224.64 \nL 136.004093 224.64 \nL 136.004093 224.576124 \nL 132.960453 224.576124 \nz\n\" style=\"fill:#e24a33;stroke:#eeeeee;stroke-linejoin:miter;stroke-width:0.5;\"/>\n   </g>\n   <g id=\"patch_28\">\n    <path clip-path=\"url(#p6475bc6f66)\" d=\"M 136.004104 224.64 \nL 139.047734 224.64 \nL 139.047734 224.384496 \nL 136.004104 224.384496 \nz\n\" style=\"fill:#e24a33;stroke:#eeeeee;stroke-linejoin:miter;stroke-width:0.5;\"/>\n   </g>\n   <g id=\"patch_29\">\n    <path clip-path=\"url(#p6475bc6f66)\" d=\"M 139.047734 224.64 \nL 142.091375 224.64 \nL 142.091375 224.384496 \nL 139.047734 224.384496 \nz\n\" style=\"fill:#e24a33;stroke:#eeeeee;stroke-linejoin:miter;stroke-width:0.5;\"/>\n   </g>\n   <g id=\"patch_30\">\n    <path clip-path=\"url(#p6475bc6f66)\" d=\"M 142.091375 224.64 \nL 145.135005 224.64 \nL 145.135005 224.192869 \nL 142.091375 224.192869 \nz\n\" style=\"fill:#e24a33;stroke:#eeeeee;stroke-linejoin:miter;stroke-width:0.5;\"/>\n   </g>\n   <g id=\"patch_31\">\n    <path clip-path=\"url(#p6475bc6f66)\" d=\"M 145.135015 224.64 \nL 148.178645 224.64 \nL 148.178645 224.001241 \nL 145.135015 224.001241 \nz\n\" style=\"fill:#e24a33;stroke:#eeeeee;stroke-linejoin:miter;stroke-width:0.5;\"/>\n   </g>\n   <g id=\"patch_32\">\n    <path clip-path=\"url(#p6475bc6f66)\" d=\"M 148.178645 224.64 \nL 151.222276 224.64 \nL 151.222276 224.256745 \nL 148.178645 224.256745 \nz\n\" style=\"fill:#e24a33;stroke:#eeeeee;stroke-linejoin:miter;stroke-width:0.5;\"/>\n   </g>\n   <g id=\"patch_33\">\n    <path clip-path=\"url(#p6475bc6f66)\" d=\"M 151.222281 224.64 \nL 154.265921 224.64 \nL 154.265921 224.448372 \nL 151.222281 224.448372 \nz\n\" style=\"fill:#e24a33;stroke:#eeeeee;stroke-linejoin:miter;stroke-width:0.5;\"/>\n   </g>\n   <g id=\"patch_34\">\n    <path clip-path=\"url(#p6475bc6f66)\" d=\"M 154.265927 224.64 \nL 157.309557 224.64 \nL 157.309557 223.873489 \nL 154.265927 223.873489 \nz\n\" style=\"fill:#e24a33;stroke:#eeeeee;stroke-linejoin:miter;stroke-width:0.5;\"/>\n   </g>\n   <g id=\"patch_35\">\n    <path clip-path=\"url(#p6475bc6f66)\" d=\"M 157.309557 224.64 \nL 160.353187 224.64 \nL 160.353187 223.873489 \nL 157.309557 223.873489 \nz\n\" style=\"fill:#e24a33;stroke:#eeeeee;stroke-linejoin:miter;stroke-width:0.5;\"/>\n   </g>\n   <g id=\"patch_36\">\n    <path clip-path=\"url(#p6475bc6f66)\" d=\"M 160.353197 224.64 \nL 163.396828 224.64 \nL 163.396828 224.001241 \nL 160.353197 224.001241 \nz\n\" style=\"fill:#e24a33;stroke:#eeeeee;stroke-linejoin:miter;stroke-width:0.5;\"/>\n   </g>\n   <g id=\"patch_37\">\n    <path clip-path=\"url(#p6475bc6f66)\" d=\"M 163.396828 224.64 \nL 166.440458 224.64 \nL 166.440458 223.873489 \nL 163.396828 223.873489 \nz\n\" style=\"fill:#e24a33;stroke:#eeeeee;stroke-linejoin:miter;stroke-width:0.5;\"/>\n   </g>\n   <g id=\"patch_38\">\n    <path clip-path=\"url(#p6475bc6f66)\" d=\"M 166.440468 224.64 \nL 169.484099 224.64 \nL 169.484099 224.128993 \nL 166.440468 224.128993 \nz\n\" style=\"fill:#e24a33;stroke:#eeeeee;stroke-linejoin:miter;stroke-width:0.5;\"/>\n   </g>\n   <g id=\"patch_39\">\n    <path clip-path=\"url(#p6475bc6f66)\" d=\"M 169.484099 224.64 \nL 172.527739 224.64 \nL 172.527739 223.617985 \nL 169.484099 223.617985 \nz\n\" style=\"fill:#e24a33;stroke:#eeeeee;stroke-linejoin:miter;stroke-width:0.5;\"/>\n   </g>\n   <g id=\"patch_40\">\n    <path clip-path=\"url(#p6475bc6f66)\" d=\"M 172.527739 224.64 \nL 175.57137 224.64 \nL 175.57137 223.426358 \nL 172.527739 223.426358 \nz\n\" style=\"fill:#e24a33;stroke:#eeeeee;stroke-linejoin:miter;stroke-width:0.5;\"/>\n   </g>\n   <g id=\"patch_41\">\n    <path clip-path=\"url(#p6475bc6f66)\" d=\"M 175.57138 224.64 \nL 178.61501 224.64 \nL 178.61501 222.340467 \nL 175.57138 222.340467 \nz\n\" style=\"fill:#e24a33;stroke:#eeeeee;stroke-linejoin:miter;stroke-width:0.5;\"/>\n   </g>\n   <g id=\"patch_42\">\n    <path clip-path=\"url(#p6475bc6f66)\" d=\"M 178.61501 224.64 \nL 181.65864 224.64 \nL 181.65864 223.23473 \nL 178.61501 223.23473 \nz\n\" style=\"fill:#e24a33;stroke:#eeeeee;stroke-linejoin:miter;stroke-width:0.5;\"/>\n   </g>\n   <g id=\"patch_43\">\n    <path clip-path=\"url(#p6475bc6f66)\" d=\"M 181.658651 224.64 \nL 184.702281 224.64 \nL 184.702281 222.340467 \nL 181.658651 222.340467 \nz\n\" style=\"fill:#e24a33;stroke:#eeeeee;stroke-linejoin:miter;stroke-width:0.5;\"/>\n   </g>\n   <g id=\"patch_44\">\n    <path clip-path=\"url(#p6475bc6f66)\" d=\"M 184.702281 224.64 \nL 187.745922 224.64 \nL 187.745922 222.532095 \nL 184.702281 222.532095 \nz\n\" style=\"fill:#e24a33;stroke:#eeeeee;stroke-linejoin:miter;stroke-width:0.5;\"/>\n   </g>\n   <g id=\"patch_45\">\n    <path clip-path=\"url(#p6475bc6f66)\" d=\"M 187.745922 224.64 \nL 190.789552 224.64 \nL 190.789552 221.701708 \nL 187.745922 221.701708 \nz\n\" style=\"fill:#e24a33;stroke:#eeeeee;stroke-linejoin:miter;stroke-width:0.5;\"/>\n   </g>\n   <g id=\"patch_46\">\n    <path clip-path=\"url(#p6475bc6f66)\" d=\"M 190.789552 224.64 \nL 193.833192 224.64 \nL 193.833192 221.893336 \nL 190.789552 221.893336 \nz\n\" style=\"fill:#e24a33;stroke:#eeeeee;stroke-linejoin:miter;stroke-width:0.5;\"/>\n   </g>\n   <g id=\"patch_47\">\n    <path clip-path=\"url(#p6475bc6f66)\" d=\"M 193.833195 224.64 \nL 196.876825 224.64 \nL 196.876825 221.062949 \nL 193.833195 221.062949 \nz\n\" style=\"fill:#e24a33;stroke:#eeeeee;stroke-linejoin:miter;stroke-width:0.5;\"/>\n   </g>\n   <g id=\"patch_48\">\n    <path clip-path=\"url(#p6475bc6f66)\" d=\"M 196.876828 224.64 \nL 199.920468 224.64 \nL 199.920468 220.871321 \nL 196.876828 220.871321 \nz\n\" style=\"fill:#e24a33;stroke:#eeeeee;stroke-linejoin:miter;stroke-width:0.5;\"/>\n   </g>\n   <g id=\"patch_49\">\n    <path clip-path=\"url(#p6475bc6f66)\" d=\"M 199.920468 224.64 \nL 202.964099 224.64 \nL 202.964099 220.360314 \nL 199.920468 220.360314 \nz\n\" style=\"fill:#e24a33;stroke:#eeeeee;stroke-linejoin:miter;stroke-width:0.5;\"/>\n   </g>\n   <g id=\"patch_50\">\n    <path clip-path=\"url(#p6475bc6f66)\" d=\"M 202.964104 224.64 \nL 206.007734 224.64 \nL 206.007734 219.402175 \nL 202.964104 219.402175 \nz\n\" style=\"fill:#e24a33;stroke:#eeeeee;stroke-linejoin:miter;stroke-width:0.5;\"/>\n   </g>\n   <g id=\"patch_51\">\n    <path clip-path=\"url(#p6475bc6f66)\" d=\"M 206.007734 224.64 \nL 209.051375 224.64 \nL 209.051375 219.785431 \nL 206.007734 219.785431 \nz\n\" style=\"fill:#e24a33;stroke:#eeeeee;stroke-linejoin:miter;stroke-width:0.5;\"/>\n   </g>\n   <g id=\"patch_52\">\n    <path clip-path=\"url(#p6475bc6f66)\" d=\"M 209.051372 224.64 \nL 212.095013 224.64 \nL 212.095013 219.593803 \nL 209.051372 219.593803 \nz\n\" style=\"fill:#e24a33;stroke:#eeeeee;stroke-linejoin:miter;stroke-width:0.5;\"/>\n   </g>\n   <g id=\"patch_53\">\n    <path clip-path=\"url(#p6475bc6f66)\" d=\"M 212.095008 224.64 \nL 215.138648 224.64 \nL 215.138648 219.082795 \nL 212.095008 219.082795 \nz\n\" style=\"fill:#e24a33;stroke:#eeeeee;stroke-linejoin:miter;stroke-width:0.5;\"/>\n   </g>\n   <g id=\"patch_54\">\n    <path clip-path=\"url(#p6475bc6f66)\" d=\"M 215.138644 224.64 \nL 218.182285 224.64 \nL 218.182285 218.38016 \nL 215.138644 218.38016 \nz\n\" style=\"fill:#e24a33;stroke:#eeeeee;stroke-linejoin:miter;stroke-width:0.5;\"/>\n   </g>\n   <g id=\"patch_55\">\n    <path clip-path=\"url(#p6475bc6f66)\" d=\"M 218.182281 224.64 \nL 221.225922 224.64 \nL 221.225922 150.607815 \nL 218.182281 150.607815 \nz\n\" style=\"fill:#e24a33;stroke:#eeeeee;stroke-linejoin:miter;stroke-width:0.5;\"/>\n   </g>\n   <g id=\"patch_56\">\n    <path clip-path=\"url(#p6475bc6f66)\" d=\"M 221.225917 224.64 \nL 224.269558 224.64 \nL 224.269558 20.428702 \nL 221.225917 20.428702 \nz\n\" style=\"fill:#e24a33;stroke:#eeeeee;stroke-linejoin:miter;stroke-width:0.5;\"/>\n   </g>\n   <g id=\"patch_57\">\n    <path clip-path=\"url(#p6475bc6f66)\" d=\"M 224.269554 224.64 \nL 227.313194 224.64 \nL 227.313194 17.554286 \nL 224.269554 17.554286 \nz\n\" style=\"fill:#e24a33;stroke:#eeeeee;stroke-linejoin:miter;stroke-width:0.5;\"/>\n   </g>\n   <g id=\"patch_58\">\n    <path clip-path=\"url(#p6475bc6f66)\" d=\"M 227.31319 224.64 \nL 230.356831 224.64 \nL 230.356831 21.770096 \nL 227.31319 21.770096 \nz\n\" style=\"fill:#e24a33;stroke:#eeeeee;stroke-linejoin:miter;stroke-width:0.5;\"/>\n   </g>\n   <g id=\"patch_59\">\n    <path clip-path=\"url(#p6475bc6f66)\" d=\"M 230.356826 224.64 \nL 233.400467 224.64 \nL 233.400467 22.089476 \nL 230.356826 22.089476 \nz\n\" style=\"fill:#e24a33;stroke:#eeeeee;stroke-linejoin:miter;stroke-width:0.5;\"/>\n   </g>\n   <g id=\"patch_60\">\n    <path clip-path=\"url(#p6475bc6f66)\" d=\"M 233.400463 224.64 \nL 236.444103 224.64 \nL 236.444103 23.303118 \nL 233.400463 23.303118 \nz\n\" style=\"fill:#e24a33;stroke:#eeeeee;stroke-linejoin:miter;stroke-width:0.5;\"/>\n   </g>\n   <g id=\"patch_61\">\n    <path clip-path=\"url(#p6475bc6f66)\" d=\"M 236.444099 224.64 \nL 239.487739 224.64 \nL 239.487739 158.911684 \nL 236.444099 158.911684 \nz\n\" style=\"fill:#e24a33;stroke:#eeeeee;stroke-linejoin:miter;stroke-width:0.5;\"/>\n   </g>\n   <g id=\"patch_62\">\n    <path clip-path=\"url(#p6475bc6f66)\" d=\"M 239.487736 224.64 \nL 242.531376 224.64 \nL 242.531376 218.69954 \nL 239.487736 218.69954 \nz\n\" style=\"fill:#e24a33;stroke:#eeeeee;stroke-linejoin:miter;stroke-width:0.5;\"/>\n   </g>\n   <g id=\"patch_63\">\n    <path clip-path=\"url(#p6475bc6f66)\" d=\"M 242.531372 224.64 \nL 245.575013 224.64 \nL 245.575013 219.402175 \nL 242.531372 219.402175 \nz\n\" style=\"fill:#e24a33;stroke:#eeeeee;stroke-linejoin:miter;stroke-width:0.5;\"/>\n   </g>\n   <g id=\"patch_64\">\n    <path clip-path=\"url(#p6475bc6f66)\" d=\"M 245.575008 224.64 \nL 248.618648 224.64 \nL 248.618648 220.040934 \nL 245.575008 220.040934 \nz\n\" style=\"fill:#e24a33;stroke:#eeeeee;stroke-linejoin:miter;stroke-width:0.5;\"/>\n   </g>\n   <g id=\"patch_65\">\n    <path clip-path=\"url(#p6475bc6f66)\" d=\"M 248.618646 224.64 \nL 251.662286 224.64 \nL 251.662286 220.232562 \nL 248.618646 220.232562 \nz\n\" style=\"fill:#e24a33;stroke:#eeeeee;stroke-linejoin:miter;stroke-width:0.5;\"/>\n   </g>\n   <g id=\"patch_66\">\n    <path clip-path=\"url(#p6475bc6f66)\" d=\"M 251.662286 224.64 \nL 254.705917 224.64 \nL 254.705917 220.42419 \nL 251.662286 220.42419 \nz\n\" style=\"fill:#e24a33;stroke:#eeeeee;stroke-linejoin:miter;stroke-width:0.5;\"/>\n   </g>\n   <g id=\"patch_67\">\n    <path clip-path=\"url(#p6475bc6f66)\" d=\"M 254.705922 224.64 \nL 257.749552 224.64 \nL 257.749552 220.42419 \nL 254.705922 220.42419 \nz\n\" style=\"fill:#e24a33;stroke:#eeeeee;stroke-linejoin:miter;stroke-width:0.5;\"/>\n   </g>\n   <g id=\"patch_68\">\n    <path clip-path=\"url(#p6475bc6f66)\" d=\"M 257.749552 224.64 \nL 260.793193 224.64 \nL 260.793193 221.190701 \nL 257.749552 221.190701 \nz\n\" style=\"fill:#e24a33;stroke:#eeeeee;stroke-linejoin:miter;stroke-width:0.5;\"/>\n   </g>\n   <g id=\"patch_69\">\n    <path clip-path=\"url(#p6475bc6f66)\" d=\"M 260.793195 224.64 \nL 263.836826 224.64 \nL 263.836826 222.212715 \nL 260.793195 222.212715 \nz\n\" style=\"fill:#e24a33;stroke:#eeeeee;stroke-linejoin:miter;stroke-width:0.5;\"/>\n   </g>\n   <g id=\"patch_70\">\n    <path clip-path=\"url(#p6475bc6f66)\" d=\"M 263.836831 224.64 \nL 266.880461 224.64 \nL 266.880461 221.701708 \nL 263.836831 221.701708 \nz\n\" style=\"fill:#e24a33;stroke:#eeeeee;stroke-linejoin:miter;stroke-width:0.5;\"/>\n   </g>\n   <g id=\"patch_71\">\n    <path clip-path=\"url(#p6475bc6f66)\" d=\"M 266.880464 224.64 \nL 269.924104 224.64 \nL 269.924104 221.446204 \nL 266.880464 221.446204 \nz\n\" style=\"fill:#e24a33;stroke:#eeeeee;stroke-linejoin:miter;stroke-width:0.5;\"/>\n   </g>\n   <g id=\"patch_72\">\n    <path clip-path=\"url(#p6475bc6f66)\" d=\"M 269.924099 224.64 \nL 272.96774 224.64 \nL 272.96774 222.723723 \nL 269.924099 222.723723 \nz\n\" style=\"fill:#e24a33;stroke:#eeeeee;stroke-linejoin:miter;stroke-width:0.5;\"/>\n   </g>\n   <g id=\"patch_73\">\n    <path clip-path=\"url(#p6475bc6f66)\" d=\"M 272.967745 224.64 \nL 276.011375 224.64 \nL 276.011375 222.340467 \nL 272.967745 222.340467 \nz\n\" style=\"fill:#e24a33;stroke:#eeeeee;stroke-linejoin:miter;stroke-width:0.5;\"/>\n   </g>\n   <g id=\"patch_74\">\n    <path clip-path=\"url(#p6475bc6f66)\" d=\"M 276.011375 224.64 \nL 279.055005 224.64 \nL 279.055005 223.106978 \nL 276.011375 223.106978 \nz\n\" style=\"fill:#e24a33;stroke:#eeeeee;stroke-linejoin:miter;stroke-width:0.5;\"/>\n   </g>\n   <g id=\"patch_75\">\n    <path clip-path=\"url(#p6475bc6f66)\" d=\"M 279.055016 224.64 \nL 282.098646 224.64 \nL 282.098646 223.298606 \nL 279.055016 223.298606 \nz\n\" style=\"fill:#e24a33;stroke:#eeeeee;stroke-linejoin:miter;stroke-width:0.5;\"/>\n   </g>\n   <g id=\"patch_76\">\n    <path clip-path=\"url(#p6475bc6f66)\" d=\"M 282.098646 224.64 \nL 285.142276 224.64 \nL 285.142276 223.23473 \nL 282.098646 223.23473 \nz\n\" style=\"fill:#e24a33;stroke:#eeeeee;stroke-linejoin:miter;stroke-width:0.5;\"/>\n   </g>\n   <g id=\"patch_77\">\n    <path clip-path=\"url(#p6475bc6f66)\" d=\"M 285.142281 224.64 \nL 288.185922 224.64 \nL 288.185922 222.979226 \nL 285.142281 222.979226 \nz\n\" style=\"fill:#e24a33;stroke:#eeeeee;stroke-linejoin:miter;stroke-width:0.5;\"/>\n   </g>\n   <g id=\"patch_78\">\n    <path clip-path=\"url(#p6475bc6f66)\" d=\"M 288.185927 224.64 \nL 291.229557 224.64 \nL 291.229557 223.745737 \nL 288.185927 223.745737 \nz\n\" style=\"fill:#e24a33;stroke:#eeeeee;stroke-linejoin:miter;stroke-width:0.5;\"/>\n   </g>\n   <g id=\"patch_79\">\n    <path clip-path=\"url(#p6475bc6f66)\" d=\"M 291.229557 224.64 \nL 294.273188 224.64 \nL 294.273188 223.617985 \nL 291.229557 223.617985 \nz\n\" style=\"fill:#e24a33;stroke:#eeeeee;stroke-linejoin:miter;stroke-width:0.5;\"/>\n   </g>\n   <g id=\"patch_80\">\n    <path clip-path=\"url(#p6475bc6f66)\" d=\"M 294.273198 224.64 \nL 297.316828 224.64 \nL 297.316828 223.681861 \nL 294.273198 223.681861 \nz\n\" style=\"fill:#e24a33;stroke:#eeeeee;stroke-linejoin:miter;stroke-width:0.5;\"/>\n   </g>\n   <g id=\"patch_81\">\n    <path clip-path=\"url(#p6475bc6f66)\" d=\"M 297.316828 224.64 \nL 300.360459 224.64 \nL 300.360459 224.256745 \nL 297.316828 224.256745 \nz\n\" style=\"fill:#e24a33;stroke:#eeeeee;stroke-linejoin:miter;stroke-width:0.5;\"/>\n   </g>\n   <g id=\"patch_82\">\n    <path clip-path=\"url(#p6475bc6f66)\" d=\"M 300.360469 224.64 \nL 303.404099 224.64 \nL 303.404099 224.256745 \nL 300.360469 224.256745 \nz\n\" style=\"fill:#e24a33;stroke:#eeeeee;stroke-linejoin:miter;stroke-width:0.5;\"/>\n   </g>\n   <g id=\"patch_83\">\n    <path clip-path=\"url(#p6475bc6f66)\" d=\"M 303.404099 224.64 \nL 306.44774 224.64 \nL 306.44774 223.681861 \nL 303.404099 223.681861 \nz\n\" style=\"fill:#e24a33;stroke:#eeeeee;stroke-linejoin:miter;stroke-width:0.5;\"/>\n   </g>\n   <g id=\"patch_84\">\n    <path clip-path=\"url(#p6475bc6f66)\" d=\"M 306.44774 224.64 \nL 309.49137 224.64 \nL 309.49137 224.32062 \nL 306.44774 224.32062 \nz\n\" style=\"fill:#e24a33;stroke:#eeeeee;stroke-linejoin:miter;stroke-width:0.5;\"/>\n   </g>\n   <g id=\"patch_85\">\n    <path clip-path=\"url(#p6475bc6f66)\" d=\"M 309.49138 224.64 \nL 312.535011 224.64 \nL 312.535011 224.256745 \nL 309.49138 224.256745 \nz\n\" style=\"fill:#e24a33;stroke:#eeeeee;stroke-linejoin:miter;stroke-width:0.5;\"/>\n   </g>\n   <g id=\"patch_86\">\n    <path clip-path=\"url(#p6475bc6f66)\" d=\"M 312.535011 224.64 \nL 315.578651 224.64 \nL 315.578651 224.384496 \nL 312.535011 224.384496 \nz\n\" style=\"fill:#e24a33;stroke:#eeeeee;stroke-linejoin:miter;stroke-width:0.5;\"/>\n   </g>\n   <g id=\"patch_87\">\n    <path clip-path=\"url(#p6475bc6f66)\" d=\"M 315.578651 224.64 \nL 318.622281 224.64 \nL 318.622281 224.384496 \nL 315.578651 224.384496 \nz\n\" style=\"fill:#e24a33;stroke:#eeeeee;stroke-linejoin:miter;stroke-width:0.5;\"/>\n   </g>\n   <g id=\"patch_88\">\n    <path clip-path=\"url(#p6475bc6f66)\" d=\"M 318.622271 224.64 \nL 321.665912 224.64 \nL 321.665912 224.32062 \nL 318.622271 224.32062 \nz\n\" style=\"fill:#e24a33;stroke:#eeeeee;stroke-linejoin:miter;stroke-width:0.5;\"/>\n   </g>\n   <g id=\"patch_89\">\n    <path clip-path=\"url(#p6475bc6f66)\" d=\"M 321.665922 224.64 \nL 324.709552 224.64 \nL 324.709552 224.32062 \nL 321.665922 224.32062 \nz\n\" style=\"fill:#e24a33;stroke:#eeeeee;stroke-linejoin:miter;stroke-width:0.5;\"/>\n   </g>\n   <g id=\"patch_90\">\n    <path clip-path=\"url(#p6475bc6f66)\" d=\"M 324.709552 224.64 \nL 327.753193 224.64 \nL 327.753193 224.448372 \nL 324.709552 224.448372 \nz\n\" style=\"fill:#e24a33;stroke:#eeeeee;stroke-linejoin:miter;stroke-width:0.5;\"/>\n   </g>\n   <g id=\"patch_91\">\n    <path clip-path=\"url(#p6475bc6f66)\" d=\"M 327.753183 224.64 \nL 330.796823 224.64 \nL 330.796823 224.448372 \nL 327.753183 224.448372 \nz\n\" style=\"fill:#e24a33;stroke:#eeeeee;stroke-linejoin:miter;stroke-width:0.5;\"/>\n   </g>\n   <g id=\"patch_92\">\n    <path clip-path=\"url(#p6475bc6f66)\" d=\"M 330.796833 224.64 \nL 333.840464 224.64 \nL 333.840464 224.576124 \nL 330.796833 224.576124 \nz\n\" style=\"fill:#e24a33;stroke:#eeeeee;stroke-linejoin:miter;stroke-width:0.5;\"/>\n   </g>\n   <g id=\"patch_93\">\n    <path clip-path=\"url(#p6475bc6f66)\" d=\"M 333.840464 224.64 \nL 336.884104 224.64 \nL 336.884104 224.512248 \nL 333.840464 224.512248 \nz\n\" style=\"fill:#e24a33;stroke:#eeeeee;stroke-linejoin:miter;stroke-width:0.5;\"/>\n   </g>\n   <g id=\"patch_94\">\n    <path clip-path=\"url(#p6475bc6f66)\" d=\"M 336.884104 224.64 \nL 339.927735 224.64 \nL 339.927735 224.512248 \nL 336.884104 224.512248 \nz\n\" style=\"fill:#e24a33;stroke:#eeeeee;stroke-linejoin:miter;stroke-width:0.5;\"/>\n   </g>\n   <g id=\"patch_95\">\n    <path clip-path=\"url(#p6475bc6f66)\" d=\"M 339.927724 224.64 \nL 342.971365 224.64 \nL 342.971365 224.64 \nL 339.927724 224.64 \nz\n\" style=\"fill:#e24a33;stroke:#eeeeee;stroke-linejoin:miter;stroke-width:0.5;\"/>\n   </g>\n   <g id=\"patch_96\">\n    <path clip-path=\"url(#p6475bc6f66)\" d=\"M 342.971375 224.64 \nL 346.015006 224.64 \nL 346.015006 224.64 \nL 342.971375 224.64 \nz\n\" style=\"fill:#e24a33;stroke:#eeeeee;stroke-linejoin:miter;stroke-width:0.5;\"/>\n   </g>\n   <g id=\"patch_97\">\n    <path clip-path=\"url(#p6475bc6f66)\" d=\"M 346.015006 224.64 \nL 349.058646 224.64 \nL 349.058646 224.64 \nL 346.015006 224.64 \nz\n\" style=\"fill:#e24a33;stroke:#eeeeee;stroke-linejoin:miter;stroke-width:0.5;\"/>\n   </g>\n   <g id=\"patch_98\">\n    <path clip-path=\"url(#p6475bc6f66)\" d=\"M 349.058636 224.64 \nL 352.102276 224.64 \nL 352.102276 224.64 \nL 349.058636 224.64 \nz\n\" style=\"fill:#e24a33;stroke:#eeeeee;stroke-linejoin:miter;stroke-width:0.5;\"/>\n   </g>\n   <g id=\"patch_99\">\n    <path clip-path=\"url(#p6475bc6f66)\" d=\"M 352.102287 224.64 \nL 355.145917 224.64 \nL 355.145917 224.576124 \nL 352.102287 224.576124 \nz\n\" style=\"fill:#e24a33;stroke:#eeeeee;stroke-linejoin:miter;stroke-width:0.5;\"/>\n   </g>\n   <g id=\"patch_100\">\n    <path clip-path=\"url(#p6475bc6f66)\" d=\"M 355.145917 224.64 \nL 358.189558 224.64 \nL 358.189558 224.576124 \nL 355.145917 224.576124 \nz\n\" style=\"fill:#e24a33;stroke:#eeeeee;stroke-linejoin:miter;stroke-width:0.5;\"/>\n   </g>\n   <g id=\"patch_101\">\n    <path clip-path=\"url(#p6475bc6f66)\" d=\"M 358.189558 224.64 \nL 361.233188 224.64 \nL 361.233188 224.64 \nL 358.189558 224.64 \nz\n\" style=\"fill:#e24a33;stroke:#eeeeee;stroke-linejoin:miter;stroke-width:0.5;\"/>\n   </g>\n   <g id=\"patch_102\">\n    <path clip-path=\"url(#p6475bc6f66)\" d=\"M 361.233178 224.64 \nL 364.276818 224.64 \nL 364.276818 224.512248 \nL 361.233178 224.512248 \nz\n\" style=\"fill:#e24a33;stroke:#eeeeee;stroke-linejoin:miter;stroke-width:0.5;\"/>\n   </g>\n   <g id=\"patch_103\">\n    <path d=\"M 44.695 224.64 \nL 44.695 7.2 \n\" style=\"fill:none;stroke:#ffffff;stroke-linecap:square;stroke-linejoin:miter;\"/>\n   </g>\n   <g id=\"patch_104\">\n    <path d=\"M 379.495 224.64 \nL 379.495 7.2 \n\" style=\"fill:none;stroke:#ffffff;stroke-linecap:square;stroke-linejoin:miter;\"/>\n   </g>\n   <g id=\"patch_105\">\n    <path d=\"M 44.695 224.64 \nL 379.495 224.64 \n\" style=\"fill:none;stroke:#ffffff;stroke-linecap:square;stroke-linejoin:miter;\"/>\n   </g>\n   <g id=\"patch_106\">\n    <path d=\"M 44.695 7.2 \nL 379.495 7.2 \n\" style=\"fill:none;stroke:#ffffff;stroke-linecap:square;stroke-linejoin:miter;\"/>\n   </g>\n  </g>\n </g>\n <defs>\n  <clipPath id=\"p6475bc6f66\">\n   <rect height=\"217.44\" width=\"334.8\" x=\"44.695\" y=\"7.2\"/>\n  </clipPath>\n </defs>\n</svg>\n"
          },
          "metadata": {
            "tags": []
          }
        }
      ]
    },
    {
      "cell_type": "code",
      "metadata": {
        "id": "juFaTn1Rs1q7",
        "colab_type": "code",
        "colab": {
          "base_uri": "https://localhost:8080/",
          "height": 1000
        },
        "outputId": "d1c8c459-a083-4779-a209-31507e614640"
      },
      "source": [
        "model.weights"
      ],
      "execution_count": 101,
      "outputs": [
        {
          "output_type": "execute_result",
          "data": {
            "text/plain": [
              "[<tf.Variable 'embedding/embeddings:0' shape=(200, 100) dtype=float32, numpy=\n",
              " array([[ 2.0615067e-02,  4.4893026e-03, -7.7363141e-03, ...,\n",
              "          2.8812651e-02, -3.9001785e-02,  5.6914575e-03],\n",
              "        [ 3.7891049e-02, -5.3781852e-02,  2.5562670e-02, ...,\n",
              "         -1.2945469e-01, -2.9472288e-02, -6.8472438e-02],\n",
              "        [ 1.2542424e-01,  2.3268254e-01, -2.4428664e-02, ...,\n",
              "          1.8619733e-02, -1.5174010e-01,  3.5381164e-02],\n",
              "        ...,\n",
              "        [-4.4716932e-02, -2.2915293e-02, -3.3069767e-02, ...,\n",
              "         -3.9396174e-03, -3.9796602e-02,  3.8658824e-02],\n",
              "        [-1.6069412e-04, -3.8645435e-02,  1.4867190e-02, ...,\n",
              "         -4.1827522e-02,  1.6911253e-03, -2.6437784e-02],\n",
              "        [ 2.0659003e-02, -4.5492448e-02, -5.0474033e-03, ...,\n",
              "          2.7000133e-02,  2.9116776e-02,  8.0107078e-03]], dtype=float32)>,\n",
              " <tf.Variable 'lstm/lstm_cell/kernel:0' shape=(100, 400) dtype=float32, numpy=\n",
              " array([[ 0.02363151,  0.14521486,  0.2710745 , ...,  0.04284266,\n",
              "         -0.00683515,  0.06082523],\n",
              "        [ 0.01691038,  0.19298086, -0.06152765, ..., -0.17465973,\n",
              "         -0.22273965, -0.10080114],\n",
              "        [ 0.04693125,  0.02724674,  0.21263576, ...,  0.26020685,\n",
              "          0.16673796, -0.0649301 ],\n",
              "        ...,\n",
              "        [ 0.11783846,  0.13971551, -0.13638392, ..., -0.15586378,\n",
              "          0.2796664 , -0.18472087],\n",
              "        [ 0.08227924, -0.21847305, -0.3992707 , ...,  0.03118776,\n",
              "          0.19628666, -0.04848517],\n",
              "        [-0.0926966 ,  0.37297162,  0.17705211, ..., -0.2398418 ,\n",
              "         -0.16866633,  0.02185443]], dtype=float32)>,\n",
              " <tf.Variable 'lstm/lstm_cell/recurrent_kernel:0' shape=(100, 400) dtype=float32, numpy=\n",
              " array([[-0.03935992,  0.06029819, -0.1314605 , ...,  0.30846322,\n",
              "         -0.26394376, -0.03658706],\n",
              "        [ 0.23969068,  0.2461325 ,  0.17008172, ...,  0.20613483,\n",
              "          0.02527347, -0.0229605 ],\n",
              "        [ 0.32788783, -0.10781714,  0.13672581, ..., -0.01650798,\n",
              "         -0.13388804,  0.08053534],\n",
              "        ...,\n",
              "        [-0.164568  ,  0.01446915,  0.14203347, ...,  0.30583882,\n",
              "          0.17135859, -0.23096412],\n",
              "        [-0.01941535,  0.03071599,  0.16591382, ...,  0.17630269,\n",
              "          0.08836872, -0.2775233 ],\n",
              "        [ 0.18633221, -0.01994072,  0.07682691, ..., -0.22102697,\n",
              "         -0.05293125, -0.03080407]], dtype=float32)>,\n",
              " <tf.Variable 'lstm/lstm_cell/bias:0' shape=(400,) dtype=float32, numpy=\n",
              " array([-6.73570856e-02,  6.85704425e-02,  1.50971767e-02, -5.31728752e-02,\n",
              "        -7.20108226e-02, -1.04970612e-01,  1.41513571e-01,  3.45842123e-01,\n",
              "        -8.26618746e-02, -5.60476556e-02, -2.66293854e-01, -3.76435332e-02,\n",
              "        -3.08579832e-01,  4.65339065e-01,  9.75274816e-02, -2.46570595e-02,\n",
              "        -7.74019361e-02, -9.80865732e-02,  1.55832814e-02,  1.83098260e-02,\n",
              "         1.78895637e-01, -3.39399695e-01,  3.11332233e-02,  1.67627767e-01,\n",
              "        -1.69988438e-01, -1.99411348e-01, -1.13573857e-01, -1.82791218e-01,\n",
              "        -3.02238613e-01,  2.04756595e-02, -7.16489553e-02, -2.21966639e-01,\n",
              "         1.62602171e-01, -1.20086566e-01, -2.94757903e-01,  3.31681706e-02,\n",
              "         1.00904815e-01, -8.08288902e-02, -4.77384776e-03,  1.20448321e-01,\n",
              "         2.43078545e-01,  6.38053939e-02,  1.52835771e-01, -1.88329488e-01,\n",
              "         1.35603830e-01, -5.43911755e-03,  1.61200866e-01, -1.14427870e-02,\n",
              "         3.73079106e-02, -1.21989533e-01,  6.59685880e-02, -3.90717924e-01,\n",
              "         1.52100995e-01,  1.80582907e-02, -7.20394254e-02, -8.82127061e-02,\n",
              "        -1.00675374e-01, -3.02758127e-01, -1.18059359e-01, -3.86560321e-01,\n",
              "        -1.24489240e-01,  1.44992471e-01, -7.90902600e-02, -1.88184708e-01,\n",
              "        -7.41890147e-02,  3.44719784e-03, -1.83178589e-01, -1.99657708e-01,\n",
              "        -3.66766185e-01, -2.62833565e-01, -4.72259223e-02, -4.34420295e-02,\n",
              "        -4.68086638e-02, -7.64330029e-02, -1.32973492e-02,  1.39949292e-01,\n",
              "        -1.33180976e-01,  2.22765267e-01,  4.45731692e-02, -1.27312139e-01,\n",
              "        -2.04387948e-01, -2.99414515e-01, -1.37356296e-01, -8.73639248e-03,\n",
              "        -6.28032684e-02,  3.24758515e-02, -2.32626319e-01, -6.81700855e-02,\n",
              "        -3.28571498e-02, -2.36101970e-02,  1.83100626e-02, -3.94988805e-01,\n",
              "        -4.18700874e-01,  3.46469223e-01, -2.21652538e-01,  1.14285842e-01,\n",
              "        -2.45191857e-01, -1.24309793e-01,  1.68874068e-03, -3.17538947e-01,\n",
              "         1.21915257e+00,  1.01479030e+00,  9.76576149e-01,  1.12280929e+00,\n",
              "         1.01029849e+00,  1.16408372e+00,  1.13356876e+00,  1.11140096e+00,\n",
              "         9.72741246e-01,  1.00282049e+00,  1.06277692e+00,  1.06897783e+00,\n",
              "         1.07670486e+00,  7.81517148e-01,  1.14090514e+00,  1.25689006e+00,\n",
              "         1.14748144e+00,  1.15734279e+00,  1.00056839e+00,  9.83357310e-01,\n",
              "         9.95360792e-01,  1.35450876e+00,  1.00543547e+00,  7.68619061e-01,\n",
              "         1.20838058e+00,  1.29224205e+00,  8.77196670e-01,  1.11572111e+00,\n",
              "         1.24557281e+00,  8.45097840e-01,  1.06309342e+00,  9.62076366e-01,\n",
              "         9.05830860e-01,  1.18754792e+00,  1.27812183e+00,  1.01127875e+00,\n",
              "         1.02795184e+00,  1.18296516e+00,  1.01683879e+00,  9.02826726e-01,\n",
              "         8.57519627e-01,  8.99711847e-01,  9.89690959e-01,  1.01801288e+00,\n",
              "         1.02782595e+00,  8.88373375e-01,  8.65431249e-01,  1.29660690e+00,\n",
              "         9.68865633e-01,  1.14724493e+00,  1.00374722e+00,  1.17940664e+00,\n",
              "         1.05287457e+00,  9.21003938e-01,  1.07134807e+00,  1.19596219e+00,\n",
              "         1.19525158e+00,  1.30227876e+00,  1.09615266e+00,  1.34867740e+00,\n",
              "         1.31020546e+00,  8.73333156e-01,  1.15382946e+00,  9.11198020e-01,\n",
              "         9.79715526e-01,  9.36359882e-01,  1.05897748e+00,  1.04683745e+00,\n",
              "         6.84234321e-01,  1.38347137e+00,  1.24256444e+00,  1.06984794e+00,\n",
              "         1.05838156e+00,  8.57264102e-01,  1.01184893e+00,  1.03092158e+00,\n",
              "         1.03587198e+00,  9.00307715e-01,  1.03209937e+00,  1.09470308e+00,\n",
              "         1.04745531e+00,  1.24996972e+00,  1.07081044e+00,  9.99056816e-01,\n",
              "         1.06318128e+00,  1.07112491e+00,  1.26634300e+00,  1.03027046e+00,\n",
              "         8.96828413e-01,  1.11526799e+00,  8.99115860e-01,  1.13053834e+00,\n",
              "         1.51992369e+00,  7.34732330e-01,  1.02196884e+00,  9.48539317e-01,\n",
              "         1.01225936e+00,  1.14686453e+00,  8.93312633e-01,  1.48381364e+00,\n",
              "        -1.75187476e-02, -3.29714566e-02, -9.72441137e-02, -5.45781404e-02,\n",
              "        -8.93571787e-03, -5.31202322e-03,  1.24143161e-01, -1.52913034e-02,\n",
              "        -4.97901663e-02,  6.39169440e-02, -1.03881001e-01,  1.99891999e-02,\n",
              "        -4.88533340e-02,  5.13148233e-02,  8.29919800e-03,  8.83780494e-02,\n",
              "         5.37481271e-02,  2.29008738e-02, -5.71596948e-03, -1.78850873e-03,\n",
              "         2.81344671e-02, -6.41944408e-02,  8.63106176e-02,  7.35068843e-02,\n",
              "         4.08889307e-03,  1.52108194e-02, -4.57390957e-03, -4.31421632e-03,\n",
              "        -2.07469482e-02,  1.63096320e-02, -2.62768064e-02, -1.19080907e-02,\n",
              "        -4.12537158e-02,  2.31028683e-02,  1.63262654e-02, -4.42385720e-03,\n",
              "         2.57123522e-02, -2.60312632e-02, -4.33705188e-02, -3.57590690e-02,\n",
              "         6.71053827e-02, -4.98877242e-02,  2.20523812e-02,  4.82190624e-02,\n",
              "        -4.49972078e-02, -1.57749414e-01, -9.35822949e-02, -4.62279059e-02,\n",
              "        -7.75051191e-02, -3.37234349e-03,  7.46159926e-02,  6.78264201e-02,\n",
              "        -1.09950885e-01, -1.24725057e-02, -7.48753697e-02, -1.67675819e-02,\n",
              "        -4.12621275e-02,  3.31122801e-02,  7.16878893e-03,  2.81147286e-02,\n",
              "         4.89616767e-02, -7.70235527e-03, -8.34213197e-02,  8.17149654e-02,\n",
              "         7.70195425e-02, -7.98856243e-02,  8.89219251e-03, -5.54581285e-02,\n",
              "         2.64898520e-02,  2.54155304e-02,  1.03281369e-03,  7.94635043e-02,\n",
              "         3.73550691e-02,  3.11611667e-02, -4.24329191e-02,  4.13012244e-02,\n",
              "         3.03908456e-02,  6.90013319e-02, -2.03713123e-03,  1.04347076e-02,\n",
              "         7.53193954e-03,  7.45678023e-02,  4.63712364e-02, -1.16404437e-01,\n",
              "        -1.09661343e-02, -2.67483760e-02, -2.06293538e-02, -2.51469277e-02,\n",
              "        -6.58356249e-02, -2.23066169e-03,  2.24895962e-03,  5.18233441e-02,\n",
              "         1.37910163e-02,  2.11291630e-02, -3.87954302e-02, -6.53140470e-02,\n",
              "        -5.82641438e-02, -4.75328341e-02,  8.91351774e-02,  3.14235240e-02,\n",
              "        -2.03227699e-02, -3.49583179e-02, -6.19375296e-02,  1.49281102e-03,\n",
              "        -3.85359563e-02,  1.24759018e-01, -5.35979308e-02,  7.71758854e-02,\n",
              "         4.37927321e-02,  3.29588912e-02, -6.43666759e-02,  8.82050768e-02,\n",
              "        -1.12455646e-02,  3.03395987e-01, -8.25007334e-02,  8.80618766e-03,\n",
              "         7.29941428e-02, -8.04910995e-03, -3.36468332e-02,  1.66455448e-01,\n",
              "         2.91548818e-02, -5.08792102e-02, -2.00329609e-02,  2.09860235e-01,\n",
              "        -1.17314048e-02,  3.72388549e-02, -1.84329022e-02, -1.01129010e-01,\n",
              "        -3.75310369e-02,  3.30879539e-02, -8.27818289e-02, -6.75904900e-02,\n",
              "         8.04340020e-02, -8.78426060e-02, -9.93180498e-02, -5.29226325e-02,\n",
              "        -5.14327623e-02, -3.31848636e-02, -3.55777070e-02,  1.81871161e-01,\n",
              "         2.19874308e-01,  4.42215055e-03,  1.71789601e-01, -5.63453399e-02,\n",
              "         6.57848120e-02,  1.15201615e-01, -7.46003464e-02,  1.10882618e-01,\n",
              "        -3.93169113e-02, -1.09526671e-01, -9.16529223e-02,  1.65882218e-03,\n",
              "         2.47683320e-02,  1.28625154e-01, -5.89948660e-03, -1.14721045e-01,\n",
              "         2.73781512e-02,  2.11658981e-02,  1.34185567e-01,  3.80009077e-02,\n",
              "         4.83455369e-03,  7.16749057e-02, -4.82592396e-02, -5.99908531e-02,\n",
              "         5.46571314e-02, -5.98273948e-02, -8.93519521e-02,  3.90185826e-02,\n",
              "        -2.28203312e-01, -1.11014992e-02,  5.87325469e-02,  8.43896717e-02,\n",
              "         1.96474478e-01, -3.50511819e-02,  8.67231116e-02,  1.14150017e-01,\n",
              "        -3.59011814e-02,  1.33266062e-01,  7.70726502e-02, -4.51988056e-02,\n",
              "        -7.87677318e-02, -1.78629830e-02, -6.09030426e-02,  9.05342549e-02,\n",
              "        -4.49505076e-02,  5.20257764e-02, -1.05182491e-01, -1.28191039e-01,\n",
              "         4.47986238e-02,  6.49524620e-03, -3.32846753e-02, -2.08410658e-02,\n",
              "         9.77107584e-02,  9.86724496e-02, -5.50246947e-02,  1.55530408e-01,\n",
              "        -2.33817790e-02,  1.08113497e-01,  1.94136258e-02, -4.44160029e-02],\n",
              "       dtype=float32)>,\n",
              " <tf.Variable 'dense/kernel:0' shape=(100, 12) dtype=float32, numpy=\n",
              " array([[-0.2793704 ,  0.1428443 , -0.4347775 , ...,  0.05729878,\n",
              "          0.08980746, -0.02826111],\n",
              "        [-0.01443199, -0.14245494,  0.02101534, ..., -0.1615266 ,\n",
              "          0.01445504,  0.64926267],\n",
              "        [ 0.39059383, -0.2785632 ,  0.05347827, ..., -0.21529034,\n",
              "          0.04240965, -0.2724706 ],\n",
              "        ...,\n",
              "        [-0.00585385, -0.08689994,  0.24250877, ...,  0.09992265,\n",
              "          0.08568428, -0.42437956],\n",
              "        [-0.15941833, -0.20828135,  0.23978338, ..., -0.21374728,\n",
              "         -0.00274647,  0.14620174],\n",
              "        [-0.21101867,  0.12681517,  0.18187237, ..., -0.13136354,\n",
              "          0.06794101,  0.0563894 ]], dtype=float32)>,\n",
              " <tf.Variable 'dense/bias:0' shape=(12,) dtype=float32, numpy=\n",
              " array([-0.46092397,  0.01417393, -0.18982656,  0.12247695, -0.10263716,\n",
              "        -0.2099634 ,  0.16096003,  0.25095913,  0.08020078, -0.26174068,\n",
              "         0.1174019 , -0.07576161], dtype=float32)>]"
            ]
          },
          "metadata": {
            "tags": []
          },
          "execution_count": 101
        }
      ]
    },
    {
      "cell_type": "code",
      "metadata": {
        "id": "npTnmjPfs4HU",
        "colab_type": "code",
        "colab": {}
      },
      "source": [
        ""
      ],
      "execution_count": null,
      "outputs": []
    }
  ]
}