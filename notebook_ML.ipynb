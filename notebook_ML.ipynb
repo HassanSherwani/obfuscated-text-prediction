{
  "nbformat": 4,
  "nbformat_minor": 0,
  "metadata": {
    "kernelspec": {
      "display_name": "Python 3.7 (tensorflow)",
      "language": "python",
      "name": "tensorflow"
    },
    "language_info": {
      "codemirror_mode": {
        "name": "ipython",
        "version": 3
      },
      "file_extension": ".py",
      "mimetype": "text/x-python",
      "name": "python",
      "nbconvert_exporter": "python",
      "pygments_lexer": "ipython3",
      "version": "3.7.7"
    },
    "colab": {
      "name": "notebook_ML.ipynb",
      "provenance": [],
      "collapsed_sections": [],
      "toc_visible": true
    },
    "accelerator": "GPU"
  },
  "cells": [
    {
      "cell_type": "markdown",
      "metadata": {
        "id": "88WAhFnmdiLt",
        "colab_type": "text"
      },
      "source": [
        "# Problem Statement:\n",
        "    \n",
        "- a Machine Learning model that classifies a given line as belonging to one of the 12 novels already labelled."
      ]
    },
    {
      "cell_type": "markdown",
      "metadata": {
        "id": "7TqWptxgdiLu",
        "colab_type": "text"
      },
      "source": [
        "# 1- Import Key Modules"
      ]
    },
    {
      "cell_type": "code",
      "metadata": {
        "id": "3J3VJxpYdiLv",
        "colab_type": "code",
        "colab": {}
      },
      "source": [
        "# support both Python 2 and Python 3 with minimal overhead.\n",
        "from __future__ import absolute_import, division, print_function\n",
        "\n",
        "# I am an engineer. I care only about error not warning. So, let's be maverick and ignore warnings.\n",
        "import warnings\n",
        "warnings.filterwarnings('ignore')"
      ],
      "execution_count": 1,
      "outputs": []
    },
    {
      "cell_type": "code",
      "metadata": {
        "id": "MUPcU9aNdiL0",
        "colab_type": "code",
        "colab": {}
      },
      "source": [
        "import re    # for regular expressions \n",
        "import nltk  # for text manipulation \n",
        "import string \n",
        "import numpy as np \n",
        "import pandas as pd \n",
        "\n",
        "#For Visuals\n",
        "import matplotlib.pyplot as plt\n",
        "import seaborn as sns\n",
        "sns.set()\n",
        "from matplotlib import rcParams\n",
        "rcParams['figure.figsize'] = 11, 8\n",
        "%config InlineBackend.figure_format = 'svg'\n",
        "%matplotlib inline"
      ],
      "execution_count": 2,
      "outputs": []
    },
    {
      "cell_type": "code",
      "metadata": {
        "id": "j9f0IjJQdiL4",
        "colab_type": "code",
        "colab": {}
      },
      "source": [
        "#models and evaluation\n",
        "\n",
        "from sklearn.pipeline import Pipeline\n",
        "from sklearn.model_selection import train_test_split\n",
        "from sklearn.feature_extraction.text import TfidfTransformer\n",
        "from sklearn.naive_bayes import MultinomialNB\n",
        "from nltk.classify.scikitlearn import SklearnClassifier # notice its from ntlk not sklearn\n",
        "from sklearn.svm import LinearSVC, SVC\n",
        "from sklearn.linear_model import LogisticRegression\n",
        "from sklearn.ensemble import RandomForestClassifier\n",
        "from sklearn.model_selection import cross_val_score\n",
        "# Evaluation packages\n",
        "from sklearn.metrics.classification import accuracy_score, log_loss\n",
        "from sklearn import metrics\n",
        "from sklearn.metrics import confusion_matrix"
      ],
      "execution_count": 3,
      "outputs": []
    },
    {
      "cell_type": "code",
      "metadata": {
        "id": "_-mkeaU4diL7",
        "colab_type": "code",
        "colab": {
          "base_uri": "https://localhost:8080/",
          "height": 235
        },
        "outputId": "a204a344-2f59-4d99-9178-0422d33b08dc"
      },
      "source": [
        "! pip install version_information\n",
        "%reload_ext version_information\n",
        "%version_information pandas,numpy, nltk, seaborn, matplotlib"
      ],
      "execution_count": 4,
      "outputs": [
        {
          "output_type": "stream",
          "text": [
            "Requirement already satisfied: version_information in /usr/local/lib/python3.6/dist-packages (1.0.3)\n"
          ],
          "name": "stdout"
        },
        {
          "output_type": "execute_result",
          "data": {
            "text/latex": "\\begin{tabular}{|l|l|}\\hline\n{\\bf Software} & {\\bf Version} \\\\ \\hline\\hline\nPython & 3.6.9 64bit [GCC 8.4.0] \\\\ \\hline\nIPython & 5.5.0 \\\\ \\hline\nOS & Linux 4.19.112+ x86\\_64 with Ubuntu 18.04 bionic \\\\ \\hline\npandas & 1.0.5 \\\\ \\hline\nnumpy & 1.18.5 \\\\ \\hline\nnltk & 3.2.5 \\\\ \\hline\nseaborn & 0.10.1 \\\\ \\hline\nmatplotlib & 3.2.2 \\\\ \\hline\n\\hline \\multicolumn{2}{|l|}{Fri Sep 04 12:09:29 2020 UTC} \\\\ \\hline\n\\end{tabular}\n",
            "application/json": {
              "Software versions": [
                {
                  "version": "3.6.9 64bit [GCC 8.4.0]",
                  "module": "Python"
                },
                {
                  "version": "5.5.0",
                  "module": "IPython"
                },
                {
                  "version": "Linux 4.19.112+ x86_64 with Ubuntu 18.04 bionic",
                  "module": "OS"
                },
                {
                  "version": "1.0.5",
                  "module": "pandas"
                },
                {
                  "version": "1.18.5",
                  "module": "numpy"
                },
                {
                  "version": "3.2.5",
                  "module": "nltk"
                },
                {
                  "version": "0.10.1",
                  "module": "seaborn"
                },
                {
                  "version": "3.2.2",
                  "module": "matplotlib"
                }
              ]
            },
            "text/html": [
              "<table><tr><th>Software</th><th>Version</th></tr><tr><td>Python</td><td>3.6.9 64bit [GCC 8.4.0]</td></tr><tr><td>IPython</td><td>5.5.0</td></tr><tr><td>OS</td><td>Linux 4.19.112+ x86_64 with Ubuntu 18.04 bionic</td></tr><tr><td>pandas</td><td>1.0.5</td></tr><tr><td>numpy</td><td>1.18.5</td></tr><tr><td>nltk</td><td>3.2.5</td></tr><tr><td>seaborn</td><td>0.10.1</td></tr><tr><td>matplotlib</td><td>3.2.2</td></tr><tr><td colspan='2'>Fri Sep 04 12:09:29 2020 UTC</td></tr></table>"
            ],
            "text/plain": [
              "Software versions\n",
              "Python 3.6.9 64bit [GCC 8.4.0]\n",
              "IPython 5.5.0\n",
              "OS Linux 4.19.112+ x86_64 with Ubuntu 18.04 bionic\n",
              "pandas 1.0.5\n",
              "numpy 1.18.5\n",
              "nltk 3.2.5\n",
              "seaborn 0.10.1\n",
              "matplotlib 3.2.2\n",
              "Fri Sep 04 12:09:29 2020 UTC"
            ]
          },
          "metadata": {
            "tags": []
          },
          "execution_count": 4
        }
      ]
    },
    {
      "cell_type": "markdown",
      "metadata": {
        "id": "cNaHeEEgdiL-",
        "colab_type": "text"
      },
      "source": [
        "# 2-Loading Data"
      ]
    },
    {
      "cell_type": "code",
      "metadata": {
        "id": "aYIdUPwMdiL_",
        "colab_type": "code",
        "colab": {
          "base_uri": "https://localhost:8080/",
          "height": 34
        },
        "outputId": "507b6f9c-9f49-4175-f70b-aaf0a7c27368"
      },
      "source": [
        "data_xtrain=pd.read_csv('xtrain_obfuscated.txt', header = None,sep=\" \" )\n",
        "data_xtrain.columns = [\"text\"]\n",
        "data_xtrain.shape"
      ],
      "execution_count": 5,
      "outputs": [
        {
          "output_type": "execute_result",
          "data": {
            "text/plain": [
              "(32513, 1)"
            ]
          },
          "metadata": {
            "tags": []
          },
          "execution_count": 5
        }
      ]
    },
    {
      "cell_type": "code",
      "metadata": {
        "id": "8t-IDICndiMB",
        "colab_type": "code",
        "colab": {
          "base_uri": "https://localhost:8080/",
          "height": 195
        },
        "outputId": "1cfea855-1e80-4adf-93b9-08ab95d180a1"
      },
      "source": [
        "data_xtrain.head()"
      ],
      "execution_count": 6,
      "outputs": [
        {
          "output_type": "execute_result",
          "data": {
            "text/html": [
              "<div>\n",
              "<style scoped>\n",
              "    .dataframe tbody tr th:only-of-type {\n",
              "        vertical-align: middle;\n",
              "    }\n",
              "\n",
              "    .dataframe tbody tr th {\n",
              "        vertical-align: top;\n",
              "    }\n",
              "\n",
              "    .dataframe thead th {\n",
              "        text-align: right;\n",
              "    }\n",
              "</style>\n",
              "<table border=\"1\" class=\"dataframe\">\n",
              "  <thead>\n",
              "    <tr style=\"text-align: right;\">\n",
              "      <th></th>\n",
              "      <th>text</th>\n",
              "    </tr>\n",
              "  </thead>\n",
              "  <tbody>\n",
              "    <tr>\n",
              "      <th>0</th>\n",
              "      <td>satwamuluhqgulamlrmvezuhqvkrpmletwulcitwskuhle...</td>\n",
              "    </tr>\n",
              "    <tr>\n",
              "      <th>1</th>\n",
              "      <td>twmkiwpmqvtwleuhsaiwsktwmvlelekramuhqvkruhtwsk...</td>\n",
              "    </tr>\n",
              "    <tr>\n",
              "      <th>2</th>\n",
              "      <td>vidfpmskuhvilepmuluhtwtvuhulsovienamqvuhskiwmv...</td>\n",
              "    </tr>\n",
              "    <tr>\n",
              "      <th>3</th>\n",
              "      <td>raskleenkrlruhtwulenleengztwqvuhenuhsatvuhsktw...</td>\n",
              "    </tr>\n",
              "    <tr>\n",
              "      <th>4</th>\n",
              "      <td>dfenqvuhtwamqvuhqgtwiwtvenuluhqvijletwamulenxe...</td>\n",
              "    </tr>\n",
              "  </tbody>\n",
              "</table>\n",
              "</div>"
            ],
            "text/plain": [
              "                                                text\n",
              "0  satwamuluhqgulamlrmvezuhqvkrpmletwulcitwskuhle...\n",
              "1  twmkiwpmqvtwleuhsaiwsktwmvlelekramuhqvkruhtwsk...\n",
              "2  vidfpmskuhvilepmuluhtwtvuhulsovienamqvuhskiwmv...\n",
              "3  raskleenkrlruhtwulenleengztwqvuhenuhsatvuhsktw...\n",
              "4  dfenqvuhtwamqvuhqgtwiwtvenuluhqvijletwamulenxe..."
            ]
          },
          "metadata": {
            "tags": []
          },
          "execution_count": 6
        }
      ]
    },
    {
      "cell_type": "code",
      "metadata": {
        "id": "K3zG6QpZdiMG",
        "colab_type": "code",
        "colab": {
          "base_uri": "https://localhost:8080/",
          "height": 34
        },
        "outputId": "28ac1aaf-9740-4dfd-f6e1-3137ca737a2d"
      },
      "source": [
        "data_xtest=pd.read_csv('xtest_obfuscated.txt', header = None,sep=\" \" )\n",
        "data_xtest.columns = [\"text\"]\n",
        "data_xtest.shape"
      ],
      "execution_count": 7,
      "outputs": [
        {
          "output_type": "execute_result",
          "data": {
            "text/plain": [
              "(3000, 1)"
            ]
          },
          "metadata": {
            "tags": []
          },
          "execution_count": 7
        }
      ]
    },
    {
      "cell_type": "code",
      "metadata": {
        "id": "gCjG2JNEdiMJ",
        "colab_type": "code",
        "colab": {
          "base_uri": "https://localhost:8080/",
          "height": 195
        },
        "outputId": "02f4f9ca-69e4-4cd0-b670-94d0ffb41053"
      },
      "source": [
        "data_xtest.head()"
      ],
      "execution_count": 8,
      "outputs": [
        {
          "output_type": "execute_result",
          "data": {
            "text/html": [
              "<div>\n",
              "<style scoped>\n",
              "    .dataframe tbody tr th:only-of-type {\n",
              "        vertical-align: middle;\n",
              "    }\n",
              "\n",
              "    .dataframe tbody tr th {\n",
              "        vertical-align: top;\n",
              "    }\n",
              "\n",
              "    .dataframe thead th {\n",
              "        text-align: right;\n",
              "    }\n",
              "</style>\n",
              "<table border=\"1\" class=\"dataframe\">\n",
              "  <thead>\n",
              "    <tr style=\"text-align: right;\">\n",
              "      <th></th>\n",
              "      <th>text</th>\n",
              "    </tr>\n",
              "  </thead>\n",
              "  <tbody>\n",
              "    <tr>\n",
              "      <th>0</th>\n",
              "      <td>tvletwgzkrqvuhtwamuluhpkskpmpmiwtvuhamqvmviwlr...</td>\n",
              "    </tr>\n",
              "    <tr>\n",
              "      <th>1</th>\n",
              "      <td>qvmvuhskleenmvviengzxyuhqvmvamguuhrakrpmsauhul...</td>\n",
              "    </tr>\n",
              "    <tr>\n",
              "      <th>2</th>\n",
              "      <td>twamuhulenamuluhskvienuhqgdftwmvmkletwulvimvuh...</td>\n",
              "    </tr>\n",
              "    <tr>\n",
              "      <th>3</th>\n",
              "      <td>sooatwqvvitwqvvipmviuhoaampmpmmwuhuhraulvikrpm...</td>\n",
              "    </tr>\n",
              "    <tr>\n",
              "      <th>4</th>\n",
              "      <td>lepmuhpmdfuluhtwletwdfuhtwletwamguuhuhraezpmpm...</td>\n",
              "    </tr>\n",
              "  </tbody>\n",
              "</table>\n",
              "</div>"
            ],
            "text/plain": [
              "                                                text\n",
              "0  tvletwgzkrqvuhtwamuluhpkskpmpmiwtvuhamqvmviwlr...\n",
              "1  qvmvuhskleenmvviengzxyuhqvmvamguuhrakrpmsauhul...\n",
              "2  twamuhulenamuluhskvienuhqgdftwmvmkletwulvimvuh...\n",
              "3  sooatwqvvitwqvvipmviuhoaampmpmmwuhuhraulvikrpm...\n",
              "4  lepmuhpmdfuluhtwletwdfuhtwletwamguuhuhraezpmpm..."
            ]
          },
          "metadata": {
            "tags": []
          },
          "execution_count": 8
        }
      ]
    },
    {
      "cell_type": "code",
      "metadata": {
        "id": "yoJDUXr0diML",
        "colab_type": "code",
        "colab": {
          "base_uri": "https://localhost:8080/",
          "height": 34
        },
        "outputId": "7823d5e1-cc6d-4d53-a265-37317890c781"
      },
      "source": [
        "data_ytrain=pd.read_csv('ytrain.txt', header = None,sep=\" \" )\n",
        "data_ytrain.columns = [\"label\"]\n",
        "data_ytrain.shape"
      ],
      "execution_count": 9,
      "outputs": [
        {
          "output_type": "execute_result",
          "data": {
            "text/plain": [
              "(32513, 1)"
            ]
          },
          "metadata": {
            "tags": []
          },
          "execution_count": 9
        }
      ]
    },
    {
      "cell_type": "code",
      "metadata": {
        "id": "Rfw_-JULdiMN",
        "colab_type": "code",
        "colab": {
          "base_uri": "https://localhost:8080/",
          "height": 195
        },
        "outputId": "bf78ab19-a3e3-4c19-f68d-9b20e50999f3"
      },
      "source": [
        "data_ytrain.head()"
      ],
      "execution_count": 10,
      "outputs": [
        {
          "output_type": "execute_result",
          "data": {
            "text/html": [
              "<div>\n",
              "<style scoped>\n",
              "    .dataframe tbody tr th:only-of-type {\n",
              "        vertical-align: middle;\n",
              "    }\n",
              "\n",
              "    .dataframe tbody tr th {\n",
              "        vertical-align: top;\n",
              "    }\n",
              "\n",
              "    .dataframe thead th {\n",
              "        text-align: right;\n",
              "    }\n",
              "</style>\n",
              "<table border=\"1\" class=\"dataframe\">\n",
              "  <thead>\n",
              "    <tr style=\"text-align: right;\">\n",
              "      <th></th>\n",
              "      <th>label</th>\n",
              "    </tr>\n",
              "  </thead>\n",
              "  <tbody>\n",
              "    <tr>\n",
              "      <th>0</th>\n",
              "      <td>7</td>\n",
              "    </tr>\n",
              "    <tr>\n",
              "      <th>1</th>\n",
              "      <td>3</td>\n",
              "    </tr>\n",
              "    <tr>\n",
              "      <th>2</th>\n",
              "      <td>8</td>\n",
              "    </tr>\n",
              "    <tr>\n",
              "      <th>3</th>\n",
              "      <td>3</td>\n",
              "    </tr>\n",
              "    <tr>\n",
              "      <th>4</th>\n",
              "      <td>4</td>\n",
              "    </tr>\n",
              "  </tbody>\n",
              "</table>\n",
              "</div>"
            ],
            "text/plain": [
              "   label\n",
              "0      7\n",
              "1      3\n",
              "2      8\n",
              "3      3\n",
              "4      4"
            ]
          },
          "metadata": {
            "tags": []
          },
          "execution_count": 10
        }
      ]
    },
    {
      "cell_type": "code",
      "metadata": {
        "id": "HBpHhWGBdiMQ",
        "colab_type": "code",
        "colab": {
          "base_uri": "https://localhost:8080/",
          "height": 235
        },
        "outputId": "b076fbbf-c3bf-4049-b0ca-4287389c885e"
      },
      "source": [
        "data_ytrain.label.value_counts()"
      ],
      "execution_count": 11,
      "outputs": [
        {
          "output_type": "execute_result",
          "data": {
            "text/plain": [
              "7     5097\n",
              "6     4226\n",
              "3     4023\n",
              "8     3634\n",
              "1     3459\n",
              "10    3052\n",
              "4     2337\n",
              "5     2283\n",
              "2     1471\n",
              "11    1408\n",
              "9      980\n",
              "0      543\n",
              "Name: label, dtype: int64"
            ]
          },
          "metadata": {
            "tags": []
          },
          "execution_count": 11
        }
      ]
    },
    {
      "cell_type": "code",
      "metadata": {
        "id": "m1-nN2UGdiMT",
        "colab_type": "code",
        "colab": {
          "base_uri": "https://localhost:8080/",
          "height": 235
        },
        "outputId": "c584f384-a055-4d6a-f639-cc36f3bac6f1"
      },
      "source": [
        "data_ytrain.label.value_counts(normalize=True)"
      ],
      "execution_count": 12,
      "outputs": [
        {
          "output_type": "execute_result",
          "data": {
            "text/plain": [
              "7     0.156768\n",
              "6     0.129979\n",
              "3     0.123735\n",
              "8     0.111771\n",
              "1     0.106388\n",
              "10    0.093870\n",
              "4     0.071879\n",
              "5     0.070218\n",
              "2     0.045243\n",
              "11    0.043306\n",
              "9     0.030142\n",
              "0     0.016701\n",
              "Name: label, dtype: float64"
            ]
          },
          "metadata": {
            "tags": []
          },
          "execution_count": 12
        }
      ]
    },
    {
      "cell_type": "markdown",
      "metadata": {
        "id": "4swb8KMGdiMW",
        "colab_type": "text"
      },
      "source": [
        "# 3-Vectorize"
      ]
    },
    {
      "cell_type": "code",
      "metadata": {
        "id": "iZuKW1MddiMW",
        "colab_type": "code",
        "colab": {}
      },
      "source": [
        "from sklearn.feature_extraction.text import TfidfVectorizer, CountVectorizer"
      ],
      "execution_count": 13,
      "outputs": []
    },
    {
      "cell_type": "code",
      "metadata": {
        "id": "FB9KEGNbdiMZ",
        "colab_type": "code",
        "colab": {}
      },
      "source": [
        "x_train=data_xtrain.text\n",
        "x_test=data_xtest.text"
      ],
      "execution_count": 14,
      "outputs": []
    },
    {
      "cell_type": "code",
      "metadata": {
        "id": "gcOp2byediMb",
        "colab_type": "code",
        "colab": {}
      },
      "source": [
        "# using trigram and char as unit for analysis\n",
        "tfidf_vec = TfidfVectorizer(ngram_range=(1,3), analyzer='char')"
      ],
      "execution_count": 15,
      "outputs": []
    },
    {
      "cell_type": "code",
      "metadata": {
        "id": "AOrt-e6xdiMd",
        "colab_type": "code",
        "colab": {}
      },
      "source": [
        "#full_tfidf = tfidf_vec.fit_transform(train_data_x + test_data_x)\n",
        "train_tfidf = tfidf_vec.fit_transform(x_train).toarray()\n",
        "test_tfidf = tfidf_vec.transform(x_test).toarray()"
      ],
      "execution_count": 16,
      "outputs": []
    },
    {
      "cell_type": "code",
      "metadata": {
        "id": "7jQAv9uAdiMf",
        "colab_type": "code",
        "colab": {
          "base_uri": "https://localhost:8080/",
          "height": 50
        },
        "outputId": "025e2566-6813-47f0-ca92-0187b72a64a9"
      },
      "source": [
        "print(train_tfidf.shape)\n",
        "print(test_tfidf.shape)"
      ],
      "execution_count": 17,
      "outputs": [
        {
          "output_type": "stream",
          "text": [
            "(32513, 3398)\n",
            "(3000, 3398)\n"
          ],
          "name": "stdout"
        }
      ]
    },
    {
      "cell_type": "code",
      "metadata": {
        "id": "ew-7u2DGdiMi",
        "colab_type": "code",
        "colab": {}
      },
      "source": [
        "labels = data_ytrain.label.astype(str)"
      ],
      "execution_count": 18,
      "outputs": []
    },
    {
      "cell_type": "code",
      "metadata": {
        "id": "VrJwnF9SdiMk",
        "colab_type": "code",
        "colab": {
          "base_uri": "https://localhost:8080/",
          "height": 244
        },
        "outputId": "ba6eb405-81e3-4daf-8248-c181ce90aa6f"
      },
      "source": [
        "pd.DataFrame(train_tfidf).head()"
      ],
      "execution_count": 19,
      "outputs": [
        {
          "output_type": "execute_result",
          "data": {
            "text/html": [
              "<div>\n",
              "<style scoped>\n",
              "    .dataframe tbody tr th:only-of-type {\n",
              "        vertical-align: middle;\n",
              "    }\n",
              "\n",
              "    .dataframe tbody tr th {\n",
              "        vertical-align: top;\n",
              "    }\n",
              "\n",
              "    .dataframe thead th {\n",
              "        text-align: right;\n",
              "    }\n",
              "</style>\n",
              "<table border=\"1\" class=\"dataframe\">\n",
              "  <thead>\n",
              "    <tr style=\"text-align: right;\">\n",
              "      <th></th>\n",
              "      <th>0</th>\n",
              "      <th>1</th>\n",
              "      <th>2</th>\n",
              "      <th>3</th>\n",
              "      <th>4</th>\n",
              "      <th>5</th>\n",
              "      <th>6</th>\n",
              "      <th>7</th>\n",
              "      <th>8</th>\n",
              "      <th>9</th>\n",
              "      <th>10</th>\n",
              "      <th>11</th>\n",
              "      <th>12</th>\n",
              "      <th>13</th>\n",
              "      <th>14</th>\n",
              "      <th>15</th>\n",
              "      <th>16</th>\n",
              "      <th>17</th>\n",
              "      <th>18</th>\n",
              "      <th>19</th>\n",
              "      <th>20</th>\n",
              "      <th>21</th>\n",
              "      <th>22</th>\n",
              "      <th>23</th>\n",
              "      <th>24</th>\n",
              "      <th>25</th>\n",
              "      <th>26</th>\n",
              "      <th>27</th>\n",
              "      <th>28</th>\n",
              "      <th>29</th>\n",
              "      <th>30</th>\n",
              "      <th>31</th>\n",
              "      <th>32</th>\n",
              "      <th>33</th>\n",
              "      <th>34</th>\n",
              "      <th>35</th>\n",
              "      <th>36</th>\n",
              "      <th>37</th>\n",
              "      <th>38</th>\n",
              "      <th>39</th>\n",
              "      <th>...</th>\n",
              "      <th>3358</th>\n",
              "      <th>3359</th>\n",
              "      <th>3360</th>\n",
              "      <th>3361</th>\n",
              "      <th>3362</th>\n",
              "      <th>3363</th>\n",
              "      <th>3364</th>\n",
              "      <th>3365</th>\n",
              "      <th>3366</th>\n",
              "      <th>3367</th>\n",
              "      <th>3368</th>\n",
              "      <th>3369</th>\n",
              "      <th>3370</th>\n",
              "      <th>3371</th>\n",
              "      <th>3372</th>\n",
              "      <th>3373</th>\n",
              "      <th>3374</th>\n",
              "      <th>3375</th>\n",
              "      <th>3376</th>\n",
              "      <th>3377</th>\n",
              "      <th>3378</th>\n",
              "      <th>3379</th>\n",
              "      <th>3380</th>\n",
              "      <th>3381</th>\n",
              "      <th>3382</th>\n",
              "      <th>3383</th>\n",
              "      <th>3384</th>\n",
              "      <th>3385</th>\n",
              "      <th>3386</th>\n",
              "      <th>3387</th>\n",
              "      <th>3388</th>\n",
              "      <th>3389</th>\n",
              "      <th>3390</th>\n",
              "      <th>3391</th>\n",
              "      <th>3392</th>\n",
              "      <th>3393</th>\n",
              "      <th>3394</th>\n",
              "      <th>3395</th>\n",
              "      <th>3396</th>\n",
              "      <th>3397</th>\n",
              "    </tr>\n",
              "  </thead>\n",
              "  <tbody>\n",
              "    <tr>\n",
              "      <th>0</th>\n",
              "      <td>0.126480</td>\n",
              "      <td>0.0</td>\n",
              "      <td>0.0</td>\n",
              "      <td>0.0</td>\n",
              "      <td>0.0</td>\n",
              "      <td>0.0</td>\n",
              "      <td>0.0</td>\n",
              "      <td>0.0</td>\n",
              "      <td>0.0</td>\n",
              "      <td>0.0</td>\n",
              "      <td>0.0</td>\n",
              "      <td>0.0</td>\n",
              "      <td>0.0</td>\n",
              "      <td>0.0</td>\n",
              "      <td>0.000000</td>\n",
              "      <td>0.0</td>\n",
              "      <td>0.0</td>\n",
              "      <td>0.000000</td>\n",
              "      <td>0.0</td>\n",
              "      <td>0.0</td>\n",
              "      <td>0.0</td>\n",
              "      <td>0.000000</td>\n",
              "      <td>0.0</td>\n",
              "      <td>0.0</td>\n",
              "      <td>0.000000</td>\n",
              "      <td>0.0</td>\n",
              "      <td>0.0</td>\n",
              "      <td>0.000000</td>\n",
              "      <td>0.0</td>\n",
              "      <td>0.0</td>\n",
              "      <td>0.0</td>\n",
              "      <td>0.000000</td>\n",
              "      <td>0.0</td>\n",
              "      <td>0.0</td>\n",
              "      <td>0.0</td>\n",
              "      <td>0.0</td>\n",
              "      <td>0.0</td>\n",
              "      <td>0.0</td>\n",
              "      <td>0.0</td>\n",
              "      <td>0.0</td>\n",
              "      <td>...</td>\n",
              "      <td>0.0</td>\n",
              "      <td>0.0</td>\n",
              "      <td>0.0</td>\n",
              "      <td>0.0</td>\n",
              "      <td>0.0</td>\n",
              "      <td>0.0</td>\n",
              "      <td>0.026665</td>\n",
              "      <td>0.0</td>\n",
              "      <td>0.0</td>\n",
              "      <td>0.026712</td>\n",
              "      <td>0.008209</td>\n",
              "      <td>0.0</td>\n",
              "      <td>0.008231</td>\n",
              "      <td>0.0</td>\n",
              "      <td>0.0</td>\n",
              "      <td>0.0</td>\n",
              "      <td>0.0</td>\n",
              "      <td>0.0</td>\n",
              "      <td>0.0</td>\n",
              "      <td>0.0</td>\n",
              "      <td>0.0</td>\n",
              "      <td>0.0</td>\n",
              "      <td>0.0</td>\n",
              "      <td>0.0</td>\n",
              "      <td>0.0</td>\n",
              "      <td>0.0</td>\n",
              "      <td>0.0</td>\n",
              "      <td>0.0</td>\n",
              "      <td>0.0</td>\n",
              "      <td>0.0</td>\n",
              "      <td>0.0</td>\n",
              "      <td>0.0</td>\n",
              "      <td>0.0</td>\n",
              "      <td>0.0</td>\n",
              "      <td>0.0</td>\n",
              "      <td>0.0</td>\n",
              "      <td>0.0</td>\n",
              "      <td>0.0</td>\n",
              "      <td>0.0</td>\n",
              "      <td>0.0</td>\n",
              "    </tr>\n",
              "    <tr>\n",
              "      <th>1</th>\n",
              "      <td>0.095712</td>\n",
              "      <td>0.0</td>\n",
              "      <td>0.0</td>\n",
              "      <td>0.0</td>\n",
              "      <td>0.0</td>\n",
              "      <td>0.0</td>\n",
              "      <td>0.0</td>\n",
              "      <td>0.0</td>\n",
              "      <td>0.0</td>\n",
              "      <td>0.0</td>\n",
              "      <td>0.0</td>\n",
              "      <td>0.0</td>\n",
              "      <td>0.0</td>\n",
              "      <td>0.0</td>\n",
              "      <td>0.014032</td>\n",
              "      <td>0.0</td>\n",
              "      <td>0.0</td>\n",
              "      <td>0.020304</td>\n",
              "      <td>0.0</td>\n",
              "      <td>0.0</td>\n",
              "      <td>0.0</td>\n",
              "      <td>0.000000</td>\n",
              "      <td>0.0</td>\n",
              "      <td>0.0</td>\n",
              "      <td>0.000000</td>\n",
              "      <td>0.0</td>\n",
              "      <td>0.0</td>\n",
              "      <td>0.029217</td>\n",
              "      <td>0.0</td>\n",
              "      <td>0.0</td>\n",
              "      <td>0.0</td>\n",
              "      <td>0.029383</td>\n",
              "      <td>0.0</td>\n",
              "      <td>0.0</td>\n",
              "      <td>0.0</td>\n",
              "      <td>0.0</td>\n",
              "      <td>0.0</td>\n",
              "      <td>0.0</td>\n",
              "      <td>0.0</td>\n",
              "      <td>0.0</td>\n",
              "      <td>...</td>\n",
              "      <td>0.0</td>\n",
              "      <td>0.0</td>\n",
              "      <td>0.0</td>\n",
              "      <td>0.0</td>\n",
              "      <td>0.0</td>\n",
              "      <td>0.0</td>\n",
              "      <td>0.000000</td>\n",
              "      <td>0.0</td>\n",
              "      <td>0.0</td>\n",
              "      <td>0.000000</td>\n",
              "      <td>0.026401</td>\n",
              "      <td>0.0</td>\n",
              "      <td>0.026472</td>\n",
              "      <td>0.0</td>\n",
              "      <td>0.0</td>\n",
              "      <td>0.0</td>\n",
              "      <td>0.0</td>\n",
              "      <td>0.0</td>\n",
              "      <td>0.0</td>\n",
              "      <td>0.0</td>\n",
              "      <td>0.0</td>\n",
              "      <td>0.0</td>\n",
              "      <td>0.0</td>\n",
              "      <td>0.0</td>\n",
              "      <td>0.0</td>\n",
              "      <td>0.0</td>\n",
              "      <td>0.0</td>\n",
              "      <td>0.0</td>\n",
              "      <td>0.0</td>\n",
              "      <td>0.0</td>\n",
              "      <td>0.0</td>\n",
              "      <td>0.0</td>\n",
              "      <td>0.0</td>\n",
              "      <td>0.0</td>\n",
              "      <td>0.0</td>\n",
              "      <td>0.0</td>\n",
              "      <td>0.0</td>\n",
              "      <td>0.0</td>\n",
              "      <td>0.0</td>\n",
              "      <td>0.0</td>\n",
              "    </tr>\n",
              "    <tr>\n",
              "      <th>2</th>\n",
              "      <td>0.088707</td>\n",
              "      <td>0.0</td>\n",
              "      <td>0.0</td>\n",
              "      <td>0.0</td>\n",
              "      <td>0.0</td>\n",
              "      <td>0.0</td>\n",
              "      <td>0.0</td>\n",
              "      <td>0.0</td>\n",
              "      <td>0.0</td>\n",
              "      <td>0.0</td>\n",
              "      <td>0.0</td>\n",
              "      <td>0.0</td>\n",
              "      <td>0.0</td>\n",
              "      <td>0.0</td>\n",
              "      <td>0.000000</td>\n",
              "      <td>0.0</td>\n",
              "      <td>0.0</td>\n",
              "      <td>0.000000</td>\n",
              "      <td>0.0</td>\n",
              "      <td>0.0</td>\n",
              "      <td>0.0</td>\n",
              "      <td>0.029377</td>\n",
              "      <td>0.0</td>\n",
              "      <td>0.0</td>\n",
              "      <td>0.029586</td>\n",
              "      <td>0.0</td>\n",
              "      <td>0.0</td>\n",
              "      <td>0.012498</td>\n",
              "      <td>0.0</td>\n",
              "      <td>0.0</td>\n",
              "      <td>0.0</td>\n",
              "      <td>0.012569</td>\n",
              "      <td>0.0</td>\n",
              "      <td>0.0</td>\n",
              "      <td>0.0</td>\n",
              "      <td>0.0</td>\n",
              "      <td>0.0</td>\n",
              "      <td>0.0</td>\n",
              "      <td>0.0</td>\n",
              "      <td>0.0</td>\n",
              "      <td>...</td>\n",
              "      <td>0.0</td>\n",
              "      <td>0.0</td>\n",
              "      <td>0.0</td>\n",
              "      <td>0.0</td>\n",
              "      <td>0.0</td>\n",
              "      <td>0.0</td>\n",
              "      <td>0.000000</td>\n",
              "      <td>0.0</td>\n",
              "      <td>0.0</td>\n",
              "      <td>0.000000</td>\n",
              "      <td>0.015058</td>\n",
              "      <td>0.0</td>\n",
              "      <td>0.015098</td>\n",
              "      <td>0.0</td>\n",
              "      <td>0.0</td>\n",
              "      <td>0.0</td>\n",
              "      <td>0.0</td>\n",
              "      <td>0.0</td>\n",
              "      <td>0.0</td>\n",
              "      <td>0.0</td>\n",
              "      <td>0.0</td>\n",
              "      <td>0.0</td>\n",
              "      <td>0.0</td>\n",
              "      <td>0.0</td>\n",
              "      <td>0.0</td>\n",
              "      <td>0.0</td>\n",
              "      <td>0.0</td>\n",
              "      <td>0.0</td>\n",
              "      <td>0.0</td>\n",
              "      <td>0.0</td>\n",
              "      <td>0.0</td>\n",
              "      <td>0.0</td>\n",
              "      <td>0.0</td>\n",
              "      <td>0.0</td>\n",
              "      <td>0.0</td>\n",
              "      <td>0.0</td>\n",
              "      <td>0.0</td>\n",
              "      <td>0.0</td>\n",
              "      <td>0.0</td>\n",
              "      <td>0.0</td>\n",
              "    </tr>\n",
              "    <tr>\n",
              "      <th>3</th>\n",
              "      <td>0.100503</td>\n",
              "      <td>0.0</td>\n",
              "      <td>0.0</td>\n",
              "      <td>0.0</td>\n",
              "      <td>0.0</td>\n",
              "      <td>0.0</td>\n",
              "      <td>0.0</td>\n",
              "      <td>0.0</td>\n",
              "      <td>0.0</td>\n",
              "      <td>0.0</td>\n",
              "      <td>0.0</td>\n",
              "      <td>0.0</td>\n",
              "      <td>0.0</td>\n",
              "      <td>0.0</td>\n",
              "      <td>0.025260</td>\n",
              "      <td>0.0</td>\n",
              "      <td>0.0</td>\n",
              "      <td>0.036550</td>\n",
              "      <td>0.0</td>\n",
              "      <td>0.0</td>\n",
              "      <td>0.0</td>\n",
              "      <td>0.000000</td>\n",
              "      <td>0.0</td>\n",
              "      <td>0.0</td>\n",
              "      <td>0.000000</td>\n",
              "      <td>0.0</td>\n",
              "      <td>0.0</td>\n",
              "      <td>0.000000</td>\n",
              "      <td>0.0</td>\n",
              "      <td>0.0</td>\n",
              "      <td>0.0</td>\n",
              "      <td>0.000000</td>\n",
              "      <td>0.0</td>\n",
              "      <td>0.0</td>\n",
              "      <td>0.0</td>\n",
              "      <td>0.0</td>\n",
              "      <td>0.0</td>\n",
              "      <td>0.0</td>\n",
              "      <td>0.0</td>\n",
              "      <td>0.0</td>\n",
              "      <td>...</td>\n",
              "      <td>0.0</td>\n",
              "      <td>0.0</td>\n",
              "      <td>0.0</td>\n",
              "      <td>0.0</td>\n",
              "      <td>0.0</td>\n",
              "      <td>0.0</td>\n",
              "      <td>0.038593</td>\n",
              "      <td>0.0</td>\n",
              "      <td>0.0</td>\n",
              "      <td>0.038662</td>\n",
              "      <td>0.015842</td>\n",
              "      <td>0.0</td>\n",
              "      <td>0.015884</td>\n",
              "      <td>0.0</td>\n",
              "      <td>0.0</td>\n",
              "      <td>0.0</td>\n",
              "      <td>0.0</td>\n",
              "      <td>0.0</td>\n",
              "      <td>0.0</td>\n",
              "      <td>0.0</td>\n",
              "      <td>0.0</td>\n",
              "      <td>0.0</td>\n",
              "      <td>0.0</td>\n",
              "      <td>0.0</td>\n",
              "      <td>0.0</td>\n",
              "      <td>0.0</td>\n",
              "      <td>0.0</td>\n",
              "      <td>0.0</td>\n",
              "      <td>0.0</td>\n",
              "      <td>0.0</td>\n",
              "      <td>0.0</td>\n",
              "      <td>0.0</td>\n",
              "      <td>0.0</td>\n",
              "      <td>0.0</td>\n",
              "      <td>0.0</td>\n",
              "      <td>0.0</td>\n",
              "      <td>0.0</td>\n",
              "      <td>0.0</td>\n",
              "      <td>0.0</td>\n",
              "      <td>0.0</td>\n",
              "    </tr>\n",
              "    <tr>\n",
              "      <th>4</th>\n",
              "      <td>0.081580</td>\n",
              "      <td>0.0</td>\n",
              "      <td>0.0</td>\n",
              "      <td>0.0</td>\n",
              "      <td>0.0</td>\n",
              "      <td>0.0</td>\n",
              "      <td>0.0</td>\n",
              "      <td>0.0</td>\n",
              "      <td>0.0</td>\n",
              "      <td>0.0</td>\n",
              "      <td>0.0</td>\n",
              "      <td>0.0</td>\n",
              "      <td>0.0</td>\n",
              "      <td>0.0</td>\n",
              "      <td>0.000000</td>\n",
              "      <td>0.0</td>\n",
              "      <td>0.0</td>\n",
              "      <td>0.000000</td>\n",
              "      <td>0.0</td>\n",
              "      <td>0.0</td>\n",
              "      <td>0.0</td>\n",
              "      <td>0.000000</td>\n",
              "      <td>0.0</td>\n",
              "      <td>0.0</td>\n",
              "      <td>0.000000</td>\n",
              "      <td>0.0</td>\n",
              "      <td>0.0</td>\n",
              "      <td>0.000000</td>\n",
              "      <td>0.0</td>\n",
              "      <td>0.0</td>\n",
              "      <td>0.0</td>\n",
              "      <td>0.000000</td>\n",
              "      <td>0.0</td>\n",
              "      <td>0.0</td>\n",
              "      <td>0.0</td>\n",
              "      <td>0.0</td>\n",
              "      <td>0.0</td>\n",
              "      <td>0.0</td>\n",
              "      <td>0.0</td>\n",
              "      <td>0.0</td>\n",
              "      <td>...</td>\n",
              "      <td>0.0</td>\n",
              "      <td>0.0</td>\n",
              "      <td>0.0</td>\n",
              "      <td>0.0</td>\n",
              "      <td>0.0</td>\n",
              "      <td>0.0</td>\n",
              "      <td>0.013290</td>\n",
              "      <td>0.0</td>\n",
              "      <td>0.0</td>\n",
              "      <td>0.013314</td>\n",
              "      <td>0.024549</td>\n",
              "      <td>0.0</td>\n",
              "      <td>0.024614</td>\n",
              "      <td>0.0</td>\n",
              "      <td>0.0</td>\n",
              "      <td>0.0</td>\n",
              "      <td>0.0</td>\n",
              "      <td>0.0</td>\n",
              "      <td>0.0</td>\n",
              "      <td>0.0</td>\n",
              "      <td>0.0</td>\n",
              "      <td>0.0</td>\n",
              "      <td>0.0</td>\n",
              "      <td>0.0</td>\n",
              "      <td>0.0</td>\n",
              "      <td>0.0</td>\n",
              "      <td>0.0</td>\n",
              "      <td>0.0</td>\n",
              "      <td>0.0</td>\n",
              "      <td>0.0</td>\n",
              "      <td>0.0</td>\n",
              "      <td>0.0</td>\n",
              "      <td>0.0</td>\n",
              "      <td>0.0</td>\n",
              "      <td>0.0</td>\n",
              "      <td>0.0</td>\n",
              "      <td>0.0</td>\n",
              "      <td>0.0</td>\n",
              "      <td>0.0</td>\n",
              "      <td>0.0</td>\n",
              "    </tr>\n",
              "  </tbody>\n",
              "</table>\n",
              "<p>5 rows × 3398 columns</p>\n",
              "</div>"
            ],
            "text/plain": [
              "       0     1     2     3     4     5     ...  3392  3393  3394  3395  3396  3397\n",
              "0  0.126480   0.0   0.0   0.0   0.0   0.0  ...   0.0   0.0   0.0   0.0   0.0   0.0\n",
              "1  0.095712   0.0   0.0   0.0   0.0   0.0  ...   0.0   0.0   0.0   0.0   0.0   0.0\n",
              "2  0.088707   0.0   0.0   0.0   0.0   0.0  ...   0.0   0.0   0.0   0.0   0.0   0.0\n",
              "3  0.100503   0.0   0.0   0.0   0.0   0.0  ...   0.0   0.0   0.0   0.0   0.0   0.0\n",
              "4  0.081580   0.0   0.0   0.0   0.0   0.0  ...   0.0   0.0   0.0   0.0   0.0   0.0\n",
              "\n",
              "[5 rows x 3398 columns]"
            ]
          },
          "metadata": {
            "tags": []
          },
          "execution_count": 19
        }
      ]
    },
    {
      "cell_type": "markdown",
      "metadata": {
        "id": "oLSd6v_EdiMm",
        "colab_type": "text"
      },
      "source": [
        "# 4-ML models"
      ]
    },
    {
      "cell_type": "code",
      "metadata": {
        "id": "pzAQZV8IdiMn",
        "colab_type": "code",
        "colab": {}
      },
      "source": [
        "from sklearn.linear_model import LogisticRegression\n",
        "from sklearn.ensemble import RandomForestClassifier\n",
        "from sklearn.svm import LinearSVC\n",
        "from sklearn.model_selection import cross_val_score\n",
        "\n",
        "\n",
        "models = [\n",
        "    RandomForestClassifier(random_state=0),\n",
        "    LinearSVC(),\n",
        "    MultinomialNB(),\n",
        "    LogisticRegression(random_state=0)\n",
        "   \n",
        "]\n",
        "CV = 5\n",
        "cv_df = pd.DataFrame(index=range(CV * len(models)))\n",
        "entries = []\n",
        "for model in models:\n",
        "    model_name = model.__class__.__name__\n",
        "    accuracies = cross_val_score(model, train_tfidf, labels, scoring='accuracy', cv=CV)\n",
        "    for fold_idx, accuracy in enumerate(accuracies):\n",
        "        entries.append((model_name, fold_idx, accuracy))\n",
        "cv_df = pd.DataFrame(entries, columns=['model_name', 'fold_idx', 'accuracy'])"
      ],
      "execution_count": 20,
      "outputs": []
    },
    {
      "cell_type": "code",
      "metadata": {
        "id": "wF4yDx3HdiMp",
        "colab_type": "code",
        "colab": {
          "base_uri": "https://localhost:8080/",
          "height": 639
        },
        "outputId": "5273deaa-9d7b-4bbf-bd76-bc8b773a2593"
      },
      "source": [
        "cv_df"
      ],
      "execution_count": 21,
      "outputs": [
        {
          "output_type": "execute_result",
          "data": {
            "text/html": [
              "<div>\n",
              "<style scoped>\n",
              "    .dataframe tbody tr th:only-of-type {\n",
              "        vertical-align: middle;\n",
              "    }\n",
              "\n",
              "    .dataframe tbody tr th {\n",
              "        vertical-align: top;\n",
              "    }\n",
              "\n",
              "    .dataframe thead th {\n",
              "        text-align: right;\n",
              "    }\n",
              "</style>\n",
              "<table border=\"1\" class=\"dataframe\">\n",
              "  <thead>\n",
              "    <tr style=\"text-align: right;\">\n",
              "      <th></th>\n",
              "      <th>model_name</th>\n",
              "      <th>fold_idx</th>\n",
              "      <th>accuracy</th>\n",
              "    </tr>\n",
              "  </thead>\n",
              "  <tbody>\n",
              "    <tr>\n",
              "      <th>0</th>\n",
              "      <td>RandomForestClassifier</td>\n",
              "      <td>0</td>\n",
              "      <td>0.629863</td>\n",
              "    </tr>\n",
              "    <tr>\n",
              "      <th>1</th>\n",
              "      <td>RandomForestClassifier</td>\n",
              "      <td>1</td>\n",
              "      <td>0.618638</td>\n",
              "    </tr>\n",
              "    <tr>\n",
              "      <th>2</th>\n",
              "      <td>RandomForestClassifier</td>\n",
              "      <td>2</td>\n",
              "      <td>0.624327</td>\n",
              "    </tr>\n",
              "    <tr>\n",
              "      <th>3</th>\n",
              "      <td>RandomForestClassifier</td>\n",
              "      <td>3</td>\n",
              "      <td>0.623193</td>\n",
              "    </tr>\n",
              "    <tr>\n",
              "      <th>4</th>\n",
              "      <td>RandomForestClassifier</td>\n",
              "      <td>4</td>\n",
              "      <td>0.620886</td>\n",
              "    </tr>\n",
              "    <tr>\n",
              "      <th>5</th>\n",
              "      <td>LinearSVC</td>\n",
              "      <td>0</td>\n",
              "      <td>0.764570</td>\n",
              "    </tr>\n",
              "    <tr>\n",
              "      <th>6</th>\n",
              "      <td>LinearSVC</td>\n",
              "      <td>1</td>\n",
              "      <td>0.749808</td>\n",
              "    </tr>\n",
              "    <tr>\n",
              "      <th>7</th>\n",
              "      <td>LinearSVC</td>\n",
              "      <td>2</td>\n",
              "      <td>0.752883</td>\n",
              "    </tr>\n",
              "    <tr>\n",
              "      <th>8</th>\n",
              "      <td>LinearSVC</td>\n",
              "      <td>3</td>\n",
              "      <td>0.754229</td>\n",
              "    </tr>\n",
              "    <tr>\n",
              "      <th>9</th>\n",
              "      <td>LinearSVC</td>\n",
              "      <td>4</td>\n",
              "      <td>0.748078</td>\n",
              "    </tr>\n",
              "    <tr>\n",
              "      <th>10</th>\n",
              "      <td>MultinomialNB</td>\n",
              "      <td>0</td>\n",
              "      <td>0.422113</td>\n",
              "    </tr>\n",
              "    <tr>\n",
              "      <th>11</th>\n",
              "      <td>MultinomialNB</td>\n",
              "      <td>1</td>\n",
              "      <td>0.425188</td>\n",
              "    </tr>\n",
              "    <tr>\n",
              "      <th>12</th>\n",
              "      <td>MultinomialNB</td>\n",
              "      <td>2</td>\n",
              "      <td>0.428725</td>\n",
              "    </tr>\n",
              "    <tr>\n",
              "      <th>13</th>\n",
              "      <td>MultinomialNB</td>\n",
              "      <td>3</td>\n",
              "      <td>0.425408</td>\n",
              "    </tr>\n",
              "    <tr>\n",
              "      <th>14</th>\n",
              "      <td>MultinomialNB</td>\n",
              "      <td>4</td>\n",
              "      <td>0.420794</td>\n",
              "    </tr>\n",
              "    <tr>\n",
              "      <th>15</th>\n",
              "      <td>LogisticRegression</td>\n",
              "      <td>0</td>\n",
              "      <td>0.667692</td>\n",
              "    </tr>\n",
              "    <tr>\n",
              "      <th>16</th>\n",
              "      <td>LogisticRegression</td>\n",
              "      <td>1</td>\n",
              "      <td>0.661233</td>\n",
              "    </tr>\n",
              "    <tr>\n",
              "      <th>17</th>\n",
              "      <td>LogisticRegression</td>\n",
              "      <td>2</td>\n",
              "      <td>0.662617</td>\n",
              "    </tr>\n",
              "    <tr>\n",
              "      <th>18</th>\n",
              "      <td>LogisticRegression</td>\n",
              "      <td>3</td>\n",
              "      <td>0.661181</td>\n",
              "    </tr>\n",
              "    <tr>\n",
              "      <th>19</th>\n",
              "      <td>LogisticRegression</td>\n",
              "      <td>4</td>\n",
              "      <td>0.654722</td>\n",
              "    </tr>\n",
              "  </tbody>\n",
              "</table>\n",
              "</div>"
            ],
            "text/plain": [
              "                model_name  fold_idx  accuracy\n",
              "0   RandomForestClassifier         0  0.629863\n",
              "1   RandomForestClassifier         1  0.618638\n",
              "2   RandomForestClassifier         2  0.624327\n",
              "3   RandomForestClassifier         3  0.623193\n",
              "4   RandomForestClassifier         4  0.620886\n",
              "5                LinearSVC         0  0.764570\n",
              "6                LinearSVC         1  0.749808\n",
              "7                LinearSVC         2  0.752883\n",
              "8                LinearSVC         3  0.754229\n",
              "9                LinearSVC         4  0.748078\n",
              "10           MultinomialNB         0  0.422113\n",
              "11           MultinomialNB         1  0.425188\n",
              "12           MultinomialNB         2  0.428725\n",
              "13           MultinomialNB         3  0.425408\n",
              "14           MultinomialNB         4  0.420794\n",
              "15      LogisticRegression         0  0.667692\n",
              "16      LogisticRegression         1  0.661233\n",
              "17      LogisticRegression         2  0.662617\n",
              "18      LogisticRegression         3  0.661181\n",
              "19      LogisticRegression         4  0.654722"
            ]
          },
          "metadata": {
            "tags": []
          },
          "execution_count": 21
        }
      ]
    },
    {
      "cell_type": "code",
      "metadata": {
        "id": "Ok8msD5LdiMr",
        "colab_type": "code",
        "colab": {
          "base_uri": "https://localhost:8080/",
          "height": 118
        },
        "outputId": "c0adb501-534b-43ab-c056-85ce43a615ae"
      },
      "source": [
        "cv_df.groupby('model_name').accuracy.mean()"
      ],
      "execution_count": 22,
      "outputs": [
        {
          "output_type": "execute_result",
          "data": {
            "text/plain": [
              "model_name\n",
              "LinearSVC                 0.753914\n",
              "LogisticRegression        0.661489\n",
              "MultinomialNB             0.424446\n",
              "RandomForestClassifier    0.623381\n",
              "Name: accuracy, dtype: float64"
            ]
          },
          "metadata": {
            "tags": []
          },
          "execution_count": 22
        }
      ]
    },
    {
      "cell_type": "markdown",
      "metadata": {
        "id": "9uFb_WsidiMt",
        "colab_type": "text"
      },
      "source": [
        "# 5-Evaluate model\n",
        "\n",
        "SVC is best performing model so we shall use it"
      ]
    },
    {
      "cell_type": "code",
      "metadata": {
        "id": "_g1oJJONdiMt",
        "colab_type": "code",
        "colab": {}
      },
      "source": [
        "X_train, X_val, y_train, y_val, indices_train, indices_val = train_test_split(train_tfidf, labels, x_train.index, test_size=0.20, random_state=0)"
      ],
      "execution_count": 23,
      "outputs": []
    },
    {
      "cell_type": "code",
      "metadata": {
        "id": "f7jMQ-eY358_",
        "colab_type": "code",
        "colab": {}
      },
      "source": [
        "clf = LinearSVC()\n",
        "clf.fit(X_train, y_train)\n",
        "predictions = clf._predict_proba_lr(X_val)"
      ],
      "execution_count": 33,
      "outputs": []
    },
    {
      "cell_type": "code",
      "metadata": {
        "id": "kaVY0RUyFi0v",
        "colab_type": "code",
        "colab": {
          "base_uri": "https://localhost:8080/",
          "height": 50
        },
        "outputId": "5c44faf6-484f-4863-8a05-fd878cc01b36"
      },
      "source": [
        "print(\"Probability Distribution for 1st sample:\",predictions[0])"
      ],
      "execution_count": 38,
      "outputs": [
        {
          "output_type": "stream",
          "text": [
            "Probability Distribution for 1st sample: [0.07345096 0.10450502 0.1150086  0.11768486 0.06947169 0.09195272\n",
            " 0.05873446 0.08282828 0.06395387 0.06717633 0.0786052  0.07662801]\n"
          ],
          "name": "stdout"
        }
      ]
    },
    {
      "cell_type": "code",
      "metadata": {
        "id": "74BtcxN236EV",
        "colab_type": "code",
        "colab": {
          "base_uri": "https://localhost:8080/",
          "height": 34
        },
        "outputId": "a33ee888-b173-4664-bd03-491c4e862392"
      },
      "source": [
        "print(\"logloss: %0.3f \" % metrics.log_loss(np.asarray(y_val), predictions))\n"
      ],
      "execution_count": 26,
      "outputs": [
        {
          "output_type": "stream",
          "text": [
            "logloss: 1.803 \n"
          ],
          "name": "stdout"
        }
      ]
    },
    {
      "cell_type": "code",
      "metadata": {
        "id": "O9I9TaopE0S_",
        "colab_type": "code",
        "colab": {
          "base_uri": "https://localhost:8080/",
          "height": 34
        },
        "outputId": "73dabec0-065d-4d63-984c-de64b6293ec2"
      },
      "source": [
        "# predict class type\n",
        "y_pred = clf.predict(X_val)\n",
        "y_pred[:5]"
      ],
      "execution_count": 28,
      "outputs": [
        {
          "output_type": "execute_result",
          "data": {
            "text/plain": [
              "array(['11', '7', '1', '3', '5'], dtype=object)"
            ]
          },
          "metadata": {
            "tags": []
          },
          "execution_count": 28
        }
      ]
    },
    {
      "cell_type": "code",
      "metadata": {
        "id": "QqvWeoJ_35v1",
        "colab_type": "code",
        "colab": {
          "base_uri": "https://localhost:8080/",
          "height": 34
        },
        "outputId": "7b3c4a1f-e5cc-44a1-cae8-6cb1baee35e7"
      },
      "source": [
        "# prediction values for class type\n",
        "accuracy_value_class=predictions.max(axis=1)\n",
        "accuracy_value_class[:5]"
      ],
      "execution_count": 30,
      "outputs": [
        {
          "output_type": "execute_result",
          "data": {
            "text/plain": [
              "array([0.11768487, 0.17435597, 0.160474  , 0.16421679, 0.27930072])"
            ]
          },
          "metadata": {
            "tags": []
          },
          "execution_count": 30
        }
      ]
    },
    {
      "cell_type": "code",
      "metadata": {
        "id": "5UqVfaik35s_",
        "colab_type": "code",
        "colab": {
          "base_uri": "https://localhost:8080/",
          "height": 34
        },
        "outputId": "047343f2-8acd-44bc-ca3f-f1aa1e20a09e"
      },
      "source": [
        "from sklearn.metrics import accuracy_score\n",
        "print(accuracy_score(y_val, y_pred))"
      ],
      "execution_count": 31,
      "outputs": [
        {
          "output_type": "stream",
          "text": [
            "0.7571889896970629\n"
          ],
          "name": "stdout"
        }
      ]
    },
    {
      "cell_type": "code",
      "metadata": {
        "id": "vstbufVfdiM_",
        "colab_type": "code",
        "colab": {}
      },
      "source": [
        "#Function for category id\n",
        "data_ytrain['category_id'] = data_ytrain['label'].factorize()[0]\n",
        "category_id_df = data_ytrain[['label', 'category_id']].drop_duplicates().sort_values('category_id')\n",
        "category_to_id = dict(category_id_df.values)\n",
        "id_to_category = dict(category_id_df[['category_id', 'label']].values)"
      ],
      "execution_count": 39,
      "outputs": []
    },
    {
      "cell_type": "code",
      "metadata": {
        "id": "ZrANETcbdiNB",
        "colab_type": "code",
        "colab": {
          "base_uri": "https://localhost:8080/",
          "height": 813
        },
        "outputId": "ca4176d3-e395-4feb-b401-421d65ac7db9"
      },
      "source": [
        "from sklearn.metrics import confusion_matrix\n",
        "conf_mat = confusion_matrix(y_val, y_pred)\n",
        "fig, ax = plt.subplots(figsize=(10,10))\n",
        "sns.heatmap(conf_mat, annot=True, fmt='d',\n",
        "            xticklabels=category_id_df.label.values, yticklabels=category_id_df.label.values)\n",
        "plt.ylabel('Actual')\n",
        "plt.xlabel('Predicted')\n",
        "plt.show()"
      ],
      "execution_count": 40,
      "outputs": [
        {
          "output_type": "display_data",
          "data": {
            "text/plain": [
              "<Figure size 720x720 with 2 Axes>"
            ],
            "image/svg+xml": "<?xml version=\"1.0\" encoding=\"utf-8\" standalone=\"no\"?>\n<!DOCTYPE svg PUBLIC \"-//W3C//DTD SVG 1.1//EN\"\n  \"http://www.w3.org/Graphics/SVG/1.1/DTD/svg11.dtd\">\n<!-- Created with matplotlib (https://matplotlib.org/) -->\n<svg height=\"593.759688pt\" version=\"1.1\" viewBox=\"0 0 582.135938 593.759688\" width=\"582.135938pt\" xmlns=\"http://www.w3.org/2000/svg\" xmlns:xlink=\"http://www.w3.org/1999/xlink\">\n <defs>\n  <style type=\"text/css\">\n*{stroke-linecap:butt;stroke-linejoin:round;}\n  </style>\n </defs>\n <g id=\"figure_1\">\n  <g id=\"patch_1\">\n   <path d=\"M 0 593.759688 \nL 582.135938 593.759688 \nL 582.135938 0 \nL 0 0 \nz\n\" style=\"fill:none;\"/>\n  </g>\n  <g id=\"axes_1\">\n   <g id=\"patch_2\">\n    <path d=\"M 42.959688 550.8 \nL 489.359688 550.8 \nL 489.359688 7.2 \nL 42.959688 7.2 \nz\n\" style=\"fill:#eaeaf2;\"/>\n   </g>\n   <g id=\"matplotlib.axis_1\">\n    <g id=\"xtick_1\">\n     <g id=\"text_1\">\n      <!-- 7 -->\n      <defs>\n       <path d=\"M 8.203125 72.90625 \nL 55.078125 72.90625 \nL 55.078125 68.703125 \nL 28.609375 0 \nL 18.3125 0 \nL 43.21875 64.59375 \nL 8.203125 64.59375 \nz\n\" id=\"DejaVuSans-55\"/>\n      </defs>\n      <g style=\"fill:#262626;\" transform=\"translate(58.060313 568.658281)scale(0.11 -0.11)\">\n       <use xlink:href=\"#DejaVuSans-55\"/>\n      </g>\n     </g>\n    </g>\n    <g id=\"xtick_2\">\n     <g id=\"text_2\">\n      <!-- 3 -->\n      <defs>\n       <path d=\"M 40.578125 39.3125 \nQ 47.65625 37.796875 51.625 33 \nQ 55.609375 28.21875 55.609375 21.1875 \nQ 55.609375 10.40625 48.1875 4.484375 \nQ 40.765625 -1.421875 27.09375 -1.421875 \nQ 22.515625 -1.421875 17.65625 -0.515625 \nQ 12.796875 0.390625 7.625 2.203125 \nL 7.625 11.71875 \nQ 11.71875 9.328125 16.59375 8.109375 \nQ 21.484375 6.890625 26.8125 6.890625 \nQ 36.078125 6.890625 40.9375 10.546875 \nQ 45.796875 14.203125 45.796875 21.1875 \nQ 45.796875 27.640625 41.28125 31.265625 \nQ 36.765625 34.90625 28.71875 34.90625 \nL 20.21875 34.90625 \nL 20.21875 43.015625 \nL 29.109375 43.015625 \nQ 36.375 43.015625 40.234375 45.921875 \nQ 44.09375 48.828125 44.09375 54.296875 \nQ 44.09375 59.90625 40.109375 62.90625 \nQ 36.140625 65.921875 28.71875 65.921875 \nQ 24.65625 65.921875 20.015625 65.03125 \nQ 15.375 64.15625 9.8125 62.3125 \nL 9.8125 71.09375 \nQ 15.4375 72.65625 20.34375 73.4375 \nQ 25.25 74.21875 29.59375 74.21875 \nQ 40.828125 74.21875 47.359375 69.109375 \nQ 53.90625 64.015625 53.90625 55.328125 \nQ 53.90625 49.265625 50.4375 45.09375 \nQ 46.96875 40.921875 40.578125 39.3125 \nz\n\" id=\"DejaVuSans-51\"/>\n      </defs>\n      <g style=\"fill:#262626;\" transform=\"translate(95.260313 568.658281)scale(0.11 -0.11)\">\n       <use xlink:href=\"#DejaVuSans-51\"/>\n      </g>\n     </g>\n    </g>\n    <g id=\"xtick_3\">\n     <g id=\"text_3\">\n      <!-- 8 -->\n      <defs>\n       <path d=\"M 31.78125 34.625 \nQ 24.75 34.625 20.71875 30.859375 \nQ 16.703125 27.09375 16.703125 20.515625 \nQ 16.703125 13.921875 20.71875 10.15625 \nQ 24.75 6.390625 31.78125 6.390625 \nQ 38.8125 6.390625 42.859375 10.171875 \nQ 46.921875 13.96875 46.921875 20.515625 \nQ 46.921875 27.09375 42.890625 30.859375 \nQ 38.875 34.625 31.78125 34.625 \nz\nM 21.921875 38.8125 \nQ 15.578125 40.375 12.03125 44.71875 \nQ 8.5 49.078125 8.5 55.328125 \nQ 8.5 64.0625 14.71875 69.140625 \nQ 20.953125 74.21875 31.78125 74.21875 \nQ 42.671875 74.21875 48.875 69.140625 \nQ 55.078125 64.0625 55.078125 55.328125 \nQ 55.078125 49.078125 51.53125 44.71875 \nQ 48 40.375 41.703125 38.8125 \nQ 48.828125 37.15625 52.796875 32.3125 \nQ 56.78125 27.484375 56.78125 20.515625 \nQ 56.78125 9.90625 50.3125 4.234375 \nQ 43.84375 -1.421875 31.78125 -1.421875 \nQ 19.734375 -1.421875 13.25 4.234375 \nQ 6.78125 9.90625 6.78125 20.515625 \nQ 6.78125 27.484375 10.78125 32.3125 \nQ 14.796875 37.15625 21.921875 38.8125 \nz\nM 18.3125 54.390625 \nQ 18.3125 48.734375 21.84375 45.5625 \nQ 25.390625 42.390625 31.78125 42.390625 \nQ 38.140625 42.390625 41.71875 45.5625 \nQ 45.3125 48.734375 45.3125 54.390625 \nQ 45.3125 60.0625 41.71875 63.234375 \nQ 38.140625 66.40625 31.78125 66.40625 \nQ 25.390625 66.40625 21.84375 63.234375 \nQ 18.3125 60.0625 18.3125 54.390625 \nz\n\" id=\"DejaVuSans-56\"/>\n      </defs>\n      <g style=\"fill:#262626;\" transform=\"translate(132.460313 568.658281)scale(0.11 -0.11)\">\n       <use xlink:href=\"#DejaVuSans-56\"/>\n      </g>\n     </g>\n    </g>\n    <g id=\"xtick_4\">\n     <g id=\"text_4\">\n      <!-- 4 -->\n      <defs>\n       <path d=\"M 37.796875 64.3125 \nL 12.890625 25.390625 \nL 37.796875 25.390625 \nz\nM 35.203125 72.90625 \nL 47.609375 72.90625 \nL 47.609375 25.390625 \nL 58.015625 25.390625 \nL 58.015625 17.1875 \nL 47.609375 17.1875 \nL 47.609375 0 \nL 37.796875 0 \nL 37.796875 17.1875 \nL 4.890625 17.1875 \nL 4.890625 26.703125 \nz\n\" id=\"DejaVuSans-52\"/>\n      </defs>\n      <g style=\"fill:#262626;\" transform=\"translate(169.660313 568.658281)scale(0.11 -0.11)\">\n       <use xlink:href=\"#DejaVuSans-52\"/>\n      </g>\n     </g>\n    </g>\n    <g id=\"xtick_5\">\n     <g id=\"text_5\">\n      <!-- 1 -->\n      <defs>\n       <path d=\"M 12.40625 8.296875 \nL 28.515625 8.296875 \nL 28.515625 63.921875 \nL 10.984375 60.40625 \nL 10.984375 69.390625 \nL 28.421875 72.90625 \nL 38.28125 72.90625 \nL 38.28125 8.296875 \nL 54.390625 8.296875 \nL 54.390625 0 \nL 12.40625 0 \nz\n\" id=\"DejaVuSans-49\"/>\n      </defs>\n      <g style=\"fill:#262626;\" transform=\"translate(206.860313 568.658281)scale(0.11 -0.11)\">\n       <use xlink:href=\"#DejaVuSans-49\"/>\n      </g>\n     </g>\n    </g>\n    <g id=\"xtick_6\">\n     <g id=\"text_6\">\n      <!-- 11 -->\n      <g style=\"fill:#262626;\" transform=\"translate(240.560938 568.658281)scale(0.11 -0.11)\">\n       <use xlink:href=\"#DejaVuSans-49\"/>\n       <use x=\"63.623047\" xlink:href=\"#DejaVuSans-49\"/>\n      </g>\n     </g>\n    </g>\n    <g id=\"xtick_7\">\n     <g id=\"text_7\">\n      <!-- 10 -->\n      <defs>\n       <path d=\"M 31.78125 66.40625 \nQ 24.171875 66.40625 20.328125 58.90625 \nQ 16.5 51.421875 16.5 36.375 \nQ 16.5 21.390625 20.328125 13.890625 \nQ 24.171875 6.390625 31.78125 6.390625 \nQ 39.453125 6.390625 43.28125 13.890625 \nQ 47.125 21.390625 47.125 36.375 \nQ 47.125 51.421875 43.28125 58.90625 \nQ 39.453125 66.40625 31.78125 66.40625 \nz\nM 31.78125 74.21875 \nQ 44.046875 74.21875 50.515625 64.515625 \nQ 56.984375 54.828125 56.984375 36.375 \nQ 56.984375 17.96875 50.515625 8.265625 \nQ 44.046875 -1.421875 31.78125 -1.421875 \nQ 19.53125 -1.421875 13.0625 8.265625 \nQ 6.59375 17.96875 6.59375 36.375 \nQ 6.59375 54.828125 13.0625 64.515625 \nQ 19.53125 74.21875 31.78125 74.21875 \nz\n\" id=\"DejaVuSans-48\"/>\n      </defs>\n      <g style=\"fill:#262626;\" transform=\"translate(277.760938 568.658281)scale(0.11 -0.11)\">\n       <use xlink:href=\"#DejaVuSans-49\"/>\n       <use x=\"63.623047\" xlink:href=\"#DejaVuSans-48\"/>\n      </g>\n     </g>\n    </g>\n    <g id=\"xtick_8\">\n     <g id=\"text_8\">\n      <!-- 9 -->\n      <defs>\n       <path d=\"M 10.984375 1.515625 \nL 10.984375 10.5 \nQ 14.703125 8.734375 18.5 7.8125 \nQ 22.3125 6.890625 25.984375 6.890625 \nQ 35.75 6.890625 40.890625 13.453125 \nQ 46.046875 20.015625 46.78125 33.40625 \nQ 43.953125 29.203125 39.59375 26.953125 \nQ 35.25 24.703125 29.984375 24.703125 \nQ 19.046875 24.703125 12.671875 31.3125 \nQ 6.296875 37.9375 6.296875 49.421875 \nQ 6.296875 60.640625 12.9375 67.421875 \nQ 19.578125 74.21875 30.609375 74.21875 \nQ 43.265625 74.21875 49.921875 64.515625 \nQ 56.59375 54.828125 56.59375 36.375 \nQ 56.59375 19.140625 48.40625 8.859375 \nQ 40.234375 -1.421875 26.421875 -1.421875 \nQ 22.703125 -1.421875 18.890625 -0.6875 \nQ 15.09375 0.046875 10.984375 1.515625 \nz\nM 30.609375 32.421875 \nQ 37.25 32.421875 41.125 36.953125 \nQ 45.015625 41.5 45.015625 49.421875 \nQ 45.015625 57.28125 41.125 61.84375 \nQ 37.25 66.40625 30.609375 66.40625 \nQ 23.96875 66.40625 20.09375 61.84375 \nQ 16.21875 57.28125 16.21875 49.421875 \nQ 16.21875 41.5 20.09375 36.953125 \nQ 23.96875 32.421875 30.609375 32.421875 \nz\n\" id=\"DejaVuSans-57\"/>\n      </defs>\n      <g style=\"fill:#262626;\" transform=\"translate(318.460312 568.658281)scale(0.11 -0.11)\">\n       <use xlink:href=\"#DejaVuSans-57\"/>\n      </g>\n     </g>\n    </g>\n    <g id=\"xtick_9\">\n     <g id=\"text_9\">\n      <!-- 6 -->\n      <defs>\n       <path d=\"M 33.015625 40.375 \nQ 26.375 40.375 22.484375 35.828125 \nQ 18.609375 31.296875 18.609375 23.390625 \nQ 18.609375 15.53125 22.484375 10.953125 \nQ 26.375 6.390625 33.015625 6.390625 \nQ 39.65625 6.390625 43.53125 10.953125 \nQ 47.40625 15.53125 47.40625 23.390625 \nQ 47.40625 31.296875 43.53125 35.828125 \nQ 39.65625 40.375 33.015625 40.375 \nz\nM 52.59375 71.296875 \nL 52.59375 62.3125 \nQ 48.875 64.0625 45.09375 64.984375 \nQ 41.3125 65.921875 37.59375 65.921875 \nQ 27.828125 65.921875 22.671875 59.328125 \nQ 17.53125 52.734375 16.796875 39.40625 \nQ 19.671875 43.65625 24.015625 45.921875 \nQ 28.375 48.1875 33.59375 48.1875 \nQ 44.578125 48.1875 50.953125 41.515625 \nQ 57.328125 34.859375 57.328125 23.390625 \nQ 57.328125 12.15625 50.6875 5.359375 \nQ 44.046875 -1.421875 33.015625 -1.421875 \nQ 20.359375 -1.421875 13.671875 8.265625 \nQ 6.984375 17.96875 6.984375 36.375 \nQ 6.984375 53.65625 15.1875 63.9375 \nQ 23.390625 74.21875 37.203125 74.21875 \nQ 40.921875 74.21875 44.703125 73.484375 \nQ 48.484375 72.75 52.59375 71.296875 \nz\n\" id=\"DejaVuSans-54\"/>\n      </defs>\n      <g style=\"fill:#262626;\" transform=\"translate(355.660313 568.658281)scale(0.11 -0.11)\">\n       <use xlink:href=\"#DejaVuSans-54\"/>\n      </g>\n     </g>\n    </g>\n    <g id=\"xtick_10\">\n     <g id=\"text_10\">\n      <!-- 2 -->\n      <defs>\n       <path d=\"M 19.1875 8.296875 \nL 53.609375 8.296875 \nL 53.609375 0 \nL 7.328125 0 \nL 7.328125 8.296875 \nQ 12.9375 14.109375 22.625 23.890625 \nQ 32.328125 33.6875 34.8125 36.53125 \nQ 39.546875 41.84375 41.421875 45.53125 \nQ 43.3125 49.21875 43.3125 52.78125 \nQ 43.3125 58.59375 39.234375 62.25 \nQ 35.15625 65.921875 28.609375 65.921875 \nQ 23.96875 65.921875 18.8125 64.3125 \nQ 13.671875 62.703125 7.8125 59.421875 \nL 7.8125 69.390625 \nQ 13.765625 71.78125 18.9375 73 \nQ 24.125 74.21875 28.421875 74.21875 \nQ 39.75 74.21875 46.484375 68.546875 \nQ 53.21875 62.890625 53.21875 53.421875 \nQ 53.21875 48.921875 51.53125 44.890625 \nQ 49.859375 40.875 45.40625 35.40625 \nQ 44.1875 33.984375 37.640625 27.21875 \nQ 31.109375 20.453125 19.1875 8.296875 \nz\n\" id=\"DejaVuSans-50\"/>\n      </defs>\n      <g style=\"fill:#262626;\" transform=\"translate(392.860313 568.658281)scale(0.11 -0.11)\">\n       <use xlink:href=\"#DejaVuSans-50\"/>\n      </g>\n     </g>\n    </g>\n    <g id=\"xtick_11\">\n     <g id=\"text_11\">\n      <!-- 5 -->\n      <defs>\n       <path d=\"M 10.796875 72.90625 \nL 49.515625 72.90625 \nL 49.515625 64.59375 \nL 19.828125 64.59375 \nL 19.828125 46.734375 \nQ 21.96875 47.46875 24.109375 47.828125 \nQ 26.265625 48.1875 28.421875 48.1875 \nQ 40.625 48.1875 47.75 41.5 \nQ 54.890625 34.8125 54.890625 23.390625 \nQ 54.890625 11.625 47.5625 5.09375 \nQ 40.234375 -1.421875 26.90625 -1.421875 \nQ 22.3125 -1.421875 17.546875 -0.640625 \nQ 12.796875 0.140625 7.71875 1.703125 \nL 7.71875 11.625 \nQ 12.109375 9.234375 16.796875 8.0625 \nQ 21.484375 6.890625 26.703125 6.890625 \nQ 35.15625 6.890625 40.078125 11.328125 \nQ 45.015625 15.765625 45.015625 23.390625 \nQ 45.015625 31 40.078125 35.4375 \nQ 35.15625 39.890625 26.703125 39.890625 \nQ 22.75 39.890625 18.8125 39.015625 \nQ 14.890625 38.140625 10.796875 36.28125 \nz\n\" id=\"DejaVuSans-53\"/>\n      </defs>\n      <g style=\"fill:#262626;\" transform=\"translate(430.060313 568.658281)scale(0.11 -0.11)\">\n       <use xlink:href=\"#DejaVuSans-53\"/>\n      </g>\n     </g>\n    </g>\n    <g id=\"xtick_12\">\n     <g id=\"text_12\">\n      <!-- 0 -->\n      <g style=\"fill:#262626;\" transform=\"translate(467.260313 568.658281)scale(0.11 -0.11)\">\n       <use xlink:href=\"#DejaVuSans-48\"/>\n      </g>\n     </g>\n    </g>\n    <g id=\"text_13\">\n     <!-- Predicted -->\n     <defs>\n      <path d=\"M 19.671875 64.796875 \nL 19.671875 37.40625 \nL 32.078125 37.40625 \nQ 38.96875 37.40625 42.71875 40.96875 \nQ 46.484375 44.53125 46.484375 51.125 \nQ 46.484375 57.671875 42.71875 61.234375 \nQ 38.96875 64.796875 32.078125 64.796875 \nz\nM 9.8125 72.90625 \nL 32.078125 72.90625 \nQ 44.34375 72.90625 50.609375 67.359375 \nQ 56.890625 61.8125 56.890625 51.125 \nQ 56.890625 40.328125 50.609375 34.8125 \nQ 44.34375 29.296875 32.078125 29.296875 \nL 19.671875 29.296875 \nL 19.671875 0 \nL 9.8125 0 \nz\n\" id=\"DejaVuSans-80\"/>\n      <path d=\"M 41.109375 46.296875 \nQ 39.59375 47.171875 37.8125 47.578125 \nQ 36.03125 48 33.890625 48 \nQ 26.265625 48 22.1875 43.046875 \nQ 18.109375 38.09375 18.109375 28.8125 \nL 18.109375 0 \nL 9.078125 0 \nL 9.078125 54.6875 \nL 18.109375 54.6875 \nL 18.109375 46.1875 \nQ 20.953125 51.171875 25.484375 53.578125 \nQ 30.03125 56 36.53125 56 \nQ 37.453125 56 38.578125 55.875 \nQ 39.703125 55.765625 41.0625 55.515625 \nz\n\" id=\"DejaVuSans-114\"/>\n      <path d=\"M 56.203125 29.59375 \nL 56.203125 25.203125 \nL 14.890625 25.203125 \nQ 15.484375 15.921875 20.484375 11.0625 \nQ 25.484375 6.203125 34.421875 6.203125 \nQ 39.59375 6.203125 44.453125 7.46875 \nQ 49.3125 8.734375 54.109375 11.28125 \nL 54.109375 2.78125 \nQ 49.265625 0.734375 44.1875 -0.34375 \nQ 39.109375 -1.421875 33.890625 -1.421875 \nQ 20.796875 -1.421875 13.15625 6.1875 \nQ 5.515625 13.8125 5.515625 26.8125 \nQ 5.515625 40.234375 12.765625 48.109375 \nQ 20.015625 56 32.328125 56 \nQ 43.359375 56 49.78125 48.890625 \nQ 56.203125 41.796875 56.203125 29.59375 \nz\nM 47.21875 32.234375 \nQ 47.125 39.59375 43.09375 43.984375 \nQ 39.0625 48.390625 32.421875 48.390625 \nQ 24.90625 48.390625 20.390625 44.140625 \nQ 15.875 39.890625 15.1875 32.171875 \nz\n\" id=\"DejaVuSans-101\"/>\n      <path d=\"M 45.40625 46.390625 \nL 45.40625 75.984375 \nL 54.390625 75.984375 \nL 54.390625 0 \nL 45.40625 0 \nL 45.40625 8.203125 \nQ 42.578125 3.328125 38.25 0.953125 \nQ 33.9375 -1.421875 27.875 -1.421875 \nQ 17.96875 -1.421875 11.734375 6.484375 \nQ 5.515625 14.40625 5.515625 27.296875 \nQ 5.515625 40.1875 11.734375 48.09375 \nQ 17.96875 56 27.875 56 \nQ 33.9375 56 38.25 53.625 \nQ 42.578125 51.265625 45.40625 46.390625 \nz\nM 14.796875 27.296875 \nQ 14.796875 17.390625 18.875 11.75 \nQ 22.953125 6.109375 30.078125 6.109375 \nQ 37.203125 6.109375 41.296875 11.75 \nQ 45.40625 17.390625 45.40625 27.296875 \nQ 45.40625 37.203125 41.296875 42.84375 \nQ 37.203125 48.484375 30.078125 48.484375 \nQ 22.953125 48.484375 18.875 42.84375 \nQ 14.796875 37.203125 14.796875 27.296875 \nz\n\" id=\"DejaVuSans-100\"/>\n      <path d=\"M 9.421875 54.6875 \nL 18.40625 54.6875 \nL 18.40625 0 \nL 9.421875 0 \nz\nM 9.421875 75.984375 \nL 18.40625 75.984375 \nL 18.40625 64.59375 \nL 9.421875 64.59375 \nz\n\" id=\"DejaVuSans-105\"/>\n      <path d=\"M 48.78125 52.59375 \nL 48.78125 44.1875 \nQ 44.96875 46.296875 41.140625 47.34375 \nQ 37.3125 48.390625 33.40625 48.390625 \nQ 24.65625 48.390625 19.8125 42.84375 \nQ 14.984375 37.3125 14.984375 27.296875 \nQ 14.984375 17.28125 19.8125 11.734375 \nQ 24.65625 6.203125 33.40625 6.203125 \nQ 37.3125 6.203125 41.140625 7.25 \nQ 44.96875 8.296875 48.78125 10.40625 \nL 48.78125 2.09375 \nQ 45.015625 0.34375 40.984375 -0.53125 \nQ 36.96875 -1.421875 32.421875 -1.421875 \nQ 20.0625 -1.421875 12.78125 6.34375 \nQ 5.515625 14.109375 5.515625 27.296875 \nQ 5.515625 40.671875 12.859375 48.328125 \nQ 20.21875 56 33.015625 56 \nQ 37.15625 56 41.109375 55.140625 \nQ 45.0625 54.296875 48.78125 52.59375 \nz\n\" id=\"DejaVuSans-99\"/>\n      <path d=\"M 18.3125 70.21875 \nL 18.3125 54.6875 \nL 36.8125 54.6875 \nL 36.8125 47.703125 \nL 18.3125 47.703125 \nL 18.3125 18.015625 \nQ 18.3125 11.328125 20.140625 9.421875 \nQ 21.96875 7.515625 27.59375 7.515625 \nL 36.8125 7.515625 \nL 36.8125 0 \nL 27.59375 0 \nQ 17.1875 0 13.234375 3.875 \nQ 9.28125 7.765625 9.28125 18.015625 \nL 9.28125 47.703125 \nL 2.6875 47.703125 \nL 2.6875 54.6875 \nL 9.28125 54.6875 \nL 9.28125 70.21875 \nz\n\" id=\"DejaVuSans-116\"/>\n     </defs>\n     <g style=\"fill:#262626;\" transform=\"translate(237.995313 584.064063)scale(0.12 -0.12)\">\n      <use xlink:href=\"#DejaVuSans-80\"/>\n      <use x=\"58.552734\" xlink:href=\"#DejaVuSans-114\"/>\n      <use x=\"97.416016\" xlink:href=\"#DejaVuSans-101\"/>\n      <use x=\"158.939453\" xlink:href=\"#DejaVuSans-100\"/>\n      <use x=\"222.416016\" xlink:href=\"#DejaVuSans-105\"/>\n      <use x=\"250.199219\" xlink:href=\"#DejaVuSans-99\"/>\n      <use x=\"305.179688\" xlink:href=\"#DejaVuSans-116\"/>\n      <use x=\"344.388672\" xlink:href=\"#DejaVuSans-101\"/>\n      <use x=\"405.912109\" xlink:href=\"#DejaVuSans-100\"/>\n     </g>\n    </g>\n   </g>\n   <g id=\"matplotlib.axis_2\">\n    <g id=\"ytick_1\">\n     <g id=\"text_14\">\n      <!-- 7 -->\n      <g style=\"fill:#262626;\" transform=\"translate(31.172031 32.669609)rotate(-90)scale(0.11 -0.11)\">\n       <use xlink:href=\"#DejaVuSans-55\"/>\n      </g>\n     </g>\n    </g>\n    <g id=\"ytick_2\">\n     <g id=\"text_15\">\n      <!-- 3 -->\n      <g style=\"fill:#262626;\" transform=\"translate(31.172031 77.969609)rotate(-90)scale(0.11 -0.11)\">\n       <use xlink:href=\"#DejaVuSans-51\"/>\n      </g>\n     </g>\n    </g>\n    <g id=\"ytick_3\">\n     <g id=\"text_16\">\n      <!-- 8 -->\n      <g style=\"fill:#262626;\" transform=\"translate(31.172031 123.269609)rotate(-90)scale(0.11 -0.11)\">\n       <use xlink:href=\"#DejaVuSans-56\"/>\n      </g>\n     </g>\n    </g>\n    <g id=\"ytick_4\">\n     <g id=\"text_17\">\n      <!-- 4 -->\n      <g style=\"fill:#262626;\" transform=\"translate(31.172031 168.569609)rotate(-90)scale(0.11 -0.11)\">\n       <use xlink:href=\"#DejaVuSans-52\"/>\n      </g>\n     </g>\n    </g>\n    <g id=\"ytick_5\">\n     <g id=\"text_18\">\n      <!-- 1 -->\n      <g style=\"fill:#262626;\" transform=\"translate(31.172031 213.869609)rotate(-90)scale(0.11 -0.11)\">\n       <use xlink:href=\"#DejaVuSans-49\"/>\n      </g>\n     </g>\n    </g>\n    <g id=\"ytick_6\">\n     <g id=\"text_19\">\n      <!-- 11 -->\n      <g style=\"fill:#262626;\" transform=\"translate(31.172031 266.168359)rotate(-90)scale(0.11 -0.11)\">\n       <use xlink:href=\"#DejaVuSans-49\"/>\n       <use x=\"63.623047\" xlink:href=\"#DejaVuSans-49\"/>\n      </g>\n     </g>\n    </g>\n    <g id=\"ytick_7\">\n     <g id=\"text_20\">\n      <!-- 10 -->\n      <g style=\"fill:#262626;\" transform=\"translate(31.172031 311.468359)rotate(-90)scale(0.11 -0.11)\">\n       <use xlink:href=\"#DejaVuSans-49\"/>\n       <use x=\"63.623047\" xlink:href=\"#DejaVuSans-48\"/>\n      </g>\n     </g>\n    </g>\n    <g id=\"ytick_8\">\n     <g id=\"text_21\">\n      <!-- 9 -->\n      <g style=\"fill:#262626;\" transform=\"translate(31.172031 349.769609)rotate(-90)scale(0.11 -0.11)\">\n       <use xlink:href=\"#DejaVuSans-57\"/>\n      </g>\n     </g>\n    </g>\n    <g id=\"ytick_9\">\n     <g id=\"text_22\">\n      <!-- 6 -->\n      <g style=\"fill:#262626;\" transform=\"translate(31.172031 395.069609)rotate(-90)scale(0.11 -0.11)\">\n       <use xlink:href=\"#DejaVuSans-54\"/>\n      </g>\n     </g>\n    </g>\n    <g id=\"ytick_10\">\n     <g id=\"text_23\">\n      <!-- 2 -->\n      <g style=\"fill:#262626;\" transform=\"translate(31.172031 440.369609)rotate(-90)scale(0.11 -0.11)\">\n       <use xlink:href=\"#DejaVuSans-50\"/>\n      </g>\n     </g>\n    </g>\n    <g id=\"ytick_11\">\n     <g id=\"text_24\">\n      <!-- 5 -->\n      <g style=\"fill:#262626;\" transform=\"translate(31.172031 485.669609)rotate(-90)scale(0.11 -0.11)\">\n       <use xlink:href=\"#DejaVuSans-53\"/>\n      </g>\n     </g>\n    </g>\n    <g id=\"ytick_12\">\n     <g id=\"text_25\">\n      <!-- 0 -->\n      <g style=\"fill:#262626;\" transform=\"translate(31.172031 530.969609)rotate(-90)scale(0.11 -0.11)\">\n       <use xlink:href=\"#DejaVuSans-48\"/>\n      </g>\n     </g>\n    </g>\n    <g id=\"text_26\">\n     <!-- Actual -->\n     <defs>\n      <path d=\"M 34.1875 63.1875 \nL 20.796875 26.90625 \nL 47.609375 26.90625 \nz\nM 28.609375 72.90625 \nL 39.796875 72.90625 \nL 67.578125 0 \nL 57.328125 0 \nL 50.6875 18.703125 \nL 17.828125 18.703125 \nL 11.1875 0 \nL 0.78125 0 \nz\n\" id=\"DejaVuSans-65\"/>\n      <path d=\"M 8.5 21.578125 \nL 8.5 54.6875 \nL 17.484375 54.6875 \nL 17.484375 21.921875 \nQ 17.484375 14.15625 20.5 10.265625 \nQ 23.53125 6.390625 29.59375 6.390625 \nQ 36.859375 6.390625 41.078125 11.03125 \nQ 45.3125 15.671875 45.3125 23.6875 \nL 45.3125 54.6875 \nL 54.296875 54.6875 \nL 54.296875 0 \nL 45.3125 0 \nL 45.3125 8.40625 \nQ 42.046875 3.421875 37.71875 1 \nQ 33.40625 -1.421875 27.6875 -1.421875 \nQ 18.265625 -1.421875 13.375 4.4375 \nQ 8.5 10.296875 8.5 21.578125 \nz\nM 31.109375 56 \nz\n\" id=\"DejaVuSans-117\"/>\n      <path d=\"M 34.28125 27.484375 \nQ 23.390625 27.484375 19.1875 25 \nQ 14.984375 22.515625 14.984375 16.5 \nQ 14.984375 11.71875 18.140625 8.90625 \nQ 21.296875 6.109375 26.703125 6.109375 \nQ 34.1875 6.109375 38.703125 11.40625 \nQ 43.21875 16.703125 43.21875 25.484375 \nL 43.21875 27.484375 \nz\nM 52.203125 31.203125 \nL 52.203125 0 \nL 43.21875 0 \nL 43.21875 8.296875 \nQ 40.140625 3.328125 35.546875 0.953125 \nQ 30.953125 -1.421875 24.3125 -1.421875 \nQ 15.921875 -1.421875 10.953125 3.296875 \nQ 6 8.015625 6 15.921875 \nQ 6 25.140625 12.171875 29.828125 \nQ 18.359375 34.515625 30.609375 34.515625 \nL 43.21875 34.515625 \nL 43.21875 35.40625 \nQ 43.21875 41.609375 39.140625 45 \nQ 35.0625 48.390625 27.6875 48.390625 \nQ 23 48.390625 18.546875 47.265625 \nQ 14.109375 46.140625 10.015625 43.890625 \nL 10.015625 52.203125 \nQ 14.9375 54.109375 19.578125 55.046875 \nQ 24.21875 56 28.609375 56 \nQ 40.484375 56 46.34375 49.84375 \nQ 52.203125 43.703125 52.203125 31.203125 \nz\n\" id=\"DejaVuSans-97\"/>\n      <path d=\"M 9.421875 75.984375 \nL 18.40625 75.984375 \nL 18.40625 0 \nL 9.421875 0 \nz\n\" id=\"DejaVuSans-108\"/>\n     </defs>\n     <g style=\"fill:#262626;\" transform=\"translate(16.318125 297.796875)rotate(-90)scale(0.12 -0.12)\">\n      <use xlink:href=\"#DejaVuSans-65\"/>\n      <use x=\"66.658203\" xlink:href=\"#DejaVuSans-99\"/>\n      <use x=\"121.638672\" xlink:href=\"#DejaVuSans-116\"/>\n      <use x=\"160.847656\" xlink:href=\"#DejaVuSans-117\"/>\n      <use x=\"224.226562\" xlink:href=\"#DejaVuSans-97\"/>\n      <use x=\"285.505859\" xlink:href=\"#DejaVuSans-108\"/>\n     </g>\n    </g>\n   </g>\n   <g id=\"QuadMesh_1\">\n    <path clip-path=\"url(#p406f8929c4)\" d=\"M 42.959688 7.2 \nL 80.159688 7.2 \nL 80.159688 52.5 \nL 42.959688 52.5 \nL 42.959688 7.2 \n\" style=\"fill:#251433;\"/>\n    <path clip-path=\"url(#p406f8929c4)\" d=\"M 80.159688 7.2 \nL 117.359688 7.2 \nL 117.359688 52.5 \nL 80.159688 52.5 \nL 80.159688 7.2 \n\" style=\"fill:#03051a;\"/>\n    <path clip-path=\"url(#p406f8929c4)\" d=\"M 117.359688 7.2 \nL 154.559687 7.2 \nL 154.559687 52.5 \nL 117.359688 52.5 \nL 117.359688 7.2 \n\" style=\"fill:#03051a;\"/>\n    <path clip-path=\"url(#p406f8929c4)\" d=\"M 154.559687 7.2 \nL 191.759688 7.2 \nL 191.759688 52.5 \nL 154.559687 52.5 \nL 154.559687 7.2 \n\" style=\"fill:#03051a;\"/>\n    <path clip-path=\"url(#p406f8929c4)\" d=\"M 191.759688 7.2 \nL 228.959688 7.2 \nL 228.959688 52.5 \nL 191.759688 52.5 \nL 191.759688 7.2 \n\" style=\"fill:#03051a;\"/>\n    <path clip-path=\"url(#p406f8929c4)\" d=\"M 228.959688 7.2 \nL 266.159688 7.2 \nL 266.159688 52.5 \nL 228.959688 52.5 \nL 228.959688 7.2 \n\" style=\"fill:#03051a;\"/>\n    <path clip-path=\"url(#p406f8929c4)\" d=\"M 266.159688 7.2 \nL 303.359688 7.2 \nL 303.359688 52.5 \nL 266.159688 52.5 \nL 266.159688 7.2 \n\" style=\"fill:#04051a;\"/>\n    <path clip-path=\"url(#p406f8929c4)\" d=\"M 303.359688 7.2 \nL 340.559687 7.2 \nL 340.559687 52.5 \nL 303.359688 52.5 \nL 303.359688 7.2 \n\" style=\"fill:#03051a;\"/>\n    <path clip-path=\"url(#p406f8929c4)\" d=\"M 340.559687 7.2 \nL 377.759688 7.2 \nL 377.759688 52.5 \nL 340.559687 52.5 \nL 340.559687 7.2 \n\" style=\"fill:#04051a;\"/>\n    <path clip-path=\"url(#p406f8929c4)\" d=\"M 377.759688 7.2 \nL 414.959687 7.2 \nL 414.959687 52.5 \nL 377.759688 52.5 \nL 377.759688 7.2 \n\" style=\"fill:#04051a;\"/>\n    <path clip-path=\"url(#p406f8929c4)\" d=\"M 414.959687 7.2 \nL 452.159688 7.2 \nL 452.159688 52.5 \nL 414.959687 52.5 \nL 414.959687 7.2 \n\" style=\"fill:#03051a;\"/>\n    <path clip-path=\"url(#p406f8929c4)\" d=\"M 452.159688 7.2 \nL 489.359688 7.2 \nL 489.359688 52.5 \nL 452.159688 52.5 \nL 452.159688 7.2 \n\" style=\"fill:#03051a;\"/>\n    <path clip-path=\"url(#p406f8929c4)\" d=\"M 42.959688 52.5 \nL 80.159688 52.5 \nL 80.159688 97.8 \nL 42.959688 97.8 \nL 42.959688 52.5 \n\" style=\"fill:#03051a;\"/>\n    <path clip-path=\"url(#p406f8929c4)\" d=\"M 80.159688 52.5 \nL 117.359688 52.5 \nL 117.359688 97.8 \nL 80.159688 97.8 \nL 80.159688 52.5 \n\" style=\"fill:#e23442;\"/>\n    <path clip-path=\"url(#p406f8929c4)\" d=\"M 117.359688 52.5 \nL 154.559687 52.5 \nL 154.559687 97.8 \nL 117.359688 97.8 \nL 117.359688 52.5 \n\" style=\"fill:#05061b;\"/>\n    <path clip-path=\"url(#p406f8929c4)\" d=\"M 154.559687 52.5 \nL 191.759688 52.5 \nL 191.759688 97.8 \nL 154.559687 97.8 \nL 154.559687 52.5 \n\" style=\"fill:#04051a;\"/>\n    <path clip-path=\"url(#p406f8929c4)\" d=\"M 191.759688 52.5 \nL 228.959688 52.5 \nL 228.959688 97.8 \nL 191.759688 97.8 \nL 191.759688 52.5 \n\" style=\"fill:#03051a;\"/>\n    <path clip-path=\"url(#p406f8929c4)\" d=\"M 228.959688 52.5 \nL 266.159688 52.5 \nL 266.159688 97.8 \nL 228.959688 97.8 \nL 228.959688 52.5 \n\" style=\"fill:#0d0a21;\"/>\n    <path clip-path=\"url(#p406f8929c4)\" d=\"M 266.159688 52.5 \nL 303.359688 52.5 \nL 303.359688 97.8 \nL 266.159688 97.8 \nL 266.159688 52.5 \n\" style=\"fill:#03051a;\"/>\n    <path clip-path=\"url(#p406f8929c4)\" d=\"M 303.359688 52.5 \nL 340.559687 52.5 \nL 340.559687 97.8 \nL 303.359688 97.8 \nL 303.359688 52.5 \n\" style=\"fill:#04051a;\"/>\n    <path clip-path=\"url(#p406f8929c4)\" d=\"M 340.559687 52.5 \nL 377.759688 52.5 \nL 377.759688 97.8 \nL 340.559687 97.8 \nL 340.559687 52.5 \n\" style=\"fill:#100b23;\"/>\n    <path clip-path=\"url(#p406f8929c4)\" d=\"M 377.759688 52.5 \nL 414.959687 52.5 \nL 414.959687 97.8 \nL 377.759688 97.8 \nL 377.759688 52.5 \n\" style=\"fill:#0e0b22;\"/>\n    <path clip-path=\"url(#p406f8929c4)\" d=\"M 414.959687 52.5 \nL 452.159688 52.5 \nL 452.159688 97.8 \nL 414.959687 97.8 \nL 414.959687 52.5 \n\" style=\"fill:#06071c;\"/>\n    <path clip-path=\"url(#p406f8929c4)\" d=\"M 452.159688 52.5 \nL 489.359688 52.5 \nL 489.359688 97.8 \nL 452.159688 97.8 \nL 452.159688 52.5 \n\" style=\"fill:#03051a;\"/>\n    <path clip-path=\"url(#p406f8929c4)\" d=\"M 42.959688 97.8 \nL 80.159688 97.8 \nL 80.159688 143.1 \nL 42.959688 143.1 \nL 42.959688 97.8 \n\" style=\"fill:#03051a;\"/>\n    <path clip-path=\"url(#p406f8929c4)\" d=\"M 80.159688 97.8 \nL 117.359688 97.8 \nL 117.359688 143.1 \nL 80.159688 143.1 \nL 80.159688 97.8 \n\" style=\"fill:#0b0920;\"/>\n    <path clip-path=\"url(#p406f8929c4)\" d=\"M 117.359688 97.8 \nL 154.559687 97.8 \nL 154.559687 143.1 \nL 117.359688 143.1 \nL 117.359688 97.8 \n\" style=\"fill:#a11a5b;\"/>\n    <path clip-path=\"url(#p406f8929c4)\" d=\"M 154.559687 97.8 \nL 191.759688 97.8 \nL 191.759688 143.1 \nL 154.559687 143.1 \nL 154.559687 97.8 \n\" style=\"fill:#03051a;\"/>\n    <path clip-path=\"url(#p406f8929c4)\" d=\"M 191.759688 97.8 \nL 228.959688 97.8 \nL 228.959688 143.1 \nL 191.759688 143.1 \nL 191.759688 97.8 \n\" style=\"fill:#04051a;\"/>\n    <path clip-path=\"url(#p406f8929c4)\" d=\"M 228.959688 97.8 \nL 266.159688 97.8 \nL 266.159688 143.1 \nL 228.959688 143.1 \nL 228.959688 97.8 \n\" style=\"fill:#1a102a;\"/>\n    <path clip-path=\"url(#p406f8929c4)\" d=\"M 266.159688 97.8 \nL 303.359688 97.8 \nL 303.359688 143.1 \nL 266.159688 143.1 \nL 266.159688 97.8 \n\" style=\"fill:#03051a;\"/>\n    <path clip-path=\"url(#p406f8929c4)\" d=\"M 303.359688 97.8 \nL 340.559687 97.8 \nL 340.559687 143.1 \nL 303.359688 143.1 \nL 303.359688 97.8 \n\" style=\"fill:#03051a;\"/>\n    <path clip-path=\"url(#p406f8929c4)\" d=\"M 340.559687 97.8 \nL 377.759688 97.8 \nL 377.759688 143.1 \nL 340.559687 143.1 \nL 340.559687 97.8 \n\" style=\"fill:#180f29;\"/>\n    <path clip-path=\"url(#p406f8929c4)\" d=\"M 377.759688 97.8 \nL 414.959687 97.8 \nL 414.959687 143.1 \nL 377.759688 143.1 \nL 377.759688 97.8 \n\" style=\"fill:#1e122d;\"/>\n    <path clip-path=\"url(#p406f8929c4)\" d=\"M 414.959687 97.8 \nL 452.159688 97.8 \nL 452.159688 143.1 \nL 414.959687 143.1 \nL 414.959687 97.8 \n\" style=\"fill:#05061b;\"/>\n    <path clip-path=\"url(#p406f8929c4)\" d=\"M 452.159688 97.8 \nL 489.359688 97.8 \nL 489.359688 143.1 \nL 452.159688 143.1 \nL 452.159688 97.8 \n\" style=\"fill:#03051a;\"/>\n    <path clip-path=\"url(#p406f8929c4)\" d=\"M 42.959688 143.1 \nL 80.159688 143.1 \nL 80.159688 188.4 \nL 42.959688 188.4 \nL 42.959688 143.1 \n\" style=\"fill:#03051a;\"/>\n    <path clip-path=\"url(#p406f8929c4)\" d=\"M 80.159688 143.1 \nL 117.359688 143.1 \nL 117.359688 188.4 \nL 80.159688 188.4 \nL 80.159688 143.1 \n\" style=\"fill:#08081e;\"/>\n    <path clip-path=\"url(#p406f8929c4)\" d=\"M 117.359688 143.1 \nL 154.559687 143.1 \nL 154.559687 188.4 \nL 117.359688 188.4 \nL 117.359688 143.1 \n\" style=\"fill:#04051a;\"/>\n    <path clip-path=\"url(#p406f8929c4)\" d=\"M 154.559687 143.1 \nL 191.759688 143.1 \nL 191.759688 188.4 \nL 154.559687 188.4 \nL 154.559687 143.1 \n\" style=\"fill:#431c46;\"/>\n    <path clip-path=\"url(#p406f8929c4)\" d=\"M 191.759688 143.1 \nL 228.959688 143.1 \nL 228.959688 188.4 \nL 191.759688 188.4 \nL 191.759688 143.1 \n\" style=\"fill:#04051a;\"/>\n    <path clip-path=\"url(#p406f8929c4)\" d=\"M 228.959688 143.1 \nL 266.159688 143.1 \nL 266.159688 188.4 \nL 228.959688 188.4 \nL 228.959688 143.1 \n\" style=\"fill:#07071d;\"/>\n    <path clip-path=\"url(#p406f8929c4)\" d=\"M 266.159688 143.1 \nL 303.359688 143.1 \nL 303.359688 188.4 \nL 266.159688 188.4 \nL 266.159688 143.1 \n\" style=\"fill:#03051a;\"/>\n    <path clip-path=\"url(#p406f8929c4)\" d=\"M 303.359688 143.1 \nL 340.559687 143.1 \nL 340.559687 188.4 \nL 303.359688 188.4 \nL 303.359688 143.1 \n\" style=\"fill:#07071d;\"/>\n    <path clip-path=\"url(#p406f8929c4)\" d=\"M 340.559687 143.1 \nL 377.759688 143.1 \nL 377.759688 188.4 \nL 340.559687 188.4 \nL 340.559687 143.1 \n\" style=\"fill:#0a091f;\"/>\n    <path clip-path=\"url(#p406f8929c4)\" d=\"M 377.759688 143.1 \nL 414.959687 143.1 \nL 414.959687 188.4 \nL 377.759688 188.4 \nL 377.759688 143.1 \n\" style=\"fill:#0e0b22;\"/>\n    <path clip-path=\"url(#p406f8929c4)\" d=\"M 414.959687 143.1 \nL 452.159688 143.1 \nL 452.159688 188.4 \nL 414.959687 188.4 \nL 414.959687 143.1 \n\" style=\"fill:#04051a;\"/>\n    <path clip-path=\"url(#p406f8929c4)\" d=\"M 452.159688 143.1 \nL 489.359688 143.1 \nL 489.359688 188.4 \nL 452.159688 188.4 \nL 452.159688 143.1 \n\" style=\"fill:#04051a;\"/>\n    <path clip-path=\"url(#p406f8929c4)\" d=\"M 42.959688 188.4 \nL 80.159688 188.4 \nL 80.159688 233.7 \nL 42.959688 233.7 \nL 42.959688 188.4 \n\" style=\"fill:#03051a;\"/>\n    <path clip-path=\"url(#p406f8929c4)\" d=\"M 80.159688 188.4 \nL 117.359688 188.4 \nL 117.359688 233.7 \nL 80.159688 233.7 \nL 80.159688 188.4 \n\" style=\"fill:#06071c;\"/>\n    <path clip-path=\"url(#p406f8929c4)\" d=\"M 117.359688 188.4 \nL 154.559687 188.4 \nL 154.559687 233.7 \nL 117.359688 233.7 \nL 117.359688 188.4 \n\" style=\"fill:#06071c;\"/>\n    <path clip-path=\"url(#p406f8929c4)\" d=\"M 154.559687 188.4 \nL 191.759688 188.4 \nL 191.759688 233.7 \nL 154.559687 233.7 \nL 154.559687 188.4 \n\" style=\"fill:#05061b;\"/>\n    <path clip-path=\"url(#p406f8929c4)\" d=\"M 191.759688 188.4 \nL 228.959688 188.4 \nL 228.959688 233.7 \nL 191.759688 233.7 \nL 191.759688 188.4 \n\" style=\"fill:#541e4e;\"/>\n    <path clip-path=\"url(#p406f8929c4)\" d=\"M 228.959688 188.4 \nL 266.159688 188.4 \nL 266.159688 233.7 \nL 228.959688 233.7 \nL 228.959688 188.4 \n\" style=\"fill:#07071d;\"/>\n    <path clip-path=\"url(#p406f8929c4)\" d=\"M 266.159688 188.4 \nL 303.359688 188.4 \nL 303.359688 233.7 \nL 266.159688 233.7 \nL 266.159688 188.4 \n\" style=\"fill:#03051a;\"/>\n    <path clip-path=\"url(#p406f8929c4)\" d=\"M 303.359688 188.4 \nL 340.559687 188.4 \nL 340.559687 233.7 \nL 303.359688 233.7 \nL 303.359688 188.4 \n\" style=\"fill:#05061b;\"/>\n    <path clip-path=\"url(#p406f8929c4)\" d=\"M 340.559687 188.4 \nL 377.759688 188.4 \nL 377.759688 233.7 \nL 340.559687 233.7 \nL 340.559687 188.4 \n\" style=\"fill:#0a091f;\"/>\n    <path clip-path=\"url(#p406f8929c4)\" d=\"M 377.759688 188.4 \nL 414.959687 188.4 \nL 414.959687 233.7 \nL 377.759688 233.7 \nL 377.759688 188.4 \n\" style=\"fill:#0e0b22;\"/>\n    <path clip-path=\"url(#p406f8929c4)\" d=\"M 414.959687 188.4 \nL 452.159688 188.4 \nL 452.159688 233.7 \nL 414.959687 233.7 \nL 414.959687 188.4 \n\" style=\"fill:#03051a;\"/>\n    <path clip-path=\"url(#p406f8929c4)\" d=\"M 452.159688 188.4 \nL 489.359688 188.4 \nL 489.359688 233.7 \nL 452.159688 233.7 \nL 452.159688 188.4 \n\" style=\"fill:#03051a;\"/>\n    <path clip-path=\"url(#p406f8929c4)\" d=\"M 42.959688 233.7 \nL 80.159688 233.7 \nL 80.159688 279 \nL 42.959688 279 \nL 42.959688 233.7 \n\" style=\"fill:#03051a;\"/>\n    <path clip-path=\"url(#p406f8929c4)\" d=\"M 80.159688 233.7 \nL 117.359688 233.7 \nL 117.359688 279 \nL 80.159688 279 \nL 80.159688 233.7 \n\" style=\"fill:#160e27;\"/>\n    <path clip-path=\"url(#p406f8929c4)\" d=\"M 117.359688 233.7 \nL 154.559687 233.7 \nL 154.559687 279 \nL 117.359688 279 \nL 117.359688 233.7 \n\" style=\"fill:#160e27;\"/>\n    <path clip-path=\"url(#p406f8929c4)\" d=\"M 154.559687 233.7 \nL 191.759688 233.7 \nL 191.759688 279 \nL 154.559687 279 \nL 154.559687 233.7 \n\" style=\"fill:#04051a;\"/>\n    <path clip-path=\"url(#p406f8929c4)\" d=\"M 191.759688 233.7 \nL 228.959688 233.7 \nL 228.959688 279 \nL 191.759688 279 \nL 191.759688 233.7 \n\" style=\"fill:#04051a;\"/>\n    <path clip-path=\"url(#p406f8929c4)\" d=\"M 228.959688 233.7 \nL 266.159688 233.7 \nL 266.159688 279 \nL 228.959688 279 \nL 228.959688 233.7 \n\" style=\"fill:#f05e42;\"/>\n    <path clip-path=\"url(#p406f8929c4)\" d=\"M 266.159688 233.7 \nL 303.359688 233.7 \nL 303.359688 279 \nL 266.159688 279 \nL 266.159688 233.7 \n\" style=\"fill:#04051a;\"/>\n    <path clip-path=\"url(#p406f8929c4)\" d=\"M 303.359688 233.7 \nL 340.559687 233.7 \nL 340.559687 279 \nL 303.359688 279 \nL 303.359688 233.7 \n\" style=\"fill:#0a091f;\"/>\n    <path clip-path=\"url(#p406f8929c4)\" d=\"M 340.559687 233.7 \nL 377.759688 233.7 \nL 377.759688 279 \nL 340.559687 279 \nL 340.559687 233.7 \n\" style=\"fill:#0a091f;\"/>\n    <path clip-path=\"url(#p406f8929c4)\" d=\"M 377.759688 233.7 \nL 414.959687 233.7 \nL 414.959687 279 \nL 377.759688 279 \nL 377.759688 233.7 \n\" style=\"fill:#1a102a;\"/>\n    <path clip-path=\"url(#p406f8929c4)\" d=\"M 414.959687 233.7 \nL 452.159688 233.7 \nL 452.159688 279 \nL 414.959687 279 \nL 414.959687 233.7 \n\" style=\"fill:#05061b;\"/>\n    <path clip-path=\"url(#p406f8929c4)\" d=\"M 452.159688 233.7 \nL 489.359688 233.7 \nL 489.359688 279 \nL 452.159688 279 \nL 452.159688 233.7 \n\" style=\"fill:#03051a;\"/>\n    <path clip-path=\"url(#p406f8929c4)\" d=\"M 42.959688 279 \nL 80.159688 279 \nL 80.159688 324.3 \nL 42.959688 324.3 \nL 42.959688 279 \n\" style=\"fill:#03051a;\"/>\n    <path clip-path=\"url(#p406f8929c4)\" d=\"M 80.159688 279 \nL 117.359688 279 \nL 117.359688 324.3 \nL 80.159688 324.3 \nL 80.159688 279 \n\" style=\"fill:#04051a;\"/>\n    <path clip-path=\"url(#p406f8929c4)\" d=\"M 117.359688 279 \nL 154.559687 279 \nL 154.559687 324.3 \nL 117.359688 324.3 \nL 117.359688 279 \n\" style=\"fill:#05061b;\"/>\n    <path clip-path=\"url(#p406f8929c4)\" d=\"M 154.559687 279 \nL 191.759688 279 \nL 191.759688 324.3 \nL 154.559687 324.3 \nL 154.559687 279 \n\" style=\"fill:#03051a;\"/>\n    <path clip-path=\"url(#p406f8929c4)\" d=\"M 191.759688 279 \nL 228.959688 279 \nL 228.959688 324.3 \nL 191.759688 324.3 \nL 191.759688 279 \n\" style=\"fill:#03051a;\"/>\n    <path clip-path=\"url(#p406f8929c4)\" d=\"M 228.959688 279 \nL 266.159688 279 \nL 266.159688 324.3 \nL 228.959688 324.3 \nL 228.959688 279 \n\" style=\"fill:#06071c;\"/>\n    <path clip-path=\"url(#p406f8929c4)\" d=\"M 266.159688 279 \nL 303.359688 279 \nL 303.359688 324.3 \nL 266.159688 324.3 \nL 266.159688 279 \n\" style=\"fill:#971c5b;\"/>\n    <path clip-path=\"url(#p406f8929c4)\" d=\"M 303.359688 279 \nL 340.559687 279 \nL 340.559687 324.3 \nL 303.359688 324.3 \nL 303.359688 279 \n\" style=\"fill:#0a091f;\"/>\n    <path clip-path=\"url(#p406f8929c4)\" d=\"M 340.559687 279 \nL 377.759688 279 \nL 377.759688 324.3 \nL 340.559687 324.3 \nL 340.559687 279 \n\" style=\"fill:#07071d;\"/>\n    <path clip-path=\"url(#p406f8929c4)\" d=\"M 377.759688 279 \nL 414.959687 279 \nL 414.959687 324.3 \nL 377.759688 324.3 \nL 377.759688 279 \n\" style=\"fill:#0e0b22;\"/>\n    <path clip-path=\"url(#p406f8929c4)\" d=\"M 414.959687 279 \nL 452.159688 279 \nL 452.159688 324.3 \nL 414.959687 324.3 \nL 414.959687 279 \n\" style=\"fill:#100b23;\"/>\n    <path clip-path=\"url(#p406f8929c4)\" d=\"M 452.159688 279 \nL 489.359688 279 \nL 489.359688 324.3 \nL 452.159688 324.3 \nL 452.159688 279 \n\" style=\"fill:#03051a;\"/>\n    <path clip-path=\"url(#p406f8929c4)\" d=\"M 42.959688 324.3 \nL 80.159688 324.3 \nL 80.159688 369.6 \nL 42.959688 369.6 \nL 42.959688 324.3 \n\" style=\"fill:#03051a;\"/>\n    <path clip-path=\"url(#p406f8929c4)\" d=\"M 80.159688 324.3 \nL 117.359688 324.3 \nL 117.359688 369.6 \nL 80.159688 369.6 \nL 80.159688 324.3 \n\" style=\"fill:#03051a;\"/>\n    <path clip-path=\"url(#p406f8929c4)\" d=\"M 117.359688 324.3 \nL 154.559687 324.3 \nL 154.559687 369.6 \nL 117.359688 369.6 \nL 117.359688 324.3 \n\" style=\"fill:#04051a;\"/>\n    <path clip-path=\"url(#p406f8929c4)\" d=\"M 154.559687 324.3 \nL 191.759688 324.3 \nL 191.759688 369.6 \nL 154.559687 369.6 \nL 154.559687 324.3 \n\" style=\"fill:#03051a;\"/>\n    <path clip-path=\"url(#p406f8929c4)\" d=\"M 191.759688 324.3 \nL 228.959688 324.3 \nL 228.959688 369.6 \nL 191.759688 369.6 \nL 191.759688 324.3 \n\" style=\"fill:#03051a;\"/>\n    <path clip-path=\"url(#p406f8929c4)\" d=\"M 228.959688 324.3 \nL 266.159688 324.3 \nL 266.159688 369.6 \nL 228.959688 369.6 \nL 228.959688 324.3 \n\" style=\"fill:#05061b;\"/>\n    <path clip-path=\"url(#p406f8929c4)\" d=\"M 266.159688 324.3 \nL 303.359688 324.3 \nL 303.359688 369.6 \nL 266.159688 369.6 \nL 266.159688 324.3 \n\" style=\"fill:#04051a;\"/>\n    <path clip-path=\"url(#p406f8929c4)\" d=\"M 303.359688 324.3 \nL 340.559687 324.3 \nL 340.559687 369.6 \nL 303.359688 369.6 \nL 303.359688 324.3 \n\" style=\"fill:#c41753;\"/>\n    <path clip-path=\"url(#p406f8929c4)\" d=\"M 340.559687 324.3 \nL 377.759688 324.3 \nL 377.759688 369.6 \nL 340.559687 369.6 \nL 340.559687 324.3 \n\" style=\"fill:#03051a;\"/>\n    <path clip-path=\"url(#p406f8929c4)\" d=\"M 377.759688 324.3 \nL 414.959687 324.3 \nL 414.959687 369.6 \nL 377.759688 369.6 \nL 377.759688 324.3 \n\" style=\"fill:#03051a;\"/>\n    <path clip-path=\"url(#p406f8929c4)\" d=\"M 414.959687 324.3 \nL 452.159688 324.3 \nL 452.159688 369.6 \nL 414.959687 369.6 \nL 414.959687 324.3 \n\" style=\"fill:#03051a;\"/>\n    <path clip-path=\"url(#p406f8929c4)\" d=\"M 452.159688 324.3 \nL 489.359688 324.3 \nL 489.359688 369.6 \nL 452.159688 369.6 \nL 452.159688 324.3 \n\" style=\"fill:#03051a;\"/>\n    <path clip-path=\"url(#p406f8929c4)\" d=\"M 42.959688 369.6 \nL 80.159688 369.6 \nL 80.159688 414.9 \nL 42.959688 414.9 \nL 42.959688 369.6 \n\" style=\"fill:#03051a;\"/>\n    <path clip-path=\"url(#p406f8929c4)\" d=\"M 80.159688 369.6 \nL 117.359688 369.6 \nL 117.359688 414.9 \nL 80.159688 414.9 \nL 80.159688 369.6 \n\" style=\"fill:#0d0a21;\"/>\n    <path clip-path=\"url(#p406f8929c4)\" d=\"M 117.359688 369.6 \nL 154.559687 369.6 \nL 154.559687 414.9 \nL 117.359688 414.9 \nL 117.359688 369.6 \n\" style=\"fill:#0a091f;\"/>\n    <path clip-path=\"url(#p406f8929c4)\" d=\"M 154.559687 369.6 \nL 191.759688 369.6 \nL 191.759688 414.9 \nL 154.559687 414.9 \nL 154.559687 369.6 \n\" style=\"fill:#07071d;\"/>\n    <path clip-path=\"url(#p406f8929c4)\" d=\"M 191.759688 369.6 \nL 228.959688 369.6 \nL 228.959688 414.9 \nL 191.759688 414.9 \nL 191.759688 369.6 \n\" style=\"fill:#05061b;\"/>\n    <path clip-path=\"url(#p406f8929c4)\" d=\"M 228.959688 369.6 \nL 266.159688 369.6 \nL 266.159688 414.9 \nL 228.959688 414.9 \nL 228.959688 369.6 \n\" style=\"fill:#06071c;\"/>\n    <path clip-path=\"url(#p406f8929c4)\" d=\"M 266.159688 369.6 \nL 303.359688 369.6 \nL 303.359688 414.9 \nL 266.159688 414.9 \nL 266.159688 369.6 \n\" style=\"fill:#03051a;\"/>\n    <path clip-path=\"url(#p406f8929c4)\" d=\"M 303.359688 369.6 \nL 340.559687 369.6 \nL 340.559687 414.9 \nL 303.359688 414.9 \nL 303.359688 369.6 \n\" style=\"fill:#03051a;\"/>\n    <path clip-path=\"url(#p406f8929c4)\" d=\"M 340.559687 369.6 \nL 377.759688 369.6 \nL 377.759688 414.9 \nL 340.559687 414.9 \nL 340.559687 369.6 \n\" style=\"fill:#f26b49;\"/>\n    <path clip-path=\"url(#p406f8929c4)\" d=\"M 377.759688 369.6 \nL 414.959687 369.6 \nL 414.959687 414.9 \nL 377.759688 414.9 \nL 377.759688 369.6 \n\" style=\"fill:#1e122d;\"/>\n    <path clip-path=\"url(#p406f8929c4)\" d=\"M 414.959687 369.6 \nL 452.159688 369.6 \nL 452.159688 414.9 \nL 414.959687 414.9 \nL 414.959687 369.6 \n\" style=\"fill:#08081e;\"/>\n    <path clip-path=\"url(#p406f8929c4)\" d=\"M 452.159688 369.6 \nL 489.359688 369.6 \nL 489.359688 414.9 \nL 452.159688 414.9 \nL 452.159688 369.6 \n\" style=\"fill:#03051a;\"/>\n    <path clip-path=\"url(#p406f8929c4)\" d=\"M 42.959688 414.9 \nL 80.159688 414.9 \nL 80.159688 460.2 \nL 42.959688 460.2 \nL 42.959688 414.9 \n\" style=\"fill:#03051a;\"/>\n    <path clip-path=\"url(#p406f8929c4)\" d=\"M 80.159688 414.9 \nL 117.359688 414.9 \nL 117.359688 460.2 \nL 80.159688 460.2 \nL 80.159688 414.9 \n\" style=\"fill:#07071d;\"/>\n    <path clip-path=\"url(#p406f8929c4)\" d=\"M 117.359688 414.9 \nL 154.559687 414.9 \nL 154.559687 460.2 \nL 117.359688 460.2 \nL 117.359688 414.9 \n\" style=\"fill:#07071d;\"/>\n    <path clip-path=\"url(#p406f8929c4)\" d=\"M 154.559687 414.9 \nL 191.759688 414.9 \nL 191.759688 460.2 \nL 154.559687 460.2 \nL 154.559687 414.9 \n\" style=\"fill:#03051a;\"/>\n    <path clip-path=\"url(#p406f8929c4)\" d=\"M 191.759688 414.9 \nL 228.959688 414.9 \nL 228.959688 460.2 \nL 191.759688 460.2 \nL 191.759688 414.9 \n\" style=\"fill:#05061b;\"/>\n    <path clip-path=\"url(#p406f8929c4)\" d=\"M 228.959688 414.9 \nL 266.159688 414.9 \nL 266.159688 460.2 \nL 228.959688 460.2 \nL 228.959688 414.9 \n\" style=\"fill:#0b0920;\"/>\n    <path clip-path=\"url(#p406f8929c4)\" d=\"M 266.159688 414.9 \nL 303.359688 414.9 \nL 303.359688 460.2 \nL 266.159688 460.2 \nL 266.159688 414.9 \n\" style=\"fill:#03051a;\"/>\n    <path clip-path=\"url(#p406f8929c4)\" d=\"M 303.359688 414.9 \nL 340.559687 414.9 \nL 340.559687 460.2 \nL 303.359688 460.2 \nL 303.359688 414.9 \n\" style=\"fill:#06071c;\"/>\n    <path clip-path=\"url(#p406f8929c4)\" d=\"M 340.559687 414.9 \nL 377.759688 414.9 \nL 377.759688 460.2 \nL 340.559687 460.2 \nL 340.559687 414.9 \n\" style=\"fill:#140e26;\"/>\n    <path clip-path=\"url(#p406f8929c4)\" d=\"M 377.759688 414.9 \nL 414.959687 414.9 \nL 414.959687 460.2 \nL 377.759688 460.2 \nL 377.759688 414.9 \n\" style=\"fill:#faebdd;\"/>\n    <path clip-path=\"url(#p406f8929c4)\" d=\"M 414.959687 414.9 \nL 452.159688 414.9 \nL 452.159688 460.2 \nL 414.959687 460.2 \nL 414.959687 414.9 \n\" style=\"fill:#04051a;\"/>\n    <path clip-path=\"url(#p406f8929c4)\" d=\"M 452.159688 414.9 \nL 489.359688 414.9 \nL 489.359688 460.2 \nL 452.159688 460.2 \nL 452.159688 414.9 \n\" style=\"fill:#03051a;\"/>\n    <path clip-path=\"url(#p406f8929c4)\" d=\"M 42.959688 460.2 \nL 80.159688 460.2 \nL 80.159688 505.5 \nL 42.959688 505.5 \nL 42.959688 460.2 \n\" style=\"fill:#03051a;\"/>\n    <path clip-path=\"url(#p406f8929c4)\" d=\"M 80.159688 460.2 \nL 117.359688 460.2 \nL 117.359688 505.5 \nL 80.159688 505.5 \nL 80.159688 460.2 \n\" style=\"fill:#05061b;\"/>\n    <path clip-path=\"url(#p406f8929c4)\" d=\"M 117.359688 460.2 \nL 154.559687 460.2 \nL 154.559687 505.5 \nL 117.359688 505.5 \nL 117.359688 460.2 \n\" style=\"fill:#07071d;\"/>\n    <path clip-path=\"url(#p406f8929c4)\" d=\"M 154.559687 460.2 \nL 191.759688 460.2 \nL 191.759688 505.5 \nL 154.559687 505.5 \nL 154.559687 460.2 \n\" style=\"fill:#03051a;\"/>\n    <path clip-path=\"url(#p406f8929c4)\" d=\"M 191.759688 460.2 \nL 228.959688 460.2 \nL 228.959688 505.5 \nL 191.759688 505.5 \nL 191.759688 460.2 \n\" style=\"fill:#03051a;\"/>\n    <path clip-path=\"url(#p406f8929c4)\" d=\"M 228.959688 460.2 \nL 266.159688 460.2 \nL 266.159688 505.5 \nL 228.959688 505.5 \nL 228.959688 460.2 \n\" style=\"fill:#07071d;\"/>\n    <path clip-path=\"url(#p406f8929c4)\" d=\"M 266.159688 460.2 \nL 303.359688 460.2 \nL 303.359688 505.5 \nL 266.159688 505.5 \nL 266.159688 460.2 \n\" style=\"fill:#08081e;\"/>\n    <path clip-path=\"url(#p406f8929c4)\" d=\"M 303.359688 460.2 \nL 340.559687 460.2 \nL 340.559687 505.5 \nL 303.359688 505.5 \nL 303.359688 460.2 \n\" style=\"fill:#06071c;\"/>\n    <path clip-path=\"url(#p406f8929c4)\" d=\"M 340.559687 460.2 \nL 377.759688 460.2 \nL 377.759688 505.5 \nL 340.559687 505.5 \nL 340.559687 460.2 \n\" style=\"fill:#100b23;\"/>\n    <path clip-path=\"url(#p406f8929c4)\" d=\"M 377.759688 460.2 \nL 414.959687 460.2 \nL 414.959687 505.5 \nL 377.759688 505.5 \nL 377.759688 460.2 \n\" style=\"fill:#100b23;\"/>\n    <path clip-path=\"url(#p406f8929c4)\" d=\"M 414.959687 460.2 \nL 452.159688 460.2 \nL 452.159688 505.5 \nL 414.959687 505.5 \nL 414.959687 460.2 \n\" style=\"fill:#f26b49;\"/>\n    <path clip-path=\"url(#p406f8929c4)\" d=\"M 452.159688 460.2 \nL 489.359688 460.2 \nL 489.359688 505.5 \nL 452.159688 505.5 \nL 452.159688 460.2 \n\" style=\"fill:#03051a;\"/>\n    <path clip-path=\"url(#p406f8929c4)\" d=\"M 42.959688 505.5 \nL 80.159688 505.5 \nL 80.159688 550.8 \nL 42.959688 550.8 \nL 42.959688 505.5 \n\" style=\"fill:#03051a;\"/>\n    <path clip-path=\"url(#p406f8929c4)\" d=\"M 80.159688 505.5 \nL 117.359688 505.5 \nL 117.359688 550.8 \nL 80.159688 550.8 \nL 80.159688 505.5 \n\" style=\"fill:#05061b;\"/>\n    <path clip-path=\"url(#p406f8929c4)\" d=\"M 117.359688 505.5 \nL 154.559687 505.5 \nL 154.559687 550.8 \nL 117.359688 550.8 \nL 117.359688 505.5 \n\" style=\"fill:#05061b;\"/>\n    <path clip-path=\"url(#p406f8929c4)\" d=\"M 154.559687 505.5 \nL 191.759688 505.5 \nL 191.759688 550.8 \nL 154.559687 550.8 \nL 154.559687 505.5 \n\" style=\"fill:#04051a;\"/>\n    <path clip-path=\"url(#p406f8929c4)\" d=\"M 191.759688 505.5 \nL 228.959688 505.5 \nL 228.959688 550.8 \nL 191.759688 550.8 \nL 191.759688 505.5 \n\" style=\"fill:#04051a;\"/>\n    <path clip-path=\"url(#p406f8929c4)\" d=\"M 228.959688 505.5 \nL 266.159688 505.5 \nL 266.159688 550.8 \nL 228.959688 550.8 \nL 228.959688 505.5 \n\" style=\"fill:#06071c;\"/>\n    <path clip-path=\"url(#p406f8929c4)\" d=\"M 266.159688 505.5 \nL 303.359688 505.5 \nL 303.359688 550.8 \nL 266.159688 550.8 \nL 266.159688 505.5 \n\" style=\"fill:#03051a;\"/>\n    <path clip-path=\"url(#p406f8929c4)\" d=\"M 303.359688 505.5 \nL 340.559687 505.5 \nL 340.559687 550.8 \nL 303.359688 550.8 \nL 303.359688 505.5 \n\" style=\"fill:#04051a;\"/>\n    <path clip-path=\"url(#p406f8929c4)\" d=\"M 340.559687 505.5 \nL 377.759688 505.5 \nL 377.759688 550.8 \nL 340.559687 550.8 \nL 340.559687 505.5 \n\" style=\"fill:#05061b;\"/>\n    <path clip-path=\"url(#p406f8929c4)\" d=\"M 377.759688 505.5 \nL 414.959687 505.5 \nL 414.959687 550.8 \nL 377.759688 550.8 \nL 377.759688 505.5 \n\" style=\"fill:#07071d;\"/>\n    <path clip-path=\"url(#p406f8929c4)\" d=\"M 414.959687 505.5 \nL 452.159688 505.5 \nL 452.159688 550.8 \nL 414.959687 550.8 \nL 414.959687 505.5 \n\" style=\"fill:#03051a;\"/>\n    <path clip-path=\"url(#p406f8929c4)\" d=\"M 452.159688 505.5 \nL 489.359688 505.5 \nL 489.359688 550.8 \nL 452.159688 550.8 \nL 452.159688 505.5 \n\" style=\"fill:#30173a;\"/>\n   </g>\n   <g id=\"text_27\">\n    <!-- 88 -->\n    <g style=\"fill:#ffffff;\" transform=\"translate(55.197187 32.609375)scale(0.1 -0.1)\">\n     <use xlink:href=\"#DejaVuSans-56\"/>\n     <use x=\"63.623047\" xlink:href=\"#DejaVuSans-56\"/>\n    </g>\n   </g>\n   <g id=\"text_28\">\n    <!-- 0 -->\n    <g style=\"fill:#ffffff;\" transform=\"translate(95.578438 32.609375)scale(0.1 -0.1)\">\n     <use xlink:href=\"#DejaVuSans-48\"/>\n    </g>\n   </g>\n   <g id=\"text_29\">\n    <!-- 3 -->\n    <g style=\"fill:#ffffff;\" transform=\"translate(132.778437 32.609375)scale(0.1 -0.1)\">\n     <use xlink:href=\"#DejaVuSans-51\"/>\n    </g>\n   </g>\n   <g id=\"text_30\">\n    <!-- 1 -->\n    <g style=\"fill:#ffffff;\" transform=\"translate(169.978438 32.609375)scale(0.1 -0.1)\">\n     <use xlink:href=\"#DejaVuSans-49\"/>\n    </g>\n   </g>\n   <g id=\"text_31\">\n    <!-- 0 -->\n    <g style=\"fill:#ffffff;\" transform=\"translate(207.178438 32.609375)scale(0.1 -0.1)\">\n     <use xlink:href=\"#DejaVuSans-48\"/>\n    </g>\n   </g>\n   <g id=\"text_32\">\n    <!-- 3 -->\n    <g style=\"fill:#ffffff;\" transform=\"translate(244.378438 32.609375)scale(0.1 -0.1)\">\n     <use xlink:href=\"#DejaVuSans-51\"/>\n    </g>\n   </g>\n   <g id=\"text_33\">\n    <!-- 5 -->\n    <g style=\"fill:#ffffff;\" transform=\"translate(281.578438 32.609375)scale(0.1 -0.1)\">\n     <use xlink:href=\"#DejaVuSans-53\"/>\n    </g>\n   </g>\n   <g id=\"text_34\">\n    <!-- 3 -->\n    <g style=\"fill:#ffffff;\" transform=\"translate(318.778437 32.609375)scale(0.1 -0.1)\">\n     <use xlink:href=\"#DejaVuSans-51\"/>\n    </g>\n   </g>\n   <g id=\"text_35\">\n    <!-- 4 -->\n    <g style=\"fill:#ffffff;\" transform=\"translate(355.978438 32.609375)scale(0.1 -0.1)\">\n     <use xlink:href=\"#DejaVuSans-52\"/>\n    </g>\n   </g>\n   <g id=\"text_36\">\n    <!-- 5 -->\n    <g style=\"fill:#ffffff;\" transform=\"translate(393.178438 32.609375)scale(0.1 -0.1)\">\n     <use xlink:href=\"#DejaVuSans-53\"/>\n    </g>\n   </g>\n   <g id=\"text_37\">\n    <!-- 1 -->\n    <g style=\"fill:#ffffff;\" transform=\"translate(430.378438 32.609375)scale(0.1 -0.1)\">\n     <use xlink:href=\"#DejaVuSans-49\"/>\n    </g>\n   </g>\n   <g id=\"text_38\">\n    <!-- 2 -->\n    <g style=\"fill:#ffffff;\" transform=\"translate(467.578438 32.609375)scale(0.1 -0.1)\">\n     <use xlink:href=\"#DejaVuSans-50\"/>\n    </g>\n   </g>\n   <g id=\"text_39\">\n    <!-- 0 -->\n    <g style=\"fill:#ffffff;\" transform=\"translate(58.378438 77.909375)scale(0.1 -0.1)\">\n     <use xlink:href=\"#DejaVuSans-48\"/>\n    </g>\n   </g>\n   <g id=\"text_40\">\n    <!-- 516 -->\n    <g style=\"fill:#ffffff;\" transform=\"translate(89.215938 77.909375)scale(0.1 -0.1)\">\n     <use xlink:href=\"#DejaVuSans-53\"/>\n     <use x=\"63.623047\" xlink:href=\"#DejaVuSans-49\"/>\n     <use x=\"127.246094\" xlink:href=\"#DejaVuSans-54\"/>\n    </g>\n   </g>\n   <g id=\"text_41\">\n    <!-- 9 -->\n    <g style=\"fill:#ffffff;\" transform=\"translate(132.778437 77.909375)scale(0.1 -0.1)\">\n     <use xlink:href=\"#DejaVuSans-57\"/>\n    </g>\n   </g>\n   <g id=\"text_42\">\n    <!-- 4 -->\n    <g style=\"fill:#ffffff;\" transform=\"translate(169.978438 77.909375)scale(0.1 -0.1)\">\n     <use xlink:href=\"#DejaVuSans-52\"/>\n    </g>\n   </g>\n   <g id=\"text_43\">\n    <!-- 3 -->\n    <g style=\"fill:#ffffff;\" transform=\"translate(207.178438 77.909375)scale(0.1 -0.1)\">\n     <use xlink:href=\"#DejaVuSans-51\"/>\n    </g>\n   </g>\n   <g id=\"text_44\">\n    <!-- 29 -->\n    <g style=\"fill:#ffffff;\" transform=\"translate(241.197188 77.909375)scale(0.1 -0.1)\">\n     <use xlink:href=\"#DejaVuSans-50\"/>\n     <use x=\"63.623047\" xlink:href=\"#DejaVuSans-57\"/>\n    </g>\n   </g>\n   <g id=\"text_45\">\n    <!-- 2 -->\n    <g style=\"fill:#ffffff;\" transform=\"translate(281.578438 77.909375)scale(0.1 -0.1)\">\n     <use xlink:href=\"#DejaVuSans-50\"/>\n    </g>\n   </g>\n   <g id=\"text_46\">\n    <!-- 4 -->\n    <g style=\"fill:#ffffff;\" transform=\"translate(318.778437 77.909375)scale(0.1 -0.1)\">\n     <use xlink:href=\"#DejaVuSans-52\"/>\n    </g>\n   </g>\n   <g id=\"text_47\">\n    <!-- 37 -->\n    <g style=\"fill:#ffffff;\" transform=\"translate(352.797188 77.909375)scale(0.1 -0.1)\">\n     <use xlink:href=\"#DejaVuSans-51\"/>\n     <use x=\"63.623047\" xlink:href=\"#DejaVuSans-55\"/>\n    </g>\n   </g>\n   <g id=\"text_48\">\n    <!-- 34 -->\n    <g style=\"fill:#ffffff;\" transform=\"translate(389.997188 77.909375)scale(0.1 -0.1)\">\n     <use xlink:href=\"#DejaVuSans-51\"/>\n     <use x=\"63.623047\" xlink:href=\"#DejaVuSans-52\"/>\n    </g>\n   </g>\n   <g id=\"text_49\">\n    <!-- 13 -->\n    <g style=\"fill:#ffffff;\" transform=\"translate(427.197187 77.909375)scale(0.1 -0.1)\">\n     <use xlink:href=\"#DejaVuSans-49\"/>\n     <use x=\"63.623047\" xlink:href=\"#DejaVuSans-51\"/>\n    </g>\n   </g>\n   <g id=\"text_50\">\n    <!-- 2 -->\n    <g style=\"fill:#ffffff;\" transform=\"translate(467.578438 77.909375)scale(0.1 -0.1)\">\n     <use xlink:href=\"#DejaVuSans-50\"/>\n    </g>\n   </g>\n   <g id=\"text_51\">\n    <!-- 1 -->\n    <g style=\"fill:#ffffff;\" transform=\"translate(58.378438 123.209375)scale(0.1 -0.1)\">\n     <use xlink:href=\"#DejaVuSans-49\"/>\n    </g>\n   </g>\n   <g id=\"text_52\">\n    <!-- 25 -->\n    <g style=\"fill:#ffffff;\" transform=\"translate(92.397188 123.209375)scale(0.1 -0.1)\">\n     <use xlink:href=\"#DejaVuSans-50\"/>\n     <use x=\"63.623047\" xlink:href=\"#DejaVuSans-53\"/>\n    </g>\n   </g>\n   <g id=\"text_53\">\n    <!-- 358 -->\n    <g style=\"fill:#ffffff;\" transform=\"translate(126.415937 123.209375)scale(0.1 -0.1)\">\n     <use xlink:href=\"#DejaVuSans-51\"/>\n     <use x=\"63.623047\" xlink:href=\"#DejaVuSans-53\"/>\n     <use x=\"127.246094\" xlink:href=\"#DejaVuSans-56\"/>\n    </g>\n   </g>\n   <g id=\"text_54\">\n    <!-- 3 -->\n    <g style=\"fill:#ffffff;\" transform=\"translate(169.978438 123.209375)scale(0.1 -0.1)\">\n     <use xlink:href=\"#DejaVuSans-51\"/>\n    </g>\n   </g>\n   <g id=\"text_55\">\n    <!-- 5 -->\n    <g style=\"fill:#ffffff;\" transform=\"translate(207.178438 123.209375)scale(0.1 -0.1)\">\n     <use xlink:href=\"#DejaVuSans-53\"/>\n    </g>\n   </g>\n   <g id=\"text_56\">\n    <!-- 61 -->\n    <g style=\"fill:#ffffff;\" transform=\"translate(241.197188 123.209375)scale(0.1 -0.1)\">\n     <use xlink:href=\"#DejaVuSans-54\"/>\n     <use x=\"63.623047\" xlink:href=\"#DejaVuSans-49\"/>\n    </g>\n   </g>\n   <g id=\"text_57\">\n    <!-- 3 -->\n    <g style=\"fill:#ffffff;\" transform=\"translate(281.578438 123.209375)scale(0.1 -0.1)\">\n     <use xlink:href=\"#DejaVuSans-51\"/>\n    </g>\n   </g>\n   <g id=\"text_58\">\n    <!-- 3 -->\n    <g style=\"fill:#ffffff;\" transform=\"translate(318.778437 123.209375)scale(0.1 -0.1)\">\n     <use xlink:href=\"#DejaVuSans-51\"/>\n    </g>\n   </g>\n   <g id=\"text_59\">\n    <!-- 59 -->\n    <g style=\"fill:#ffffff;\" transform=\"translate(352.797188 123.209375)scale(0.1 -0.1)\">\n     <use xlink:href=\"#DejaVuSans-53\"/>\n     <use x=\"63.623047\" xlink:href=\"#DejaVuSans-57\"/>\n    </g>\n   </g>\n   <g id=\"text_60\">\n    <!-- 70 -->\n    <g style=\"fill:#ffffff;\" transform=\"translate(389.997188 123.209375)scale(0.1 -0.1)\">\n     <use xlink:href=\"#DejaVuSans-55\"/>\n     <use x=\"63.623047\" xlink:href=\"#DejaVuSans-48\"/>\n    </g>\n   </g>\n   <g id=\"text_61\">\n    <!-- 7 -->\n    <g style=\"fill:#ffffff;\" transform=\"translate(430.378438 123.209375)scale(0.1 -0.1)\">\n     <use xlink:href=\"#DejaVuSans-55\"/>\n    </g>\n   </g>\n   <g id=\"text_62\">\n    <!-- 2 -->\n    <g style=\"fill:#ffffff;\" transform=\"translate(467.578438 123.209375)scale(0.1 -0.1)\">\n     <use xlink:href=\"#DejaVuSans-50\"/>\n    </g>\n   </g>\n   <g id=\"text_63\">\n    <!-- 0 -->\n    <g style=\"fill:#ffffff;\" transform=\"translate(58.378438 168.509375)scale(0.1 -0.1)\">\n     <use xlink:href=\"#DejaVuSans-48\"/>\n    </g>\n   </g>\n   <g id=\"text_64\">\n    <!-- 18 -->\n    <g style=\"fill:#ffffff;\" transform=\"translate(92.397188 168.509375)scale(0.1 -0.1)\">\n     <use xlink:href=\"#DejaVuSans-49\"/>\n     <use x=\"63.623047\" xlink:href=\"#DejaVuSans-56\"/>\n    </g>\n   </g>\n   <g id=\"text_65\">\n    <!-- 5 -->\n    <g style=\"fill:#ffffff;\" transform=\"translate(132.778437 168.509375)scale(0.1 -0.1)\">\n     <use xlink:href=\"#DejaVuSans-53\"/>\n    </g>\n   </g>\n   <g id=\"text_66\">\n    <!-- 160 -->\n    <g style=\"fill:#ffffff;\" transform=\"translate(163.615938 168.509375)scale(0.1 -0.1)\">\n     <use xlink:href=\"#DejaVuSans-49\"/>\n     <use x=\"63.623047\" xlink:href=\"#DejaVuSans-54\"/>\n     <use x=\"127.246094\" xlink:href=\"#DejaVuSans-48\"/>\n    </g>\n   </g>\n   <g id=\"text_67\">\n    <!-- 4 -->\n    <g style=\"fill:#ffffff;\" transform=\"translate(207.178438 168.509375)scale(0.1 -0.1)\">\n     <use xlink:href=\"#DejaVuSans-52\"/>\n    </g>\n   </g>\n   <g id=\"text_68\">\n    <!-- 16 -->\n    <g style=\"fill:#ffffff;\" transform=\"translate(241.197188 168.509375)scale(0.1 -0.1)\">\n     <use xlink:href=\"#DejaVuSans-49\"/>\n     <use x=\"63.623047\" xlink:href=\"#DejaVuSans-54\"/>\n    </g>\n   </g>\n   <g id=\"text_69\">\n    <!-- 0 -->\n    <g style=\"fill:#ffffff;\" transform=\"translate(281.578438 168.509375)scale(0.1 -0.1)\">\n     <use xlink:href=\"#DejaVuSans-48\"/>\n    </g>\n   </g>\n   <g id=\"text_70\">\n    <!-- 15 -->\n    <g style=\"fill:#ffffff;\" transform=\"translate(315.597187 168.509375)scale(0.1 -0.1)\">\n     <use xlink:href=\"#DejaVuSans-49\"/>\n     <use x=\"63.623047\" xlink:href=\"#DejaVuSans-53\"/>\n    </g>\n   </g>\n   <g id=\"text_71\">\n    <!-- 23 -->\n    <g style=\"fill:#ffffff;\" transform=\"translate(352.797188 168.509375)scale(0.1 -0.1)\">\n     <use xlink:href=\"#DejaVuSans-50\"/>\n     <use x=\"63.623047\" xlink:href=\"#DejaVuSans-51\"/>\n    </g>\n   </g>\n   <g id=\"text_72\">\n    <!-- 33 -->\n    <g style=\"fill:#ffffff;\" transform=\"translate(389.997188 168.509375)scale(0.1 -0.1)\">\n     <use xlink:href=\"#DejaVuSans-51\"/>\n     <use x=\"63.623047\" xlink:href=\"#DejaVuSans-51\"/>\n    </g>\n   </g>\n   <g id=\"text_73\">\n    <!-- 6 -->\n    <g style=\"fill:#ffffff;\" transform=\"translate(430.378438 168.509375)scale(0.1 -0.1)\">\n     <use xlink:href=\"#DejaVuSans-54\"/>\n    </g>\n   </g>\n   <g id=\"text_74\">\n    <!-- 4 -->\n    <g style=\"fill:#ffffff;\" transform=\"translate(467.578438 168.509375)scale(0.1 -0.1)\">\n     <use xlink:href=\"#DejaVuSans-52\"/>\n    </g>\n   </g>\n   <g id=\"text_75\">\n    <!-- 1 -->\n    <g style=\"fill:#ffffff;\" transform=\"translate(58.378438 213.809375)scale(0.1 -0.1)\">\n     <use xlink:href=\"#DejaVuSans-49\"/>\n    </g>\n   </g>\n   <g id=\"text_76\">\n    <!-- 13 -->\n    <g style=\"fill:#ffffff;\" transform=\"translate(92.397188 213.809375)scale(0.1 -0.1)\">\n     <use xlink:href=\"#DejaVuSans-49\"/>\n     <use x=\"63.623047\" xlink:href=\"#DejaVuSans-51\"/>\n    </g>\n   </g>\n   <g id=\"text_77\">\n    <!-- 12 -->\n    <g style=\"fill:#ffffff;\" transform=\"translate(129.597187 213.809375)scale(0.1 -0.1)\">\n     <use xlink:href=\"#DejaVuSans-49\"/>\n     <use x=\"63.623047\" xlink:href=\"#DejaVuSans-50\"/>\n    </g>\n   </g>\n   <g id=\"text_78\">\n    <!-- 8 -->\n    <g style=\"fill:#ffffff;\" transform=\"translate(169.978438 213.809375)scale(0.1 -0.1)\">\n     <use xlink:href=\"#DejaVuSans-56\"/>\n    </g>\n   </g>\n   <g id=\"text_79\">\n    <!-- 199 -->\n    <g style=\"fill:#ffffff;\" transform=\"translate(200.815938 213.809375)scale(0.1 -0.1)\">\n     <use xlink:href=\"#DejaVuSans-49\"/>\n     <use x=\"63.623047\" xlink:href=\"#DejaVuSans-57\"/>\n     <use x=\"127.246094\" xlink:href=\"#DejaVuSans-57\"/>\n    </g>\n   </g>\n   <g id=\"text_80\">\n    <!-- 15 -->\n    <g style=\"fill:#ffffff;\" transform=\"translate(241.197188 213.809375)scale(0.1 -0.1)\">\n     <use xlink:href=\"#DejaVuSans-49\"/>\n     <use x=\"63.623047\" xlink:href=\"#DejaVuSans-53\"/>\n    </g>\n   </g>\n   <g id=\"text_81\">\n    <!-- 1 -->\n    <g style=\"fill:#ffffff;\" transform=\"translate(281.578438 213.809375)scale(0.1 -0.1)\">\n     <use xlink:href=\"#DejaVuSans-49\"/>\n    </g>\n   </g>\n   <g id=\"text_82\">\n    <!-- 8 -->\n    <g style=\"fill:#ffffff;\" transform=\"translate(318.778437 213.809375)scale(0.1 -0.1)\">\n     <use xlink:href=\"#DejaVuSans-56\"/>\n    </g>\n   </g>\n   <g id=\"text_83\">\n    <!-- 24 -->\n    <g style=\"fill:#ffffff;\" transform=\"translate(352.797188 213.809375)scale(0.1 -0.1)\">\n     <use xlink:href=\"#DejaVuSans-50\"/>\n     <use x=\"63.623047\" xlink:href=\"#DejaVuSans-52\"/>\n    </g>\n   </g>\n   <g id=\"text_84\">\n    <!-- 32 -->\n    <g style=\"fill:#ffffff;\" transform=\"translate(389.997188 213.809375)scale(0.1 -0.1)\">\n     <use xlink:href=\"#DejaVuSans-51\"/>\n     <use x=\"63.623047\" xlink:href=\"#DejaVuSans-50\"/>\n    </g>\n   </g>\n   <g id=\"text_85\">\n    <!-- 0 -->\n    <g style=\"fill:#ffffff;\" transform=\"translate(430.378438 213.809375)scale(0.1 -0.1)\">\n     <use xlink:href=\"#DejaVuSans-48\"/>\n    </g>\n   </g>\n   <g id=\"text_86\">\n    <!-- 3 -->\n    <g style=\"fill:#ffffff;\" transform=\"translate(467.578438 213.809375)scale(0.1 -0.1)\">\n     <use xlink:href=\"#DejaVuSans-51\"/>\n    </g>\n   </g>\n   <g id=\"text_87\">\n    <!-- 1 -->\n    <g style=\"fill:#ffffff;\" transform=\"translate(58.378438 259.109375)scale(0.1 -0.1)\">\n     <use xlink:href=\"#DejaVuSans-49\"/>\n    </g>\n   </g>\n   <g id=\"text_88\">\n    <!-- 49 -->\n    <g style=\"fill:#ffffff;\" transform=\"translate(92.397188 259.109375)scale(0.1 -0.1)\">\n     <use xlink:href=\"#DejaVuSans-52\"/>\n     <use x=\"63.623047\" xlink:href=\"#DejaVuSans-57\"/>\n    </g>\n   </g>\n   <g id=\"text_89\">\n    <!-- 52 -->\n    <g style=\"fill:#ffffff;\" transform=\"translate(129.597187 259.109375)scale(0.1 -0.1)\">\n     <use xlink:href=\"#DejaVuSans-53\"/>\n     <use x=\"63.623047\" xlink:href=\"#DejaVuSans-50\"/>\n    </g>\n   </g>\n   <g id=\"text_90\">\n    <!-- 5 -->\n    <g style=\"fill:#ffffff;\" transform=\"translate(169.978438 259.109375)scale(0.1 -0.1)\">\n     <use xlink:href=\"#DejaVuSans-53\"/>\n    </g>\n   </g>\n   <g id=\"text_91\">\n    <!-- 4 -->\n    <g style=\"fill:#ffffff;\" transform=\"translate(207.178438 259.109375)scale(0.1 -0.1)\">\n     <use xlink:href=\"#DejaVuSans-52\"/>\n    </g>\n   </g>\n   <g id=\"text_92\">\n    <!-- 593 -->\n    <g style=\"fill:#ffffff;\" transform=\"translate(238.015938 259.109375)scale(0.1 -0.1)\">\n     <use xlink:href=\"#DejaVuSans-53\"/>\n     <use x=\"63.623047\" xlink:href=\"#DejaVuSans-57\"/>\n     <use x=\"127.246094\" xlink:href=\"#DejaVuSans-51\"/>\n    </g>\n   </g>\n   <g id=\"text_93\">\n    <!-- 5 -->\n    <g style=\"fill:#ffffff;\" transform=\"translate(281.578438 259.109375)scale(0.1 -0.1)\">\n     <use xlink:href=\"#DejaVuSans-53\"/>\n    </g>\n   </g>\n   <g id=\"text_94\">\n    <!-- 23 -->\n    <g style=\"fill:#ffffff;\" transform=\"translate(315.597187 259.109375)scale(0.1 -0.1)\">\n     <use xlink:href=\"#DejaVuSans-50\"/>\n     <use x=\"63.623047\" xlink:href=\"#DejaVuSans-51\"/>\n    </g>\n   </g>\n   <g id=\"text_95\">\n    <!-- 23 -->\n    <g style=\"fill:#ffffff;\" transform=\"translate(352.797188 259.109375)scale(0.1 -0.1)\">\n     <use xlink:href=\"#DejaVuSans-50\"/>\n     <use x=\"63.623047\" xlink:href=\"#DejaVuSans-51\"/>\n    </g>\n   </g>\n   <g id=\"text_96\">\n    <!-- 62 -->\n    <g style=\"fill:#ffffff;\" transform=\"translate(389.997188 259.109375)scale(0.1 -0.1)\">\n     <use xlink:href=\"#DejaVuSans-54\"/>\n     <use x=\"63.623047\" xlink:href=\"#DejaVuSans-50\"/>\n    </g>\n   </g>\n   <g id=\"text_97\">\n    <!-- 8 -->\n    <g style=\"fill:#ffffff;\" transform=\"translate(430.378438 259.109375)scale(0.1 -0.1)\">\n     <use xlink:href=\"#DejaVuSans-56\"/>\n    </g>\n   </g>\n   <g id=\"text_98\">\n    <!-- 0 -->\n    <g style=\"fill:#ffffff;\" transform=\"translate(467.578438 259.109375)scale(0.1 -0.1)\">\n     <use xlink:href=\"#DejaVuSans-48\"/>\n    </g>\n   </g>\n   <g id=\"text_99\">\n    <!-- 0 -->\n    <g style=\"fill:#ffffff;\" transform=\"translate(58.378438 304.409375)scale(0.1 -0.1)\">\n     <use xlink:href=\"#DejaVuSans-48\"/>\n    </g>\n   </g>\n   <g id=\"text_100\">\n    <!-- 4 -->\n    <g style=\"fill:#ffffff;\" transform=\"translate(95.578438 304.409375)scale(0.1 -0.1)\">\n     <use xlink:href=\"#DejaVuSans-52\"/>\n    </g>\n   </g>\n   <g id=\"text_101\">\n    <!-- 9 -->\n    <g style=\"fill:#ffffff;\" transform=\"translate(132.778437 304.409375)scale(0.1 -0.1)\">\n     <use xlink:href=\"#DejaVuSans-57\"/>\n    </g>\n   </g>\n   <g id=\"text_102\">\n    <!-- 2 -->\n    <g style=\"fill:#ffffff;\" transform=\"translate(169.978438 304.409375)scale(0.1 -0.1)\">\n     <use xlink:href=\"#DejaVuSans-50\"/>\n    </g>\n   </g>\n   <g id=\"text_103\">\n    <!-- 1 -->\n    <g style=\"fill:#ffffff;\" transform=\"translate(207.178438 304.409375)scale(0.1 -0.1)\">\n     <use xlink:href=\"#DejaVuSans-49\"/>\n    </g>\n   </g>\n   <g id=\"text_104\">\n    <!-- 12 -->\n    <g style=\"fill:#ffffff;\" transform=\"translate(241.197188 304.409375)scale(0.1 -0.1)\">\n     <use xlink:href=\"#DejaVuSans-49\"/>\n     <use x=\"63.623047\" xlink:href=\"#DejaVuSans-50\"/>\n    </g>\n   </g>\n   <g id=\"text_105\">\n    <!-- 338 -->\n    <g style=\"fill:#ffffff;\" transform=\"translate(275.215938 304.409375)scale(0.1 -0.1)\">\n     <use xlink:href=\"#DejaVuSans-51\"/>\n     <use x=\"63.623047\" xlink:href=\"#DejaVuSans-51\"/>\n     <use x=\"127.246094\" xlink:href=\"#DejaVuSans-56\"/>\n    </g>\n   </g>\n   <g id=\"text_106\">\n    <!-- 21 -->\n    <g style=\"fill:#ffffff;\" transform=\"translate(315.597187 304.409375)scale(0.1 -0.1)\">\n     <use xlink:href=\"#DejaVuSans-50\"/>\n     <use x=\"63.623047\" xlink:href=\"#DejaVuSans-49\"/>\n    </g>\n   </g>\n   <g id=\"text_107\">\n    <!-- 15 -->\n    <g style=\"fill:#ffffff;\" transform=\"translate(352.797188 304.409375)scale(0.1 -0.1)\">\n     <use xlink:href=\"#DejaVuSans-49\"/>\n     <use x=\"63.623047\" xlink:href=\"#DejaVuSans-53\"/>\n    </g>\n   </g>\n   <g id=\"text_108\">\n    <!-- 32 -->\n    <g style=\"fill:#ffffff;\" transform=\"translate(389.997188 304.409375)scale(0.1 -0.1)\">\n     <use xlink:href=\"#DejaVuSans-51\"/>\n     <use x=\"63.623047\" xlink:href=\"#DejaVuSans-50\"/>\n    </g>\n   </g>\n   <g id=\"text_109\">\n    <!-- 35 -->\n    <g style=\"fill:#ffffff;\" transform=\"translate(427.197187 304.409375)scale(0.1 -0.1)\">\n     <use xlink:href=\"#DejaVuSans-51\"/>\n     <use x=\"63.623047\" xlink:href=\"#DejaVuSans-53\"/>\n    </g>\n   </g>\n   <g id=\"text_110\">\n    <!-- 0 -->\n    <g style=\"fill:#ffffff;\" transform=\"translate(467.578438 304.409375)scale(0.1 -0.1)\">\n     <use xlink:href=\"#DejaVuSans-48\"/>\n    </g>\n   </g>\n   <g id=\"text_111\">\n    <!-- 0 -->\n    <g style=\"fill:#ffffff;\" transform=\"translate(58.378438 349.709375)scale(0.1 -0.1)\">\n     <use xlink:href=\"#DejaVuSans-48\"/>\n    </g>\n   </g>\n   <g id=\"text_112\">\n    <!-- 3 -->\n    <g style=\"fill:#ffffff;\" transform=\"translate(95.578438 349.709375)scale(0.1 -0.1)\">\n     <use xlink:href=\"#DejaVuSans-51\"/>\n    </g>\n   </g>\n   <g id=\"text_113\">\n    <!-- 4 -->\n    <g style=\"fill:#ffffff;\" transform=\"translate(132.778437 349.709375)scale(0.1 -0.1)\">\n     <use xlink:href=\"#DejaVuSans-52\"/>\n    </g>\n   </g>\n   <g id=\"text_114\">\n    <!-- 2 -->\n    <g style=\"fill:#ffffff;\" transform=\"translate(169.978438 349.709375)scale(0.1 -0.1)\">\n     <use xlink:href=\"#DejaVuSans-50\"/>\n    </g>\n   </g>\n   <g id=\"text_115\">\n    <!-- 1 -->\n    <g style=\"fill:#ffffff;\" transform=\"translate(207.178438 349.709375)scale(0.1 -0.1)\">\n     <use xlink:href=\"#DejaVuSans-49\"/>\n    </g>\n   </g>\n   <g id=\"text_116\">\n    <!-- 10 -->\n    <g style=\"fill:#ffffff;\" transform=\"translate(241.197188 349.709375)scale(0.1 -0.1)\">\n     <use xlink:href=\"#DejaVuSans-49\"/>\n     <use x=\"63.623047\" xlink:href=\"#DejaVuSans-48\"/>\n    </g>\n   </g>\n   <g id=\"text_117\">\n    <!-- 4 -->\n    <g style=\"fill:#ffffff;\" transform=\"translate(281.578438 349.709375)scale(0.1 -0.1)\">\n     <use xlink:href=\"#DejaVuSans-52\"/>\n    </g>\n   </g>\n   <g id=\"text_118\">\n    <!-- 431 -->\n    <g style=\"fill:#ffffff;\" transform=\"translate(312.415937 349.709375)scale(0.1 -0.1)\">\n     <use xlink:href=\"#DejaVuSans-52\"/>\n     <use x=\"63.623047\" xlink:href=\"#DejaVuSans-51\"/>\n     <use x=\"127.246094\" xlink:href=\"#DejaVuSans-49\"/>\n    </g>\n   </g>\n   <g id=\"text_119\">\n    <!-- 2 -->\n    <g style=\"fill:#ffffff;\" transform=\"translate(355.978438 349.709375)scale(0.1 -0.1)\">\n     <use xlink:href=\"#DejaVuSans-50\"/>\n    </g>\n   </g>\n   <g id=\"text_120\">\n    <!-- 3 -->\n    <g style=\"fill:#ffffff;\" transform=\"translate(393.178438 349.709375)scale(0.1 -0.1)\">\n     <use xlink:href=\"#DejaVuSans-51\"/>\n    </g>\n   </g>\n   <g id=\"text_121\">\n    <!-- 3 -->\n    <g style=\"fill:#ffffff;\" transform=\"translate(430.378438 349.709375)scale(0.1 -0.1)\">\n     <use xlink:href=\"#DejaVuSans-51\"/>\n    </g>\n   </g>\n   <g id=\"text_122\">\n    <!-- 1 -->\n    <g style=\"fill:#ffffff;\" transform=\"translate(467.578438 349.709375)scale(0.1 -0.1)\">\n     <use xlink:href=\"#DejaVuSans-49\"/>\n    </g>\n   </g>\n   <g id=\"text_123\">\n    <!-- 1 -->\n    <g style=\"fill:#ffffff;\" transform=\"translate(58.378438 395.009375)scale(0.1 -0.1)\">\n     <use xlink:href=\"#DejaVuSans-49\"/>\n    </g>\n   </g>\n   <g id=\"text_124\">\n    <!-- 30 -->\n    <g style=\"fill:#ffffff;\" transform=\"translate(92.397188 395.009375)scale(0.1 -0.1)\">\n     <use xlink:href=\"#DejaVuSans-51\"/>\n     <use x=\"63.623047\" xlink:href=\"#DejaVuSans-48\"/>\n    </g>\n   </g>\n   <g id=\"text_125\">\n    <!-- 22 -->\n    <g style=\"fill:#ffffff;\" transform=\"translate(129.597187 395.009375)scale(0.1 -0.1)\">\n     <use xlink:href=\"#DejaVuSans-50\"/>\n     <use x=\"63.623047\" xlink:href=\"#DejaVuSans-50\"/>\n    </g>\n   </g>\n   <g id=\"text_126\">\n    <!-- 14 -->\n    <g style=\"fill:#ffffff;\" transform=\"translate(166.797188 395.009375)scale(0.1 -0.1)\">\n     <use xlink:href=\"#DejaVuSans-49\"/>\n     <use x=\"63.623047\" xlink:href=\"#DejaVuSans-52\"/>\n    </g>\n   </g>\n   <g id=\"text_127\">\n    <!-- 7 -->\n    <g style=\"fill:#ffffff;\" transform=\"translate(207.178438 395.009375)scale(0.1 -0.1)\">\n     <use xlink:href=\"#DejaVuSans-55\"/>\n    </g>\n   </g>\n   <g id=\"text_128\">\n    <!-- 13 -->\n    <g style=\"fill:#ffffff;\" transform=\"translate(241.197188 395.009375)scale(0.1 -0.1)\">\n     <use xlink:href=\"#DejaVuSans-49\"/>\n     <use x=\"63.623047\" xlink:href=\"#DejaVuSans-51\"/>\n    </g>\n   </g>\n   <g id=\"text_129\">\n    <!-- 2 -->\n    <g style=\"fill:#ffffff;\" transform=\"translate(281.578438 395.009375)scale(0.1 -0.1)\">\n     <use xlink:href=\"#DejaVuSans-50\"/>\n    </g>\n   </g>\n   <g id=\"text_130\">\n    <!-- 0 -->\n    <g style=\"fill:#ffffff;\" transform=\"translate(318.778437 395.009375)scale(0.1 -0.1)\">\n     <use xlink:href=\"#DejaVuSans-48\"/>\n    </g>\n   </g>\n   <g id=\"text_131\">\n    <!-- 616 -->\n    <g style=\"fill:#ffffff;\" transform=\"translate(349.615938 395.009375)scale(0.1 -0.1)\">\n     <use xlink:href=\"#DejaVuSans-54\"/>\n     <use x=\"63.623047\" xlink:href=\"#DejaVuSans-49\"/>\n     <use x=\"127.246094\" xlink:href=\"#DejaVuSans-54\"/>\n    </g>\n   </g>\n   <g id=\"text_132\">\n    <!-- 73 -->\n    <g style=\"fill:#ffffff;\" transform=\"translate(389.997188 395.009375)scale(0.1 -0.1)\">\n     <use xlink:href=\"#DejaVuSans-55\"/>\n     <use x=\"63.623047\" xlink:href=\"#DejaVuSans-51\"/>\n    </g>\n   </g>\n   <g id=\"text_133\">\n    <!-- 20 -->\n    <g style=\"fill:#ffffff;\" transform=\"translate(427.197187 395.009375)scale(0.1 -0.1)\">\n     <use xlink:href=\"#DejaVuSans-50\"/>\n     <use x=\"63.623047\" xlink:href=\"#DejaVuSans-48\"/>\n    </g>\n   </g>\n   <g id=\"text_134\">\n    <!-- 1 -->\n    <g style=\"fill:#ffffff;\" transform=\"translate(467.578438 395.009375)scale(0.1 -0.1)\">\n     <use xlink:href=\"#DejaVuSans-49\"/>\n    </g>\n   </g>\n   <g id=\"text_135\">\n    <!-- 0 -->\n    <g style=\"fill:#ffffff;\" transform=\"translate(58.378438 440.309375)scale(0.1 -0.1)\">\n     <use xlink:href=\"#DejaVuSans-48\"/>\n    </g>\n   </g>\n   <g id=\"text_136\">\n    <!-- 16 -->\n    <g style=\"fill:#ffffff;\" transform=\"translate(92.397188 440.309375)scale(0.1 -0.1)\">\n     <use xlink:href=\"#DejaVuSans-49\"/>\n     <use x=\"63.623047\" xlink:href=\"#DejaVuSans-54\"/>\n    </g>\n   </g>\n   <g id=\"text_137\">\n    <!-- 16 -->\n    <g style=\"fill:#ffffff;\" transform=\"translate(129.597187 440.309375)scale(0.1 -0.1)\">\n     <use xlink:href=\"#DejaVuSans-49\"/>\n     <use x=\"63.623047\" xlink:href=\"#DejaVuSans-54\"/>\n    </g>\n   </g>\n   <g id=\"text_138\">\n    <!-- 2 -->\n    <g style=\"fill:#ffffff;\" transform=\"translate(169.978438 440.309375)scale(0.1 -0.1)\">\n     <use xlink:href=\"#DejaVuSans-50\"/>\n    </g>\n   </g>\n   <g id=\"text_139\">\n    <!-- 8 -->\n    <g style=\"fill:#ffffff;\" transform=\"translate(207.178438 440.309375)scale(0.1 -0.1)\">\n     <use xlink:href=\"#DejaVuSans-56\"/>\n    </g>\n   </g>\n   <g id=\"text_140\">\n    <!-- 26 -->\n    <g style=\"fill:#ffffff;\" transform=\"translate(241.197188 440.309375)scale(0.1 -0.1)\">\n     <use xlink:href=\"#DejaVuSans-50\"/>\n     <use x=\"63.623047\" xlink:href=\"#DejaVuSans-54\"/>\n    </g>\n   </g>\n   <g id=\"text_141\">\n    <!-- 1 -->\n    <g style=\"fill:#ffffff;\" transform=\"translate(281.578438 440.309375)scale(0.1 -0.1)\">\n     <use xlink:href=\"#DejaVuSans-49\"/>\n    </g>\n   </g>\n   <g id=\"text_142\">\n    <!-- 11 -->\n    <g style=\"fill:#ffffff;\" transform=\"translate(315.597187 440.309375)scale(0.1 -0.1)\">\n     <use xlink:href=\"#DejaVuSans-49\"/>\n     <use x=\"63.623047\" xlink:href=\"#DejaVuSans-49\"/>\n    </g>\n   </g>\n   <g id=\"text_143\">\n    <!-- 47 -->\n    <g style=\"fill:#ffffff;\" transform=\"translate(352.797188 440.309375)scale(0.1 -0.1)\">\n     <use xlink:href=\"#DejaVuSans-52\"/>\n     <use x=\"63.623047\" xlink:href=\"#DejaVuSans-55\"/>\n    </g>\n   </g>\n   <g id=\"text_144\">\n    <!-- 894 -->\n    <g style=\"fill:#262626;\" transform=\"translate(386.815938 440.309375)scale(0.1 -0.1)\">\n     <use xlink:href=\"#DejaVuSans-56\"/>\n     <use x=\"63.623047\" xlink:href=\"#DejaVuSans-57\"/>\n     <use x=\"127.246094\" xlink:href=\"#DejaVuSans-52\"/>\n    </g>\n   </g>\n   <g id=\"text_145\">\n    <!-- 4 -->\n    <g style=\"fill:#ffffff;\" transform=\"translate(430.378438 440.309375)scale(0.1 -0.1)\">\n     <use xlink:href=\"#DejaVuSans-52\"/>\n    </g>\n   </g>\n   <g id=\"text_146\">\n    <!-- 3 -->\n    <g style=\"fill:#ffffff;\" transform=\"translate(467.578438 440.309375)scale(0.1 -0.1)\">\n     <use xlink:href=\"#DejaVuSans-51\"/>\n    </g>\n   </g>\n   <g id=\"text_147\">\n    <!-- 0 -->\n    <g style=\"fill:#ffffff;\" transform=\"translate(58.378438 485.609375)scale(0.1 -0.1)\">\n     <use xlink:href=\"#DejaVuSans-48\"/>\n    </g>\n   </g>\n   <g id=\"text_148\">\n    <!-- 10 -->\n    <g style=\"fill:#ffffff;\" transform=\"translate(92.397188 485.609375)scale(0.1 -0.1)\">\n     <use xlink:href=\"#DejaVuSans-49\"/>\n     <use x=\"63.623047\" xlink:href=\"#DejaVuSans-48\"/>\n    </g>\n   </g>\n   <g id=\"text_149\">\n    <!-- 17 -->\n    <g style=\"fill:#ffffff;\" transform=\"translate(129.597187 485.609375)scale(0.1 -0.1)\">\n     <use xlink:href=\"#DejaVuSans-49\"/>\n     <use x=\"63.623047\" xlink:href=\"#DejaVuSans-55\"/>\n    </g>\n   </g>\n   <g id=\"text_150\">\n    <!-- 2 -->\n    <g style=\"fill:#ffffff;\" transform=\"translate(169.978438 485.609375)scale(0.1 -0.1)\">\n     <use xlink:href=\"#DejaVuSans-50\"/>\n    </g>\n   </g>\n   <g id=\"text_151\">\n    <!-- 3 -->\n    <g style=\"fill:#ffffff;\" transform=\"translate(207.178438 485.609375)scale(0.1 -0.1)\">\n     <use xlink:href=\"#DejaVuSans-51\"/>\n    </g>\n   </g>\n   <g id=\"text_152\">\n    <!-- 17 -->\n    <g style=\"fill:#ffffff;\" transform=\"translate(241.197188 485.609375)scale(0.1 -0.1)\">\n     <use xlink:href=\"#DejaVuSans-49\"/>\n     <use x=\"63.623047\" xlink:href=\"#DejaVuSans-55\"/>\n    </g>\n   </g>\n   <g id=\"text_153\">\n    <!-- 18 -->\n    <g style=\"fill:#ffffff;\" transform=\"translate(278.397188 485.609375)scale(0.1 -0.1)\">\n     <use xlink:href=\"#DejaVuSans-49\"/>\n     <use x=\"63.623047\" xlink:href=\"#DejaVuSans-56\"/>\n    </g>\n   </g>\n   <g id=\"text_154\">\n    <!-- 11 -->\n    <g style=\"fill:#ffffff;\" transform=\"translate(315.597187 485.609375)scale(0.1 -0.1)\">\n     <use xlink:href=\"#DejaVuSans-49\"/>\n     <use x=\"63.623047\" xlink:href=\"#DejaVuSans-49\"/>\n    </g>\n   </g>\n   <g id=\"text_155\">\n    <!-- 36 -->\n    <g style=\"fill:#ffffff;\" transform=\"translate(352.797188 485.609375)scale(0.1 -0.1)\">\n     <use xlink:href=\"#DejaVuSans-51\"/>\n     <use x=\"63.623047\" xlink:href=\"#DejaVuSans-54\"/>\n    </g>\n   </g>\n   <g id=\"text_156\">\n    <!-- 36 -->\n    <g style=\"fill:#ffffff;\" transform=\"translate(389.997188 485.609375)scale(0.1 -0.1)\">\n     <use xlink:href=\"#DejaVuSans-51\"/>\n     <use x=\"63.623047\" xlink:href=\"#DejaVuSans-54\"/>\n    </g>\n   </g>\n   <g id=\"text_157\">\n    <!-- 616 -->\n    <g style=\"fill:#ffffff;\" transform=\"translate(424.015938 485.609375)scale(0.1 -0.1)\">\n     <use xlink:href=\"#DejaVuSans-54\"/>\n     <use x=\"63.623047\" xlink:href=\"#DejaVuSans-49\"/>\n     <use x=\"127.246094\" xlink:href=\"#DejaVuSans-54\"/>\n    </g>\n   </g>\n   <g id=\"text_158\">\n    <!-- 0 -->\n    <g style=\"fill:#ffffff;\" transform=\"translate(467.578438 485.609375)scale(0.1 -0.1)\">\n     <use xlink:href=\"#DejaVuSans-48\"/>\n    </g>\n   </g>\n   <g id=\"text_159\">\n    <!-- 0 -->\n    <g style=\"fill:#ffffff;\" transform=\"translate(58.378438 530.909375)scale(0.1 -0.1)\">\n     <use xlink:href=\"#DejaVuSans-48\"/>\n    </g>\n   </g>\n   <g id=\"text_160\">\n    <!-- 7 -->\n    <g style=\"fill:#ffffff;\" transform=\"translate(95.578438 530.909375)scale(0.1 -0.1)\">\n     <use xlink:href=\"#DejaVuSans-55\"/>\n    </g>\n   </g>\n   <g id=\"text_161\">\n    <!-- 10 -->\n    <g style=\"fill:#ffffff;\" transform=\"translate(129.597187 530.909375)scale(0.1 -0.1)\">\n     <use xlink:href=\"#DejaVuSans-49\"/>\n     <use x=\"63.623047\" xlink:href=\"#DejaVuSans-48\"/>\n    </g>\n   </g>\n   <g id=\"text_162\">\n    <!-- 6 -->\n    <g style=\"fill:#ffffff;\" transform=\"translate(169.978438 530.909375)scale(0.1 -0.1)\">\n     <use xlink:href=\"#DejaVuSans-54\"/>\n    </g>\n   </g>\n   <g id=\"text_163\">\n    <!-- 4 -->\n    <g style=\"fill:#ffffff;\" transform=\"translate(207.178438 530.909375)scale(0.1 -0.1)\">\n     <use xlink:href=\"#DejaVuSans-52\"/>\n    </g>\n   </g>\n   <g id=\"text_164\">\n    <!-- 13 -->\n    <g style=\"fill:#ffffff;\" transform=\"translate(241.197188 530.909375)scale(0.1 -0.1)\">\n     <use xlink:href=\"#DejaVuSans-49\"/>\n     <use x=\"63.623047\" xlink:href=\"#DejaVuSans-51\"/>\n    </g>\n   </g>\n   <g id=\"text_165\">\n    <!-- 0 -->\n    <g style=\"fill:#ffffff;\" transform=\"translate(281.578438 530.909375)scale(0.1 -0.1)\">\n     <use xlink:href=\"#DejaVuSans-48\"/>\n    </g>\n   </g>\n   <g id=\"text_166\">\n    <!-- 6 -->\n    <g style=\"fill:#ffffff;\" transform=\"translate(318.778437 530.909375)scale(0.1 -0.1)\">\n     <use xlink:href=\"#DejaVuSans-54\"/>\n    </g>\n   </g>\n   <g id=\"text_167\">\n    <!-- 9 -->\n    <g style=\"fill:#ffffff;\" transform=\"translate(355.978438 530.909375)scale(0.1 -0.1)\">\n     <use xlink:href=\"#DejaVuSans-57\"/>\n    </g>\n   </g>\n   <g id=\"text_168\">\n    <!-- 17 -->\n    <g style=\"fill:#ffffff;\" transform=\"translate(389.997188 530.909375)scale(0.1 -0.1)\">\n     <use xlink:href=\"#DejaVuSans-49\"/>\n     <use x=\"63.623047\" xlink:href=\"#DejaVuSans-55\"/>\n    </g>\n   </g>\n   <g id=\"text_169\">\n    <!-- 0 -->\n    <g style=\"fill:#ffffff;\" transform=\"translate(430.378438 530.909375)scale(0.1 -0.1)\">\n     <use xlink:href=\"#DejaVuSans-48\"/>\n    </g>\n   </g>\n   <g id=\"text_170\">\n    <!-- 115 -->\n    <g style=\"fill:#ffffff;\" transform=\"translate(461.215938 530.909375)scale(0.1 -0.1)\">\n     <use xlink:href=\"#DejaVuSans-49\"/>\n     <use x=\"63.623047\" xlink:href=\"#DejaVuSans-49\"/>\n     <use x=\"127.246094\" xlink:href=\"#DejaVuSans-53\"/>\n    </g>\n   </g>\n  </g>\n  <g id=\"axes_2\">\n   <g id=\"patch_3\">\n    <path clip-path=\"url(#pdbc7b29e33)\" d=\"M 517.259688 550.8 \nL 517.259688 548.676562 \nL 517.259688 9.323438 \nL 517.259688 7.2 \nL 544.439688 7.2 \nL 544.439688 9.323438 \nL 544.439688 548.676562 \nL 544.439688 550.8 \nz\n\" style=\"fill:#eaeaf2;stroke:#eaeaf2;stroke-linejoin:miter;stroke-width:0.01;\"/>\n   </g>\n   <g id=\"matplotlib.axis_3\"/>\n   <g id=\"matplotlib.axis_4\">\n    <g id=\"ytick_13\">\n     <g id=\"line2d_1\">\n      <defs>\n       <path d=\"M 0 0 \nL 6 0 \n\" id=\"m5be3ea432d\" style=\"stroke:#262626;stroke-width:1.25;\"/>\n      </defs>\n      <g>\n       <use style=\"fill:#262626;stroke:#262626;stroke-width:1.25;\" x=\"544.439688\" xlink:href=\"#m5be3ea432d\" y=\"550.8\"/>\n      </g>\n     </g>\n     <g id=\"text_171\">\n      <!-- 0 -->\n      <g style=\"fill:#262626;\" transform=\"translate(553.939688 554.979141)scale(0.11 -0.11)\">\n       <use xlink:href=\"#DejaVuSans-48\"/>\n      </g>\n     </g>\n    </g>\n    <g id=\"ytick_14\">\n     <g id=\"line2d_2\">\n      <g>\n       <use style=\"fill:#262626;stroke:#262626;stroke-width:1.25;\" x=\"544.439688\" xlink:href=\"#m5be3ea432d\" y=\"489.994631\"/>\n      </g>\n     </g>\n     <g id=\"text_172\">\n      <!-- 100 -->\n      <g style=\"fill:#262626;\" transform=\"translate(553.939688 494.173771)scale(0.11 -0.11)\">\n       <use xlink:href=\"#DejaVuSans-49\"/>\n       <use x=\"63.623047\" xlink:href=\"#DejaVuSans-48\"/>\n       <use x=\"127.246094\" xlink:href=\"#DejaVuSans-48\"/>\n      </g>\n     </g>\n    </g>\n    <g id=\"ytick_15\">\n     <g id=\"line2d_3\">\n      <g>\n       <use style=\"fill:#262626;stroke:#262626;stroke-width:1.25;\" x=\"544.439688\" xlink:href=\"#m5be3ea432d\" y=\"429.189262\"/>\n      </g>\n     </g>\n     <g id=\"text_173\">\n      <!-- 200 -->\n      <g style=\"fill:#262626;\" transform=\"translate(553.939688 433.368402)scale(0.11 -0.11)\">\n       <use xlink:href=\"#DejaVuSans-50\"/>\n       <use x=\"63.623047\" xlink:href=\"#DejaVuSans-48\"/>\n       <use x=\"127.246094\" xlink:href=\"#DejaVuSans-48\"/>\n      </g>\n     </g>\n    </g>\n    <g id=\"ytick_16\">\n     <g id=\"line2d_4\">\n      <g>\n       <use style=\"fill:#262626;stroke:#262626;stroke-width:1.25;\" x=\"544.439688\" xlink:href=\"#m5be3ea432d\" y=\"368.383893\"/>\n      </g>\n     </g>\n     <g id=\"text_174\">\n      <!-- 300 -->\n      <g style=\"fill:#262626;\" transform=\"translate(553.939688 372.563033)scale(0.11 -0.11)\">\n       <use xlink:href=\"#DejaVuSans-51\"/>\n       <use x=\"63.623047\" xlink:href=\"#DejaVuSans-48\"/>\n       <use x=\"127.246094\" xlink:href=\"#DejaVuSans-48\"/>\n      </g>\n     </g>\n    </g>\n    <g id=\"ytick_17\">\n     <g id=\"line2d_5\">\n      <g>\n       <use style=\"fill:#262626;stroke:#262626;stroke-width:1.25;\" x=\"544.439688\" xlink:href=\"#m5be3ea432d\" y=\"307.578523\"/>\n      </g>\n     </g>\n     <g id=\"text_175\">\n      <!-- 400 -->\n      <g style=\"fill:#262626;\" transform=\"translate(553.939688 311.757664)scale(0.11 -0.11)\">\n       <use xlink:href=\"#DejaVuSans-52\"/>\n       <use x=\"63.623047\" xlink:href=\"#DejaVuSans-48\"/>\n       <use x=\"127.246094\" xlink:href=\"#DejaVuSans-48\"/>\n      </g>\n     </g>\n    </g>\n    <g id=\"ytick_18\">\n     <g id=\"line2d_6\">\n      <g>\n       <use style=\"fill:#262626;stroke:#262626;stroke-width:1.25;\" x=\"544.439688\" xlink:href=\"#m5be3ea432d\" y=\"246.773154\"/>\n      </g>\n     </g>\n     <g id=\"text_176\">\n      <!-- 500 -->\n      <g style=\"fill:#262626;\" transform=\"translate(553.939688 250.952295)scale(0.11 -0.11)\">\n       <use xlink:href=\"#DejaVuSans-53\"/>\n       <use x=\"63.623047\" xlink:href=\"#DejaVuSans-48\"/>\n       <use x=\"127.246094\" xlink:href=\"#DejaVuSans-48\"/>\n      </g>\n     </g>\n    </g>\n    <g id=\"ytick_19\">\n     <g id=\"line2d_7\">\n      <g>\n       <use style=\"fill:#262626;stroke:#262626;stroke-width:1.25;\" x=\"544.439688\" xlink:href=\"#m5be3ea432d\" y=\"185.967785\"/>\n      </g>\n     </g>\n     <g id=\"text_177\">\n      <!-- 600 -->\n      <g style=\"fill:#262626;\" transform=\"translate(553.939688 190.146926)scale(0.11 -0.11)\">\n       <use xlink:href=\"#DejaVuSans-54\"/>\n       <use x=\"63.623047\" xlink:href=\"#DejaVuSans-48\"/>\n       <use x=\"127.246094\" xlink:href=\"#DejaVuSans-48\"/>\n      </g>\n     </g>\n    </g>\n    <g id=\"ytick_20\">\n     <g id=\"line2d_8\">\n      <g>\n       <use style=\"fill:#262626;stroke:#262626;stroke-width:1.25;\" x=\"544.439688\" xlink:href=\"#m5be3ea432d\" y=\"125.162416\"/>\n      </g>\n     </g>\n     <g id=\"text_178\">\n      <!-- 700 -->\n      <g style=\"fill:#262626;\" transform=\"translate(553.939688 129.341557)scale(0.11 -0.11)\">\n       <use xlink:href=\"#DejaVuSans-55\"/>\n       <use x=\"63.623047\" xlink:href=\"#DejaVuSans-48\"/>\n       <use x=\"127.246094\" xlink:href=\"#DejaVuSans-48\"/>\n      </g>\n     </g>\n    </g>\n    <g id=\"ytick_21\">\n     <g id=\"line2d_9\">\n      <g>\n       <use style=\"fill:#262626;stroke:#262626;stroke-width:1.25;\" x=\"544.439688\" xlink:href=\"#m5be3ea432d\" y=\"64.357047\"/>\n      </g>\n     </g>\n     <g id=\"text_179\">\n      <!-- 800 -->\n      <g style=\"fill:#262626;\" transform=\"translate(553.939688 68.536188)scale(0.11 -0.11)\">\n       <use xlink:href=\"#DejaVuSans-56\"/>\n       <use x=\"63.623047\" xlink:href=\"#DejaVuSans-48\"/>\n       <use x=\"127.246094\" xlink:href=\"#DejaVuSans-48\"/>\n      </g>\n     </g>\n    </g>\n   </g>\n   <image height=\"544\" id=\"imageea40366188\" transform=\"scale(1 -1)translate(0 -544)\" width=\"27\" x=\"517\" xlink:href=\"data:image/png;base64,\niVBORw0KGgoAAAANSUhEUgAAABsAAAIgCAYAAAB09hISAAAABHNCSVQICAgIfAhkiAAAAoNJREFUeJztnIGNIzEMxOyN00T67zMpIoQAE2QDwtzMSP69x+3X+/NdQzxTg9Za6+zBYcPK9py2lCGcvbTKtJ49WmXeNGo9q9QI59FGX+yZVpnYs3oG0LPgvmGtK4TWFUKeIUx7NjevE4Pg3foFBMEbkDxDyDOEPEPoKXffsN76CHmG0LpCKI0IYs+0yvoPQwi9iBEqNUInBqGeIZzJaebjWakBKjWCt9TmNIo3yBxtEARvz4o+QtFH6AsPgvgLTxuEIM/uG1ZAEDqeCObjqfXM27N2I4H6eM7RukLwRr80IpRGhNKIID6ez9jfhKrUEOpSz9G6QiiNCG39+4YVfYSUIXhLXc8QUoZwtrVnBQTBrMwa/U4MQmlEUKdxzjTz8dRG37uuxKX+SktdGhE6MQjerT8dfW1ABoelDKE0IuQZgvl4Dr54Op4IrSuEswd/ZTFdaqsy8b/PvJ5plWk9mw7I3LCij+CNfmlEKI0IZw9+3axnCF7PWlcI6nU1N6w0InjXVScGIWX3DSv6CB1PBPXxnBtWzxDEni1rzwoIQsoQhkutVZZnBHmG4PVsOiDWv+miDUieIUwrs3pWGglK433D1NFP2f9Mf7a1KvN6ZlY2Ny/P7hvW8USY/o1Fpf6flCGc3YkBaIPcN8wckEoNUKkRxJ51PAnq2X3DzAHxllr8cVPrmViZNo3WE+NNY59tEYo+QsoQevAgtEEQvJ71Y0RoXSGkDKFFjJBnCHmG0LMAIWUI3ujnGUKeIeQZgvh47v0aG1ZAEMzKWlcAeYZw1qPdjVbPKjWCNyA9eBBKI0KeIfQsuG+YOiBWZTvPAOoZgncRqz2TKmsRI3gDoi61dBGPDvsBjiQv/wtQWK0AAAAASUVORK5CYII=\" y=\"-6\"/>\n   <g id=\"patch_4\">\n    <path d=\"M 517.259688 550.8 \nL 517.259688 548.676562 \nL 517.259688 9.323438 \nL 517.259688 7.2 \nL 544.439688 7.2 \nL 544.439688 9.323438 \nL 544.439688 548.676562 \nL 544.439688 550.8 \nz\n\" style=\"fill:none;\"/>\n   </g>\n  </g>\n </g>\n <defs>\n  <clipPath id=\"p406f8929c4\">\n   <rect height=\"543.6\" width=\"446.4\" x=\"42.959688\" y=\"7.2\"/>\n  </clipPath>\n  <clipPath id=\"pdbc7b29e33\">\n   <rect height=\"543.6\" width=\"27.18\" x=\"517.259688\" y=\"7.2\"/>\n  </clipPath>\n </defs>\n</svg>\n"
          },
          "metadata": {
            "tags": [],
            "needs_background": "light"
          }
        }
      ]
    },
    {
      "cell_type": "code",
      "metadata": {
        "id": "HEsCzjj3diND",
        "colab_type": "code",
        "colab": {
          "base_uri": "https://localhost:8080/",
          "height": 336
        },
        "outputId": "ebf1476f-1061-4fd8-f9c9-2147cbc02814"
      },
      "source": [
        "from sklearn import metrics\n",
        "print(metrics.classification_report(y_val, y_pred))"
      ],
      "execution_count": 41,
      "outputs": [
        {
          "output_type": "stream",
          "text": [
            "              precision    recall  f1-score   support\n",
            "\n",
            "           0       0.96      0.77      0.85       115\n",
            "           1       0.75      0.79      0.77       653\n",
            "          10       0.69      0.60      0.64       597\n",
            "          11       0.77      0.56      0.65       284\n",
            "           2       0.83      0.63      0.72       316\n",
            "           3       0.73      0.72      0.73       825\n",
            "           4       0.89      0.72      0.80       469\n",
            "           5       0.80      0.93      0.86       464\n",
            "           6       0.69      0.77      0.73       799\n",
            "           7       0.69      0.87      0.77      1028\n",
            "           8       0.86      0.80      0.83       766\n",
            "           9       0.86      0.61      0.72       187\n",
            "\n",
            "    accuracy                           0.76      6503\n",
            "   macro avg       0.79      0.73      0.76      6503\n",
            "weighted avg       0.76      0.76      0.76      6503\n",
            "\n"
          ],
          "name": "stdout"
        }
      ]
    },
    {
      "cell_type": "markdown",
      "metadata": {
        "id": "7Qh_LAzO9yFO",
        "colab_type": "text"
      },
      "source": [
        "We calculated \n",
        "\n",
        "- Log_loss (lower is better)\n",
        "- Accuracy \n",
        "- Precision\n",
        "- Recall\n",
        "- f1"
      ]
    },
    {
      "cell_type": "markdown",
      "metadata": {
        "id": "XS8-5FLddiNF",
        "colab_type": "text"
      },
      "source": [
        "# ML Model for Prediction on test dataset"
      ]
    },
    {
      "cell_type": "code",
      "metadata": {
        "id": "lI5fO4hgdiNF",
        "colab_type": "code",
        "colab": {
          "base_uri": "https://localhost:8080/",
          "height": 195
        },
        "outputId": "0aaef122-fa8f-4306-ea6d-dba1ac526c97"
      },
      "source": [
        "data_xtest.head()"
      ],
      "execution_count": 42,
      "outputs": [
        {
          "output_type": "execute_result",
          "data": {
            "text/html": [
              "<div>\n",
              "<style scoped>\n",
              "    .dataframe tbody tr th:only-of-type {\n",
              "        vertical-align: middle;\n",
              "    }\n",
              "\n",
              "    .dataframe tbody tr th {\n",
              "        vertical-align: top;\n",
              "    }\n",
              "\n",
              "    .dataframe thead th {\n",
              "        text-align: right;\n",
              "    }\n",
              "</style>\n",
              "<table border=\"1\" class=\"dataframe\">\n",
              "  <thead>\n",
              "    <tr style=\"text-align: right;\">\n",
              "      <th></th>\n",
              "      <th>text</th>\n",
              "    </tr>\n",
              "  </thead>\n",
              "  <tbody>\n",
              "    <tr>\n",
              "      <th>0</th>\n",
              "      <td>tvletwgzkrqvuhtwamuluhpkskpmpmiwtvuhamqvmviwlr...</td>\n",
              "    </tr>\n",
              "    <tr>\n",
              "      <th>1</th>\n",
              "      <td>qvmvuhskleenmvviengzxyuhqvmvamguuhrakrpmsauhul...</td>\n",
              "    </tr>\n",
              "    <tr>\n",
              "      <th>2</th>\n",
              "      <td>twamuhulenamuluhskvienuhqgdftwmvmkletwulvimvuh...</td>\n",
              "    </tr>\n",
              "    <tr>\n",
              "      <th>3</th>\n",
              "      <td>sooatwqvvitwqvvipmviuhoaampmpmmwuhuhraulvikrpm...</td>\n",
              "    </tr>\n",
              "    <tr>\n",
              "      <th>4</th>\n",
              "      <td>lepmuhpmdfuluhtwletwdfuhtwletwamguuhuhraezpmpm...</td>\n",
              "    </tr>\n",
              "  </tbody>\n",
              "</table>\n",
              "</div>"
            ],
            "text/plain": [
              "                                                text\n",
              "0  tvletwgzkrqvuhtwamuluhpkskpmpmiwtvuhamqvmviwlr...\n",
              "1  qvmvuhskleenmvviengzxyuhqvmvamguuhrakrpmsauhul...\n",
              "2  twamuhulenamuluhskvienuhqgdftwmvmkletwulvimvuh...\n",
              "3  sooatwqvvitwqvvipmviuhoaampmpmmwuhuhraulvikrpm...\n",
              "4  lepmuhpmdfuluhtwletwdfuhtwletwamguuhuhraezpmpm..."
            ]
          },
          "metadata": {
            "tags": []
          },
          "execution_count": 42
        }
      ]
    },
    {
      "cell_type": "code",
      "metadata": {
        "id": "OOs0Q99BdiNI",
        "colab_type": "code",
        "colab": {
          "base_uri": "https://localhost:8080/",
          "height": 118
        },
        "outputId": "03084170-4970-48ae-a362-e7e81c36d4b5"
      },
      "source": [
        "labels.head()"
      ],
      "execution_count": 43,
      "outputs": [
        {
          "output_type": "execute_result",
          "data": {
            "text/plain": [
              "0    7\n",
              "1    3\n",
              "2    8\n",
              "3    3\n",
              "4    4\n",
              "Name: label, dtype: object"
            ]
          },
          "metadata": {
            "tags": []
          },
          "execution_count": 43
        }
      ]
    },
    {
      "cell_type": "code",
      "metadata": {
        "id": "qEFIVtBadiNK",
        "colab_type": "code",
        "colab": {
          "base_uri": "https://localhost:8080/",
          "height": 84
        },
        "outputId": "13dfe076-4667-40cd-8446-394db06b62d7"
      },
      "source": [
        "clf.fit(train_tfidf, labels)"
      ],
      "execution_count": 51,
      "outputs": [
        {
          "output_type": "execute_result",
          "data": {
            "text/plain": [
              "LinearSVC(C=1.0, class_weight=None, dual=True, fit_intercept=True,\n",
              "          intercept_scaling=1, loss='squared_hinge', max_iter=1000,\n",
              "          multi_class='ovr', penalty='l2', random_state=None, tol=0.0001,\n",
              "          verbose=0)"
            ]
          },
          "metadata": {
            "tags": []
          },
          "execution_count": 51
        }
      ]
    },
    {
      "cell_type": "code",
      "metadata": {
        "id": "kFLNeL40diNM",
        "colab_type": "code",
        "colab": {
          "base_uri": "https://localhost:8080/",
          "height": 34
        },
        "outputId": "0e24a363-0a32-47dd-9185-5cd7e26120ac"
      },
      "source": [
        "y_pred = clf.predict(test_tfidf)\n",
        "y_pred[:5]"
      ],
      "execution_count": 52,
      "outputs": [
        {
          "output_type": "execute_result",
          "data": {
            "text/plain": [
              "array(['6', '11', '8', '8', '8'], dtype=object)"
            ]
          },
          "metadata": {
            "tags": []
          },
          "execution_count": 52
        }
      ]
    },
    {
      "cell_type": "code",
      "metadata": {
        "id": "G4MW51RtdiNP",
        "colab_type": "code",
        "colab": {
          "base_uri": "https://localhost:8080/",
          "height": 34
        },
        "outputId": "8fef0db1-4132-4d4f-e7ec-20ea7df7641a"
      },
      "source": [
        "print(y_pred.shape)"
      ],
      "execution_count": 53,
      "outputs": [
        {
          "output_type": "stream",
          "text": [
            "(3000,)\n"
          ],
          "name": "stdout"
        }
      ]
    },
    {
      "cell_type": "code",
      "metadata": {
        "id": "GU_7saGbdiNQ",
        "colab_type": "code",
        "colab": {
          "base_uri": "https://localhost:8080/",
          "height": 195
        },
        "outputId": "0212dd14-3513-40b8-99c7-74558b3ed835"
      },
      "source": [
        "# probability distribution acc. all 12 classes\n",
        "prediction_df=pd.DataFrame(clf._predict_proba_lr(test_tfidf), columns=clf.classes_)\n",
        "prediction_df[:5]"
      ],
      "execution_count": 54,
      "outputs": [
        {
          "output_type": "execute_result",
          "data": {
            "text/html": [
              "<div>\n",
              "<style scoped>\n",
              "    .dataframe tbody tr th:only-of-type {\n",
              "        vertical-align: middle;\n",
              "    }\n",
              "\n",
              "    .dataframe tbody tr th {\n",
              "        vertical-align: top;\n",
              "    }\n",
              "\n",
              "    .dataframe thead th {\n",
              "        text-align: right;\n",
              "    }\n",
              "</style>\n",
              "<table border=\"1\" class=\"dataframe\">\n",
              "  <thead>\n",
              "    <tr style=\"text-align: right;\">\n",
              "      <th></th>\n",
              "      <th>0</th>\n",
              "      <th>1</th>\n",
              "      <th>10</th>\n",
              "      <th>11</th>\n",
              "      <th>2</th>\n",
              "      <th>3</th>\n",
              "      <th>4</th>\n",
              "      <th>5</th>\n",
              "      <th>6</th>\n",
              "      <th>7</th>\n",
              "      <th>8</th>\n",
              "      <th>9</th>\n",
              "    </tr>\n",
              "  </thead>\n",
              "  <tbody>\n",
              "    <tr>\n",
              "      <th>0</th>\n",
              "      <td>0.075168</td>\n",
              "      <td>0.067180</td>\n",
              "      <td>0.067714</td>\n",
              "      <td>0.057420</td>\n",
              "      <td>0.057642</td>\n",
              "      <td>0.082979</td>\n",
              "      <td>0.065305</td>\n",
              "      <td>0.040997</td>\n",
              "      <td>0.234623</td>\n",
              "      <td>0.094901</td>\n",
              "      <td>0.062265</td>\n",
              "      <td>0.093804</td>\n",
              "    </tr>\n",
              "    <tr>\n",
              "      <th>1</th>\n",
              "      <td>0.029431</td>\n",
              "      <td>0.088391</td>\n",
              "      <td>0.081245</td>\n",
              "      <td>0.206996</td>\n",
              "      <td>0.075485</td>\n",
              "      <td>0.104373</td>\n",
              "      <td>0.060481</td>\n",
              "      <td>0.085047</td>\n",
              "      <td>0.098058</td>\n",
              "      <td>0.029675</td>\n",
              "      <td>0.062625</td>\n",
              "      <td>0.078192</td>\n",
              "    </tr>\n",
              "    <tr>\n",
              "      <th>2</th>\n",
              "      <td>0.053382</td>\n",
              "      <td>0.062175</td>\n",
              "      <td>0.105786</td>\n",
              "      <td>0.086154</td>\n",
              "      <td>0.111126</td>\n",
              "      <td>0.109070</td>\n",
              "      <td>0.107947</td>\n",
              "      <td>0.029048</td>\n",
              "      <td>0.049669</td>\n",
              "      <td>0.095432</td>\n",
              "      <td>0.128963</td>\n",
              "      <td>0.061247</td>\n",
              "    </tr>\n",
              "    <tr>\n",
              "      <th>3</th>\n",
              "      <td>0.031155</td>\n",
              "      <td>0.125015</td>\n",
              "      <td>0.021441</td>\n",
              "      <td>0.042419</td>\n",
              "      <td>0.059697</td>\n",
              "      <td>0.036248</td>\n",
              "      <td>0.125395</td>\n",
              "      <td>0.049418</td>\n",
              "      <td>0.142872</td>\n",
              "      <td>0.023649</td>\n",
              "      <td>0.271310</td>\n",
              "      <td>0.071381</td>\n",
              "    </tr>\n",
              "    <tr>\n",
              "      <th>4</th>\n",
              "      <td>0.057864</td>\n",
              "      <td>0.063223</td>\n",
              "      <td>0.097905</td>\n",
              "      <td>0.058901</td>\n",
              "      <td>0.103010</td>\n",
              "      <td>0.091668</td>\n",
              "      <td>0.130829</td>\n",
              "      <td>0.042778</td>\n",
              "      <td>0.081881</td>\n",
              "      <td>0.054069</td>\n",
              "      <td>0.157653</td>\n",
              "      <td>0.060220</td>\n",
              "    </tr>\n",
              "  </tbody>\n",
              "</table>\n",
              "</div>"
            ],
            "text/plain": [
              "          0         1        10  ...         7         8         9\n",
              "0  0.075168  0.067180  0.067714  ...  0.094901  0.062265  0.093804\n",
              "1  0.029431  0.088391  0.081245  ...  0.029675  0.062625  0.078192\n",
              "2  0.053382  0.062175  0.105786  ...  0.095432  0.128963  0.061247\n",
              "3  0.031155  0.125015  0.021441  ...  0.023649  0.271310  0.071381\n",
              "4  0.057864  0.063223  0.097905  ...  0.054069  0.157653  0.060220\n",
              "\n",
              "[5 rows x 12 columns]"
            ]
          },
          "metadata": {
            "tags": []
          },
          "execution_count": 54
        }
      ]
    },
    {
      "cell_type": "code",
      "metadata": {
        "id": "oVmaqK5UdiNX",
        "colab_type": "code",
        "colab": {}
      },
      "source": [
        "accuracy_value_class=prediction_df.max(axis=1)"
      ],
      "execution_count": 55,
      "outputs": []
    },
    {
      "cell_type": "code",
      "metadata": {
        "id": "zedq3-2qdiNZ",
        "colab_type": "code",
        "colab": {
          "base_uri": "https://localhost:8080/",
          "height": 195
        },
        "outputId": "c89e5477-6057-44cd-cebc-643bb70b8a31"
      },
      "source": [
        "df_submit=data_xtest.copy()\n",
        "df_submit[\"predicted_class\"]=y_pred\n",
        "df_submit[\"probability\"]=accuracy_value_class\n",
        "df_submit.head()"
      ],
      "execution_count": 56,
      "outputs": [
        {
          "output_type": "execute_result",
          "data": {
            "text/html": [
              "<div>\n",
              "<style scoped>\n",
              "    .dataframe tbody tr th:only-of-type {\n",
              "        vertical-align: middle;\n",
              "    }\n",
              "\n",
              "    .dataframe tbody tr th {\n",
              "        vertical-align: top;\n",
              "    }\n",
              "\n",
              "    .dataframe thead th {\n",
              "        text-align: right;\n",
              "    }\n",
              "</style>\n",
              "<table border=\"1\" class=\"dataframe\">\n",
              "  <thead>\n",
              "    <tr style=\"text-align: right;\">\n",
              "      <th></th>\n",
              "      <th>text</th>\n",
              "      <th>predicted_class</th>\n",
              "      <th>probability</th>\n",
              "    </tr>\n",
              "  </thead>\n",
              "  <tbody>\n",
              "    <tr>\n",
              "      <th>0</th>\n",
              "      <td>tvletwgzkrqvuhtwamuluhpkskpmpmiwtvuhamqvmviwlr...</td>\n",
              "      <td>6</td>\n",
              "      <td>0.234623</td>\n",
              "    </tr>\n",
              "    <tr>\n",
              "      <th>1</th>\n",
              "      <td>qvmvuhskleenmvviengzxyuhqvmvamguuhrakrpmsauhul...</td>\n",
              "      <td>11</td>\n",
              "      <td>0.206996</td>\n",
              "    </tr>\n",
              "    <tr>\n",
              "      <th>2</th>\n",
              "      <td>twamuhulenamuluhskvienuhqgdftwmvmkletwulvimvuh...</td>\n",
              "      <td>8</td>\n",
              "      <td>0.128963</td>\n",
              "    </tr>\n",
              "    <tr>\n",
              "      <th>3</th>\n",
              "      <td>sooatwqvvitwqvvipmviuhoaampmpmmwuhuhraulvikrpm...</td>\n",
              "      <td>8</td>\n",
              "      <td>0.271310</td>\n",
              "    </tr>\n",
              "    <tr>\n",
              "      <th>4</th>\n",
              "      <td>lepmuhpmdfuluhtwletwdfuhtwletwamguuhuhraezpmpm...</td>\n",
              "      <td>8</td>\n",
              "      <td>0.157653</td>\n",
              "    </tr>\n",
              "  </tbody>\n",
              "</table>\n",
              "</div>"
            ],
            "text/plain": [
              "                                                text  ... probability\n",
              "0  tvletwgzkrqvuhtwamuluhpkskpmpmiwtvuhamqvmviwlr...  ...    0.234623\n",
              "1  qvmvuhskleenmvviengzxyuhqvmvamguuhrakrpmsauhul...  ...    0.206996\n",
              "2  twamuhulenamuluhskvienuhqgdftwmvmkletwulvimvuh...  ...    0.128963\n",
              "3  sooatwqvvitwqvvipmviuhoaampmpmmwuhuhraulvikrpm...  ...    0.271310\n",
              "4  lepmuhpmdfuluhtwletwdfuhtwletwamguuhuhraezpmpm...  ...    0.157653\n",
              "\n",
              "[5 rows x 3 columns]"
            ]
          },
          "metadata": {
            "tags": []
          },
          "execution_count": 56
        }
      ]
    },
    {
      "cell_type": "code",
      "metadata": {
        "id": "UtBiOA5H_VFf",
        "colab_type": "code",
        "colab": {
          "base_uri": "https://localhost:8080/",
          "height": 34
        },
        "outputId": "cd068357-ff2a-4187-cb54-781151c7e41e"
      },
      "source": [
        "df_submit.shape"
      ],
      "execution_count": 57,
      "outputs": [
        {
          "output_type": "execute_result",
          "data": {
            "text/plain": [
              "(3000, 3)"
            ]
          },
          "metadata": {
            "tags": []
          },
          "execution_count": 57
        }
      ]
    },
    {
      "cell_type": "code",
      "metadata": {
        "id": "oq3SA2paGf5V",
        "colab_type": "code",
        "colab": {}
      },
      "source": [
        ""
      ],
      "execution_count": null,
      "outputs": []
    }
  ]
}